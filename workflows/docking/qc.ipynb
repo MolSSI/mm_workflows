{
 "cells": [
  {
   "cell_type": "code",
   "execution_count": null,
   "id": "fca9201b",
   "metadata": {},
   "outputs": [],
   "source": [
    "\n",
    "###########################\n",
    "# Create a Molecule model #\n",
    "###########################\n",
    "\n",
    "import mmelemental\n",
    "from data import molfiles\n",
    "\n",
    "mol = mmelemental.models.Molecule.from_file(molfiles[\"water.json\"])\n",
    "\n",
    "print(\"MMSchema molecule:\\n\", mol)\n",
    "print(\"Atomic numbers:\\n\", mol.atomic_numbers)\n",
    "print(\"Atomic symbols:\\n\", mol.symbols)"
   ]
  },
  {
   "cell_type": "code",
   "execution_count": 1,
   "id": "a07b0110",
   "metadata": {},
   "outputs": [
    {
     "ename": "NameError",
     "evalue": "name 'mol' is not defined",
     "output_type": "error",
     "traceback": [
      "\u001b[0;31m---------------------------------------------------------------------------\u001b[0m",
      "\u001b[0;31mNameError\u001b[0m                                 Traceback (most recent call last)",
      "\u001b[0;32m<ipython-input-1-6b798f9e2cfb>\u001b[0m in \u001b[0;36m<module>\u001b[0;34m\u001b[0m\n\u001b[1;32m      2\u001b[0m \u001b[0;34m\u001b[0m\u001b[0m\n\u001b[1;32m      3\u001b[0m inp = qcelemental.models.AtomicInput(\n\u001b[0;32m----> 4\u001b[0;31m     \u001b[0mmolecule\u001b[0m\u001b[0;34m=\u001b[0m\u001b[0mmol\u001b[0m\u001b[0;34m,\u001b[0m\u001b[0;34m\u001b[0m\u001b[0;34m\u001b[0m\u001b[0m\n\u001b[0m\u001b[1;32m      5\u001b[0m     \u001b[0mdriver\u001b[0m\u001b[0;34m=\u001b[0m\u001b[0;34m\"energy\"\u001b[0m\u001b[0;34m,\u001b[0m\u001b[0;34m\u001b[0m\u001b[0;34m\u001b[0m\u001b[0m\n\u001b[1;32m      6\u001b[0m     \u001b[0mmodel\u001b[0m\u001b[0;34m=\u001b[0m\u001b[0;34m{\u001b[0m\u001b[0;34m\"method\"\u001b[0m\u001b[0;34m:\u001b[0m \u001b[0;34m\"SCF\"\u001b[0m\u001b[0;34m,\u001b[0m \u001b[0;34m\"basis\"\u001b[0m\u001b[0;34m:\u001b[0m \u001b[0;34m\"sto-3g\"\u001b[0m\u001b[0;34m}\u001b[0m\u001b[0;34m,\u001b[0m\u001b[0;34m\u001b[0m\u001b[0;34m\u001b[0m\u001b[0m\n",
      "\u001b[0;31mNameError\u001b[0m: name 'mol' is not defined"
     ]
    }
   ],
   "source": [
    "import qcelemental\n",
    "\n",
    "qmol = mol.to_data(\"qcschema\")\n",
    "\n",
    "inp = qcelemental.models.AtomicInput(\n",
    "    molecule=qmol,\n",
    "    driver=\"energy\",\n",
    "    model={\"method\": \"SCF\", \"basis\": \"sto-3g\"},\n",
    "    keywords={\"scf_type\": \"df\"}\n",
    ")"
   ]
  },
  {
   "cell_type": "code",
   "execution_count": null,
   "id": "337b8c2d",
   "metadata": {},
   "outputs": [],
   "source": []
  }
 ],
 "metadata": {
  "kernelspec": {
   "display_name": "Python 3",
   "language": "python",
   "name": "python3"
  },
  "language_info": {
   "codemirror_mode": {
    "name": "ipython",
    "version": 3
   },
   "file_extension": ".py",
   "mimetype": "text/x-python",
   "name": "python",
   "nbconvert_exporter": "python",
   "pygments_lexer": "ipython3",
   "version": "3.9.2"
  }
 },
 "nbformat": 4,
 "nbformat_minor": 5
}
