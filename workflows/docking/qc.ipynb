{
 "cells": [
  {
   "cell_type": "markdown",
   "id": "3dd1c4d7",
   "metadata": {},
   "source": [
    "# System creation with MMElemental"
   ]
  },
  {
   "cell_type": "markdown",
   "id": "7816d979",
   "metadata": {},
   "source": [
    "### Ligand and receptor creation "
   ]
  },
  {
   "cell_type": "code",
   "execution_count": 1,
   "id": "fca9201b",
   "metadata": {},
   "outputs": [],
   "source": [
    "from mmelemental.models import Molecule\n",
    "from mm_data import mols\n",
    "\n",
    "\n",
    "# Construct MMSchema molecules\n",
    "receptor = Molecule.from_file(mols[\"alanine.pdb\"])\n",
    "ligand   = Molecule.from_file(mols[\"ibu.pdb\"])"
   ]
  },
  {
   "cell_type": "markdown",
   "id": "ad780486",
   "metadata": {},
   "source": [
    "### Visualizing molecules"
   ]
  },
  {
   "cell_type": "code",
   "execution_count": 2,
   "id": "8fff2ada",
   "metadata": {},
   "outputs": [
    {
     "data": {
      "application/vnd.jupyter.widget-view+json": {
       "model_id": "ec4aa09250974e6fa66ee56f0408ab5d",
       "version_major": 2,
       "version_minor": 0
      },
      "text/plain": []
     },
     "metadata": {},
     "output_type": "display_data"
    },
    {
     "data": {
      "application/vnd.jupyter.widget-view+json": {
       "model_id": "0fa9beef8ada425297460c8ade4fcf46",
       "version_major": 2,
       "version_minor": 0
      },
      "text/plain": [
       "NGLWidget()"
      ]
     },
     "metadata": {},
     "output_type": "display_data"
    }
   ],
   "source": [
    "receptor"
   ]
  },
  {
   "cell_type": "markdown",
   "id": "1e22e361",
   "metadata": {},
   "source": [
    "# Ligand conformation generation with QCEgnine"
   ]
  },
  {
   "cell_type": "markdown",
   "id": "60c1462d",
   "metadata": {},
   "source": [
    "### MMSchema to QCSchema mol conversion"
   ]
  },
  {
   "cell_type": "code",
   "execution_count": 3,
   "id": "16a1648f",
   "metadata": {},
   "outputs": [
    {
     "data": {
      "application/vnd.jupyter.widget-view+json": {
       "model_id": "b9ac490c08e645598ee5e7e328dbb7a9",
       "version_major": 2,
       "version_minor": 0
      },
      "text/plain": [
       "NGLWidget()"
      ]
     },
     "metadata": {},
     "output_type": "display_data"
    }
   ],
   "source": [
    "qc_ligand = ligand.to_data(\"qcschema\").data\n",
    "\n",
    "qc_ligand"
   ]
  },
  {
   "cell_type": "markdown",
   "id": "89d320ff",
   "metadata": {},
   "source": [
    "### Geometry optimization"
   ]
  },
  {
   "cell_type": "code",
   "execution_count": 5,
   "id": "832dc105",
   "metadata": {},
   "outputs": [
    {
     "ename": "AttributeError",
     "evalue": "'FailedOperation' object has no attribute 'final_molecule'",
     "output_type": "error",
     "traceback": [
      "\u001b[0;31m---------------------------------------------------------------------------\u001b[0m",
      "\u001b[0;31mAttributeError\u001b[0m                            Traceback (most recent call last)",
      "\u001b[0;32m<ipython-input-5-a8e2b3bd37f3>\u001b[0m in \u001b[0;36m<module>\u001b[0;34m\u001b[0m\n\u001b[1;32m     17\u001b[0m \u001b[0;34m\u001b[0m\u001b[0m\n\u001b[1;32m     18\u001b[0m \u001b[0;31m# Extract optimized molecule\u001b[0m\u001b[0;34m\u001b[0m\u001b[0;34m\u001b[0m\u001b[0;34m\u001b[0m\u001b[0m\n\u001b[0;32m---> 19\u001b[0;31m \u001b[0mqc_ligand_opt\u001b[0m \u001b[0;34m=\u001b[0m \u001b[0mopt\u001b[0m\u001b[0;34m.\u001b[0m\u001b[0mfinal_molecule\u001b[0m\u001b[0;34m\u001b[0m\u001b[0;34m\u001b[0m\u001b[0m\n\u001b[0m\u001b[1;32m     20\u001b[0m \u001b[0;34m\u001b[0m\u001b[0m\n\u001b[1;32m     21\u001b[0m \u001b[0;31m# Ibuprofen after optimization\u001b[0m\u001b[0;34m\u001b[0m\u001b[0;34m\u001b[0m\u001b[0;34m\u001b[0m\u001b[0m\n",
      "\u001b[0;31mAttributeError\u001b[0m: 'FailedOperation' object has no attribute 'final_molecule'"
     ]
    }
   ],
   "source": [
    "import qcengine\n",
    "\n",
    "# Create qc input\n",
    "opt_input = {\n",
    "    \"keywords\": {\n",
    "        \"program\": \"rdkit\"\n",
    "    },\n",
    "    \"input_specification\": {\n",
    "        \"driver\": \"gradient\",\n",
    "        \"model\": {\"method\": \"UFF\"},\n",
    "    },\n",
    "    \"initial_molecule\": qc_ligand\n",
    "}\n",
    "\n",
    "# Run compute\n",
    "opt = qcengine.compute_procedure(opt_input, \"geometric\")\n",
    "\n",
    "# Extract optimized molecule\n",
    "qc_ligand_opt = opt.final_molecule\n",
    "\n",
    "# Ibuprofen after optimization\n",
    "qc_ligand_opt"
   ]
  },
  {
   "cell_type": "markdown",
   "id": "cf4aa1b1",
   "metadata": {},
   "source": [
    "# Molecular docking with strategy component: mmic_docking"
   ]
  },
  {
   "cell_type": "markdown",
   "id": "03d6018d",
   "metadata": {},
   "source": [
    "### QC-ligand to MMSchema mol conversion\n"
   ]
  },
  {
   "cell_type": "code",
   "execution_count": 5,
   "id": "337b8c2d",
   "metadata": {},
   "outputs": [],
   "source": [
    "ligand_opt = Molecule.from_data(qc_ligand_opt, dtype=\"qcschema\")"
   ]
  },
  {
   "cell_type": "markdown",
   "id": "6c65b352",
   "metadata": {},
   "source": [
    "### Docking computation"
   ]
  },
  {
   "cell_type": "code",
   "execution_count": 6,
   "id": "dd13e6eb",
   "metadata": {},
   "outputs": [
    {
     "name": "stdout",
     "output_type": "stream",
     "text": [
      "Scores:\n",
      "=======\n",
      "[-1.2, -1.2, -1.1, -1.1, -1.1, -1.1, -1.1, -1.1, -1.0]\n",
      "\n",
      "Ligand poses:\n",
      "=============\n"
     ]
    },
    {
     "data": {
      "text/plain": [
       "[Molecule(name='C13HO2', hash='c43a86e'),\n",
       " Molecule(name='C13HO2', hash='6731439'),\n",
       " Molecule(name='C13HO2', hash='c5e8733'),\n",
       " Molecule(name='C13HO2', hash='211ba9b'),\n",
       " Molecule(name='C13HO2', hash='21bdf72'),\n",
       " Molecule(name='C13HO2', hash='ba3f0f9'),\n",
       " Molecule(name='C13HO2', hash='17180ed'),\n",
       " Molecule(name='C13HO2', hash='e83742a'),\n",
       " Molecule(name='C13HO2', hash='a2c7742')]"
      ]
     },
     "execution_count": 6,
     "metadata": {},
     "output_type": "execute_result"
    }
   ],
   "source": [
    "import mmic_docking\n",
    "\n",
    "\n",
    "# Construct docking input data from MMSchema molecules\n",
    "dockin = {\n",
    "    \"molecule\": {\n",
    "        \"ligand\": ligand_opt, \n",
    "        \"receptor\": receptor,\n",
    "    },\n",
    "    \"search_space\": (-37.807, 5.045, -2.001, 30.131, -19.633, 37.987),\n",
    "    \"search_space_units\": \"angstrom\",\n",
    "    # we can force mmic_docking to run a component of our choice\n",
    "    #\"component\": \"mmic_autodock_vina\", \n",
    "    \n",
    "}\n",
    "\n",
    "dockout = mmic_docking.components.DockComponent.compute(dockin)\n",
    "\n",
    "scores, poses = dockout.scores, dockout.poses.ligand\n",
    "\n",
    "print(\"Scores:\")\n",
    "print(\"=======\")\n",
    "print(scores)\n",
    "\n",
    "print(\"\\nLigand poses:\")\n",
    "print(\"=============\")\n",
    "poses"
   ]
  }
 ],
 "metadata": {
  "kernelspec": {
   "display_name": "Python 3",
   "language": "python",
   "name": "python3"
  },
  "language_info": {
   "codemirror_mode": {
    "name": "ipython",
    "version": 3
   },
   "file_extension": ".py",
   "mimetype": "text/x-python",
   "name": "python",
   "nbconvert_exporter": "python",
   "pygments_lexer": "ipython3",
   "version": "3.9.5"
  },
  "widgets": {
   "application/vnd.jupyter.widget-state+json": {
    "state": {
     "023ec61e8e464d8bbc37a547fd26bce0": {
      "model_module": "@jupyter-widgets/controls",
      "model_module_version": "1.5.0",
      "model_name": "HBoxModel",
      "state": {
       "children": [
        "IPY_MODEL_21ebbec4c7024c11986bd2d2d64c493d",
        "IPY_MODEL_b5941627060c41069db1290bb9815c6f"
       ],
       "layout": "IPY_MODEL_b97f79ec99f24e098bfe0b845cd85985"
      }
     },
     "02905aa60d1a4a9bb47bd42eb1608c1f": {
      "model_module": "@jupyter-widgets/base",
      "model_module_version": "1.2.0",
      "model_name": "LayoutModel",
      "state": {}
     },
     "032597cf8e5348fa8a7dcb1485dadef4": {
      "model_module": "@jupyter-widgets/controls",
      "model_module_version": "1.5.0",
      "model_name": "LinkModel",
      "state": {
       "source": [
        "IPY_MODEL_07aedd07c7c245179fdd7d925c84ea7d",
        "value"
       ],
       "target": [
        "IPY_MODEL_ea813bb6cff54a11a8cb466d78bf854e",
        "value"
       ]
      }
     },
     "03d81b7a53f144848e4b5d392f52a9b1": {
      "model_module": "@jupyter-widgets/base",
      "model_module_version": "1.2.0",
      "model_name": "LayoutModel",
      "state": {}
     },
     "043445c6049247cc913906d49870ac7a": {
      "model_module": "@jupyter-widgets/controls",
      "model_module_version": "1.5.0",
      "model_name": "HBoxModel",
      "state": {
       "children": [
        "IPY_MODEL_c330599e4778497898d0d0f144481303",
        "IPY_MODEL_1fe7124a88b948939be16b2153f70f83"
       ],
       "layout": "IPY_MODEL_ae148ef2f3db4888984ba4432a5ec68a"
      }
     },
     "048428b3c4a44206b29d639fb425e58a": {
      "model_module": "@jupyter-widgets/base",
      "model_module_version": "1.2.0",
      "model_name": "LayoutModel",
      "state": {}
     },
     "04f52a73afe34d4bb0a08e63db18b190": {
      "model_module": "@jupyter-widgets/controls",
      "model_module_version": "1.5.0",
      "model_name": "LinkModel",
      "state": {
       "source": [
        "IPY_MODEL_55cfdd72aad34fc9a1686d8d33ed916b",
        "max"
       ],
       "target": [
        "IPY_MODEL_77aee0e64b6a4a699c9fd9e0d67af93e",
        "max_frame"
       ]
      }
     },
     "062764089adf41ce81ab6a96e489f119": {
      "model_module": "@jupyter-widgets/base",
      "model_module_version": "1.2.0",
      "model_name": "LayoutModel",
      "state": {}
     },
     "064590b2c6b54d279b130a50d895b692": {
      "model_module": "@jupyter-widgets/base",
      "model_module_version": "1.2.0",
      "model_name": "LayoutModel",
      "state": {
       "width": "34px"
      }
     },
     "067125081e2e492496693f1c415fa3a7": {
      "model_module": "@jupyter-widgets/controls",
      "model_module_version": "1.5.0",
      "model_name": "SliderStyleModel",
      "state": {
       "description_width": ""
      }
     },
     "06b9e6ff8e364eea88b0b83b4219c756": {
      "model_module": "@jupyter-widgets/controls",
      "model_module_version": "1.5.0",
      "model_name": "LinkModel",
      "state": {
       "source": [
        "IPY_MODEL_29725edd590e43a39facf54d7eb0e673",
        "max"
       ],
       "target": [
        "IPY_MODEL_1bc33b4f02fd4994bfff7d6a8d1203b3",
        "max_frame"
       ]
      }
     },
     "06e4e770c5c048fda5798dfb9123374f": {
      "model_module": "@jupyter-widgets/controls",
      "model_module_version": "1.5.0",
      "model_name": "PlayModel",
      "state": {
       "layout": "IPY_MODEL_85440db368bb4efa960b34212a17f31d",
       "max": 0,
       "style": "IPY_MODEL_f276fa1cfd474623b90886301ac97dfb"
      }
     },
     "075cde4d73b44bc889f571326dfceb05": {
      "model_module": "nglview-js-widgets",
      "model_module_version": "3.0.1",
      "model_name": "NGLModel",
      "state": {
       "_camera_orientation": [
        27.608552179894808,
        0,
        0,
        0,
        0,
        27.608552179894808,
        0,
        0,
        0,
        0,
        27.608552179894808,
        0,
        -5.552000135183334,
        0.8974999785423279,
        -0.2745000720024109,
        1
       ],
       "_camera_str": "orthographic",
       "_gui_theme": null,
       "_ibtn_fullscreen": "IPY_MODEL_5fc4df226b904be38b595dfd5ce4cbea",
       "_igui": null,
       "_iplayer": "IPY_MODEL_7f052a90a6924c18a6529331f9af2e44",
       "_ngl_color_dict": {},
       "_ngl_coordinate_resource": {},
       "_ngl_full_stage_parameters": {
        "ambientColor": 14540253,
        "ambientIntensity": 0.2,
        "backgroundColor": "white",
        "cameraEyeSep": 0.3,
        "cameraFov": 40,
        "cameraType": "perspective",
        "clipDist": 10,
        "clipFar": 100,
        "clipNear": 0,
        "fogFar": 100,
        "fogNear": 50,
        "hoverTimeout": 0,
        "impostor": true,
        "lightColor": 14540253,
        "lightIntensity": 1,
        "mousePreset": "default",
        "panSpeed": 1,
        "quality": "medium",
        "rotateSpeed": 2,
        "sampleLevel": 0,
        "tooltip": true,
        "workerDefault": true,
        "zoomSpeed": 1.2
       },
       "_ngl_msg_archive": [
        {
         "args": [
          {
           "binary": false,
           "data": "HETATM    1  C   UNL     1       3.060   1.125   0.503  1.00  0.00           C  \nHETATM    2  C   UNL     1       2.518  -0.218   0.997  1.00  0.00           C  \nHETATM    3  C   UNL     1       0.988  -0.198   0.964  1.00  0.00           C  \nHETATM    4  C   UNL     1       3.060  -1.402   0.164  1.00  0.00           C  \nHETATM    5  C   UNL     1       4.567  -1.533   0.219  1.00  0.00           C  \nHETATM    6  C   UNL     1       5.224  -1.762   1.433  1.00  0.00           C  \nHETATM    7  C   UNL     1       6.620  -1.798   1.493  1.00  0.00           C  \nHETATM    8  C   UNL     1       7.393  -1.619   0.337  1.00  0.00           C  \nHETATM    9  C   UNL     1       6.730  -1.451  -0.889  1.00  0.00           C  \nHETATM   10  C   UNL     1       5.334  -1.401  -0.945  1.00  0.00           C  \nHETATM   11  C   UNL     1       8.910  -1.646   0.432  1.00  0.00           C  \nHETATM   12  C   UNL     1       9.436  -3.071   0.254  1.00  0.00           C  \nHETATM   13  C   UNL     1       9.608  -0.684  -0.526  1.00  0.00           C  \nHETATM   14  O   UNL     1      10.439  -1.005  -1.364  1.00  0.00           O  \nHETATM   15  O   UNL     1       9.247   0.612  -0.348  1.00  0.00           O  \nHETATM   16  H   UNL     1       2.675   1.946   1.117  1.00  0.00           H  \nHETATM   17  H   UNL     1       2.769   1.313  -0.536  1.00  0.00           H  \nHETATM   18  H   UNL     1       4.153   1.163   0.562  1.00  0.00           H  \nHETATM   19  H   UNL     1       2.822  -0.341   2.043  1.00  0.00           H  \nHETATM   20  H   UNL     1       0.612  -0.078  -0.059  1.00  0.00           H  \nHETATM   21  H   UNL     1       0.599   0.632   1.565  1.00  0.00           H  \nHETATM   22  H   UNL     1       0.575  -1.126   1.371  1.00  0.00           H  \nHETATM   23  H   UNL     1       2.732  -1.296  -0.877  1.00  0.00           H  \nHETATM   24  H   UNL     1       2.624  -2.343   0.524  1.00  0.00           H  \nHETATM   25  H   UNL     1       4.651  -1.901   2.348  1.00  0.00           H  \nHETATM   26  H   UNL     1       7.097  -1.970   2.456  1.00  0.00           H  \nHETATM   27  H   UNL     1       7.290  -1.347  -1.818  1.00  0.00           H  \nHETATM   28  H   UNL     1       4.851  -1.245  -1.907  1.00  0.00           H  \nHETATM   29  H   UNL     1       9.207  -1.311   1.437  1.00  0.00           H  \nHETATM   30  H   UNL     1       9.171  -3.477  -0.729  1.00  0.00           H  \nHETATM   31  H   UNL     1       9.027  -3.741   1.017  1.00  0.00           H  \nHETATM   32  H   UNL     1      10.529  -3.095   0.339  1.00  0.00           H  \nHETATM   33  H   UNL     1       8.546   0.728   0.323  1.00  0.00           H  \nEND                                                                             \n",
           "type": "blob"
          }
         ],
         "kwargs": {
          "defaultRepresentation": true,
          "ext": "pdb"
         },
         "methodName": "loadFile",
         "reconstruc_color_scheme": false,
         "target": "Stage",
         "type": "call_method"
        }
       ],
       "_ngl_original_stage_parameters": {
        "ambientColor": 14540253,
        "ambientIntensity": 0.2,
        "backgroundColor": "white",
        "cameraEyeSep": 0.3,
        "cameraFov": 40,
        "cameraType": "perspective",
        "clipDist": 10,
        "clipFar": 100,
        "clipNear": 0,
        "fogFar": 100,
        "fogNear": 50,
        "hoverTimeout": 0,
        "impostor": true,
        "lightColor": 14540253,
        "lightIntensity": 1,
        "mousePreset": "default",
        "panSpeed": 1,
        "quality": "medium",
        "rotateSpeed": 2,
        "sampleLevel": 0,
        "tooltip": true,
        "workerDefault": true,
        "zoomSpeed": 1.2
       },
       "_ngl_repr_dict": {
        "0": {
         "0": {
          "params": {
           "aspectRatio": 1.5,
           "assembly": "default",
           "bondScale": 0.3,
           "bondSpacing": 0.75,
           "clipCenter": {
            "x": 0,
            "y": 0,
            "z": 0
           },
           "clipNear": 0,
           "clipRadius": 0,
           "colorMode": "hcl",
           "colorReverse": false,
           "colorScale": "",
           "colorScheme": "element",
           "colorValue": 9474192,
           "cylinderOnly": false,
           "defaultAssembly": "",
           "depthWrite": true,
           "diffuse": 16777215,
           "diffuseInterior": false,
           "disableImpostor": false,
           "disablePicking": false,
           "flatShaded": false,
           "interiorColor": 2236962,
           "interiorDarkening": 0,
           "lazy": false,
           "lineOnly": false,
           "linewidth": 2,
           "matrix": {
            "elements": [
             1,
             0,
             0,
             0,
             0,
             1,
             0,
             0,
             0,
             0,
             1,
             0,
             0,
             0,
             0,
             1
            ]
           },
           "metalness": 0,
           "multipleBond": "off",
           "opacity": 1,
           "openEnded": true,
           "quality": "high",
           "radialSegments": 20,
           "radiusData": {},
           "radiusScale": 2,
           "radiusSize": 0.15,
           "radiusType": "size",
           "roughness": 0.4,
           "sele": "",
           "side": "double",
           "sphereDetail": 2,
           "useInteriorColor": true,
           "visible": true,
           "wireframe": false
          },
          "type": "ball+stick"
         }
        }
       },
       "_ngl_serialize": false,
       "_ngl_version": "2.0.0-dev.36",
       "_ngl_view_id": [
        "4B6BC4BA-B93E-4419-84DE-53B840D51AF4"
       ],
       "_player_dict": {},
       "_scene_position": {},
       "_scene_rotation": {},
       "_synced_model_ids": [],
       "_synced_repr_model_ids": [],
       "_view_height": "",
       "_view_width": "",
       "background": "white",
       "frame": 0,
       "gui_style": null,
       "layout": "IPY_MODEL_48f65d2cdf6e489488a04ccadc07551a",
       "max_frame": 0,
       "n_components": 1,
       "picked": {}
      }
     },
     "07aedd07c7c245179fdd7d925c84ea7d": {
      "model_module": "@jupyter-widgets/controls",
      "model_module_version": "1.5.0",
      "model_name": "PlayModel",
      "state": {
       "layout": "IPY_MODEL_8b6ea298c4654d959cd8378111f2083e",
       "max": 0,
       "style": "IPY_MODEL_fa93339311e242aab038dc469843c6e5"
      }
     },
     "07ff24c5d2a34e6397da44fda768f3e3": {
      "model_module": "@jupyter-widgets/controls",
      "model_module_version": "1.5.0",
      "model_name": "PlayModel",
      "state": {
       "layout": "IPY_MODEL_a566b9b0f4db43878120ff490902eef9",
       "max": 0,
       "style": "IPY_MODEL_203fb77de7db4f6194687c117c29bde8"
      }
     },
     "0a1a88ecbefa4421a10362b4106ae917": {
      "model_module": "@jupyter-widgets/base",
      "model_module_version": "1.2.0",
      "model_name": "LayoutModel",
      "state": {}
     },
     "0a7bc08d979b48a0b079635e90fc0953": {
      "model_module": "nglview-js-widgets",
      "model_module_version": "3.0.1",
      "model_name": "ColormakerRegistryModel",
      "state": {
       "_msg_ar": [],
       "_msg_q": [],
       "_ready": true,
       "layout": "IPY_MODEL_379226cc3a4d4db9b3e2f5754f2b2ea0"
      }
     },
     "0ba5e25f32ed4f9fa65b5d47abe3033d": {
      "model_module": "@jupyter-widgets/base",
      "model_module_version": "1.2.0",
      "model_name": "LayoutModel",
      "state": {}
     },
     "0c2cadc7e3e24c769e6a7d4bcd35dcb2": {
      "model_module": "@jupyter-widgets/base",
      "model_module_version": "1.2.0",
      "model_name": "LayoutModel",
      "state": {}
     },
     "0cbb06ef6130402dacdf558d7ad1fffa": {
      "model_module": "@jupyter-widgets/base",
      "model_module_version": "1.2.0",
      "model_name": "LayoutModel",
      "state": {}
     },
     "0d6b1cf5b23a4c25b1facb2063053764": {
      "model_module": "@jupyter-widgets/controls",
      "model_module_version": "1.5.0",
      "model_name": "ButtonModel",
      "state": {
       "icon": "compress",
       "layout": "IPY_MODEL_064590b2c6b54d279b130a50d895b692",
       "style": "IPY_MODEL_bbeabef947a94f0f8da066d7741abee7"
      }
     },
     "0dbee27182fd4255886325c810404325": {
      "model_module": "@jupyter-widgets/base",
      "model_module_version": "1.2.0",
      "model_name": "LayoutModel",
      "state": {
       "width": "34px"
      }
     },
     "0e6cc4660ff041a58c7030ddc01f1be4": {
      "model_module": "@jupyter-widgets/controls",
      "model_module_version": "1.5.0",
      "model_name": "ButtonModel",
      "state": {
       "icon": "compress",
       "layout": "IPY_MODEL_86167d6b8004498fa0a004c24cf7a635",
       "style": "IPY_MODEL_cbab3eb7df4e45f78e1b68b7aba10493"
      }
     },
     "0e708009e226404c8dbacd5d52f4d190": {
      "model_module": "@jupyter-widgets/controls",
      "model_module_version": "1.5.0",
      "model_name": "IntSliderModel",
      "state": {
       "layout": "IPY_MODEL_27c408bb33db450993ba34bb6b09e397",
       "max": 0,
       "style": "IPY_MODEL_c11314d016bd406ea641f432b97ce176"
      }
     },
     "0e83dba5989745018f1a4571b373ec18": {
      "model_module": "nglview-js-widgets",
      "model_module_version": "3.0.1",
      "model_name": "NGLModel",
      "state": {
       "_camera_orientation": [
        27.6909613235879,
        0,
        0,
        0,
        0,
        27.6909613235879,
        0,
        0,
        0,
        0,
        27.6909613235879,
        0,
        -5.45399996638298,
        0.6499999761581421,
        1.7700001001358032,
        1
       ],
       "_camera_str": "orthographic",
       "_gui_theme": null,
       "_ibtn_fullscreen": "IPY_MODEL_bc169828c7a14e8d843ab949ae0dab16",
       "_igui": null,
       "_iplayer": "IPY_MODEL_d564be1776df4f8ab3b5adc5e2a29154",
       "_ngl_color_dict": {},
       "_ngl_coordinate_resource": {},
       "_ngl_full_stage_parameters": {
        "ambientColor": 14540253,
        "ambientIntensity": 0.2,
        "backgroundColor": "white",
        "cameraEyeSep": 0.3,
        "cameraFov": 40,
        "cameraType": "perspective",
        "clipDist": 10,
        "clipFar": 100,
        "clipNear": 0,
        "fogFar": 100,
        "fogNear": 50,
        "hoverTimeout": 0,
        "impostor": true,
        "lightColor": 14540253,
        "lightIntensity": 1,
        "mousePreset": "default",
        "panSpeed": 1,
        "quality": "medium",
        "rotateSpeed": 2,
        "sampleLevel": 0,
        "tooltip": true,
        "workerDefault": true,
        "zoomSpeed": 1.2
       },
       "_ngl_msg_archive": [
        {
         "args": [
          {
           "binary": false,
           "data": "\nQCElemental\n\n 33 33  0  0  0  0  0  0  0  0  0\n    3.0000   -0.8140   -3.7070  C  0  0     0  0  0  0  0  0\n    2.4310   -0.1010   -2.4160  C  0  0     0  0  0  0  0  0\n    0.9050   -0.0850   -2.2960  C  0  0     0  0  0  0  0  0\n    3.0580   -1.0000   -1.1720  C  0  0     0  0  0  0  0  0\n    4.5690   -0.7040   -1.1360  C  0  0     0  0  0  0  0  0\n    5.2400    0.5240   -1.1600  C  0  0     0  0  0  0  0  0\n    6.6360    0.5760   -1.1350  C  0  0     0  0  0  0  0  0\n    7.3960   -0.6010   -1.0700  C  0  0     0  0  0  0  0  0\n    6.7210   -1.8290   -1.0120  C  0  0     0  0  0  0  0  0\n    5.3240   -1.8800   -1.0520  C  0  0     0  0  0  0  0  0\n    8.9120   -0.8090   -0.9960  C  0  0     0  0  0  0  0  0\n    9.3640   -0.4170    0.4630  C  0  0     0  0  0  0  0  0\n    9.6380   -1.6350   -1.7240  C  0  0     0  0  0  0  0  0\n   10.4490   -2.3960   -1.2180  O  0  0     0  0  0  0  0  0\n    9.3300   -1.7070   -3.0460  O  0  0     0  0  0  0  0  0\n    2.3930   -0.3240   -4.5770  H  0  0     0  0  0  0  0  0\n    2.5190   -1.8600   -3.7030  H  0  0     0  0  0  0  0  0\n    3.9280   -0.7930   -3.8470  H  0  0     0  0  0  0  0  0\n    2.7640    0.9420   -2.4850  H  0  0     0  0  0  0  0  0\n    0.4990   -1.1000   -2.2260  H  0  0     0  0  0  0  0  0\n    0.4530    0.4010   -3.1670  H  0  0     0  0  0  0  0  0\n    0.5910    0.4690   -1.4060  H  0  0     0  0  0  0  0  0\n    2.7250   -1.8080   -1.1120  H  0  0     0  0  0  0  0  0\n    2.6840   -0.2750   -0.2620  H  0  0     0  0  0  0  0  0\n    4.6790    1.4560   -1.1940  H  0  0     0  0  0  0  0  0\n    7.1230    1.5490   -1.1480  H  0  0     0  0  0  0  0  0\n    7.2710   -2.7660   -0.9270  H  0  0     0  0  0  0  0  0\n    4.8310   -2.8490   -1.0110  H  0  0     0  0  0  0  0  0\n    9.2370    0.4120   -1.4990  H  0  0     0  0  0  0  0  0\n    9.0530   -1.2970    1.0370  H  0  0     0  0  0  0  0  0\n    8.9400    0.8680    0.9500  H  0  0     0  0  0  0  0  0\n   10.4550   -0.3440    0.5310  H  0  0     0  0  0  0  0  0\n    8.6400   -1.0680   -3.3160  H  0  0     0  0  0  0  0  0\n  1 16  1  0  0  0  0\n  1 18  1  0  0  0  0\n  1 17  1  0  0  0  0\n  1  2  1  0  0  0  0\n  2 19  1  0  0  0  0\n  2  3  1  0  0  0  0\n  2  4  1  0  0  0  0\n  3 21  1  0  0  0  0\n  3 20  1  0  0  0  0\n  3 22  1  0  0  0  0\n  4  5  1  0  0  0  0\n  4 23  1  0  0  0  0\n  4 24  1  0  0  0  0\n  5  6  1  0  0  0  0\n  5 10  1  0  0  0  0\n  6 25  1  0  0  0  0\n  6  7  1  0  0  0  0\n  7 26  1  0  0  0  0\n  7  8  1  0  0  0  0\n  8  9  1  0  0  0  0\n  8 11  1  0  0  0  0\n  9 10  1  0  0  0  0\n  9 27  1  0  0  0  0\n 10 28  1  0  0  0  0\n 11 13  1  0  0  0  0\n 11 29  1  0  0  0  0\n 11 12  1  0  0  0  0\n 12 32  1  0  0  0  0\n 12 31  1  0  0  0  0\n 12 30  1  0  0  0  0\n 13 15  1  0  0  0  0\n 13 14  1  0  0  0  0\n 15 33  1  0  0  0  0\n",
           "type": "blob"
          }
         ],
         "kwargs": {
          "defaultRepresentation": true,
          "ext": "sdf"
         },
         "methodName": "loadFile",
         "reconstruc_color_scheme": false,
         "target": "Stage",
         "type": "call_method"
        }
       ],
       "_ngl_original_stage_parameters": {
        "ambientColor": 14540253,
        "ambientIntensity": 0.2,
        "backgroundColor": "white",
        "cameraEyeSep": 0.3,
        "cameraFov": 40,
        "cameraType": "perspective",
        "clipDist": 10,
        "clipFar": 100,
        "clipNear": 0,
        "fogFar": 100,
        "fogNear": 50,
        "hoverTimeout": 0,
        "impostor": true,
        "lightColor": 14540253,
        "lightIntensity": 1,
        "mousePreset": "default",
        "panSpeed": 1,
        "quality": "medium",
        "rotateSpeed": 2,
        "sampleLevel": 0,
        "tooltip": true,
        "workerDefault": true,
        "zoomSpeed": 1.2
       },
       "_ngl_repr_dict": {
        "0": {
         "0": {
          "params": {
           "aspectRatio": 1.5,
           "assembly": "default",
           "bondScale": 0.3,
           "bondSpacing": 0.75,
           "clipCenter": {
            "x": 0,
            "y": 0,
            "z": 0
           },
           "clipNear": 0,
           "clipRadius": 0,
           "colorMode": "hcl",
           "colorReverse": false,
           "colorScale": "",
           "colorScheme": "element",
           "colorValue": 9474192,
           "cylinderOnly": false,
           "defaultAssembly": "",
           "depthWrite": true,
           "diffuse": 16777215,
           "diffuseInterior": false,
           "disableImpostor": false,
           "disablePicking": false,
           "flatShaded": false,
           "interiorColor": 2236962,
           "interiorDarkening": 0,
           "lazy": false,
           "lineOnly": false,
           "linewidth": 2,
           "matrix": {
            "elements": [
             1,
             0,
             0,
             0,
             0,
             1,
             0,
             0,
             0,
             0,
             1,
             0,
             0,
             0,
             0,
             1
            ]
           },
           "metalness": 0,
           "multipleBond": "off",
           "opacity": 1,
           "openEnded": true,
           "quality": "high",
           "radialSegments": 20,
           "radiusData": {},
           "radiusScale": 2,
           "radiusSize": 0.15,
           "radiusType": "size",
           "roughness": 0.4,
           "sele": "",
           "side": "double",
           "sphereDetail": 2,
           "useInteriorColor": true,
           "visible": true,
           "wireframe": false
          },
          "type": "ball+stick"
         }
        }
       },
       "_ngl_serialize": false,
       "_ngl_version": "2.0.0-dev.36",
       "_ngl_view_id": [
        "0FD929D6-52C2-4B93-A515-F21CE5C7BE37"
       ],
       "_player_dict": {},
       "_scene_position": {},
       "_scene_rotation": {},
       "_synced_model_ids": [],
       "_synced_repr_model_ids": [],
       "_view_height": "",
       "_view_width": "",
       "background": "white",
       "frame": 0,
       "gui_style": null,
       "layout": "IPY_MODEL_03d81b7a53f144848e4b5d392f52a9b1",
       "max_frame": 0,
       "n_components": 1,
       "picked": {}
      }
     },
     "0f5540f8f2c94d7f873819b75b87a6ff": {
      "model_module": "@jupyter-widgets/controls",
      "model_module_version": "1.5.0",
      "model_name": "PlayModel",
      "state": {
       "layout": "IPY_MODEL_4cd32eb0dae241aa8ae16c83133bffd3",
       "max": 0,
       "style": "IPY_MODEL_f02bf43b070148b4b247b7c377278e4a"
      }
     },
     "10ad0b7ba4ab450d979ec04a416b3c4c": {
      "model_module": "@jupyter-widgets/controls",
      "model_module_version": "1.5.0",
      "model_name": "ButtonStyleModel",
      "state": {}
     },
     "11793b9f57a44b3d9f88c664d157813e": {
      "model_module": "@jupyter-widgets/base",
      "model_module_version": "1.2.0",
      "model_name": "LayoutModel",
      "state": {}
     },
     "12a306d0cbf84beca4e19c6f9c13f1f8": {
      "model_module": "@jupyter-widgets/controls",
      "model_module_version": "1.5.0",
      "model_name": "LinkModel",
      "state": {
       "source": [
        "IPY_MODEL_4cb1397347a24e4fa6630a64d178ba88",
        "value"
       ],
       "target": [
        "IPY_MODEL_8c9350532376451f92fe387e3b93a93d",
        "value"
       ]
      }
     },
     "12d166d917f5476bae07986d9eb7c5d8": {
      "model_module": "@jupyter-widgets/controls",
      "model_module_version": "1.5.0",
      "model_name": "LinkModel",
      "state": {
       "source": [
        "IPY_MODEL_ece1cabd3226420281c93b3441166c3e",
        "value"
       ],
       "target": [
        "IPY_MODEL_d515c01862484cdda22aa0d1ee0dc4bc",
        "value"
       ]
      }
     },
     "134ba3c9dcef48ac86a599a34cea12aa": {
      "model_module": "@jupyter-widgets/base",
      "model_module_version": "1.2.0",
      "model_name": "LayoutModel",
      "state": {}
     },
     "1361451de30b4ca6846c843e51d7fdba": {
      "model_module": "@jupyter-widgets/controls",
      "model_module_version": "1.5.0",
      "model_name": "IntSliderModel",
      "state": {
       "layout": "IPY_MODEL_70f80b67a6ec4451826c1e99db9874a5",
       "max": 0,
       "style": "IPY_MODEL_c4b354e7c19b40b68c0720949f79990a"
      }
     },
     "1371658806214af58a7c0eee7582c760": {
      "model_module": "@jupyter-widgets/controls",
      "model_module_version": "1.5.0",
      "model_name": "DescriptionStyleModel",
      "state": {
       "description_width": ""
      }
     },
     "13c6396fedfa4f8c84361d8278ef517b": {
      "model_module": "@jupyter-widgets/controls",
      "model_module_version": "1.5.0",
      "model_name": "ButtonModel",
      "state": {
       "icon": "compress",
       "layout": "IPY_MODEL_21d6ae01b54548e58274c8df339bb862",
       "style": "IPY_MODEL_45582fa428764edc92cdc1571b7daad2"
      }
     },
     "13d6dfdd875748c29822407d1b31cd6c": {
      "model_module": "@jupyter-widgets/controls",
      "model_module_version": "1.5.0",
      "model_name": "ButtonStyleModel",
      "state": {}
     },
     "14184cdc7998404abd46cb8197c11168": {
      "model_module": "nglview-js-widgets",
      "model_module_version": "3.0.1",
      "model_name": "NGLModel",
      "state": {
       "_camera_orientation": [
        27.608552179894808,
        0,
        0,
        0,
        0,
        27.608552179894808,
        0,
        0,
        0,
        0,
        27.608552179894808,
        0,
        -5.552000135183334,
        0.8974999785423279,
        -0.2745000720024109,
        1
       ],
       "_camera_str": "orthographic",
       "_gui_theme": null,
       "_ibtn_fullscreen": "IPY_MODEL_da253e20f809464cb40b33c5a7235cb8",
       "_igui": null,
       "_iplayer": "IPY_MODEL_22baf8fe623b4e9e9909e8db86b9cb42",
       "_ngl_color_dict": {},
       "_ngl_coordinate_resource": {},
       "_ngl_full_stage_parameters": {
        "ambientColor": 14540253,
        "ambientIntensity": 0.2,
        "backgroundColor": "white",
        "cameraEyeSep": 0.3,
        "cameraFov": 40,
        "cameraType": "perspective",
        "clipDist": 10,
        "clipFar": 100,
        "clipNear": 0,
        "fogFar": 100,
        "fogNear": 50,
        "hoverTimeout": 0,
        "impostor": true,
        "lightColor": 14540253,
        "lightIntensity": 1,
        "mousePreset": "default",
        "panSpeed": 1,
        "quality": "medium",
        "rotateSpeed": 2,
        "sampleLevel": 0,
        "tooltip": true,
        "workerDefault": true,
        "zoomSpeed": 1.2
       },
       "_ngl_msg_archive": [
        {
         "args": [
          {
           "binary": false,
           "data": "\nQCElemental\n\n 33 33  0  0  0  0  0  0  0  0  0\n    3.0600    1.1250    0.5030  C  0  0     0  0  0  0  0  0\n    2.5180   -0.2180    0.9970  C  0  0     0  0  0  0  0  0\n    0.9880   -0.1980    0.9640  C  0  0     0  0  0  0  0  0\n    3.0600   -1.4020    0.1640  C  0  0     0  0  0  0  0  0\n    4.5670   -1.5330    0.2190  C  0  0     0  0  0  0  0  0\n    5.2240   -1.7620    1.4330  C  0  0     0  0  0  0  0  0\n    6.6200   -1.7980    1.4930  C  0  0     0  0  0  0  0  0\n    7.3930   -1.6190    0.3370  C  0  0     0  0  0  0  0  0\n    6.7300   -1.4510   -0.8890  C  0  0     0  0  0  0  0  0\n    5.3340   -1.4010   -0.9450  C  0  0     0  0  0  0  0  0\n    8.9100   -1.6460    0.4320  C  0  0     0  0  0  0  0  0\n    9.4360   -3.0710    0.2540  C  0  0     0  0  0  0  0  0\n    9.6080   -0.6840   -0.5260  C  0  0     0  0  0  0  0  0\n   10.4390   -1.0050   -1.3640  O  0  0     0  0  0  0  0  0\n    9.2470    0.6120   -0.3480  O  0  0     0  0  0  0  0  0\n    2.6750    1.9460    1.1170  H  0  0     0  0  0  0  0  0\n    2.7690    1.3130   -0.5360  H  0  0     0  0  0  0  0  0\n    4.1530    1.1630    0.5620  H  0  0     0  0  0  0  0  0\n    2.8220   -0.3410    2.0430  H  0  0     0  0  0  0  0  0\n    0.6120   -0.0780   -0.0590  H  0  0     0  0  0  0  0  0\n    0.5990    0.6320    1.5650  H  0  0     0  0  0  0  0  0\n    0.5750   -1.1260    1.3710  H  0  0     0  0  0  0  0  0\n    2.7320   -1.2960   -0.8770  H  0  0     0  0  0  0  0  0\n    2.6240   -2.3430    0.5240  H  0  0     0  0  0  0  0  0\n    4.6510   -1.9010    2.3480  H  0  0     0  0  0  0  0  0\n    7.0970   -1.9700    2.4560  H  0  0     0  0  0  0  0  0\n    7.2900   -1.3470   -1.8180  H  0  0     0  0  0  0  0  0\n    4.8510   -1.2450   -1.9070  H  0  0     0  0  0  0  0  0\n    9.2070   -1.3110    1.4370  H  0  0     0  0  0  0  0  0\n    9.1710   -3.4770   -0.7290  H  0  0     0  0  0  0  0  0\n    9.0270   -3.7410    1.0170  H  0  0     0  0  0  0  0  0\n   10.5290   -3.0950    0.3390  H  0  0     0  0  0  0  0  0\n    8.5460    0.7280    0.3230  H  0  0     0  0  0  0  0  0\n  1  2  1  0  0  0  0\n  1 16  1  0  0  0  0\n  1 17  1  0  0  0  0\n  1 18  1  0  0  0  0\n  2  3  1  0  0  0  0\n  2  4  1  0  0  0  0\n  2 19  1  0  0  0  0\n  3 20  1  0  0  0  0\n  3 21  1  0  0  0  0\n  3 22  1  0  0  0  0\n  4  5  1  0  0  0  0\n  4 23  1  0  0  0  0\n  4 24  1  0  0  0  0\n  5  6  1  0  0  0  0\n  5 10  1  0  0  0  0\n  6  7  1  0  0  0  0\n  6 25  1  0  0  0  0\n  7  8  1  0  0  0  0\n  7 26  1  0  0  0  0\n  8  9  1  0  0  0  0\n  8 11  1  0  0  0  0\n  9 10  1  0  0  0  0\n  9 27  1  0  0  0  0\n 10 28  1  0  0  0  0\n 11 12  1  0  0  0  0\n 11 13  1  0  0  0  0\n 11 29  1  0  0  0  0\n 12 30  1  0  0  0  0\n 12 31  1  0  0  0  0\n 12 32  1  0  0  0  0\n 13 14  1  0  0  0  0\n 13 15  1  0  0  0  0\n 15 33  1  0  0  0  0\n",
           "type": "blob"
          }
         ],
         "kwargs": {
          "defaultRepresentation": true,
          "ext": "sdf"
         },
         "methodName": "loadFile",
         "reconstruc_color_scheme": false,
         "target": "Stage",
         "type": "call_method"
        }
       ],
       "_ngl_original_stage_parameters": {
        "ambientColor": 14540253,
        "ambientIntensity": 0.2,
        "backgroundColor": "white",
        "cameraEyeSep": 0.3,
        "cameraFov": 40,
        "cameraType": "perspective",
        "clipDist": 10,
        "clipFar": 100,
        "clipNear": 0,
        "fogFar": 100,
        "fogNear": 50,
        "hoverTimeout": 0,
        "impostor": true,
        "lightColor": 14540253,
        "lightIntensity": 1,
        "mousePreset": "default",
        "panSpeed": 1,
        "quality": "medium",
        "rotateSpeed": 2,
        "sampleLevel": 0,
        "tooltip": true,
        "workerDefault": true,
        "zoomSpeed": 1.2
       },
       "_ngl_repr_dict": {
        "0": {
         "0": {
          "params": {
           "aspectRatio": 1.5,
           "assembly": "default",
           "bondScale": 0.3,
           "bondSpacing": 0.75,
           "clipCenter": {
            "x": 0,
            "y": 0,
            "z": 0
           },
           "clipNear": 0,
           "clipRadius": 0,
           "colorMode": "hcl",
           "colorReverse": false,
           "colorScale": "",
           "colorScheme": "element",
           "colorValue": 9474192,
           "cylinderOnly": false,
           "defaultAssembly": "",
           "depthWrite": true,
           "diffuse": 16777215,
           "diffuseInterior": false,
           "disableImpostor": false,
           "disablePicking": false,
           "flatShaded": false,
           "interiorColor": 2236962,
           "interiorDarkening": 0,
           "lazy": false,
           "lineOnly": false,
           "linewidth": 2,
           "matrix": {
            "elements": [
             1,
             0,
             0,
             0,
             0,
             1,
             0,
             0,
             0,
             0,
             1,
             0,
             0,
             0,
             0,
             1
            ]
           },
           "metalness": 0,
           "multipleBond": "off",
           "opacity": 1,
           "openEnded": true,
           "quality": "high",
           "radialSegments": 20,
           "radiusData": {},
           "radiusScale": 2,
           "radiusSize": 0.15,
           "radiusType": "size",
           "roughness": 0.4,
           "sele": "",
           "side": "double",
           "sphereDetail": 2,
           "useInteriorColor": true,
           "visible": true,
           "wireframe": false
          },
          "type": "ball+stick"
         }
        }
       },
       "_ngl_serialize": false,
       "_ngl_version": "2.0.0-dev.36",
       "_ngl_view_id": [
        "48568C5D-81E7-4D7A-AC3A-AEC56E07AA47"
       ],
       "_player_dict": {},
       "_scene_position": {},
       "_scene_rotation": {},
       "_synced_model_ids": [],
       "_synced_repr_model_ids": [],
       "_view_height": "",
       "_view_width": "",
       "background": "white",
       "frame": 0,
       "gui_style": null,
       "layout": "IPY_MODEL_e56f8155eff04510b0a1a9411147e2ba",
       "max_frame": 0,
       "n_components": 1,
       "picked": {}
      }
     },
     "141ac1ce8ebc4e689856e4ab54612d92": {
      "model_module": "@jupyter-widgets/base",
      "model_module_version": "1.2.0",
      "model_name": "LayoutModel",
      "state": {
       "width": "34px"
      }
     },
     "14d01fb76d8f486987ebfef65cc68d4d": {
      "model_module": "@jupyter-widgets/controls",
      "model_module_version": "1.5.0",
      "model_name": "LinkModel",
      "state": {
       "source": [
        "IPY_MODEL_b7d7d4ebd56647dc98771e6e59686e92",
        "value"
       ],
       "target": [
        "IPY_MODEL_314cf0c665e94c7493f71bf9a62162a9",
        "value"
       ]
      }
     },
     "14e5b66f8a024a0b82b375a37a8cca01": {
      "model_module": "@jupyter-widgets/controls",
      "model_module_version": "1.5.0",
      "model_name": "LinkModel",
      "state": {
       "source": [
        "IPY_MODEL_06e4e770c5c048fda5798dfb9123374f",
        "max"
       ],
       "target": [
        "IPY_MODEL_14184cdc7998404abd46cb8197c11168",
        "max_frame"
       ]
      }
     },
     "16b544e3913646dc848b095e608d45a1": {
      "model_module": "@jupyter-widgets/base",
      "model_module_version": "1.2.0",
      "model_name": "LayoutModel",
      "state": {}
     },
     "17f00410dfbd486988d9465f287e69be": {
      "model_module": "@jupyter-widgets/controls",
      "model_module_version": "1.5.0",
      "model_name": "SliderStyleModel",
      "state": {
       "description_width": ""
      }
     },
     "1809855c9c5f416198bdeb14ff356094": {
      "model_module": "@jupyter-widgets/controls",
      "model_module_version": "1.5.0",
      "model_name": "ButtonModel",
      "state": {
       "icon": "compress",
       "layout": "IPY_MODEL_d2e00a83c41643b6a64533c7e6a92390",
       "style": "IPY_MODEL_95426de1be1f4b268eb54f4bd777a397"
      }
     },
     "18e1085b97c94563b44d407b8732033c": {
      "model_module": "@jupyter-widgets/controls",
      "model_module_version": "1.5.0",
      "model_name": "HBoxModel",
      "state": {
       "children": [
        "IPY_MODEL_9c665c9906854c8896dfdd24194af320",
        "IPY_MODEL_62072f366dca431d8b6a3e48fa732353"
       ],
       "layout": "IPY_MODEL_c9cfcc9662df486ebaf74bde190d4566"
      }
     },
     "18f0d4f68c4b48c58aa2843b773e90ad": {
      "model_module": "nglview-js-widgets",
      "model_module_version": "3.0.1",
      "model_name": "NGLModel",
      "state": {
       "_camera_orientation": [
        27.69016129972202,
        0,
        0,
        0,
        0,
        27.69016129972202,
        0,
        0,
        0,
        0,
        27.69016129972202,
        0,
        -5.4539502412080765,
        0.6496000289916992,
        1.7701501250267029,
        1
       ],
       "_camera_str": "orthographic",
       "_gui_theme": null,
       "_ibtn_fullscreen": "IPY_MODEL_13c6396fedfa4f8c84361d8278ef517b",
       "_igui": null,
       "_iplayer": "IPY_MODEL_5c12838d56f34b61a50480c3b2a7a51f",
       "_ngl_color_dict": {},
       "_ngl_coordinate_resource": {},
       "_ngl_full_stage_parameters": {
        "ambientColor": 14540253,
        "ambientIntensity": 0.2,
        "backgroundColor": "white",
        "cameraEyeSep": 0.3,
        "cameraFov": 40,
        "cameraType": "perspective",
        "clipDist": 10,
        "clipFar": 100,
        "clipNear": 0,
        "fogFar": 100,
        "fogNear": 50,
        "hoverTimeout": 0,
        "impostor": true,
        "lightColor": 14540253,
        "lightIntensity": 1,
        "mousePreset": "default",
        "panSpeed": 1,
        "quality": "medium",
        "rotateSpeed": 2,
        "sampleLevel": 0,
        "tooltip": true,
        "workerDefault": true,
        "zoomSpeed": 1.2
       },
       "_ngl_msg_archive": [
        {
         "args": [
          {
           "binary": false,
           "data": "\nQCElemental\n\n 33 33  0  0  0  0  0  0  0  0  0\n    2.8422   -0.8136   -3.7072  C  0  0     0  0  0  0  0  0\n    2.4311   -0.1010   -2.4162  C  0  0     0  0  0  0  0  0\n    0.9054   -0.0850   -2.2961  C  0  0     0  0  0  0  0  0\n    3.0575   -0.7635   -1.1719  C  0  0     0  0  0  0  0  0\n    4.5692   -0.7039   -1.1355  C  0  0     0  0  0  0  0  0\n    5.2402    0.5245   -1.1600  C  0  0     0  0  0  0  0  0\n    6.6359    0.5761   -1.1354  C  0  0     0  0  0  0  0  0\n    7.3956   -0.6011   -1.0697  C  0  0     0  0  0  0  0  0\n    6.7213   -1.8292   -1.0119  C  0  0     0  0  0  0  0  0\n    5.3245   -1.8798   -1.0520  C  0  0     0  0  0  0  0  0\n    8.9117   -0.5092   -0.9955  C  0  0     0  0  0  0  0  0\n    9.3638   -0.4166    0.4625  C  0  0     0  0  0  0  0  0\n    9.6383   -1.6350   -1.7245  C  0  0     0  0  0  0  0  0\n   10.4489   -2.3957   -1.2178  O  0  0     0  0  0  0  0  0\n    9.3300   -1.7066   -3.0462  O  0  0     0  0  0  0  0  0\n    2.3926   -0.3243   -4.5774  H  0  0     0  0  0  0  0  0\n    2.5195   -1.8602   -3.7034  H  0  0     0  0  0  0  0  0\n    3.9280   -0.7930   -3.8472  H  0  0     0  0  0  0  0  0\n    2.7642    0.9417   -2.4848  H  0  0     0  0  0  0  0  0\n    0.4990   -1.0997   -2.2264  H  0  0     0  0  0  0  0  0\n    0.4532    0.4015   -3.1672  H  0  0     0  0  0  0  0  0\n    0.5909    0.4695   -1.4057  H  0  0     0  0  0  0  0  0\n    2.7247   -1.8080   -1.1116  H  0  0     0  0  0  0  0  0\n    2.6839   -0.2751   -0.2622  H  0  0     0  0  0  0  0  0\n    4.6785    1.4560   -1.1941  H  0  0     0  0  0  0  0  0\n    7.1225    1.5493   -1.1481  H  0  0     0  0  0  0  0  0\n    7.2712   -2.7657   -0.9268  H  0  0     0  0  0  0  0  0\n    4.8312   -2.8485   -1.0111  H  0  0     0  0  0  0  0  0\n    9.2375    0.4116   -1.4993  H  0  0     0  0  0  0  0  0\n    9.0525   -1.2969    1.0371  H  0  0     0  0  0  0  0  0\n    8.9397    0.4679    0.9497  H  0  0     0  0  0  0  0  0\n   10.4547   -0.3443    0.5311  H  0  0     0  0  0  0  0  0\n    8.6399   -1.0678   -3.3157  H  0  0     0  0  0  0  0  0\n  1  2  1  0  0  0  0\n  1 16  1  0  0  0  0\n  1 17  1  0  0  0  0\n  1 18  1  0  0  0  0\n  2  3  1  0  0  0  0\n  2  4  1  0  0  0  0\n  2 19  1  0  0  0  0\n  3 20  1  0  0  0  0\n  3 21  1  0  0  0  0\n  3 22  1  0  0  0  0\n  4  5  1  0  0  0  0\n  4 23  1  0  0  0  0\n  4 24  1  0  0  0  0\n  5  6  1  0  0  0  0\n  5 10  1  0  0  0  0\n  6  7  1  0  0  0  0\n  6 25  1  0  0  0  0\n  7  8  1  0  0  0  0\n  7 26  1  0  0  0  0\n  8  9  1  0  0  0  0\n  8 11  1  0  0  0  0\n  9 10  1  0  0  0  0\n  9 27  1  0  0  0  0\n 10 28  1  0  0  0  0\n 11 12  1  0  0  0  0\n 11 13  1  0  0  0  0\n 11 29  1  0  0  0  0\n 12 30  1  0  0  0  0\n 12 31  1  0  0  0  0\n 12 32  1  0  0  0  0\n 13 14  1  0  0  0  0\n 13 15  1  0  0  0  0\n 15 33  1  0  0  0  0\n",
           "type": "blob"
          }
         ],
         "kwargs": {
          "defaultRepresentation": true,
          "ext": "sdf"
         },
         "methodName": "loadFile",
         "reconstruc_color_scheme": false,
         "target": "Stage",
         "type": "call_method"
        }
       ],
       "_ngl_original_stage_parameters": {
        "ambientColor": 14540253,
        "ambientIntensity": 0.2,
        "backgroundColor": "white",
        "cameraEyeSep": 0.3,
        "cameraFov": 40,
        "cameraType": "perspective",
        "clipDist": 10,
        "clipFar": 100,
        "clipNear": 0,
        "fogFar": 100,
        "fogNear": 50,
        "hoverTimeout": 0,
        "impostor": true,
        "lightColor": 14540253,
        "lightIntensity": 1,
        "mousePreset": "default",
        "panSpeed": 1,
        "quality": "medium",
        "rotateSpeed": 2,
        "sampleLevel": 0,
        "tooltip": true,
        "workerDefault": true,
        "zoomSpeed": 1.2
       },
       "_ngl_repr_dict": {
        "0": {
         "0": {
          "params": {
           "aspectRatio": 1.5,
           "assembly": "default",
           "bondScale": 0.3,
           "bondSpacing": 0.75,
           "clipCenter": {
            "x": 0,
            "y": 0,
            "z": 0
           },
           "clipNear": 0,
           "clipRadius": 0,
           "colorMode": "hcl",
           "colorReverse": false,
           "colorScale": "",
           "colorScheme": "element",
           "colorValue": 9474192,
           "cylinderOnly": false,
           "defaultAssembly": "",
           "depthWrite": true,
           "diffuse": 16777215,
           "diffuseInterior": false,
           "disableImpostor": false,
           "disablePicking": false,
           "flatShaded": false,
           "interiorColor": 2236962,
           "interiorDarkening": 0,
           "lazy": false,
           "lineOnly": false,
           "linewidth": 2,
           "matrix": {
            "elements": [
             1,
             0,
             0,
             0,
             0,
             1,
             0,
             0,
             0,
             0,
             1,
             0,
             0,
             0,
             0,
             1
            ]
           },
           "metalness": 0,
           "multipleBond": "off",
           "opacity": 1,
           "openEnded": true,
           "quality": "high",
           "radialSegments": 20,
           "radiusData": {},
           "radiusScale": 2,
           "radiusSize": 0.15,
           "radiusType": "size",
           "roughness": 0.4,
           "sele": "",
           "side": "double",
           "sphereDetail": 2,
           "useInteriorColor": true,
           "visible": true,
           "wireframe": false
          },
          "type": "ball+stick"
         }
        }
       },
       "_ngl_serialize": false,
       "_ngl_version": "2.0.0-dev.36",
       "_ngl_view_id": [
        "C890BA8D-33DC-4A05-8F1B-B75F7CE98072"
       ],
       "_player_dict": {},
       "_scene_position": {},
       "_scene_rotation": {},
       "_synced_model_ids": [],
       "_synced_repr_model_ids": [],
       "_view_height": "",
       "_view_width": "",
       "background": "white",
       "frame": 0,
       "gui_style": null,
       "layout": "IPY_MODEL_fab483dea68746978a76177a883fd98b",
       "max_frame": 0,
       "n_components": 1,
       "picked": {}
      }
     },
     "19f5ba294bea4c8db6c6b3c82e7225bb": {
      "model_module": "@jupyter-widgets/base",
      "model_module_version": "1.2.0",
      "model_name": "LayoutModel",
      "state": {}
     },
     "1acb53520b264feabcf54632b391fafd": {
      "model_module": "@jupyter-widgets/controls",
      "model_module_version": "1.5.0",
      "model_name": "SliderStyleModel",
      "state": {
       "description_width": ""
      }
     },
     "1b63a0eefda34ade828801d278f31762": {
      "model_module": "@jupyter-widgets/controls",
      "model_module_version": "1.5.0",
      "model_name": "SliderStyleModel",
      "state": {
       "description_width": ""
      }
     },
     "1bc33b4f02fd4994bfff7d6a8d1203b3": {
      "model_module": "nglview-js-widgets",
      "model_module_version": "3.0.1",
      "model_name": "NGLModel",
      "state": {
       "_camera_orientation": [
        27.69016129972202,
        0,
        0,
        0,
        0,
        27.69016129972202,
        0,
        0,
        0,
        0,
        27.69016129972202,
        0,
        -5.4539502412080765,
        0.6496000289916992,
        1.7701501250267029,
        1
       ],
       "_camera_str": "orthographic",
       "_gui_theme": null,
       "_ibtn_fullscreen": "IPY_MODEL_8f563814df0843ab944d2df36f1066c9",
       "_igui": null,
       "_iplayer": "IPY_MODEL_1e4f2c4266de4ec9af2583e1a9dbb4fb",
       "_ngl_color_dict": {},
       "_ngl_coordinate_resource": {},
       "_ngl_full_stage_parameters": {
        "ambientColor": 14540253,
        "ambientIntensity": 0.2,
        "backgroundColor": "white",
        "cameraEyeSep": 0.3,
        "cameraFov": 40,
        "cameraType": "perspective",
        "clipDist": 10,
        "clipFar": 100,
        "clipNear": 0,
        "fogFar": 100,
        "fogNear": 50,
        "hoverTimeout": 0,
        "impostor": true,
        "lightColor": 14540253,
        "lightIntensity": 1,
        "mousePreset": "default",
        "panSpeed": 1,
        "quality": "medium",
        "rotateSpeed": 2,
        "sampleLevel": 0,
        "tooltip": true,
        "workerDefault": true,
        "zoomSpeed": 1.2
       },
       "_ngl_msg_archive": [
        {
         "args": [
          {
           "binary": false,
           "data": "\nQCElemental\n\n 33 33  0  0  0  0  0  0  0  0  0\n    2.8422   -0.8136   -3.7072  C  0  0     0  0  0  0  0  0\n    2.4311   -0.1010   -2.4162  C  0  0     0  0  0  0  0  0\n    0.9054   -0.0850   -2.2961  C  0  0     0  0  0  0  0  0\n    3.0575   -0.7635   -1.1719  C  0  0     0  0  0  0  0  0\n    4.5692   -0.7039   -1.1355  C  0  0     0  0  0  0  0  0\n    5.2402    0.5245   -1.1600  C  0  0     0  0  0  0  0  0\n    6.6359    0.5761   -1.1354  C  0  0     0  0  0  0  0  0\n    7.3956   -0.6011   -1.0697  C  0  0     0  0  0  0  0  0\n    6.7213   -1.8292   -1.0119  C  0  0     0  0  0  0  0  0\n    5.3245   -1.8798   -1.0520  C  0  0     0  0  0  0  0  0\n    8.9117   -0.5092   -0.9955  C  0  0     0  0  0  0  0  0\n    9.3638   -0.4166    0.4625  C  0  0     0  0  0  0  0  0\n    9.6383   -1.6350   -1.7245  C  0  0     0  0  0  0  0  0\n   10.4489   -2.3957   -1.2178  O  0  0     0  0  0  0  0  0\n    9.3300   -1.7066   -3.0462  O  0  0     0  0  0  0  0  0\n    2.3926   -0.3243   -4.5774  H  0  0     0  0  0  0  0  0\n    2.5195   -1.8602   -3.7034  H  0  0     0  0  0  0  0  0\n    3.9280   -0.7930   -3.8472  H  0  0     0  0  0  0  0  0\n    2.7642    0.9417   -2.4848  H  0  0     0  0  0  0  0  0\n    0.4990   -1.0997   -2.2264  H  0  0     0  0  0  0  0  0\n    0.4532    0.4015   -3.1672  H  0  0     0  0  0  0  0  0\n    0.5909    0.4695   -1.4057  H  0  0     0  0  0  0  0  0\n    2.7247   -1.8080   -1.1116  H  0  0     0  0  0  0  0  0\n    2.6839   -0.2751   -0.2622  H  0  0     0  0  0  0  0  0\n    4.6785    1.4560   -1.1941  H  0  0     0  0  0  0  0  0\n    7.1225    1.5493   -1.1481  H  0  0     0  0  0  0  0  0\n    7.2712   -2.7657   -0.9268  H  0  0     0  0  0  0  0  0\n    4.8312   -2.8485   -1.0111  H  0  0     0  0  0  0  0  0\n    9.2375    0.4116   -1.4993  H  0  0     0  0  0  0  0  0\n    9.0525   -1.2969    1.0371  H  0  0     0  0  0  0  0  0\n    8.9397    0.4679    0.9497  H  0  0     0  0  0  0  0  0\n   10.4547   -0.3443    0.5311  H  0  0     0  0  0  0  0  0\n    8.6399   -1.0678   -3.3157  H  0  0     0  0  0  0  0  0\n  1  2  1  0  0  0  0\n  1 16  1  0  0  0  0\n  1 17  1  0  0  0  0\n  1 18  1  0  0  0  0\n  2  3  1  0  0  0  0\n  2  4  1  0  0  0  0\n  2 19  1  0  0  0  0\n  3 20  1  0  0  0  0\n  3 21  1  0  0  0  0\n  3 22  1  0  0  0  0\n  4  5  1  0  0  0  0\n  4 23  1  0  0  0  0\n  4 24  1  0  0  0  0\n  5  6  1  0  0  0  0\n  5 10  1  0  0  0  0\n  6  7  1  0  0  0  0\n  6 25  1  0  0  0  0\n  7  8  1  0  0  0  0\n  7 26  1  0  0  0  0\n  8  9  1  0  0  0  0\n  8 11  1  0  0  0  0\n  9 10  1  0  0  0  0\n  9 27  1  0  0  0  0\n 10 28  1  0  0  0  0\n 11 12  1  0  0  0  0\n 11 13  1  0  0  0  0\n 11 29  1  0  0  0  0\n 12 30  1  0  0  0  0\n 12 31  1  0  0  0  0\n 12 32  1  0  0  0  0\n 13 14  1  0  0  0  0\n 13 15  1  0  0  0  0\n 15 33  1  0  0  0  0\n",
           "type": "blob"
          }
         ],
         "kwargs": {
          "defaultRepresentation": false,
          "ext": "sdf"
         },
         "methodName": "loadFile",
         "reconstruc_color_scheme": false,
         "target": "Stage",
         "type": "call_method"
        }
       ],
       "_ngl_original_stage_parameters": {
        "ambientColor": 14540253,
        "ambientIntensity": 0.2,
        "backgroundColor": "white",
        "cameraEyeSep": 0.3,
        "cameraFov": 40,
        "cameraType": "perspective",
        "clipDist": 10,
        "clipFar": 100,
        "clipNear": 0,
        "fogFar": 100,
        "fogNear": 50,
        "hoverTimeout": 0,
        "impostor": true,
        "lightColor": 14540253,
        "lightIntensity": 1,
        "mousePreset": "default",
        "panSpeed": 1,
        "quality": "medium",
        "rotateSpeed": 2,
        "sampleLevel": 0,
        "tooltip": true,
        "workerDefault": true,
        "zoomSpeed": 1.2
       },
       "_ngl_repr_dict": {
        "0": {
         "0": {
          "params": {
           "aspectRatio": 1.5,
           "assembly": "default",
           "bondScale": 0.3,
           "bondSpacing": 0.75,
           "clipCenter": {
            "x": 0,
            "y": 0,
            "z": 0
           },
           "clipNear": 0,
           "clipRadius": 0,
           "colorMode": "hcl",
           "colorReverse": false,
           "colorScale": "",
           "colorScheme": "element",
           "colorValue": 9474192,
           "cylinderOnly": false,
           "defaultAssembly": "",
           "depthWrite": true,
           "diffuse": 16777215,
           "diffuseInterior": false,
           "disableImpostor": false,
           "disablePicking": false,
           "flatShaded": false,
           "interiorColor": 2236962,
           "interiorDarkening": 0,
           "lazy": false,
           "lineOnly": false,
           "linewidth": 2,
           "matrix": {
            "elements": [
             1,
             0,
             0,
             0,
             0,
             1,
             0,
             0,
             0,
             0,
             1,
             0,
             0,
             0,
             0,
             1
            ]
           },
           "metalness": 0,
           "multipleBond": "off",
           "opacity": 1,
           "openEnded": true,
           "quality": "high",
           "radialSegments": 20,
           "radiusData": {},
           "radiusScale": 2,
           "radiusSize": 0.15,
           "radiusType": "size",
           "roughness": 0.4,
           "sele": "",
           "side": "double",
           "sphereDetail": 2,
           "useInteriorColor": true,
           "useWorker": true,
           "visible": true,
           "wireframe": false
          },
          "type": "ball+stick"
         }
        }
       },
       "_ngl_serialize": false,
       "_ngl_version": "2.0.0-dev.36",
       "_ngl_view_id": [
        "04274F0E-12BD-4C82-B741-0EAD160DEA7E",
        "2168A1F2-6229-463E-89B2-88083F4F403F"
       ],
       "_player_dict": {},
       "_scene_position": {},
       "_scene_rotation": {},
       "_synced_model_ids": [],
       "_synced_repr_model_ids": [],
       "_view_height": "",
       "_view_width": "",
       "background": "white",
       "frame": 0,
       "gui_style": null,
       "layout": "IPY_MODEL_a1f0b94615c1498f81e4a6f23337878b",
       "max_frame": 0,
       "n_components": 1,
       "picked": {}
      }
     },
     "1c092929e45841c3aa988131488b51ef": {
      "model_module": "@jupyter-widgets/controls",
      "model_module_version": "1.5.0",
      "model_name": "IntSliderModel",
      "state": {
       "layout": "IPY_MODEL_801a641627c8480a91a868f67eda0cb0",
       "max": 0,
       "style": "IPY_MODEL_1acb53520b264feabcf54632b391fafd"
      }
     },
     "1e2162ff2f8e402c8bf7099fa17bca99": {
      "model_module": "@jupyter-widgets/controls",
      "model_module_version": "1.5.0",
      "model_name": "ButtonModel",
      "state": {
       "icon": "compress",
       "layout": "IPY_MODEL_daf6e33767c243a4bf8dffbafa02035f",
       "style": "IPY_MODEL_939b651b9bd744ffb119d08fe88ee237"
      }
     },
     "1e4f2c4266de4ec9af2583e1a9dbb4fb": {
      "model_module": "@jupyter-widgets/controls",
      "model_module_version": "1.5.0",
      "model_name": "HBoxModel",
      "state": {
       "children": [
        "IPY_MODEL_29725edd590e43a39facf54d7eb0e673",
        "IPY_MODEL_a223999163d64bcb9e92b14c0ff99e0e"
       ],
       "layout": "IPY_MODEL_0cbb06ef6130402dacdf558d7ad1fffa"
      }
     },
     "1e6ddf12c8794524ab059be047ffb08d": {
      "model_module": "@jupyter-widgets/base",
      "model_module_version": "1.2.0",
      "model_name": "LayoutModel",
      "state": {}
     },
     "1eaa2e6933de4d949a5cca6878d56cd0": {
      "model_module": "@jupyter-widgets/base",
      "model_module_version": "1.2.0",
      "model_name": "LayoutModel",
      "state": {}
     },
     "1fe7124a88b948939be16b2153f70f83": {
      "model_module": "@jupyter-widgets/controls",
      "model_module_version": "1.5.0",
      "model_name": "IntSliderModel",
      "state": {
       "layout": "IPY_MODEL_ec6ec4f273704ff1a3ba466aaf511401",
       "max": 0,
       "style": "IPY_MODEL_4417dede616144dc9b3ea8ad27c94dd5"
      }
     },
     "203fb77de7db4f6194687c117c29bde8": {
      "model_module": "@jupyter-widgets/controls",
      "model_module_version": "1.5.0",
      "model_name": "DescriptionStyleModel",
      "state": {
       "description_width": ""
      }
     },
     "20b2b35374424f44ab7848a9d6eabbc9": {
      "model_module": "@jupyter-widgets/base",
      "model_module_version": "1.2.0",
      "model_name": "LayoutModel",
      "state": {}
     },
     "2161a5c91f23418da1ef78b6c1025afe": {
      "model_module": "@jupyter-widgets/base",
      "model_module_version": "1.2.0",
      "model_name": "LayoutModel",
      "state": {}
     },
     "2183e615de1a4c9099d86026c5fb6ea0": {
      "model_module": "@jupyter-widgets/base",
      "model_module_version": "1.2.0",
      "model_name": "LayoutModel",
      "state": {}
     },
     "2190fbddbb164fa89f47c59eb941cd0a": {
      "model_module": "@jupyter-widgets/controls",
      "model_module_version": "1.5.0",
      "model_name": "SliderStyleModel",
      "state": {
       "description_width": ""
      }
     },
     "21d6ae01b54548e58274c8df339bb862": {
      "model_module": "@jupyter-widgets/base",
      "model_module_version": "1.2.0",
      "model_name": "LayoutModel",
      "state": {
       "width": "34px"
      }
     },
     "21ebbec4c7024c11986bd2d2d64c493d": {
      "model_module": "@jupyter-widgets/controls",
      "model_module_version": "1.5.0",
      "model_name": "PlayModel",
      "state": {
       "layout": "IPY_MODEL_e12669db519f46b8988259b197b2b6c2",
       "max": 0,
       "style": "IPY_MODEL_1371658806214af58a7c0eee7582c760"
      }
     },
     "22baf8fe623b4e9e9909e8db86b9cb42": {
      "model_module": "@jupyter-widgets/controls",
      "model_module_version": "1.5.0",
      "model_name": "HBoxModel",
      "state": {
       "children": [
        "IPY_MODEL_06e4e770c5c048fda5798dfb9123374f",
        "IPY_MODEL_fd567b025a7142b392d56f76ba34148c"
       ],
       "layout": "IPY_MODEL_affc7fd09b2543d68bab0ae718210d55"
      }
     },
     "245128a68d2e4719a19a42eac4ea3048": {
      "model_module": "@jupyter-widgets/controls",
      "model_module_version": "1.5.0",
      "model_name": "LinkModel",
      "state": {
       "source": [
        "IPY_MODEL_1c092929e45841c3aa988131488b51ef",
        "max"
       ],
       "target": [
        "IPY_MODEL_5f8e17100ad34a3c88160aa22ba7dd4c",
        "max_frame"
       ]
      }
     },
     "24e8aa05d404472c8fe86d48368ba4b3": {
      "model_module": "@jupyter-widgets/controls",
      "model_module_version": "1.5.0",
      "model_name": "ImageModel",
      "state": {
       "layout": "IPY_MODEL_c2100f47a47a4f74ab5821b2c8a4d16d",
       "width": "900.0"
      }
     },
     "25dcfbc1dcfe4092a2c64eae92c2afc8": {
      "model_module": "@jupyter-widgets/base",
      "model_module_version": "1.2.0",
      "model_name": "LayoutModel",
      "state": {}
     },
     "2603ed9df4bb4d559bd1aa718a982071": {
      "model_module": "@jupyter-widgets/controls",
      "model_module_version": "1.5.0",
      "model_name": "LinkModel",
      "state": {
       "source": [
        "IPY_MODEL_06e4e770c5c048fda5798dfb9123374f",
        "value"
       ],
       "target": [
        "IPY_MODEL_fd567b025a7142b392d56f76ba34148c",
        "value"
       ]
      }
     },
     "2678655604e1476ea82ebea23fb39e99": {
      "model_module": "@jupyter-widgets/base",
      "model_module_version": "1.2.0",
      "model_name": "LayoutModel",
      "state": {}
     },
     "2692ca6262ed442495bcb2ea35a0783d": {
      "model_module": "@jupyter-widgets/controls",
      "model_module_version": "1.5.0",
      "model_name": "SliderStyleModel",
      "state": {
       "description_width": ""
      }
     },
     "26c0b9b0edf4476d9c6eaaa913e106cf": {
      "model_module": "@jupyter-widgets/controls",
      "model_module_version": "1.5.0",
      "model_name": "ImageModel",
      "state": {
       "layout": "IPY_MODEL_2e21d364896e4e13899333b39700471f",
       "width": "900.0"
      }
     },
     "27b2df85adab4973b1ba5e7e6c678236": {
      "model_module": "@jupyter-widgets/base",
      "model_module_version": "1.2.0",
      "model_name": "LayoutModel",
      "state": {}
     },
     "27c408bb33db450993ba34bb6b09e397": {
      "model_module": "@jupyter-widgets/base",
      "model_module_version": "1.2.0",
      "model_name": "LayoutModel",
      "state": {}
     },
     "27ddeb17c1aa468bb69428e26e75d1d7": {
      "model_module": "@jupyter-widgets/controls",
      "model_module_version": "1.5.0",
      "model_name": "LinkModel",
      "state": {
       "source": [
        "IPY_MODEL_c330599e4778497898d0d0f144481303",
        "value"
       ],
       "target": [
        "IPY_MODEL_1fe7124a88b948939be16b2153f70f83",
        "value"
       ]
      }
     },
     "27f78af9cccf4e7187f3c4750dec003b": {
      "model_module": "@jupyter-widgets/base",
      "model_module_version": "1.2.0",
      "model_name": "LayoutModel",
      "state": {
       "width": "34px"
      }
     },
     "280682b0520549cba7e2801bbe4cc676": {
      "model_module": "@jupyter-widgets/controls",
      "model_module_version": "1.5.0",
      "model_name": "ImageModel",
      "state": {
       "layout": "IPY_MODEL_3a3fcb57f79f47f69e76bc2e1b043da7",
       "width": "900.0"
      }
     },
     "28560f9867bb4675b74114b73d98ab92": {
      "model_module": "@jupyter-widgets/base",
      "model_module_version": "1.2.0",
      "model_name": "LayoutModel",
      "state": {}
     },
     "2916890caa8546f1aec436f418e9c909": {
      "model_module": "@jupyter-widgets/controls",
      "model_module_version": "1.5.0",
      "model_name": "ButtonStyleModel",
      "state": {}
     },
     "29725edd590e43a39facf54d7eb0e673": {
      "model_module": "@jupyter-widgets/controls",
      "model_module_version": "1.5.0",
      "model_name": "PlayModel",
      "state": {
       "layout": "IPY_MODEL_cec04c533207483aa02b93cb7f288fa8",
       "max": 0,
       "style": "IPY_MODEL_f65e70f6e08f491ead81030f1a7ed26f"
      }
     },
     "297813d8297b4ac6979618fe0a6a3599": {
      "model_module": "@jupyter-widgets/base",
      "model_module_version": "1.2.0",
      "model_name": "LayoutModel",
      "state": {}
     },
     "29998fdc2f8c4e4ea54aa229ed00b3d8": {
      "model_module": "@jupyter-widgets/base",
      "model_module_version": "1.2.0",
      "model_name": "LayoutModel",
      "state": {}
     },
     "29eb394919414af1a7e0a717dd52fc7c": {
      "model_module": "@jupyter-widgets/base",
      "model_module_version": "1.2.0",
      "model_name": "LayoutModel",
      "state": {}
     },
     "2a929c845f684983af4da0d36971b753": {
      "model_module": "@jupyter-widgets/controls",
      "model_module_version": "1.5.0",
      "model_name": "LinkModel",
      "state": {
       "source": [
        "IPY_MODEL_e226b70f458743aab25e1fe3f1c230aa",
        "value"
       ],
       "target": [
        "IPY_MODEL_b16698703e01410a987ec918663f74f0",
        "value"
       ]
      }
     },
     "2aaa39876d014977ac00442134050872": {
      "model_module": "@jupyter-widgets/controls",
      "model_module_version": "1.5.0",
      "model_name": "ButtonStyleModel",
      "state": {}
     },
     "2b23c8eb0042414894dbe0f8db5c00a3": {
      "model_module": "@jupyter-widgets/base",
      "model_module_version": "1.2.0",
      "model_name": "LayoutModel",
      "state": {}
     },
     "2c28a2b079ef4b0c9bb0e777587a51a4": {
      "model_module": "@jupyter-widgets/controls",
      "model_module_version": "1.5.0",
      "model_name": "LinkModel",
      "state": {
       "source": [
        "IPY_MODEL_a223999163d64bcb9e92b14c0ff99e0e",
        "max"
       ],
       "target": [
        "IPY_MODEL_1bc33b4f02fd4994bfff7d6a8d1203b3",
        "max_frame"
       ]
      }
     },
     "2c5e6226d5144b48b38aa3e06bf6738a": {
      "model_module": "@jupyter-widgets/controls",
      "model_module_version": "1.5.0",
      "model_name": "LinkModel",
      "state": {
       "source": [
        "IPY_MODEL_314cf0c665e94c7493f71bf9a62162a9",
        "max"
       ],
       "target": [
        "IPY_MODEL_933d7318699048d0aec3ff45c69723f7",
        "max_frame"
       ]
      }
     },
     "2db46afe37cc4d6abe38d6416a02be9f": {
      "model_module": "@jupyter-widgets/base",
      "model_module_version": "1.2.0",
      "model_name": "LayoutModel",
      "state": {}
     },
     "2e21d364896e4e13899333b39700471f": {
      "model_module": "@jupyter-widgets/base",
      "model_module_version": "1.2.0",
      "model_name": "LayoutModel",
      "state": {}
     },
     "2e4da335ff1b40edb0478422f61673f5": {
      "model_module": "@jupyter-widgets/base",
      "model_module_version": "1.2.0",
      "model_name": "LayoutModel",
      "state": {}
     },
     "2ef4452477f04254afddc58c0aeee503": {
      "model_module": "@jupyter-widgets/controls",
      "model_module_version": "1.5.0",
      "model_name": "LinkModel",
      "state": {
       "source": [
        "IPY_MODEL_4583b596c88a43da9a860550ec63b44f",
        "value"
       ],
       "target": [
        "IPY_MODEL_43d28e3ac652442aa15551381c4d4564",
        "value"
       ]
      }
     },
     "2f986451abaf42939ba3b48a27b3270d": {
      "model_module": "@jupyter-widgets/controls",
      "model_module_version": "1.5.0",
      "model_name": "LinkModel",
      "state": {
       "source": [
        "IPY_MODEL_07ff24c5d2a34e6397da44fda768f3e3",
        "max"
       ],
       "target": [
        "IPY_MODEL_36cf778e677c4ced833739b65587fb31",
        "max_frame"
       ]
      }
     },
     "2fdc88212cc44779a4609566056dfe22": {
      "model_module": "nglview-js-widgets",
      "model_module_version": "3.0.1",
      "model_name": "NGLModel",
      "state": {
       "_camera_orientation": [
        23.726549948403935,
        0,
        0,
        0,
        0,
        23.726549948403935,
        0,
        0,
        0,
        0,
        23.726549948403935,
        0,
        -4.114999890327454,
        -4.824999809265137,
        0.6200000643730164,
        1
       ],
       "_camera_str": "orthographic",
       "_gui_theme": null,
       "_ibtn_fullscreen": "IPY_MODEL_c7a98349225a4799bc09ccac44b1b5e2",
       "_igui": null,
       "_iplayer": "IPY_MODEL_91d43d20ca774e0a812b1806d66bdee7",
       "_ngl_color_dict": {},
       "_ngl_coordinate_resource": {},
       "_ngl_full_stage_parameters": {
        "ambientColor": 14540253,
        "ambientIntensity": 0.2,
        "backgroundColor": "white",
        "cameraEyeSep": 0.3,
        "cameraFov": 40,
        "cameraType": "perspective",
        "clipDist": 10,
        "clipFar": 100,
        "clipNear": 0,
        "fogFar": 100,
        "fogNear": 50,
        "hoverTimeout": 0,
        "impostor": true,
        "lightColor": 14540253,
        "lightIntensity": 1,
        "mousePreset": "default",
        "panSpeed": 1,
        "quality": "medium",
        "rotateSpeed": 2,
        "sampleLevel": 0,
        "tooltip": true,
        "workerDefault": true,
        "zoomSpeed": 1.2
       },
       "_ngl_msg_archive": [
        {
         "args": [
          {
           "binary": false,
           "data": "HETATM    1 HH31 ACE     1       2.000   1.000  -0.000  1.00  0.00           H  \nHETATM    2  CH3 ACE     1       2.000   2.090   0.000  1.00  0.00           C  \nHETATM    3 HH32 ACE     1       1.490   2.450   0.890  1.00  0.00           H  \nHETATM    4 HH33 ACE     1       1.490   2.450  -0.890  1.00  0.00           H  \nHETATM    5  C   ACE     1       3.430   2.640  -0.000  1.00  0.00           C  \nHETATM    6  O   ACE     1       4.390   1.880  -0.000  1.00  0.00           O  \nATOM      7  N   ALA     2       3.560   3.970  -0.000  1.00  0.00           N  \nATOM      8  H   ALA     2       2.730   4.560  -0.000  1.00  0.00           H  \nATOM      9  CA  ALA     2       4.850   4.610  -0.000  1.00  0.00           C  \nATOM     10  HA  ALA     2       5.410   4.320   0.890  1.00  0.00           H  \nATOM     11  CB  ALA     2       5.660   4.220  -1.230  1.00  0.00           C  \nATOM     12  HB1 ALA     2       5.120   4.520  -2.130  1.00  0.00           H  \nATOM     13  HB2 ALA     2       6.630   4.720  -1.210  1.00  0.00           H  \nATOM     14  HB3 ALA     2       5.810   3.140  -1.240  1.00  0.00           H  \nATOM     15  C   ALA     2       4.710   6.130   0.000  1.00  0.00           C  \nATOM     16  O   ALA     2       3.600   6.650   0.000  1.00  0.00           O  \nHETATM   17  N   NME     3       5.850   6.830   0.000  1.00  0.00           N  \nHETATM   18  H   NME     3       6.740   6.360  -0.000  1.00  0.00           H  \nHETATM   19  CH3 NME     3       5.850   8.280   0.000  1.00  0.00           C  \nHETATM   20 HH31 NME     3       4.820   8.650   0.000  1.00  0.00           H  \nHETATM   21 HH32 NME     3       6.360   8.650   0.890  1.00  0.00           H  \nHETATM   22 HH33 NME     3       6.360   8.650  -0.890  1.00  0.00           H  \nEND                                                                             \n",
           "type": "blob"
          }
         ],
         "kwargs": {
          "defaultRepresentation": false,
          "ext": "pdb"
         },
         "methodName": "loadFile",
         "reconstruc_color_scheme": false,
         "target": "Stage",
         "type": "call_method"
        }
       ],
       "_ngl_original_stage_parameters": {
        "ambientColor": 14540253,
        "ambientIntensity": 0.2,
        "backgroundColor": "white",
        "cameraEyeSep": 0.3,
        "cameraFov": 40,
        "cameraType": "perspective",
        "clipDist": 10,
        "clipFar": 100,
        "clipNear": 0,
        "fogFar": 100,
        "fogNear": 50,
        "hoverTimeout": 0,
        "impostor": true,
        "lightColor": 14540253,
        "lightIntensity": 1,
        "mousePreset": "default",
        "panSpeed": 1,
        "quality": "medium",
        "rotateSpeed": 2,
        "sampleLevel": 0,
        "tooltip": true,
        "workerDefault": true,
        "zoomSpeed": 1.2
       },
       "_ngl_repr_dict": {
        "0": {
         "0": {
          "params": {
           "aspectRatio": 1.5,
           "assembly": "default",
           "bondScale": 0.3,
           "bondSpacing": 0.75,
           "clipCenter": {
            "x": 0,
            "y": 0,
            "z": 0
           },
           "clipNear": 0,
           "clipRadius": 0,
           "colorMode": "hcl",
           "colorReverse": false,
           "colorScale": "",
           "colorScheme": "element",
           "colorValue": 9474192,
           "cylinderOnly": false,
           "defaultAssembly": "",
           "depthWrite": true,
           "diffuse": 16777215,
           "diffuseInterior": false,
           "disableImpostor": false,
           "disablePicking": false,
           "flatShaded": false,
           "interiorColor": 2236962,
           "interiorDarkening": 0,
           "lazy": false,
           "lineOnly": false,
           "linewidth": 2,
           "matrix": {
            "elements": [
             1,
             0,
             0,
             0,
             0,
             1,
             0,
             0,
             0,
             0,
             1,
             0,
             0,
             0,
             0,
             1
            ]
           },
           "metalness": 0,
           "multipleBond": "off",
           "opacity": 1,
           "openEnded": true,
           "quality": "high",
           "radialSegments": 20,
           "radiusData": {},
           "radiusScale": 2,
           "radiusSize": 0.15,
           "radiusType": "size",
           "roughness": 0.4,
           "sele": "",
           "side": "double",
           "sphereDetail": 2,
           "useInteriorColor": true,
           "useWorker": true,
           "visible": true,
           "wireframe": false
          },
          "type": "ball+stick"
         }
        }
       },
       "_ngl_serialize": false,
       "_ngl_version": "2.0.0-dev.36",
       "_ngl_view_id": [
        "7FF2A2CA-93F5-46C6-9F21-0F959188290B",
        "F1FAC065-CE51-4D6C-BE91-CE5D710C5F16"
       ],
       "_player_dict": {},
       "_scene_position": {},
       "_scene_rotation": {},
       "_synced_model_ids": [],
       "_synced_repr_model_ids": [],
       "_view_height": "",
       "_view_width": "",
       "background": "white",
       "frame": 0,
       "gui_style": null,
       "layout": "IPY_MODEL_82a9c891384f46b9abb664889917e814",
       "max_frame": 0,
       "n_components": 1,
       "picked": {}
      }
     },
     "3036f04a9f9a4affadc246c49078cf89": {
      "model_module": "@jupyter-widgets/controls",
      "model_module_version": "1.5.0",
      "model_name": "HBoxModel",
      "state": {
       "children": [
        "IPY_MODEL_c90f793db607407cadff26df22cd6464",
        "IPY_MODEL_78511851e6294753b3c8e803ae7961fe"
       ],
       "layout": "IPY_MODEL_c85497b18cb942798e5772e3f3b2d415"
      }
     },
     "30b6902de7214ee587dbc06c6ade7b6b": {
      "model_module": "@jupyter-widgets/controls",
      "model_module_version": "1.5.0",
      "model_name": "DescriptionStyleModel",
      "state": {
       "description_width": ""
      }
     },
     "314cf0c665e94c7493f71bf9a62162a9": {
      "model_module": "@jupyter-widgets/controls",
      "model_module_version": "1.5.0",
      "model_name": "IntSliderModel",
      "state": {
       "layout": "IPY_MODEL_574e4d36124e447b8ea557eca38fdbe7",
       "max": 0,
       "style": "IPY_MODEL_a31635aa38254d78b6dc7f715ec3b102"
      }
     },
     "31a9e7bd81bb4cfb92037d5e96f7f5b9": {
      "model_module": "@jupyter-widgets/controls",
      "model_module_version": "1.5.0",
      "model_name": "LinkModel",
      "state": {
       "source": [
        "IPY_MODEL_ece1cabd3226420281c93b3441166c3e",
        "value"
       ],
       "target": [
        "IPY_MODEL_0e83dba5989745018f1a4571b373ec18",
        "frame"
       ]
      }
     },
     "3206818cec154b958ca8fd776e5a8da4": {
      "model_module": "@jupyter-widgets/base",
      "model_module_version": "1.2.0",
      "model_name": "LayoutModel",
      "state": {}
     },
     "33024b25888c4910895be0e9e2c0ed71": {
      "model_module": "@jupyter-widgets/controls",
      "model_module_version": "1.5.0",
      "model_name": "ButtonStyleModel",
      "state": {}
     },
     "338f3c248eda4b17b2f174198dc08bd2": {
      "model_module": "@jupyter-widgets/controls",
      "model_module_version": "1.5.0",
      "model_name": "DescriptionStyleModel",
      "state": {
       "description_width": ""
      }
     },
     "34ccaa8c0b034bf5b81453aba262a374": {
      "model_module": "@jupyter-widgets/controls",
      "model_module_version": "1.5.0",
      "model_name": "LinkModel",
      "state": {
       "source": [
        "IPY_MODEL_486bd710653e4295bdab5df2a3e9ab21",
        "max"
       ],
       "target": [
        "IPY_MODEL_63587680963b44339c1f746f2e7b9709",
        "max_frame"
       ]
      }
     },
     "357723736cd54a9da3b4beb3998c16d5": {
      "model_module": "@jupyter-widgets/controls",
      "model_module_version": "1.5.0",
      "model_name": "ImageModel",
      "state": {
       "layout": "IPY_MODEL_c132d9db764946a8941513db5c06cdfb",
       "width": "900.0"
      }
     },
     "36cf778e677c4ced833739b65587fb31": {
      "model_module": "nglview-js-widgets",
      "model_module_version": "3.0.1",
      "model_name": "NGLModel",
      "state": {
       "_camera_orientation": [
        28.922383394970794,
        0,
        0,
        0,
        0,
        28.922383394970794,
        0,
        0,
        0,
        0,
        28.922383394970794,
        0,
        -5.4539502412080765,
        0.6496000289916992,
        1.7701501250267029,
        1
       ],
       "_camera_str": "orthographic",
       "_gui_theme": null,
       "_ibtn_fullscreen": "IPY_MODEL_e6baec29e27643b4a4ba3a88a4b2c8d4",
       "_igui": null,
       "_iplayer": "IPY_MODEL_5447698441c6449e9fe23f02ac202794",
       "_ngl_color_dict": {},
       "_ngl_coordinate_resource": {},
       "_ngl_full_stage_parameters": {
        "ambientColor": 14540253,
        "ambientIntensity": 0.2,
        "backgroundColor": "white",
        "cameraEyeSep": 0.3,
        "cameraFov": 40,
        "cameraType": "perspective",
        "clipDist": 10,
        "clipFar": 100,
        "clipNear": 0,
        "fogFar": 100,
        "fogNear": 50,
        "hoverTimeout": 0,
        "impostor": true,
        "lightColor": 14540253,
        "lightIntensity": 1,
        "mousePreset": "default",
        "panSpeed": 1,
        "quality": "medium",
        "rotateSpeed": 2,
        "sampleLevel": 0,
        "tooltip": true,
        "workerDefault": true,
        "zoomSpeed": 1.2
       },
       "_ngl_msg_archive": [
        {
         "args": [
          {
           "binary": false,
           "data": "\nQCElemental\n\n 33 33  0  0  0  0  0  0  0  0  0\n    2.8422   -0.8136   -3.7072  C  0  0     0  0  0  0  0  0\n    2.4311   -0.1010   -2.4162  C  0  0     0  0  0  0  0  0\n    0.9054   -0.0850   -2.2961  C  0  0     0  0  0  0  0  0\n    3.0575   -0.7635   -1.1719  C  0  0     0  0  0  0  0  0\n    4.5692   -0.7039   -1.1355  C  0  0     0  0  0  0  0  0\n    5.2402    0.5245   -1.1600  C  0  0     0  0  0  0  0  0\n    6.6359    0.5761   -1.1354  C  0  0     0  0  0  0  0  0\n    7.3956   -0.6011   -1.0697  C  0  0     0  0  0  0  0  0\n    6.7213   -1.8292   -1.0119  C  0  0     0  0  0  0  0  0\n    5.3245   -1.8798   -1.0520  C  0  0     0  0  0  0  0  0\n    8.9117   -0.5092   -0.9955  C  0  0     0  0  0  0  0  0\n    9.3638   -0.4166    0.4625  C  0  0     0  0  0  0  0  0\n    9.6383   -1.6350   -1.7245  C  0  0     0  0  0  0  0  0\n   10.4489   -2.3957   -1.2178  O  0  0     0  0  0  0  0  0\n    9.3300   -1.7066   -3.0462  O  0  0     0  0  0  0  0  0\n    2.3926   -0.3243   -4.5774  H  0  0     0  0  0  0  0  0\n    2.5195   -1.8602   -3.7034  H  0  0     0  0  0  0  0  0\n    3.9280   -0.7930   -3.8472  H  0  0     0  0  0  0  0  0\n    2.7642    0.9417   -2.4848  H  0  0     0  0  0  0  0  0\n    0.4990   -1.0997   -2.2264  H  0  0     0  0  0  0  0  0\n    0.4532    0.4015   -3.1672  H  0  0     0  0  0  0  0  0\n    0.5909    0.4695   -1.4057  H  0  0     0  0  0  0  0  0\n    2.7247   -1.8080   -1.1116  H  0  0     0  0  0  0  0  0\n    2.6839   -0.2751   -0.2622  H  0  0     0  0  0  0  0  0\n    4.6785    1.4560   -1.1941  H  0  0     0  0  0  0  0  0\n    7.1225    1.5493   -1.1481  H  0  0     0  0  0  0  0  0\n    7.2712   -2.7657   -0.9268  H  0  0     0  0  0  0  0  0\n    4.8312   -2.8485   -1.0111  H  0  0     0  0  0  0  0  0\n    9.2375    0.4116   -1.4993  H  0  0     0  0  0  0  0  0\n    9.0525   -1.2969    1.0371  H  0  0     0  0  0  0  0  0\n    8.9397    0.4679    0.9497  H  0  0     0  0  0  0  0  0\n   10.4547   -0.3443    0.5311  H  0  0     0  0  0  0  0  0\n    8.6399   -1.0678   -3.3157  H  0  0     0  0  0  0  0  0\n  1  2  1  0  0  0  0\n  1 16  1  0  0  0  0\n  1 17  1  0  0  0  0\n  1 18  1  0  0  0  0\n  2  3  1  0  0  0  0\n  2  4  1  0  0  0  0\n  2 19  1  0  0  0  0\n  3 20  1  0  0  0  0\n  3 21  1  0  0  0  0\n  3 22  1  0  0  0  0\n  4  5  1  0  0  0  0\n  4 23  1  0  0  0  0\n  4 24  1  0  0  0  0\n  5  6  1  0  0  0  0\n  5 10  1  0  0  0  0\n  6  7  1  0  0  0  0\n  6 25  1  0  0  0  0\n  7  8  1  0  0  0  0\n  7 26  1  0  0  0  0\n  8  9  1  0  0  0  0\n  8 11  1  0  0  0  0\n  9 10  1  0  0  0  0\n  9 27  1  0  0  0  0\n 10 28  1  0  0  0  0\n 11 12  1  0  0  0  0\n 11 13  1  0  0  0  0\n 11 29  1  0  0  0  0\n 12 30  1  0  0  0  0\n 12 31  1  0  0  0  0\n 12 32  1  0  0  0  0\n 13 14  1  0  0  0  0\n 13 15  1  0  0  0  0\n 15 33  1  0  0  0  0\n",
           "type": "blob"
          }
         ],
         "kwargs": {
          "defaultRepresentation": true,
          "ext": "sdf"
         },
         "methodName": "loadFile",
         "reconstruc_color_scheme": false,
         "target": "Stage",
         "type": "call_method"
        }
       ],
       "_ngl_original_stage_parameters": {
        "ambientColor": 14540253,
        "ambientIntensity": 0.2,
        "backgroundColor": "white",
        "cameraEyeSep": 0.3,
        "cameraFov": 40,
        "cameraType": "perspective",
        "clipDist": 10,
        "clipFar": 100,
        "clipNear": 0,
        "fogFar": 100,
        "fogNear": 50,
        "hoverTimeout": 0,
        "impostor": true,
        "lightColor": 14540253,
        "lightIntensity": 1,
        "mousePreset": "default",
        "panSpeed": 1,
        "quality": "medium",
        "rotateSpeed": 2,
        "sampleLevel": 0,
        "tooltip": true,
        "workerDefault": true,
        "zoomSpeed": 1.2
       },
       "_ngl_repr_dict": {
        "0": {
         "0": {
          "params": {
           "aspectRatio": 1.5,
           "assembly": "default",
           "bondScale": 0.3,
           "bondSpacing": 0.75,
           "clipCenter": {
            "x": 0,
            "y": 0,
            "z": 0
           },
           "clipNear": 0,
           "clipRadius": 0,
           "colorMode": "hcl",
           "colorReverse": false,
           "colorScale": "",
           "colorScheme": "element",
           "colorValue": 9474192,
           "cylinderOnly": false,
           "defaultAssembly": "",
           "depthWrite": true,
           "diffuse": 16777215,
           "diffuseInterior": false,
           "disableImpostor": false,
           "disablePicking": false,
           "flatShaded": false,
           "interiorColor": 2236962,
           "interiorDarkening": 0,
           "lazy": false,
           "lineOnly": false,
           "linewidth": 2,
           "matrix": {
            "elements": [
             1,
             0,
             0,
             0,
             0,
             1,
             0,
             0,
             0,
             0,
             1,
             0,
             0,
             0,
             0,
             1
            ]
           },
           "metalness": 0,
           "multipleBond": "off",
           "opacity": 1,
           "openEnded": true,
           "quality": "high",
           "radialSegments": 20,
           "radiusData": {},
           "radiusScale": 2,
           "radiusSize": 0.15,
           "radiusType": "size",
           "roughness": 0.4,
           "sele": "",
           "side": "double",
           "sphereDetail": 2,
           "useInteriorColor": true,
           "visible": true,
           "wireframe": false
          },
          "type": "ball+stick"
         }
        }
       },
       "_ngl_serialize": false,
       "_ngl_version": "2.0.0-dev.36",
       "_ngl_view_id": [
        "B4A04CFD-6918-4AEC-8D53-81BF3D19FB9F"
       ],
       "_player_dict": {},
       "_scene_position": {},
       "_scene_rotation": {},
       "_synced_model_ids": [],
       "_synced_repr_model_ids": [],
       "_view_height": "",
       "_view_width": "",
       "background": "white",
       "frame": 0,
       "gui_style": null,
       "layout": "IPY_MODEL_82f6ba3901fe4171942b2b8a8c3402a4",
       "max_frame": 0,
       "n_components": 1,
       "picked": {}
      }
     },
     "36d3f9935f0d4215a9f24bcd65ed63bb": {
      "model_module": "@jupyter-widgets/base",
      "model_module_version": "1.2.0",
      "model_name": "LayoutModel",
      "state": {}
     },
     "373505c5e8de49088b4eea400a99b2d5": {
      "model_module": "@jupyter-widgets/controls",
      "model_module_version": "1.5.0",
      "model_name": "LinkModel",
      "state": {
       "source": [
        "IPY_MODEL_b16698703e01410a987ec918663f74f0",
        "max"
       ],
       "target": [
        "IPY_MODEL_fbab9dfdeb0949c7aeeebe6e9f9996a8",
        "max_frame"
       ]
      }
     },
     "374f6e4d1ed648bd9157d9fce810ab97": {
      "model_module": "nglview-js-widgets",
      "model_module_version": "3.0.1",
      "model_name": "NGLModel",
      "state": {
       "_camera_orientation": [
        27.69016129972202,
        0,
        0,
        0,
        0,
        27.69016129972202,
        0,
        0,
        0,
        0,
        27.69016129972202,
        0,
        -5.4539502412080765,
        0.6496000289916992,
        1.7701501250267029,
        1
       ],
       "_camera_str": "orthographic",
       "_gui_theme": null,
       "_ibtn_fullscreen": "IPY_MODEL_55bba51ee0e440b88cab450586537b1a",
       "_igui": null,
       "_iplayer": "IPY_MODEL_023ec61e8e464d8bbc37a547fd26bce0",
       "_ngl_color_dict": {},
       "_ngl_coordinate_resource": {},
       "_ngl_full_stage_parameters": {
        "ambientColor": 14540253,
        "ambientIntensity": 0.2,
        "backgroundColor": "white",
        "cameraEyeSep": 0.3,
        "cameraFov": 40,
        "cameraType": "perspective",
        "clipDist": 10,
        "clipFar": 100,
        "clipNear": 0,
        "fogFar": 100,
        "fogNear": 50,
        "hoverTimeout": 0,
        "impostor": true,
        "lightColor": 14540253,
        "lightIntensity": 1,
        "mousePreset": "default",
        "panSpeed": 1,
        "quality": "medium",
        "rotateSpeed": 2,
        "sampleLevel": 0,
        "tooltip": true,
        "workerDefault": true,
        "zoomSpeed": 1.2
       },
       "_ngl_msg_archive": [
        {
         "args": [
          {
           "binary": false,
           "data": "\nQCElemental\n\n 33 33  0  0  0  0  0  0  0  0  0\n    2.8422   -0.8136   -3.7072  C  0  0     0  0  0  0  0  0\n    2.4311   -0.1010   -2.4162  C  0  0     0  0  0  0  0  0\n    0.9054   -0.0850   -2.2961  C  0  0     0  0  0  0  0  0\n    3.0575   -0.7635   -1.1719  C  0  0     0  0  0  0  0  0\n    4.5692   -0.7039   -1.1355  C  0  0     0  0  0  0  0  0\n    5.2402    0.5245   -1.1600  C  0  0     0  0  0  0  0  0\n    6.6359    0.5761   -1.1354  C  0  0     0  0  0  0  0  0\n    7.3956   -0.6011   -1.0697  C  0  0     0  0  0  0  0  0\n    6.7213   -1.8292   -1.0119  C  0  0     0  0  0  0  0  0\n    5.3245   -1.8798   -1.0520  C  0  0     0  0  0  0  0  0\n    8.9117   -0.5092   -0.9955  C  0  0     0  0  0  0  0  0\n    9.3638   -0.4166    0.4625  C  0  0     0  0  0  0  0  0\n    9.6383   -1.6350   -1.7245  C  0  0     0  0  0  0  0  0\n   10.4489   -2.3957   -1.2178  O  0  0     0  0  0  0  0  0\n    9.3300   -1.7066   -3.0462  O  0  0     0  0  0  0  0  0\n    2.3926   -0.3243   -4.5774  H  0  0     0  0  0  0  0  0\n    2.5195   -1.8602   -3.7034  H  0  0     0  0  0  0  0  0\n    3.9280   -0.7930   -3.8472  H  0  0     0  0  0  0  0  0\n    2.7642    0.9417   -2.4848  H  0  0     0  0  0  0  0  0\n    0.4990   -1.0997   -2.2264  H  0  0     0  0  0  0  0  0\n    0.4532    0.4015   -3.1672  H  0  0     0  0  0  0  0  0\n    0.5909    0.4695   -1.4057  H  0  0     0  0  0  0  0  0\n    2.7247   -1.8080   -1.1116  H  0  0     0  0  0  0  0  0\n    2.6839   -0.2751   -0.2622  H  0  0     0  0  0  0  0  0\n    4.6785    1.4560   -1.1941  H  0  0     0  0  0  0  0  0\n    7.1225    1.5493   -1.1481  H  0  0     0  0  0  0  0  0\n    7.2712   -2.7657   -0.9268  H  0  0     0  0  0  0  0  0\n    4.8312   -2.8485   -1.0111  H  0  0     0  0  0  0  0  0\n    9.2375    0.4116   -1.4993  H  0  0     0  0  0  0  0  0\n    9.0525   -1.2969    1.0371  H  0  0     0  0  0  0  0  0\n    8.9397    0.4679    0.9497  H  0  0     0  0  0  0  0  0\n   10.4547   -0.3443    0.5311  H  0  0     0  0  0  0  0  0\n    8.6399   -1.0678   -3.3157  H  0  0     0  0  0  0  0  0\n  1  2  1  0  0  0  0\n  1 16  1  0  0  0  0\n  1 17  1  0  0  0  0\n  1 18  1  0  0  0  0\n  2  3  1  0  0  0  0\n  2  4  1  0  0  0  0\n  2 19  1  0  0  0  0\n  3 20  1  0  0  0  0\n  3 21  1  0  0  0  0\n  3 22  1  0  0  0  0\n  4  5  1  0  0  0  0\n  4 23  1  0  0  0  0\n  4 24  1  0  0  0  0\n  5  6  1  0  0  0  0\n  5 10  1  0  0  0  0\n  6  7  1  0  0  0  0\n  6 25  1  0  0  0  0\n  7  8  1  0  0  0  0\n  7 26  1  0  0  0  0\n  8  9  1  0  0  0  0\n  8 11  1  0  0  0  0\n  9 10  1  0  0  0  0\n  9 27  1  0  0  0  0\n 10 28  1  0  0  0  0\n 11 12  1  0  0  0  0\n 11 13  1  0  0  0  0\n 11 29  1  0  0  0  0\n 12 30  1  0  0  0  0\n 12 31  1  0  0  0  0\n 12 32  1  0  0  0  0\n 13 14  1  0  0  0  0\n 13 15  1  0  0  0  0\n 15 33  1  0  0  0  0\n",
           "type": "blob"
          }
         ],
         "kwargs": {
          "defaultRepresentation": false,
          "ext": "sdf"
         },
         "methodName": "loadFile",
         "reconstruc_color_scheme": false,
         "target": "Stage",
         "type": "call_method"
        }
       ],
       "_ngl_original_stage_parameters": {
        "ambientColor": 14540253,
        "ambientIntensity": 0.2,
        "backgroundColor": "white",
        "cameraEyeSep": 0.3,
        "cameraFov": 40,
        "cameraType": "perspective",
        "clipDist": 10,
        "clipFar": 100,
        "clipNear": 0,
        "fogFar": 100,
        "fogNear": 50,
        "hoverTimeout": 0,
        "impostor": true,
        "lightColor": 14540253,
        "lightIntensity": 1,
        "mousePreset": "default",
        "panSpeed": 1,
        "quality": "medium",
        "rotateSpeed": 2,
        "sampleLevel": 0,
        "tooltip": true,
        "workerDefault": true,
        "zoomSpeed": 1.2
       },
       "_ngl_repr_dict": {
        "0": {
         "0": {
          "params": {
           "aspectRatio": 1.5,
           "assembly": "default",
           "bondScale": 0.3,
           "bondSpacing": 0.75,
           "clipCenter": {
            "x": 0,
            "y": 0,
            "z": 0
           },
           "clipNear": 0,
           "clipRadius": 0,
           "colorMode": "hcl",
           "colorReverse": false,
           "colorScale": "",
           "colorScheme": "element",
           "colorValue": 9474192,
           "cylinderOnly": false,
           "defaultAssembly": "",
           "depthWrite": true,
           "diffuse": 16777215,
           "diffuseInterior": false,
           "disableImpostor": false,
           "disablePicking": false,
           "flatShaded": false,
           "interiorColor": 2236962,
           "interiorDarkening": 0,
           "lazy": false,
           "lineOnly": false,
           "linewidth": 2,
           "matrix": {
            "elements": [
             1,
             0,
             0,
             0,
             0,
             1,
             0,
             0,
             0,
             0,
             1,
             0,
             0,
             0,
             0,
             1
            ]
           },
           "metalness": 0,
           "multipleBond": "off",
           "opacity": 1,
           "openEnded": true,
           "quality": "high",
           "radialSegments": 20,
           "radiusData": {},
           "radiusScale": 2,
           "radiusSize": 0.15,
           "radiusType": "size",
           "roughness": 0.4,
           "sele": "",
           "side": "double",
           "sphereDetail": 2,
           "useInteriorColor": true,
           "useWorker": true,
           "visible": true,
           "wireframe": false
          },
          "type": "ball+stick"
         }
        }
       },
       "_ngl_serialize": false,
       "_ngl_version": "2.0.0-dev.36",
       "_ngl_view_id": [
        "A0B24FA7-D7CA-42A9-BC7B-39025CC7AC6B",
        "7743411E-65E1-4F03-93C6-1088F7DF0384"
       ],
       "_player_dict": {},
       "_scene_position": {},
       "_scene_rotation": {},
       "_synced_model_ids": [],
       "_synced_repr_model_ids": [],
       "_view_height": "",
       "_view_width": "",
       "background": "white",
       "frame": 0,
       "gui_style": null,
       "layout": "IPY_MODEL_eff2d06161384738b11535918d82a4b8",
       "max_frame": 0,
       "n_components": 1,
       "picked": {}
      }
     },
     "377861384c3448be987b8e5a3a1d4a8c": {
      "model_module": "@jupyter-widgets/controls",
      "model_module_version": "1.5.0",
      "model_name": "HBoxModel",
      "state": {
       "children": [
        "IPY_MODEL_8ad03c0318064365b139b13518e6db0b",
        "IPY_MODEL_c0f73d7881014d92bfebd00deb96713d"
       ],
       "layout": "IPY_MODEL_afde7f14ae5c4ae88de7558ca842a69c"
      }
     },
     "379226cc3a4d4db9b3e2f5754f2b2ea0": {
      "model_module": "@jupyter-widgets/base",
      "model_module_version": "1.2.0",
      "model_name": "LayoutModel",
      "state": {}
     },
     "37b3c7d31d874aa8bdd4719abadc6409": {
      "model_module": "@jupyter-widgets/controls",
      "model_module_version": "1.5.0",
      "model_name": "LinkModel",
      "state": {
       "source": [
        "IPY_MODEL_8ad03c0318064365b139b13518e6db0b",
        "value"
       ],
       "target": [
        "IPY_MODEL_f7496b2f05204a84aeede95d65b0cf1b",
        "frame"
       ]
      }
     },
     "37ceff9e6b1b48d187aee4e025f79e12": {
      "model_module": "nglview-js-widgets",
      "model_module_version": "3.0.1",
      "model_name": "NGLModel",
      "state": {
       "_camera_orientation": [
        27.69016129972202,
        0,
        0,
        0,
        0,
        27.69016129972202,
        0,
        0,
        0,
        0,
        27.69016129972202,
        0,
        -5.4539502412080765,
        0.6496000289916992,
        1.7701501250267029,
        1
       ],
       "_camera_str": "orthographic",
       "_gui_theme": null,
       "_ibtn_fullscreen": "IPY_MODEL_e7bead4ed7b74663a8536a3fb294a598",
       "_igui": null,
       "_iplayer": "IPY_MODEL_839c0017e6fb4643b041af53d1b12260",
       "_ngl_color_dict": {},
       "_ngl_coordinate_resource": {},
       "_ngl_full_stage_parameters": {
        "ambientColor": 14540253,
        "ambientIntensity": 0.2,
        "backgroundColor": "white",
        "cameraEyeSep": 0.3,
        "cameraFov": 40,
        "cameraType": "perspective",
        "clipDist": 10,
        "clipFar": 100,
        "clipNear": 0,
        "fogFar": 100,
        "fogNear": 50,
        "hoverTimeout": 0,
        "impostor": true,
        "lightColor": 14540253,
        "lightIntensity": 1,
        "mousePreset": "default",
        "panSpeed": 1,
        "quality": "medium",
        "rotateSpeed": 2,
        "sampleLevel": 0,
        "tooltip": true,
        "workerDefault": true,
        "zoomSpeed": 1.2
       },
       "_ngl_msg_archive": [
        {
         "args": [
          {
           "binary": false,
           "data": "\nQCElemental\n\n 33 33  0  0  0  0  0  0  0  0  0\n    2.8422   -0.8136   -3.7072  C  0  0     0  0  0  0  0  0\n    2.4311   -0.1010   -2.4162  C  0  0     0  0  0  0  0  0\n    0.9054   -0.0850   -2.2961  C  0  0     0  0  0  0  0  0\n    3.0575   -0.7635   -1.1719  C  0  0     0  0  0  0  0  0\n    4.5692   -0.7039   -1.1355  C  0  0     0  0  0  0  0  0\n    5.2402    0.5245   -1.1600  C  0  0     0  0  0  0  0  0\n    6.6359    0.5761   -1.1354  C  0  0     0  0  0  0  0  0\n    7.3956   -0.6011   -1.0697  C  0  0     0  0  0  0  0  0\n    6.7213   -1.8292   -1.0119  C  0  0     0  0  0  0  0  0\n    5.3245   -1.8798   -1.0520  C  0  0     0  0  0  0  0  0\n    8.9117   -0.5092   -0.9955  C  0  0     0  0  0  0  0  0\n    9.3638   -0.4166    0.4625  C  0  0     0  0  0  0  0  0\n    9.6383   -1.6350   -1.7245  C  0  0     0  0  0  0  0  0\n   10.4489   -2.3957   -1.2178  O  0  0     0  0  0  0  0  0\n    9.3300   -1.7066   -3.0462  O  0  0     0  0  0  0  0  0\n    2.3926   -0.3243   -4.5774  H  0  0     0  0  0  0  0  0\n    2.5195   -1.8602   -3.7034  H  0  0     0  0  0  0  0  0\n    3.9280   -0.7930   -3.8472  H  0  0     0  0  0  0  0  0\n    2.7642    0.9417   -2.4848  H  0  0     0  0  0  0  0  0\n    0.4990   -1.0997   -2.2264  H  0  0     0  0  0  0  0  0\n    0.4532    0.4015   -3.1672  H  0  0     0  0  0  0  0  0\n    0.5909    0.4695   -1.4057  H  0  0     0  0  0  0  0  0\n    2.7247   -1.8080   -1.1116  H  0  0     0  0  0  0  0  0\n    2.6839   -0.2751   -0.2622  H  0  0     0  0  0  0  0  0\n    4.6785    1.4560   -1.1941  H  0  0     0  0  0  0  0  0\n    7.1225    1.5493   -1.1481  H  0  0     0  0  0  0  0  0\n    7.2712   -2.7657   -0.9268  H  0  0     0  0  0  0  0  0\n    4.8312   -2.8485   -1.0111  H  0  0     0  0  0  0  0  0\n    9.2375    0.4116   -1.4993  H  0  0     0  0  0  0  0  0\n    9.0525   -1.2969    1.0371  H  0  0     0  0  0  0  0  0\n    8.9397    0.4679    0.9497  H  0  0     0  0  0  0  0  0\n   10.4547   -0.3443    0.5311  H  0  0     0  0  0  0  0  0\n    8.6399   -1.0678   -3.3157  H  0  0     0  0  0  0  0  0\n  1  2  1  0  0  0  0\n  1 16  1  0  0  0  0\n  1 17  1  0  0  0  0\n  1 18  1  0  0  0  0\n  2  3  1  0  0  0  0\n  2  4  1  0  0  0  0\n  2 19  1  0  0  0  0\n  3 20  1  0  0  0  0\n  3 21  1  0  0  0  0\n  3 22  1  0  0  0  0\n  4  5  1  0  0  0  0\n  4 23  1  0  0  0  0\n  4 24  1  0  0  0  0\n  5  6  1  0  0  0  0\n  5 10  1  0  0  0  0\n  6  7  1  0  0  0  0\n  6 25  1  0  0  0  0\n  7  8  1  0  0  0  0\n  7 26  1  0  0  0  0\n  8  9  1  0  0  0  0\n  8 11  1  0  0  0  0\n  9 10  1  0  0  0  0\n  9 27  1  0  0  0  0\n 10 28  1  0  0  0  0\n 11 12  1  0  0  0  0\n 11 13  1  0  0  0  0\n 11 29  1  0  0  0  0\n 12 30  1  0  0  0  0\n 12 31  1  0  0  0  0\n 12 32  1  0  0  0  0\n 13 14  1  0  0  0  0\n 13 15  1  0  0  0  0\n 15 33  1  0  0  0  0\n",
           "type": "blob"
          }
         ],
         "kwargs": {
          "defaultRepresentation": false,
          "ext": "sdf"
         },
         "methodName": "loadFile",
         "reconstruc_color_scheme": false,
         "target": "Stage",
         "type": "call_method"
        }
       ],
       "_ngl_original_stage_parameters": {
        "ambientColor": 14540253,
        "ambientIntensity": 0.2,
        "backgroundColor": "white",
        "cameraEyeSep": 0.3,
        "cameraFov": 40,
        "cameraType": "perspective",
        "clipDist": 10,
        "clipFar": 100,
        "clipNear": 0,
        "fogFar": 100,
        "fogNear": 50,
        "hoverTimeout": 0,
        "impostor": true,
        "lightColor": 14540253,
        "lightIntensity": 1,
        "mousePreset": "default",
        "panSpeed": 1,
        "quality": "medium",
        "rotateSpeed": 2,
        "sampleLevel": 0,
        "tooltip": true,
        "workerDefault": true,
        "zoomSpeed": 1.2
       },
       "_ngl_repr_dict": {
        "0": {
         "0": {
          "params": {
           "aspectRatio": 1.5,
           "assembly": "default",
           "bondScale": 0.3,
           "bondSpacing": 0.75,
           "clipCenter": {
            "x": 0,
            "y": 0,
            "z": 0
           },
           "clipNear": 0,
           "clipRadius": 0,
           "colorMode": "hcl",
           "colorReverse": false,
           "colorScale": "",
           "colorScheme": "element",
           "colorValue": 9474192,
           "cylinderOnly": false,
           "defaultAssembly": "",
           "depthWrite": true,
           "diffuse": 16777215,
           "diffuseInterior": false,
           "disableImpostor": false,
           "disablePicking": false,
           "flatShaded": false,
           "interiorColor": 2236962,
           "interiorDarkening": 0,
           "lazy": false,
           "lineOnly": false,
           "linewidth": 2,
           "matrix": {
            "elements": [
             1,
             0,
             0,
             0,
             0,
             1,
             0,
             0,
             0,
             0,
             1,
             0,
             0,
             0,
             0,
             1
            ]
           },
           "metalness": 0,
           "multipleBond": "off",
           "opacity": 1,
           "openEnded": true,
           "quality": "high",
           "radialSegments": 20,
           "radiusData": {},
           "radiusScale": 2,
           "radiusSize": 0.15,
           "radiusType": "size",
           "roughness": 0.4,
           "sele": "",
           "side": "double",
           "sphereDetail": 2,
           "useInteriorColor": true,
           "useWorker": true,
           "visible": true,
           "wireframe": false
          },
          "type": "ball+stick"
         }
        }
       },
       "_ngl_serialize": false,
       "_ngl_version": "2.0.0-dev.36",
       "_ngl_view_id": [
        "AAA4C2B7-AADC-43DC-8676-53333500F9D2",
        "A1966E52-9C24-477E-B365-9EE2D00C47AE"
       ],
       "_player_dict": {},
       "_scene_position": {},
       "_scene_rotation": {},
       "_synced_model_ids": [],
       "_synced_repr_model_ids": [],
       "_view_height": "",
       "_view_width": "",
       "background": "white",
       "frame": 0,
       "gui_style": null,
       "layout": "IPY_MODEL_a660989b9536424889cf8132ee274299",
       "max_frame": 0,
       "n_components": 1,
       "picked": {}
      }
     },
     "38c4e1064cf84139b778fc6a9ac074ac": {
      "model_module": "@jupyter-widgets/base",
      "model_module_version": "1.2.0",
      "model_name": "LayoutModel",
      "state": {}
     },
     "3a3fcb57f79f47f69e76bc2e1b043da7": {
      "model_module": "@jupyter-widgets/base",
      "model_module_version": "1.2.0",
      "model_name": "LayoutModel",
      "state": {}
     },
     "3a4466bb57aa4d7eaa0a852eeb328cc7": {
      "model_module": "@jupyter-widgets/base",
      "model_module_version": "1.2.0",
      "model_name": "LayoutModel",
      "state": {}
     },
     "3a8693372db34708a6f9ded0b23732c5": {
      "model_module": "@jupyter-widgets/base",
      "model_module_version": "1.2.0",
      "model_name": "LayoutModel",
      "state": {}
     },
     "3c1f8af97cbf451b8a181b7a668275e4": {
      "model_module": "@jupyter-widgets/controls",
      "model_module_version": "1.5.0",
      "model_name": "LinkModel",
      "state": {
       "source": [
        "IPY_MODEL_4583b596c88a43da9a860550ec63b44f",
        "value"
       ],
       "target": [
        "IPY_MODEL_4941e954ee9d44e0951003775b1ded4e",
        "frame"
       ]
      }
     },
     "3c28bbbcc52749648e3804efe9d86565": {
      "model_module": "@jupyter-widgets/controls",
      "model_module_version": "1.5.0",
      "model_name": "LinkModel",
      "state": {
       "source": [
        "IPY_MODEL_aa952ce970444abd8fe3f7aa83eb9bd8",
        "value"
       ],
       "target": [
        "IPY_MODEL_e18190f78b9a4a8e81bddf82c59422fc",
        "frame"
       ]
      }
     },
     "3ccd8d47d1264d5e913a5d348371297f": {
      "model_module": "@jupyter-widgets/base",
      "model_module_version": "1.2.0",
      "model_name": "LayoutModel",
      "state": {}
     },
     "3cf208fd9fac4bd9865212eb4f729fdf": {
      "model_module": "@jupyter-widgets/controls",
      "model_module_version": "1.5.0",
      "model_name": "HBoxModel",
      "state": {
       "children": [
        "IPY_MODEL_07aedd07c7c245179fdd7d925c84ea7d",
        "IPY_MODEL_ea813bb6cff54a11a8cb466d78bf854e"
       ],
       "layout": "IPY_MODEL_5a038e0784574f99989239415574efec"
      }
     },
     "3dc68bdbb4bd41dc82a2f9cee8f148f4": {
      "model_module": "@jupyter-widgets/base",
      "model_module_version": "1.2.0",
      "model_name": "LayoutModel",
      "state": {}
     },
     "3df118c4e37046818e02865fb33a3feb": {
      "model_module": "@jupyter-widgets/controls",
      "model_module_version": "1.5.0",
      "model_name": "LinkModel",
      "state": {
       "source": [
        "IPY_MODEL_07aedd07c7c245179fdd7d925c84ea7d",
        "value"
       ],
       "target": [
        "IPY_MODEL_fd3dcbf6110547619d9aec13f4df752a",
        "frame"
       ]
      }
     },
     "4017e488f01c4c8bb3f50e44c617358c": {
      "model_module": "@jupyter-widgets/controls",
      "model_module_version": "1.5.0",
      "model_name": "DescriptionStyleModel",
      "state": {
       "description_width": ""
      }
     },
     "40dce797f8a548178ad61f95c22e54eb": {
      "model_module": "@jupyter-widgets/base",
      "model_module_version": "1.2.0",
      "model_name": "LayoutModel",
      "state": {}
     },
     "4139a6dbbed84ab7b820118e5e0391ed": {
      "model_module": "@jupyter-widgets/base",
      "model_module_version": "1.2.0",
      "model_name": "LayoutModel",
      "state": {
       "width": "34px"
      }
     },
     "41c2387de1c34873934194325f5f613c": {
      "model_module": "@jupyter-widgets/controls",
      "model_module_version": "1.5.0",
      "model_name": "PlayModel",
      "state": {
       "layout": "IPY_MODEL_eb34c002a3c9422499864314b1a4bc5a",
       "max": 0,
       "style": "IPY_MODEL_4d5ec17537bc4403b65bcaa552ea53ed"
      }
     },
     "429402ad2bc34b4a936755ae21281a62": {
      "model_module": "@jupyter-widgets/controls",
      "model_module_version": "1.5.0",
      "model_name": "LinkModel",
      "state": {
       "source": [
        "IPY_MODEL_f994420cab974aea832e82fb222a840e",
        "max"
       ],
       "target": [
        "IPY_MODEL_2fdc88212cc44779a4609566056dfe22",
        "max_frame"
       ]
      }
     },
     "43d28e3ac652442aa15551381c4d4564": {
      "model_module": "@jupyter-widgets/controls",
      "model_module_version": "1.5.0",
      "model_name": "IntSliderModel",
      "state": {
       "layout": "IPY_MODEL_ec37f3a873134a718e529246bf082266",
       "max": 0,
       "style": "IPY_MODEL_f69640eea7ed4d57b4154c2cd2ccbb19"
      }
     },
     "4417dede616144dc9b3ea8ad27c94dd5": {
      "model_module": "@jupyter-widgets/controls",
      "model_module_version": "1.5.0",
      "model_name": "SliderStyleModel",
      "state": {
       "description_width": ""
      }
     },
     "44267ba6dc0545a18e71ea3f7633b281": {
      "model_module": "@jupyter-widgets/controls",
      "model_module_version": "1.5.0",
      "model_name": "LinkModel",
      "state": {
       "source": [
        "IPY_MODEL_4cb1397347a24e4fa6630a64d178ba88",
        "max"
       ],
       "target": [
        "IPY_MODEL_aae16018ff204bf2926d872d9206ca2b",
        "max_frame"
       ]
      }
     },
     "442eaa0017b44296bc57da6c677301eb": {
      "model_module": "@jupyter-widgets/controls",
      "model_module_version": "1.5.0",
      "model_name": "SliderStyleModel",
      "state": {
       "description_width": ""
      }
     },
     "44711a9acc724551b14b403e936e693a": {
      "model_module": "@jupyter-widgets/base",
      "model_module_version": "1.2.0",
      "model_name": "LayoutModel",
      "state": {}
     },
     "44a5a906fb7d4916a166482833206de4": {
      "model_module": "@jupyter-widgets/controls",
      "model_module_version": "1.5.0",
      "model_name": "LinkModel",
      "state": {
       "source": [
        "IPY_MODEL_8ad03c0318064365b139b13518e6db0b",
        "value"
       ],
       "target": [
        "IPY_MODEL_c0f73d7881014d92bfebd00deb96713d",
        "value"
       ]
      }
     },
     "44eda5f83f2b4f1d8dd6cbcffebb22e0": {
      "model_module": "@jupyter-widgets/base",
      "model_module_version": "1.2.0",
      "model_name": "LayoutModel",
      "state": {}
     },
     "450535c7e51243b585e0cdbe726c7a00": {
      "model_module": "@jupyter-widgets/base",
      "model_module_version": "1.2.0",
      "model_name": "LayoutModel",
      "state": {
       "width": "34px"
      }
     },
     "4550b1dfbbd14d6ab38d52d16504da2d": {
      "model_module": "@jupyter-widgets/controls",
      "model_module_version": "1.5.0",
      "model_name": "LinkModel",
      "state": {
       "source": [
        "IPY_MODEL_aa952ce970444abd8fe3f7aa83eb9bd8",
        "max"
       ],
       "target": [
        "IPY_MODEL_e18190f78b9a4a8e81bddf82c59422fc",
        "max_frame"
       ]
      }
     },
     "45582fa428764edc92cdc1571b7daad2": {
      "model_module": "@jupyter-widgets/controls",
      "model_module_version": "1.5.0",
      "model_name": "ButtonStyleModel",
      "state": {}
     },
     "4583b596c88a43da9a860550ec63b44f": {
      "model_module": "@jupyter-widgets/controls",
      "model_module_version": "1.5.0",
      "model_name": "PlayModel",
      "state": {
       "layout": "IPY_MODEL_25dcfbc1dcfe4092a2c64eae92c2afc8",
       "max": 0,
       "style": "IPY_MODEL_dbdb7ea5eec04a7db743442075a28a24"
      }
     },
     "45c8b6a44aec4f34a0dcdb51c3c0cef5": {
      "model_module": "@jupyter-widgets/base",
      "model_module_version": "1.2.0",
      "model_name": "LayoutModel",
      "state": {}
     },
     "462367fe51824346b103ed19372ea355": {
      "model_module": "@jupyter-widgets/controls",
      "model_module_version": "1.5.0",
      "model_name": "LinkModel",
      "state": {
       "source": [
        "IPY_MODEL_e226b70f458743aab25e1fe3f1c230aa",
        "value"
       ],
       "target": [
        "IPY_MODEL_fbab9dfdeb0949c7aeeebe6e9f9996a8",
        "frame"
       ]
      }
     },
     "46fe4e91227446a8a7bf9447ea16b6dc": {
      "model_module": "@jupyter-widgets/base",
      "model_module_version": "1.2.0",
      "model_name": "LayoutModel",
      "state": {}
     },
     "486bd710653e4295bdab5df2a3e9ab21": {
      "model_module": "@jupyter-widgets/controls",
      "model_module_version": "1.5.0",
      "model_name": "PlayModel",
      "state": {
       "layout": "IPY_MODEL_3a8693372db34708a6f9ded0b23732c5",
       "max": 0,
       "style": "IPY_MODEL_51bbd4cb0e3047e49c396cf61868aedf"
      }
     },
     "48f65d2cdf6e489488a04ccadc07551a": {
      "model_module": "@jupyter-widgets/base",
      "model_module_version": "1.2.0",
      "model_name": "LayoutModel",
      "state": {}
     },
     "4941e954ee9d44e0951003775b1ded4e": {
      "model_module": "nglview-js-widgets",
      "model_module_version": "3.0.1",
      "model_name": "NGLModel",
      "state": {
       "_camera_orientation": [
        27.69001440514524,
        0,
        0,
        0,
        0,
        27.69001440514524,
        0,
        0,
        0,
        0,
        27.69001440514524,
        0,
        0.7667999267578125,
        -0.19120001792907715,
        0.22374999523162842,
        1
       ],
       "_camera_str": "orthographic",
       "_gui_theme": null,
       "_ibtn_fullscreen": "IPY_MODEL_0e6cc4660ff041a58c7030ddc01f1be4",
       "_igui": null,
       "_iplayer": "IPY_MODEL_e2807ce2ce0547848ff6e4fc92b323ea",
       "_ngl_color_dict": {},
       "_ngl_coordinate_resource": {},
       "_ngl_full_stage_parameters": {
        "ambientColor": 14540253,
        "ambientIntensity": 0.2,
        "backgroundColor": "white",
        "cameraEyeSep": 0.3,
        "cameraFov": 40,
        "cameraType": "perspective",
        "clipDist": 10,
        "clipFar": 100,
        "clipNear": 0,
        "fogFar": 100,
        "fogNear": 50,
        "hoverTimeout": 0,
        "impostor": true,
        "lightColor": 14540253,
        "lightIntensity": 1,
        "mousePreset": "default",
        "panSpeed": 1,
        "quality": "medium",
        "rotateSpeed": 2,
        "sampleLevel": 0,
        "tooltip": true,
        "workerDefault": true,
        "zoomSpeed": 1.2
       },
       "_ngl_msg_archive": [
        {
         "args": [
          {
           "binary": false,
           "data": "\nQCElemental\n\n 33 33  0  0  0  0  0  0  0  0  0\n   -3.3785    0.0272   -2.1608  C  0  0     0  0  0  0  0  0\n   -3.7896    0.7398   -0.8698  C  0  0     0  0  0  0  0  0\n   -5.3154    0.7558   -0.7497  C  0  0     0  0  0  0  0  0\n   -3.1632    0.0773    0.3744  C  0  0     0  0  0  0  0  0\n   -1.6515    0.1369    0.4108  C  0  0     0  0  0  0  0  0\n   -0.9805    1.3653    0.3864  C  0  0     0  0  0  0  0  0\n    0.4152    1.4169    0.4110  C  0  0     0  0  0  0  0  0\n    1.1748    0.2397    0.4767  C  0  0     0  0  0  0  0  0\n    0.5006   -0.9884    0.5345  C  0  0     0  0  0  0  0  0\n   -0.8962   -1.0390    0.4944  C  0  0     0  0  0  0  0  0\n    2.6910    0.3316    0.5508  C  0  0     0  0  0  0  0  0\n    3.1431    0.4242    2.0089  C  0  0     0  0  0  0  0  0\n    3.4176   -0.7942   -0.1781  C  0  0     0  0  0  0  0  0\n    4.2282   -1.5549    0.3285  O  0  0     0  0  0  0  0  0\n    3.1093   -0.8658   -1.4998  O  0  0     0  0  0  0  0  0\n   -3.8281    0.5165   -3.0310  H  0  0     0  0  0  0  0  0\n   -3.7013   -1.0194   -2.1570  H  0  0     0  0  0  0  0  0\n   -2.2928    0.0479   -2.3008  H  0  0     0  0  0  0  0  0\n   -3.4565    1.7826   -0.9384  H  0  0     0  0  0  0  0  0\n   -5.7217   -0.2588   -0.6801  H  0  0     0  0  0  0  0  0\n   -5.7675    1.2423   -1.6208  H  0  0     0  0  0  0  0  0\n   -5.6298    1.3103    0.1407  H  0  0     0  0  0  0  0  0\n   -3.4960   -0.9672    0.4348  H  0  0     0  0  0  0  0  0\n   -3.5369    0.5657    1.2842  H  0  0     0  0  0  0  0  0\n   -1.5422    2.2968    0.3523  H  0  0     0  0  0  0  0  0\n    0.9018    2.3901    0.3983  H  0  0     0  0  0  0  0  0\n    1.0505   -1.9248    0.6196  H  0  0     0  0  0  0  0  0\n   -1.3895   -2.0077    0.5353  H  0  0     0  0  0  0  0  0\n    3.0167    1.2525    0.0471  H  0  0     0  0  0  0  0  0\n    2.8318   -0.4561    2.5835  H  0  0     0  0  0  0  0  0\n    2.7190    1.3087    2.4961  H  0  0     0  0  0  0  0  0\n    4.2339    0.4965    2.0775  H  0  0     0  0  0  0  0  0\n    2.4192   -0.2269   -1.7693  H  0  0     0  0  0  0  0  0\n  1  2  1  0  0  0  0\n  1 16  1  0  0  0  0\n  1 17  1  0  0  0  0\n  1 18  1  0  0  0  0\n  2  3  1  0  0  0  0\n  2  4  1  0  0  0  0\n  2 19  1  0  0  0  0\n  3 20  1  0  0  0  0\n  3 21  1  0  0  0  0\n  3 22  1  0  0  0  0\n  4  5  1  0  0  0  0\n  4 23  1  0  0  0  0\n  4 24  1  0  0  0  0\n  5  6  1  0  0  0  0\n  5 10  1  0  0  0  0\n  6  7  1  0  0  0  0\n  6 25  1  0  0  0  0\n  7  8  1  0  0  0  0\n  7 26  1  0  0  0  0\n  8  9  1  0  0  0  0\n  8 11  1  0  0  0  0\n  9 10  1  0  0  0  0\n  9 27  1  0  0  0  0\n 10 28  1  0  0  0  0\n 11 12  1  0  0  0  0\n 11 13  1  0  0  0  0\n 11 29  1  0  0  0  0\n 12 30  1  0  0  0  0\n 12 31  1  0  0  0  0\n 12 32  1  0  0  0  0\n 13 14  1  0  0  0  0\n 13 15  1  0  0  0  0\n 15 33  1  0  0  0  0\n",
           "type": "blob"
          }
         ],
         "kwargs": {
          "defaultRepresentation": false,
          "ext": "sdf"
         },
         "methodName": "loadFile",
         "reconstruc_color_scheme": false,
         "target": "Stage",
         "type": "call_method"
        }
       ],
       "_ngl_original_stage_parameters": {
        "ambientColor": 14540253,
        "ambientIntensity": 0.2,
        "backgroundColor": "white",
        "cameraEyeSep": 0.3,
        "cameraFov": 40,
        "cameraType": "perspective",
        "clipDist": 10,
        "clipFar": 100,
        "clipNear": 0,
        "fogFar": 100,
        "fogNear": 50,
        "hoverTimeout": 0,
        "impostor": true,
        "lightColor": 14540253,
        "lightIntensity": 1,
        "mousePreset": "default",
        "panSpeed": 1,
        "quality": "medium",
        "rotateSpeed": 2,
        "sampleLevel": 0,
        "tooltip": true,
        "workerDefault": true,
        "zoomSpeed": 1.2
       },
       "_ngl_repr_dict": {
        "0": {
         "0": {
          "params": {
           "aspectRatio": 1.5,
           "assembly": "default",
           "bondScale": 0.3,
           "bondSpacing": 0.75,
           "clipCenter": {
            "x": 0,
            "y": 0,
            "z": 0
           },
           "clipNear": 0,
           "clipRadius": 0,
           "colorMode": "hcl",
           "colorReverse": false,
           "colorScale": "",
           "colorScheme": "element",
           "colorValue": 9474192,
           "cylinderOnly": false,
           "defaultAssembly": "",
           "depthWrite": true,
           "diffuse": 16777215,
           "diffuseInterior": false,
           "disableImpostor": false,
           "disablePicking": false,
           "flatShaded": false,
           "interiorColor": 2236962,
           "interiorDarkening": 0,
           "lazy": false,
           "lineOnly": false,
           "linewidth": 2,
           "matrix": {
            "elements": [
             1,
             0,
             0,
             0,
             0,
             1,
             0,
             0,
             0,
             0,
             1,
             0,
             0,
             0,
             0,
             1
            ]
           },
           "metalness": 0,
           "multipleBond": "off",
           "opacity": 1,
           "openEnded": true,
           "quality": "high",
           "radialSegments": 20,
           "radiusData": {},
           "radiusScale": 2,
           "radiusSize": 0.15,
           "radiusType": "size",
           "roughness": 0.4,
           "sele": "",
           "side": "double",
           "sphereDetail": 2,
           "useInteriorColor": true,
           "useWorker": true,
           "visible": true,
           "wireframe": false
          },
          "type": "ball+stick"
         }
        }
       },
       "_ngl_serialize": false,
       "_ngl_version": "2.0.0-dev.36",
       "_ngl_view_id": [
        "19A1EF9A-C800-494F-8C5F-B8F5D4FE82BD",
        "2CE976AF-3AD2-4C6C-9146-EC292E283C4F"
       ],
       "_player_dict": {},
       "_scene_position": {},
       "_scene_rotation": {},
       "_synced_model_ids": [],
       "_synced_repr_model_ids": [],
       "_view_height": "",
       "_view_width": "",
       "background": "white",
       "frame": 0,
       "gui_style": null,
       "layout": "IPY_MODEL_9c34782a34eb46a5bf8fae5ad437fdde",
       "max_frame": 0,
       "n_components": 1,
       "picked": {}
      }
     },
     "4b639430dda5441eaf108954ffd53a42": {
      "model_module": "@jupyter-widgets/controls",
      "model_module_version": "1.5.0",
      "model_name": "ButtonStyleModel",
      "state": {}
     },
     "4bfd73a499db4327b13e3662a397a644": {
      "model_module": "@jupyter-widgets/controls",
      "model_module_version": "1.5.0",
      "model_name": "ImageModel",
      "state": {
       "layout": "IPY_MODEL_e1933ea13922450d9855b93bfd346bb3",
       "width": "900.0"
      }
     },
     "4cb1397347a24e4fa6630a64d178ba88": {
      "model_module": "@jupyter-widgets/controls",
      "model_module_version": "1.5.0",
      "model_name": "PlayModel",
      "state": {
       "layout": "IPY_MODEL_44eda5f83f2b4f1d8dd6cbcffebb22e0",
       "max": 0,
       "style": "IPY_MODEL_30b6902de7214ee587dbc06c6ade7b6b"
      }
     },
     "4cd32eb0dae241aa8ae16c83133bffd3": {
      "model_module": "@jupyter-widgets/base",
      "model_module_version": "1.2.0",
      "model_name": "LayoutModel",
      "state": {}
     },
     "4d10ff1d83d04f4c8056f85a0b03ef35": {
      "model_module": "@jupyter-widgets/base",
      "model_module_version": "1.2.0",
      "model_name": "LayoutModel",
      "state": {}
     },
     "4d5ec17537bc4403b65bcaa552ea53ed": {
      "model_module": "@jupyter-widgets/controls",
      "model_module_version": "1.5.0",
      "model_name": "DescriptionStyleModel",
      "state": {
       "description_width": ""
      }
     },
     "4d93ceb4547f40a0a850441b9c63bfa6": {
      "model_module": "@jupyter-widgets/base",
      "model_module_version": "1.2.0",
      "model_name": "LayoutModel",
      "state": {}
     },
     "4e3d04ff363440a68ad119620e230107": {
      "model_module": "@jupyter-widgets/controls",
      "model_module_version": "1.5.0",
      "model_name": "LinkModel",
      "state": {
       "source": [
        "IPY_MODEL_0f5540f8f2c94d7f873819b75b87a6ff",
        "value"
       ],
       "target": [
        "IPY_MODEL_37ceff9e6b1b48d187aee4e025f79e12",
        "frame"
       ]
      }
     },
     "4e6d21fb8b244fb2b4c14e7c84cd1e25": {
      "model_module": "@jupyter-widgets/controls",
      "model_module_version": "1.5.0",
      "model_name": "IntSliderModel",
      "state": {
       "layout": "IPY_MODEL_297813d8297b4ac6979618fe0a6a3599",
       "max": 0,
       "style": "IPY_MODEL_2190fbddbb164fa89f47c59eb941cd0a"
      }
     },
     "51119025ac364fc888384dfd787293f5": {
      "model_module": "@jupyter-widgets/controls",
      "model_module_version": "1.5.0",
      "model_name": "SliderStyleModel",
      "state": {
       "description_width": ""
      }
     },
     "51bbd4cb0e3047e49c396cf61868aedf": {
      "model_module": "@jupyter-widgets/controls",
      "model_module_version": "1.5.0",
      "model_name": "DescriptionStyleModel",
      "state": {
       "description_width": ""
      }
     },
     "53ccf5b42c9a4a6f9142b40a0832c6c6": {
      "model_module": "nglview-js-widgets",
      "model_module_version": "3.0.1",
      "model_name": "ColormakerRegistryModel",
      "state": {
       "_msg_ar": [],
       "_msg_q": [],
       "_ready": true,
       "layout": "IPY_MODEL_5bbaef35fe114b85b109b821993131d1"
      }
     },
     "5447698441c6449e9fe23f02ac202794": {
      "model_module": "@jupyter-widgets/controls",
      "model_module_version": "1.5.0",
      "model_name": "HBoxModel",
      "state": {
       "children": [
        "IPY_MODEL_07ff24c5d2a34e6397da44fda768f3e3",
        "IPY_MODEL_4e6d21fb8b244fb2b4c14e7c84cd1e25"
       ],
       "layout": "IPY_MODEL_5aa7318a90564c4994141f5cc98269e7"
      }
     },
     "554dfd5d1ebd451d803acc0e369caab8": {
      "model_module": "@jupyter-widgets/controls",
      "model_module_version": "1.5.0",
      "model_name": "ImageModel",
      "state": {
       "layout": "IPY_MODEL_2183e615de1a4c9099d86026c5fb6ea0",
       "width": "900.0"
      }
     },
     "55bba51ee0e440b88cab450586537b1a": {
      "model_module": "@jupyter-widgets/controls",
      "model_module_version": "1.5.0",
      "model_name": "ButtonModel",
      "state": {
       "icon": "compress",
       "layout": "IPY_MODEL_f551732093c94aa482734ca7818e9bfe",
       "style": "IPY_MODEL_2916890caa8546f1aec436f418e9c909"
      }
     },
     "55cfdd72aad34fc9a1686d8d33ed916b": {
      "model_module": "@jupyter-widgets/controls",
      "model_module_version": "1.5.0",
      "model_name": "PlayModel",
      "state": {
       "layout": "IPY_MODEL_11793b9f57a44b3d9f88c664d157813e",
       "max": 0,
       "style": "IPY_MODEL_5aa3c27f354948a1b7d6dda61b53b90c"
      }
     },
     "5628fbd0664544fb894f222e6f9b73ec": {
      "model_module": "@jupyter-widgets/controls",
      "model_module_version": "1.5.0",
      "model_name": "LinkModel",
      "state": {
       "source": [
        "IPY_MODEL_afcd255034d9408cb44391f3d96814c8",
        "max"
       ],
       "target": [
        "IPY_MODEL_ac8b6b6ffff2470faca7c5be5ddfa9c5",
        "max_frame"
       ]
      }
     },
     "572d1fd00d5e4b4cbe7917ee3ad1829b": {
      "model_module": "@jupyter-widgets/controls",
      "model_module_version": "1.5.0",
      "model_name": "SliderStyleModel",
      "state": {
       "description_width": ""
      }
     },
     "574e4d36124e447b8ea557eca38fdbe7": {
      "model_module": "@jupyter-widgets/base",
      "model_module_version": "1.2.0",
      "model_name": "LayoutModel",
      "state": {}
     },
     "59988d19418f4ddaac3f76d985fb28d8": {
      "model_module": "@jupyter-widgets/controls",
      "model_module_version": "1.5.0",
      "model_name": "ImageModel",
      "state": {
       "layout": "IPY_MODEL_44711a9acc724551b14b403e936e693a",
       "width": "900.0"
      }
     },
     "5a038e0784574f99989239415574efec": {
      "model_module": "@jupyter-widgets/base",
      "model_module_version": "1.2.0",
      "model_name": "LayoutModel",
      "state": {}
     },
     "5a50790a8be446edbb1a18b8b3b3a7ae": {
      "model_module": "@jupyter-widgets/controls",
      "model_module_version": "1.5.0",
      "model_name": "DescriptionStyleModel",
      "state": {
       "description_width": ""
      }
     },
     "5aa3c27f354948a1b7d6dda61b53b90c": {
      "model_module": "@jupyter-widgets/controls",
      "model_module_version": "1.5.0",
      "model_name": "DescriptionStyleModel",
      "state": {
       "description_width": ""
      }
     },
     "5aa3c7a61c7040e0a56cc9cc9d7f3e90": {
      "model_module": "@jupyter-widgets/base",
      "model_module_version": "1.2.0",
      "model_name": "LayoutModel",
      "state": {}
     },
     "5aa7318a90564c4994141f5cc98269e7": {
      "model_module": "@jupyter-widgets/base",
      "model_module_version": "1.2.0",
      "model_name": "LayoutModel",
      "state": {}
     },
     "5b236663c6a0490e84851409a7ec9808": {
      "model_module": "@jupyter-widgets/controls",
      "model_module_version": "1.5.0",
      "model_name": "LinkModel",
      "state": {
       "source": [
        "IPY_MODEL_c330599e4778497898d0d0f144481303",
        "value"
       ],
       "target": [
        "IPY_MODEL_9f59ba158f9c4ccf9599021d81004cfa",
        "frame"
       ]
      }
     },
     "5b78bcaa6d4e40bb87c16ee72bbb1185": {
      "model_module": "@jupyter-widgets/controls",
      "model_module_version": "1.5.0",
      "model_name": "LinkModel",
      "state": {
       "source": [
        "IPY_MODEL_e5934750f4c94609bc29839d0fc053a7",
        "max"
       ],
       "target": [
        "IPY_MODEL_18f0d4f68c4b48c58aa2843b773e90ad",
        "max_frame"
       ]
      }
     },
     "5bbaef35fe114b85b109b821993131d1": {
      "model_module": "@jupyter-widgets/base",
      "model_module_version": "1.2.0",
      "model_name": "LayoutModel",
      "state": {}
     },
     "5c12838d56f34b61a50480c3b2a7a51f": {
      "model_module": "@jupyter-widgets/controls",
      "model_module_version": "1.5.0",
      "model_name": "HBoxModel",
      "state": {
       "children": [
        "IPY_MODEL_e5934750f4c94609bc29839d0fc053a7",
        "IPY_MODEL_aa0a1c2dc0aa47d6b6155ef8e2e273d0"
       ],
       "layout": "IPY_MODEL_ca44d81b9fae4da3b8bea4fff4bb6935"
      }
     },
     "5d16f8b2276b4c0eb407a7b5a84821a6": {
      "model_module": "@jupyter-widgets/controls",
      "model_module_version": "1.5.0",
      "model_name": "HBoxModel",
      "state": {
       "children": [
        "IPY_MODEL_55cfdd72aad34fc9a1686d8d33ed916b",
        "IPY_MODEL_c8eb2cd448ff4e4ab126a9d7ea165f99"
       ],
       "layout": "IPY_MODEL_4d93ceb4547f40a0a850441b9c63bfa6"
      }
     },
     "5d927fdcdf5446efbc5ec80b5a9da0e2": {
      "model_module": "@jupyter-widgets/controls",
      "model_module_version": "1.5.0",
      "model_name": "LinkModel",
      "state": {
       "source": [
        "IPY_MODEL_8ad03c0318064365b139b13518e6db0b",
        "max"
       ],
       "target": [
        "IPY_MODEL_f7496b2f05204a84aeede95d65b0cf1b",
        "max_frame"
       ]
      }
     },
     "5e2aff1206d5450f94804bcf6caa0849": {
      "model_module": "@jupyter-widgets/controls",
      "model_module_version": "1.5.0",
      "model_name": "ButtonModel",
      "state": {
       "icon": "compress",
       "layout": "IPY_MODEL_27f78af9cccf4e7187f3c4750dec003b",
       "style": "IPY_MODEL_65cdf8c5ecd7449b959520165606d03a"
      }
     },
     "5ec15e8c5ed34524a08137c30b14cdb0": {
      "model_module": "@jupyter-widgets/base",
      "model_module_version": "1.2.0",
      "model_name": "LayoutModel",
      "state": {}
     },
     "5f8e17100ad34a3c88160aa22ba7dd4c": {
      "model_module": "nglview-js-widgets",
      "model_module_version": "3.0.1",
      "model_name": "NGLModel",
      "state": {
       "_camera_orientation": [
        27.608552179894808,
        0,
        0,
        0,
        0,
        27.608552179894808,
        0,
        0,
        0,
        0,
        27.608552179894808,
        0,
        -5.552000135183334,
        0.8974999785423279,
        -0.2745000720024109,
        1
       ],
       "_camera_str": "orthographic",
       "_gui_theme": null,
       "_ibtn_fullscreen": "IPY_MODEL_0d6b1cf5b23a4c25b1facb2063053764",
       "_igui": null,
       "_iplayer": "IPY_MODEL_c13ef282057e4f28b1cc8528f2317eeb",
       "_ngl_color_dict": {},
       "_ngl_coordinate_resource": {},
       "_ngl_full_stage_parameters": {
        "ambientColor": 14540253,
        "ambientIntensity": 0.2,
        "backgroundColor": "white",
        "cameraEyeSep": 0.3,
        "cameraFov": 40,
        "cameraType": "perspective",
        "clipDist": 10,
        "clipFar": 100,
        "clipNear": 0,
        "fogFar": 100,
        "fogNear": 50,
        "hoverTimeout": 0,
        "impostor": true,
        "lightColor": 14540253,
        "lightIntensity": 1,
        "mousePreset": "default",
        "panSpeed": 1,
        "quality": "medium",
        "rotateSpeed": 2,
        "sampleLevel": 0,
        "tooltip": true,
        "workerDefault": true,
        "zoomSpeed": 1.2
       },
       "_ngl_msg_archive": [
        {
         "args": [
          {
           "binary": false,
           "data": "\nQCElemental\n\n 33 33  0  0  0  0  0  0  0  0  0\n    3.0600    1.1250    0.5030  C  0  0     0  0  0  0  0  0\n    2.5180   -0.2180    0.9970  C  0  0     0  0  0  0  0  0\n    0.9880   -0.1980    0.9640  C  0  0     0  0  0  0  0  0\n    3.0600   -1.4020    0.1640  C  0  0     0  0  0  0  0  0\n    4.5670   -1.5330    0.2190  C  0  0     0  0  0  0  0  0\n    5.2240   -1.7620    1.4330  C  0  0     0  0  0  0  0  0\n    6.6200   -1.7980    1.4930  C  0  0     0  0  0  0  0  0\n    7.3930   -1.6190    0.3370  C  0  0     0  0  0  0  0  0\n    6.7300   -1.4510   -0.8890  C  0  0     0  0  0  0  0  0\n    5.3340   -1.4010   -0.9450  C  0  0     0  0  0  0  0  0\n    8.9100   -1.6460    0.4320  C  0  0     0  0  0  0  0  0\n    9.4360   -3.0710    0.2540  C  0  0     0  0  0  0  0  0\n    9.6080   -0.6840   -0.5260  C  0  0     0  0  0  0  0  0\n   10.4390   -1.0050   -1.3640  O  0  0     0  0  0  0  0  0\n    9.2470    0.6120   -0.3480  O  0  0     0  0  0  0  0  0\n    2.6750    1.9460    1.1170  H  0  0     0  0  0  0  0  0\n    2.7690    1.3130   -0.5360  H  0  0     0  0  0  0  0  0\n    4.1530    1.1630    0.5620  H  0  0     0  0  0  0  0  0\n    2.8220   -0.3410    2.0430  H  0  0     0  0  0  0  0  0\n    0.6120   -0.0780   -0.0590  H  0  0     0  0  0  0  0  0\n    0.5990    0.6320    1.5650  H  0  0     0  0  0  0  0  0\n    0.5750   -1.1260    1.3710  H  0  0     0  0  0  0  0  0\n    2.7320   -1.2960   -0.8770  H  0  0     0  0  0  0  0  0\n    2.6240   -2.3430    0.5240  H  0  0     0  0  0  0  0  0\n    4.6510   -1.9010    2.3480  H  0  0     0  0  0  0  0  0\n    7.0970   -1.9700    2.4560  H  0  0     0  0  0  0  0  0\n    7.2900   -1.3470   -1.8180  H  0  0     0  0  0  0  0  0\n    4.8510   -1.2450   -1.9070  H  0  0     0  0  0  0  0  0\n    9.2070   -1.3110    1.4370  H  0  0     0  0  0  0  0  0\n    9.1710   -3.4770   -0.7290  H  0  0     0  0  0  0  0  0\n    9.0270   -3.7410    1.0170  H  0  0     0  0  0  0  0  0\n   10.5290   -3.0950    0.3390  H  0  0     0  0  0  0  0  0\n    8.5460    0.7280    0.3230  H  0  0     0  0  0  0  0  0\n  1  2  1  0  0  0  0\n  1 16  1  0  0  0  0\n  1 17  1  0  0  0  0\n  1 18  1  0  0  0  0\n  2  3  1  0  0  0  0\n  2  4  1  0  0  0  0\n  2 19  1  0  0  0  0\n  3 20  1  0  0  0  0\n  3 21  1  0  0  0  0\n  3 22  1  0  0  0  0\n  4  5  1  0  0  0  0\n  4 23  1  0  0  0  0\n  4 24  1  0  0  0  0\n  5  6  1  0  0  0  0\n  5 10  1  0  0  0  0\n  6  7  1  0  0  0  0\n  6 25  1  0  0  0  0\n  7  8  1  0  0  0  0\n  7 26  1  0  0  0  0\n  8  9  1  0  0  0  0\n  8 11  1  0  0  0  0\n  9 10  1  0  0  0  0\n  9 27  1  0  0  0  0\n 10 28  1  0  0  0  0\n 11 12  1  0  0  0  0\n 11 13  1  0  0  0  0\n 11 29  1  0  0  0  0\n 12 30  1  0  0  0  0\n 12 31  1  0  0  0  0\n 12 32  1  0  0  0  0\n 13 14  1  0  0  0  0\n 13 15  1  0  0  0  0\n 15 33  1  0  0  0  0\n",
           "type": "blob"
          }
         ],
         "kwargs": {
          "defaultRepresentation": false,
          "ext": "sdf"
         },
         "methodName": "loadFile",
         "reconstruc_color_scheme": false,
         "target": "Stage",
         "type": "call_method"
        }
       ],
       "_ngl_original_stage_parameters": {
        "ambientColor": 14540253,
        "ambientIntensity": 0.2,
        "backgroundColor": "white",
        "cameraEyeSep": 0.3,
        "cameraFov": 40,
        "cameraType": "perspective",
        "clipDist": 10,
        "clipFar": 100,
        "clipNear": 0,
        "fogFar": 100,
        "fogNear": 50,
        "hoverTimeout": 0,
        "impostor": true,
        "lightColor": 14540253,
        "lightIntensity": 1,
        "mousePreset": "default",
        "panSpeed": 1,
        "quality": "medium",
        "rotateSpeed": 2,
        "sampleLevel": 0,
        "tooltip": true,
        "workerDefault": true,
        "zoomSpeed": 1.2
       },
       "_ngl_repr_dict": {
        "0": {
         "0": {
          "params": {
           "aspectRatio": 1.5,
           "assembly": "default",
           "bondScale": 0.3,
           "bondSpacing": 0.75,
           "clipCenter": {
            "x": 0,
            "y": 0,
            "z": 0
           },
           "clipNear": 0,
           "clipRadius": 0,
           "colorMode": "hcl",
           "colorReverse": false,
           "colorScale": "",
           "colorScheme": "element",
           "colorValue": 9474192,
           "cylinderOnly": false,
           "defaultAssembly": "",
           "depthWrite": true,
           "diffuse": 16777215,
           "diffuseInterior": false,
           "disableImpostor": false,
           "disablePicking": false,
           "flatShaded": false,
           "interiorColor": 2236962,
           "interiorDarkening": 0,
           "lazy": false,
           "lineOnly": false,
           "linewidth": 2,
           "matrix": {
            "elements": [
             1,
             0,
             0,
             0,
             0,
             1,
             0,
             0,
             0,
             0,
             1,
             0,
             0,
             0,
             0,
             1
            ]
           },
           "metalness": 0,
           "multipleBond": "off",
           "opacity": 1,
           "openEnded": true,
           "quality": "high",
           "radialSegments": 20,
           "radiusData": {},
           "radiusScale": 2,
           "radiusSize": 0.15,
           "radiusType": "size",
           "roughness": 0.4,
           "sele": "",
           "side": "double",
           "sphereDetail": 2,
           "useInteriorColor": true,
           "useWorker": true,
           "visible": true,
           "wireframe": false
          },
          "type": "ball+stick"
         }
        }
       },
       "_ngl_serialize": false,
       "_ngl_version": "2.0.0-dev.36",
       "_ngl_view_id": [
        "3D9E1237-5AD7-4042-BF61-4859E00D70BD",
        "B93381D6-F438-4218-A290-0C380BD76449"
       ],
       "_player_dict": {},
       "_scene_position": {},
       "_scene_rotation": {},
       "_synced_model_ids": [],
       "_synced_repr_model_ids": [],
       "_view_height": "",
       "_view_width": "",
       "background": "white",
       "frame": 0,
       "gui_style": null,
       "layout": "IPY_MODEL_3206818cec154b958ca8fd776e5a8da4",
       "max_frame": 0,
       "n_components": 1,
       "picked": {}
      }
     },
     "5fc4df226b904be38b595dfd5ce4cbea": {
      "model_module": "@jupyter-widgets/controls",
      "model_module_version": "1.5.0",
      "model_name": "ButtonModel",
      "state": {
       "icon": "compress",
       "layout": "IPY_MODEL_d8b3a577893d4072967e559914808ab7",
       "style": "IPY_MODEL_bacaee115fc94134a894f0f034befcce"
      }
     },
     "61a07b7cacbd4d3bbecc064f1e9fd5b0": {
      "model_module": "@jupyter-widgets/controls",
      "model_module_version": "1.5.0",
      "model_name": "IntSliderModel",
      "state": {
       "layout": "IPY_MODEL_cd653f28b1ff461294e54215bf8a665c",
       "max": 0,
       "style": "IPY_MODEL_a97ef8872d6a4da3a523f05535635d75"
      }
     },
     "62072f366dca431d8b6a3e48fa732353": {
      "model_module": "@jupyter-widgets/controls",
      "model_module_version": "1.5.0",
      "model_name": "IntSliderModel",
      "state": {
       "layout": "IPY_MODEL_66ac2eff996f4e05a1d4357e8e5e94f3",
       "max": 0,
       "style": "IPY_MODEL_51119025ac364fc888384dfd787293f5"
      }
     },
     "623cc1a528274dddbc4eac32105958bf": {
      "model_module": "@jupyter-widgets/base",
      "model_module_version": "1.2.0",
      "model_name": "LayoutModel",
      "state": {}
     },
     "62aa5dd00bd64462814503a75111e99d": {
      "model_module": "@jupyter-widgets/controls",
      "model_module_version": "1.5.0",
      "model_name": "DescriptionStyleModel",
      "state": {
       "description_width": ""
      }
     },
     "63587680963b44339c1f746f2e7b9709": {
      "model_module": "nglview-js-widgets",
      "model_module_version": "3.0.1",
      "model_name": "NGLModel",
      "state": {
       "_camera_orientation": [
        19.709760232094133,
        0,
        0,
        0,
        0,
        19.709760232094133,
        0,
        0,
        0,
        0,
        19.709760232094133,
        0,
        -1.4164999648928642,
        -27.589500427246094,
        -13.907000064849854,
        1
       ],
       "_camera_str": "orthographic",
       "_gui_theme": null,
       "_ibtn_fullscreen": "IPY_MODEL_8cde9e575b32416690309d1ae27ac827",
       "_igui": null,
       "_iplayer": "IPY_MODEL_67e7bf8c4f554fabb9f8c4559bf05d56",
       "_ngl_color_dict": {},
       "_ngl_coordinate_resource": {},
       "_ngl_full_stage_parameters": {
        "ambientColor": 14540253,
        "ambientIntensity": 0.2,
        "backgroundColor": "white",
        "cameraEyeSep": 0.3,
        "cameraFov": 40,
        "cameraType": "perspective",
        "clipDist": 10,
        "clipFar": 100,
        "clipNear": 0,
        "fogFar": 100,
        "fogNear": 50,
        "hoverTimeout": 0,
        "impostor": true,
        "lightColor": 14540253,
        "lightIntensity": 1,
        "mousePreset": "default",
        "panSpeed": 1,
        "quality": "medium",
        "rotateSpeed": 2,
        "sampleLevel": 0,
        "tooltip": true,
        "workerDefault": true,
        "zoomSpeed": 1.2
       },
       "_ngl_msg_archive": [
        {
         "args": [
          {
           "binary": false,
           "data": "ATOM      1  N   ALA     1       2.281  26.213  12.804  1.00  0.00           N  \nATOM      2  CA  ALA     1       1.169  26.942  13.411  1.00  0.00           C  \nATOM      3  C   ALA     1       1.539  28.344  13.874  1.00  0.00           C  \nATOM      4  O   ALA     1       2.709  28.647  14.114  1.00  0.00           O  \nATOM      5  CB  ALA     1       0.601  26.143  14.574  1.00  0.00           C  \nATOM      6  OXT ALA     1       0.523  29.194  13.997  1.00  0.00           O  \nATOM      7  H1  ALA     1       2.033  25.273  12.493  1.00  0.00           H  \nATOM      8  H2  ALA     1       3.080  26.184  13.436  1.00  0.00           H  \nATOM      9  HA  ALA     1       0.399  27.067  12.613  1.00  0.00           H  \nATOM     10  HB1 ALA     1      -0.247  26.699  15.037  1.00  0.00           H  \nATOM     11  HB2 ALA     1       0.308  25.110  14.270  1.00  0.00           H  \nATOM     12  HB3 ALA     1       1.384  25.876  15.321  1.00  0.00           H  \nATOM     13  HXT ALA     1       0.753  30.069  14.286  1.00  0.00           H  \nTER      14      ALA     1\nEND                                                                             \n",
           "type": "blob"
          }
         ],
         "kwargs": {
          "defaultRepresentation": true,
          "ext": "pdb"
         },
         "methodName": "loadFile",
         "reconstruc_color_scheme": false,
         "target": "Stage",
         "type": "call_method"
        }
       ],
       "_ngl_original_stage_parameters": {
        "ambientColor": 14540253,
        "ambientIntensity": 0.2,
        "backgroundColor": "white",
        "cameraEyeSep": 0.3,
        "cameraFov": 40,
        "cameraType": "perspective",
        "clipDist": 10,
        "clipFar": 100,
        "clipNear": 0,
        "fogFar": 100,
        "fogNear": 50,
        "hoverTimeout": 0,
        "impostor": true,
        "lightColor": 14540253,
        "lightIntensity": 1,
        "mousePreset": "default",
        "panSpeed": 1,
        "quality": "medium",
        "rotateSpeed": 2,
        "sampleLevel": 0,
        "tooltip": true,
        "workerDefault": true,
        "zoomSpeed": 1.2
       },
       "_ngl_repr_dict": {
        "0": {
         "0": {
          "params": {
           "aspectRatio": 1.5,
           "assembly": "default",
           "bondScale": 0.3,
           "bondSpacing": 0.75,
           "clipCenter": {
            "x": 0,
            "y": 0,
            "z": 0
           },
           "clipNear": 0,
           "clipRadius": 0,
           "colorMode": "hcl",
           "colorReverse": false,
           "colorScale": "",
           "colorScheme": "element",
           "colorValue": 9474192,
           "cylinderOnly": false,
           "defaultAssembly": "",
           "depthWrite": true,
           "diffuse": 16777215,
           "diffuseInterior": false,
           "disableImpostor": false,
           "disablePicking": false,
           "flatShaded": false,
           "interiorColor": 2236962,
           "interiorDarkening": 0,
           "lazy": false,
           "lineOnly": false,
           "linewidth": 2,
           "matrix": {
            "elements": [
             1,
             0,
             0,
             0,
             0,
             1,
             0,
             0,
             0,
             0,
             1,
             0,
             0,
             0,
             0,
             1
            ]
           },
           "metalness": 0,
           "multipleBond": "off",
           "opacity": 1,
           "openEnded": true,
           "quality": "high",
           "radialSegments": 20,
           "radiusData": {},
           "radiusScale": 2,
           "radiusSize": 0.15,
           "radiusType": "size",
           "roughness": 0.4,
           "sele": "",
           "side": "double",
           "sphereDetail": 2,
           "useInteriorColor": true,
           "visible": true,
           "wireframe": false
          },
          "type": "ball+stick"
         }
        }
       },
       "_ngl_serialize": false,
       "_ngl_version": "2.0.0-dev.36",
       "_ngl_view_id": [
        "DA9E9CED-BAAE-4781-A7FE-9ABA6C5BE798"
       ],
       "_player_dict": {},
       "_scene_position": {},
       "_scene_rotation": {},
       "_synced_model_ids": [],
       "_synced_repr_model_ids": [],
       "_view_height": "",
       "_view_width": "",
       "background": "white",
       "frame": 0,
       "gui_style": null,
       "layout": "IPY_MODEL_062764089adf41ce81ab6a96e489f119",
       "max_frame": 0,
       "n_components": 1,
       "picked": {}
      }
     },
     "64b8ea51c8604963abc76108e211cb7c": {
      "model_module": "@jupyter-widgets/controls",
      "model_module_version": "1.5.0",
      "model_name": "HBoxModel",
      "state": {
       "children": [
        "IPY_MODEL_aa952ce970444abd8fe3f7aa83eb9bd8",
        "IPY_MODEL_6f086469bde64ff59aff0fe6814f783c"
       ],
       "layout": "IPY_MODEL_a80de3eb44ef474a88fb9bff86b5e210"
      }
     },
     "65bdfa94d5f64c20a3c91e720c6a4bd7": {
      "model_module": "@jupyter-widgets/controls",
      "model_module_version": "1.5.0",
      "model_name": "LinkModel",
      "state": {
       "source": [
        "IPY_MODEL_55cfdd72aad34fc9a1686d8d33ed916b",
        "value"
       ],
       "target": [
        "IPY_MODEL_c8eb2cd448ff4e4ab126a9d7ea165f99",
        "value"
       ]
      }
     },
     "65cdf8c5ecd7449b959520165606d03a": {
      "model_module": "@jupyter-widgets/controls",
      "model_module_version": "1.5.0",
      "model_name": "ButtonStyleModel",
      "state": {}
     },
     "66ac2eff996f4e05a1d4357e8e5e94f3": {
      "model_module": "@jupyter-widgets/base",
      "model_module_version": "1.2.0",
      "model_name": "LayoutModel",
      "state": {}
     },
     "66ea4c8dd5f54bf6b901f5c6b913ea78": {
      "model_module": "@jupyter-widgets/controls",
      "model_module_version": "1.5.0",
      "model_name": "SliderStyleModel",
      "state": {
       "description_width": ""
      }
     },
     "67e7bf8c4f554fabb9f8c4559bf05d56": {
      "model_module": "@jupyter-widgets/controls",
      "model_module_version": "1.5.0",
      "model_name": "HBoxModel",
      "state": {
       "children": [
        "IPY_MODEL_486bd710653e4295bdab5df2a3e9ab21",
        "IPY_MODEL_1361451de30b4ca6846c843e51d7fdba"
       ],
       "layout": "IPY_MODEL_ba5f251d8e2f493285dd2a523ae44eff"
      }
     },
     "67f8c4940cac48e0aeeca0eb85642e1c": {
      "model_module": "@jupyter-widgets/controls",
      "model_module_version": "1.5.0",
      "model_name": "ButtonModel",
      "state": {
       "icon": "compress",
       "layout": "IPY_MODEL_d3cf7afb0984474995ec115b75826719",
       "style": "IPY_MODEL_33024b25888c4910895be0e9e2c0ed71"
      }
     },
     "6909bc527833451ca77fe692c358619f": {
      "model_module": "@jupyter-widgets/controls",
      "model_module_version": "1.5.0",
      "model_name": "LinkModel",
      "state": {
       "source": [
        "IPY_MODEL_21ebbec4c7024c11986bd2d2d64c493d",
        "value"
       ],
       "target": [
        "IPY_MODEL_374f6e4d1ed648bd9157d9fce810ab97",
        "frame"
       ]
      }
     },
     "6977ca89d7fd4208b24bf86d91d86edb": {
      "model_module": "@jupyter-widgets/controls",
      "model_module_version": "1.5.0",
      "model_name": "LinkModel",
      "state": {
       "source": [
        "IPY_MODEL_c285a9480e5149f28ceb7eb397e9fca6",
        "max"
       ],
       "target": [
        "IPY_MODEL_2fdc88212cc44779a4609566056dfe22",
        "max_frame"
       ]
      }
     },
     "697c04adad3d4f44a1e771a7bce96044": {
      "model_module": "@jupyter-widgets/controls",
      "model_module_version": "1.5.0",
      "model_name": "LinkModel",
      "state": {
       "source": [
        "IPY_MODEL_aa0a1c2dc0aa47d6b6155ef8e2e273d0",
        "max"
       ],
       "target": [
        "IPY_MODEL_18f0d4f68c4b48c58aa2843b773e90ad",
        "max_frame"
       ]
      }
     },
     "69b8ad41882c434e94963b6670fa65c4": {
      "model_module": "@jupyter-widgets/controls",
      "model_module_version": "1.5.0",
      "model_name": "ImageModel",
      "state": {
       "layout": "IPY_MODEL_a0021a4416d641cd8922ca23596ebf8a",
       "width": "900.0"
      }
     },
     "6a03b84a6fa440f090463e6dd4f31498": {
      "model_module": "@jupyter-widgets/controls",
      "model_module_version": "1.5.0",
      "model_name": "HBoxModel",
      "state": {
       "children": [
        "IPY_MODEL_ecc04aff57a5452b8a658c6255d6b25c",
        "IPY_MODEL_afcd255034d9408cb44391f3d96814c8"
       ],
       "layout": "IPY_MODEL_27b2df85adab4973b1ba5e7e6c678236"
      }
     },
     "6a0ce8fd310249d5bdcfccfe996785ba": {
      "model_module": "@jupyter-widgets/controls",
      "model_module_version": "1.5.0",
      "model_name": "LinkModel",
      "state": {
       "source": [
        "IPY_MODEL_29725edd590e43a39facf54d7eb0e673",
        "value"
       ],
       "target": [
        "IPY_MODEL_a223999163d64bcb9e92b14c0ff99e0e",
        "value"
       ]
      }
     },
     "6c5580c1aee94e5488d60a5544dcf33e": {
      "model_module": "@jupyter-widgets/controls",
      "model_module_version": "1.5.0",
      "model_name": "LinkModel",
      "state": {
       "source": [
        "IPY_MODEL_07ff24c5d2a34e6397da44fda768f3e3",
        "value"
       ],
       "target": [
        "IPY_MODEL_4e6d21fb8b244fb2b4c14e7c84cd1e25",
        "value"
       ]
      }
     },
     "6c669c36a58e4b9aa38a5031e6f6a99a": {
      "model_module": "@jupyter-widgets/controls",
      "model_module_version": "1.5.0",
      "model_name": "SliderStyleModel",
      "state": {
       "description_width": ""
      }
     },
     "6d6c00c77ee140ccbcbee717442f2e53": {
      "model_module": "@jupyter-widgets/controls",
      "model_module_version": "1.5.0",
      "model_name": "LinkModel",
      "state": {
       "source": [
        "IPY_MODEL_c4b470a8944f47e89d5da4cf77e6e8d2",
        "value"
       ],
       "target": [
        "IPY_MODEL_1c092929e45841c3aa988131488b51ef",
        "value"
       ]
      }
     },
     "6e072e4766894a469fb710a6e53b6882": {
      "model_module": "nglview-js-widgets",
      "model_module_version": "3.0.1",
      "model_name": "ColormakerRegistryModel",
      "state": {
       "_msg_ar": [],
       "_msg_q": [],
       "_ready": true,
       "layout": "IPY_MODEL_1eaa2e6933de4d949a5cca6878d56cd0"
      }
     },
     "6ebb592510c84ed3bc5009be06e07f6f": {
      "model_module": "@jupyter-widgets/controls",
      "model_module_version": "1.5.0",
      "model_name": "HBoxModel",
      "state": {
       "children": [
        "IPY_MODEL_b7d7d4ebd56647dc98771e6e59686e92",
        "IPY_MODEL_314cf0c665e94c7493f71bf9a62162a9"
       ],
       "layout": "IPY_MODEL_02905aa60d1a4a9bb47bd42eb1608c1f"
      }
     },
     "6f086469bde64ff59aff0fe6814f783c": {
      "model_module": "@jupyter-widgets/controls",
      "model_module_version": "1.5.0",
      "model_name": "IntSliderModel",
      "state": {
       "layout": "IPY_MODEL_92b37a7f761a420d8576f8b251c84340",
       "max": 0,
       "style": "IPY_MODEL_75c7bb7704ff4c2b84013b84d43852df"
      }
     },
     "70f80b67a6ec4451826c1e99db9874a5": {
      "model_module": "@jupyter-widgets/base",
      "model_module_version": "1.2.0",
      "model_name": "LayoutModel",
      "state": {}
     },
     "71143c2d151d4db99c60c66e46e0ee58": {
      "model_module": "@jupyter-widgets/controls",
      "model_module_version": "1.5.0",
      "model_name": "LinkModel",
      "state": {
       "source": [
        "IPY_MODEL_07aedd07c7c245179fdd7d925c84ea7d",
        "max"
       ],
       "target": [
        "IPY_MODEL_fd3dcbf6110547619d9aec13f4df752a",
        "max_frame"
       ]
      }
     },
     "7150ee3a824745c89470b98b6df96260": {
      "model_module": "@jupyter-widgets/base",
      "model_module_version": "1.2.0",
      "model_name": "LayoutModel",
      "state": {}
     },
     "7163d266a74149b380b44edd5d5e7ce9": {
      "model_module": "@jupyter-widgets/base",
      "model_module_version": "1.2.0",
      "model_name": "LayoutModel",
      "state": {}
     },
     "71ef1af430f5427dbfd9aae2e1cf1a0c": {
      "model_module": "@jupyter-widgets/base",
      "model_module_version": "1.2.0",
      "model_name": "LayoutModel",
      "state": {}
     },
     "736a5f8c98454cdbb7575bbc78375fdd": {
      "model_module": "@jupyter-widgets/controls",
      "model_module_version": "1.5.0",
      "model_name": "LinkModel",
      "state": {
       "source": [
        "IPY_MODEL_e226b70f458743aab25e1fe3f1c230aa",
        "max"
       ],
       "target": [
        "IPY_MODEL_fbab9dfdeb0949c7aeeebe6e9f9996a8",
        "max_frame"
       ]
      }
     },
     "75755c61ead04d2cbc6eb6e47ec496d4": {
      "model_module": "@jupyter-widgets/base",
      "model_module_version": "1.2.0",
      "model_name": "LayoutModel",
      "state": {}
     },
     "75c7bb7704ff4c2b84013b84d43852df": {
      "model_module": "@jupyter-widgets/controls",
      "model_module_version": "1.5.0",
      "model_name": "SliderStyleModel",
      "state": {
       "description_width": ""
      }
     },
     "76180a4327a049ff90fd03f67d019469": {
      "model_module": "@jupyter-widgets/controls",
      "model_module_version": "1.5.0",
      "model_name": "ImageModel",
      "state": {
       "layout": "IPY_MODEL_5aa3c7a61c7040e0a56cc9cc9d7f3e90",
       "width": "900.0"
      }
     },
     "77aee0e64b6a4a699c9fd9e0d67af93e": {
      "model_module": "nglview-js-widgets",
      "model_module_version": "3.0.1",
      "model_name": "NGLModel",
      "state": {
       "_camera_orientation": [
        19.709760232094133,
        0,
        0,
        0,
        0,
        19.709760232094133,
        0,
        0,
        0,
        0,
        19.709760232094133,
        0,
        -1.4164999648928642,
        -27.589500427246094,
        -13.907000064849854,
        1
       ],
       "_camera_str": "orthographic",
       "_gui_theme": null,
       "_ibtn_fullscreen": "IPY_MODEL_1e2162ff2f8e402c8bf7099fa17bca99",
       "_igui": null,
       "_iplayer": "IPY_MODEL_5d16f8b2276b4c0eb407a7b5a84821a6",
       "_ngl_color_dict": {},
       "_ngl_coordinate_resource": {},
       "_ngl_full_stage_parameters": {
        "ambientColor": 14540253,
        "ambientIntensity": 0.2,
        "backgroundColor": "white",
        "cameraEyeSep": 0.3,
        "cameraFov": 40,
        "cameraType": "perspective",
        "clipDist": 10,
        "clipFar": 100,
        "clipNear": 0,
        "fogFar": 100,
        "fogNear": 50,
        "hoverTimeout": 0,
        "impostor": true,
        "lightColor": 14540253,
        "lightIntensity": 1,
        "mousePreset": "default",
        "panSpeed": 1,
        "quality": "medium",
        "rotateSpeed": 2,
        "sampleLevel": 0,
        "tooltip": true,
        "workerDefault": true,
        "zoomSpeed": 1.2
       },
       "_ngl_msg_archive": [
        {
         "args": [
          {
           "binary": false,
           "data": "ATOM      1  N   ALA     1       2.281  26.213  12.804  1.00  0.00           N  \nATOM      2  CA  ALA     1       1.169  26.942  13.411  1.00  0.00           C  \nATOM      3  C   ALA     1       1.539  28.344  13.874  1.00  0.00           C  \nATOM      4  O   ALA     1       2.709  28.647  14.114  1.00  0.00           O  \nATOM      5  CB  ALA     1       0.601  26.143  14.574  1.00  0.00           C  \nATOM      6  OXT ALA     1       0.523  29.194  13.997  1.00  0.00           O  \nATOM      7  H1  ALA     1       2.033  25.273  12.493  1.00  0.00           H  \nATOM      8  H2  ALA     1       3.080  26.184  13.436  1.00  0.00           H  \nATOM      9  HA  ALA     1       0.399  27.067  12.613  1.00  0.00           H  \nATOM     10  HB1 ALA     1      -0.247  26.699  15.037  1.00  0.00           H  \nATOM     11  HB2 ALA     1       0.308  25.110  14.270  1.00  0.00           H  \nATOM     12  HB3 ALA     1       1.384  25.876  15.321  1.00  0.00           H  \nATOM     13  HXT ALA     1       0.753  30.069  14.286  1.00  0.00           H  \nTER      14      ALA     1\nEND                                                                             \n",
           "type": "blob"
          }
         ],
         "kwargs": {
          "defaultRepresentation": true,
          "ext": "pdb"
         },
         "methodName": "loadFile",
         "reconstruc_color_scheme": false,
         "target": "Stage",
         "type": "call_method"
        }
       ],
       "_ngl_original_stage_parameters": {
        "ambientColor": 14540253,
        "ambientIntensity": 0.2,
        "backgroundColor": "white",
        "cameraEyeSep": 0.3,
        "cameraFov": 40,
        "cameraType": "perspective",
        "clipDist": 10,
        "clipFar": 100,
        "clipNear": 0,
        "fogFar": 100,
        "fogNear": 50,
        "hoverTimeout": 0,
        "impostor": true,
        "lightColor": 14540253,
        "lightIntensity": 1,
        "mousePreset": "default",
        "panSpeed": 1,
        "quality": "medium",
        "rotateSpeed": 2,
        "sampleLevel": 0,
        "tooltip": true,
        "workerDefault": true,
        "zoomSpeed": 1.2
       },
       "_ngl_repr_dict": {
        "0": {
         "0": {
          "params": {
           "aspectRatio": 1.5,
           "assembly": "default",
           "bondScale": 0.3,
           "bondSpacing": 0.75,
           "clipCenter": {
            "x": 0,
            "y": 0,
            "z": 0
           },
           "clipNear": 0,
           "clipRadius": 0,
           "colorMode": "hcl",
           "colorReverse": false,
           "colorScale": "",
           "colorScheme": "element",
           "colorValue": 9474192,
           "cylinderOnly": false,
           "defaultAssembly": "",
           "depthWrite": true,
           "diffuse": 16777215,
           "diffuseInterior": false,
           "disableImpostor": false,
           "disablePicking": false,
           "flatShaded": false,
           "interiorColor": 2236962,
           "interiorDarkening": 0,
           "lazy": false,
           "lineOnly": false,
           "linewidth": 2,
           "matrix": {
            "elements": [
             1,
             0,
             0,
             0,
             0,
             1,
             0,
             0,
             0,
             0,
             1,
             0,
             0,
             0,
             0,
             1
            ]
           },
           "metalness": 0,
           "multipleBond": "off",
           "opacity": 1,
           "openEnded": true,
           "quality": "high",
           "radialSegments": 20,
           "radiusData": {},
           "radiusScale": 2,
           "radiusSize": 0.15,
           "radiusType": "size",
           "roughness": 0.4,
           "sele": "",
           "side": "double",
           "sphereDetail": 2,
           "useInteriorColor": true,
           "visible": true,
           "wireframe": false
          },
          "type": "ball+stick"
         }
        }
       },
       "_ngl_serialize": false,
       "_ngl_version": "2.0.0-dev.36",
       "_ngl_view_id": [
        "D0D1EDC7-7F67-4261-A4D1-5FE73F3FD248"
       ],
       "_player_dict": {},
       "_scene_position": {},
       "_scene_rotation": {},
       "_synced_model_ids": [],
       "_synced_repr_model_ids": [],
       "_view_height": "",
       "_view_width": "",
       "background": "white",
       "frame": 0,
       "gui_style": null,
       "layout": "IPY_MODEL_cecc148f76eb485cb0a7ad25d2cecb3d",
       "max_frame": 0,
       "n_components": 1,
       "picked": {}
      }
     },
     "78511851e6294753b3c8e803ae7961fe": {
      "model_module": "@jupyter-widgets/controls",
      "model_module_version": "1.5.0",
      "model_name": "IntSliderModel",
      "state": {
       "layout": "IPY_MODEL_f0565c94d7464a71abf76a5f3000703c",
       "max": 0,
       "style": "IPY_MODEL_d8f0a21eed0449779d898e583d582041"
      }
     },
     "78b67a8a3ccf41029b457e3a619175b3": {
      "model_module": "@jupyter-widgets/controls",
      "model_module_version": "1.5.0",
      "model_name": "LinkModel",
      "state": {
       "source": [
        "IPY_MODEL_d515c01862484cdda22aa0d1ee0dc4bc",
        "max"
       ],
       "target": [
        "IPY_MODEL_0e83dba5989745018f1a4571b373ec18",
        "max_frame"
       ]
      }
     },
     "7954608c470f400e93ee95ce9fa6c718": {
      "model_module": "@jupyter-widgets/controls",
      "model_module_version": "1.5.0",
      "model_name": "ButtonModel",
      "state": {
       "icon": "compress",
       "layout": "IPY_MODEL_b2c77a44b9cb4754bdea790ad6eef444",
       "style": "IPY_MODEL_bdc3b1b8795a47bf81322e4fca33f901"
      }
     },
     "7a8fe3777dda4d01912e936d0b70cec4": {
      "model_module": "@jupyter-widgets/controls",
      "model_module_version": "1.5.0",
      "model_name": "ButtonModel",
      "state": {
       "icon": "compress",
       "layout": "IPY_MODEL_cdc7cf59ca014631a29976564bc3a9ae",
       "style": "IPY_MODEL_ff0a77e3dcda41639323b4a08d81452e"
      }
     },
     "7abbf8c2650d4bfd9dce23bc3c33c68c": {
      "model_module": "@jupyter-widgets/controls",
      "model_module_version": "1.5.0",
      "model_name": "LinkModel",
      "state": {
       "source": [
        "IPY_MODEL_6f086469bde64ff59aff0fe6814f783c",
        "max"
       ],
       "target": [
        "IPY_MODEL_e18190f78b9a4a8e81bddf82c59422fc",
        "max_frame"
       ]
      }
     },
     "7bb8ac97e4874bf3a8c7ba430e65d65e": {
      "model_module": "@jupyter-widgets/controls",
      "model_module_version": "1.5.0",
      "model_name": "LinkModel",
      "state": {
       "source": [
        "IPY_MODEL_0e708009e226404c8dbacd5d52f4d190",
        "max"
       ],
       "target": [
        "IPY_MODEL_075cde4d73b44bc889f571326dfceb05",
        "max_frame"
       ]
      }
     },
     "7c6676b9e31f4b778570d71fbb43cf3a": {
      "model_module": "@jupyter-widgets/controls",
      "model_module_version": "1.5.0",
      "model_name": "ButtonModel",
      "state": {
       "icon": "compress",
       "layout": "IPY_MODEL_afc3a4378c8a43e4b9dc902912ff75b9",
       "style": "IPY_MODEL_4b639430dda5441eaf108954ffd53a42"
      }
     },
     "7c8ab930fe2f4c7eb2b782e8ef7a8a01": {
      "model_module": "@jupyter-widgets/base",
      "model_module_version": "1.2.0",
      "model_name": "LayoutModel",
      "state": {}
     },
     "7db80b0b08b44e5cbd449afccb91f1b9": {
      "model_module": "@jupyter-widgets/base",
      "model_module_version": "1.2.0",
      "model_name": "LayoutModel",
      "state": {}
     },
     "7de3bb76e64446ebba766d46c498a098": {
      "model_module": "@jupyter-widgets/controls",
      "model_module_version": "1.5.0",
      "model_name": "LinkModel",
      "state": {
       "source": [
        "IPY_MODEL_4e6d21fb8b244fb2b4c14e7c84cd1e25",
        "max"
       ],
       "target": [
        "IPY_MODEL_36cf778e677c4ced833739b65587fb31",
        "max_frame"
       ]
      }
     },
     "7ea22b6911aa4ff28d1e4f0b0e259302": {
      "model_module": "@jupyter-widgets/controls",
      "model_module_version": "1.5.0",
      "model_name": "ButtonModel",
      "state": {
       "icon": "compress",
       "layout": "IPY_MODEL_c2c78e582cc04352b9252e85dc559ff6",
       "style": "IPY_MODEL_daf10a2bd70a43a78483d2c244a77ad2"
      }
     },
     "7ee70ab15d0d4853b2885f6ef9737dcb": {
      "model_module": "@jupyter-widgets/base",
      "model_module_version": "1.2.0",
      "model_name": "LayoutModel",
      "state": {}
     },
     "7f052a90a6924c18a6529331f9af2e44": {
      "model_module": "@jupyter-widgets/controls",
      "model_module_version": "1.5.0",
      "model_name": "HBoxModel",
      "state": {
       "children": [
        "IPY_MODEL_41c2387de1c34873934194325f5f613c",
        "IPY_MODEL_0e708009e226404c8dbacd5d52f4d190"
       ],
       "layout": "IPY_MODEL_1e6ddf12c8794524ab059be047ffb08d"
      }
     },
     "7f839d766599434a80b473f315c61dbc": {
      "model_module": "@jupyter-widgets/controls",
      "model_module_version": "1.5.0",
      "model_name": "LinkModel",
      "state": {
       "source": [
        "IPY_MODEL_ecc04aff57a5452b8a658c6255d6b25c",
        "max"
       ],
       "target": [
        "IPY_MODEL_ac8b6b6ffff2470faca7c5be5ddfa9c5",
        "max_frame"
       ]
      }
     },
     "7f9dee00886d4766b7ed3c042d434d24": {
      "model_module": "@jupyter-widgets/base",
      "model_module_version": "1.2.0",
      "model_name": "LayoutModel",
      "state": {}
     },
     "801a641627c8480a91a868f67eda0cb0": {
      "model_module": "@jupyter-widgets/base",
      "model_module_version": "1.2.0",
      "model_name": "LayoutModel",
      "state": {}
     },
     "806a142411cd495c93661fd2bbc43311": {
      "model_module": "@jupyter-widgets/controls",
      "model_module_version": "1.5.0",
      "model_name": "HBoxModel",
      "state": {
       "children": [
        "IPY_MODEL_e226b70f458743aab25e1fe3f1c230aa",
        "IPY_MODEL_b16698703e01410a987ec918663f74f0"
       ],
       "layout": "IPY_MODEL_20b2b35374424f44ab7848a9d6eabbc9"
      }
     },
     "80cb778bcb2c4cc6946f21ab870f01c1": {
      "model_module": "@jupyter-widgets/base",
      "model_module_version": "1.2.0",
      "model_name": "LayoutModel",
      "state": {}
     },
     "8173862b12fc449685a98399330fd601": {
      "model_module": "@jupyter-widgets/controls",
      "model_module_version": "1.5.0",
      "model_name": "LinkModel",
      "state": {
       "source": [
        "IPY_MODEL_c90f793db607407cadff26df22cd6464",
        "value"
       ],
       "target": [
        "IPY_MODEL_87c2f138a376459893da50b89d4ecd92",
        "frame"
       ]
      }
     },
     "82a9c891384f46b9abb664889917e814": {
      "model_module": "@jupyter-widgets/base",
      "model_module_version": "1.2.0",
      "model_name": "LayoutModel",
      "state": {}
     },
     "82f6ba3901fe4171942b2b8a8c3402a4": {
      "model_module": "@jupyter-widgets/base",
      "model_module_version": "1.2.0",
      "model_name": "LayoutModel",
      "state": {}
     },
     "839c0017e6fb4643b041af53d1b12260": {
      "model_module": "@jupyter-widgets/controls",
      "model_module_version": "1.5.0",
      "model_name": "HBoxModel",
      "state": {
       "children": [
        "IPY_MODEL_0f5540f8f2c94d7f873819b75b87a6ff",
        "IPY_MODEL_61a07b7cacbd4d3bbecc064f1e9fd5b0"
       ],
       "layout": "IPY_MODEL_ab553a0607d5495c853e4210fbe0d6e8"
      }
     },
     "85440db368bb4efa960b34212a17f31d": {
      "model_module": "@jupyter-widgets/base",
      "model_module_version": "1.2.0",
      "model_name": "LayoutModel",
      "state": {}
     },
     "86167d6b8004498fa0a004c24cf7a635": {
      "model_module": "@jupyter-widgets/base",
      "model_module_version": "1.2.0",
      "model_name": "LayoutModel",
      "state": {
       "width": "34px"
      }
     },
     "864db011f1d2491b920cbba4c8e22123": {
      "model_module": "@jupyter-widgets/controls",
      "model_module_version": "1.5.0",
      "model_name": "LinkModel",
      "state": {
       "source": [
        "IPY_MODEL_8c9350532376451f92fe387e3b93a93d",
        "max"
       ],
       "target": [
        "IPY_MODEL_aae16018ff204bf2926d872d9206ca2b",
        "max_frame"
       ]
      }
     },
     "869c1a26cf634c1aa0a6de23439a523f": {
      "model_module": "@jupyter-widgets/controls",
      "model_module_version": "1.5.0",
      "model_name": "ImageModel",
      "state": {
       "layout": "IPY_MODEL_16b544e3913646dc848b095e608d45a1",
       "width": "900.0"
      }
     },
     "86a6c69d7950419eb665225de1cc226b": {
      "model_module": "@jupyter-widgets/controls",
      "model_module_version": "1.5.0",
      "model_name": "LinkModel",
      "state": {
       "source": [
        "IPY_MODEL_c90f793db607407cadff26df22cd6464",
        "value"
       ],
       "target": [
        "IPY_MODEL_78511851e6294753b3c8e803ae7961fe",
        "value"
       ]
      }
     },
     "87c2f138a376459893da50b89d4ecd92": {
      "model_module": "nglview-js-widgets",
      "model_module_version": "3.0.1",
      "model_name": "NGLModel",
      "state": {
       "_camera_orientation": [
        24.383216233528586,
        0,
        0,
        0,
        0,
        24.383216233528586,
        0,
        0,
        0,
        0,
        24.383216233528586,
        0,
        1.9279999136924744,
        -25.87849998474121,
        -13.025000095367432,
        1
       ],
       "_camera_str": "orthographic",
       "_gui_theme": null,
       "_ibtn_fullscreen": "IPY_MODEL_7a8fe3777dda4d01912e936d0b70cec4",
       "_igui": null,
       "_iplayer": "IPY_MODEL_3036f04a9f9a4affadc246c49078cf89",
       "_ngl_color_dict": {},
       "_ngl_coordinate_resource": {},
       "_ngl_full_stage_parameters": {
        "ambientColor": 14540253,
        "ambientIntensity": 0.2,
        "backgroundColor": "white",
        "cameraEyeSep": 0.3,
        "cameraFov": 40,
        "cameraType": "perspective",
        "clipDist": 10,
        "clipFar": 100,
        "clipNear": 0,
        "fogFar": 100,
        "fogNear": 50,
        "hoverTimeout": 0,
        "impostor": true,
        "lightColor": 14540253,
        "lightIntensity": 1,
        "mousePreset": "default",
        "panSpeed": 1,
        "quality": "medium",
        "rotateSpeed": 2,
        "sampleLevel": 0,
        "tooltip": true,
        "workerDefault": true,
        "zoomSpeed": 1.2
       },
       "_ngl_msg_archive": [
        {
         "args": [
          {
           "binary": false,
           "data": "HETATM    1  C   UNK     1      -2.396  24.213  13.364  1.00  0.00           C  \nHETATM    2  C   UNK     1      -1.610  24.052  12.217  1.00  0.00           C  \nHETATM    3  C   UNK     1      -1.383  25.124  11.350  1.00  0.00           C  \nHETATM    4  C   UNK     1      -1.950  26.382  11.602  1.00  0.00           C  \nHETATM    5  C   UNK     1      -2.765  26.533  12.734  1.00  0.00           C  \nHETATM    6  C   UNK     1      -2.979  25.462  13.608  1.00  0.00           C  \nHETATM    7  C   UNK     1      -1.885  27.686  10.801  1.00  0.00           C  \nHETATM    8  C   UNK     1      -3.369  28.100  10.465  1.00  0.00           C  \nHETATM    9  C   UNK     1      -0.927  28.592  10.833  1.00  0.00           C  \nHETATM   10  O   UNK     1      -1.026  29.611  11.499  1.00  0.00           O  \nHETATM   11  O   UNK     1       0.237  28.264  10.212  1.00  0.00           O  \nHETATM   12  H   UNK     1       1.015  28.728  10.581  1.00  0.00           H  \nHETATM   13  C   UNK     1      -2.763  23.191  14.456  1.00  0.00           C  \nHETATM   14  C   UNK     1      -4.740  22.146  13.247  1.00  0.00           C  \nHETATM   15  C   UNK     1      -4.418  23.092  14.472  1.00  0.00           C  \nHETATM   16  C   UNK     1      -4.871  22.571  15.838  1.00  0.00           C  \nEND                                                                             \n",
           "type": "blob"
          }
         ],
         "kwargs": {
          "defaultRepresentation": true,
          "ext": "pdb"
         },
         "methodName": "loadFile",
         "reconstruc_color_scheme": false,
         "target": "Stage",
         "type": "call_method"
        }
       ],
       "_ngl_original_stage_parameters": {
        "ambientColor": 14540253,
        "ambientIntensity": 0.2,
        "backgroundColor": "white",
        "cameraEyeSep": 0.3,
        "cameraFov": 40,
        "cameraType": "perspective",
        "clipDist": 10,
        "clipFar": 100,
        "clipNear": 0,
        "fogFar": 100,
        "fogNear": 50,
        "hoverTimeout": 0,
        "impostor": true,
        "lightColor": 14540253,
        "lightIntensity": 1,
        "mousePreset": "default",
        "panSpeed": 1,
        "quality": "medium",
        "rotateSpeed": 2,
        "sampleLevel": 0,
        "tooltip": true,
        "workerDefault": true,
        "zoomSpeed": 1.2
       },
       "_ngl_repr_dict": {
        "0": {
         "0": {
          "params": {
           "aspectRatio": 1.5,
           "assembly": "default",
           "bondScale": 0.3,
           "bondSpacing": 0.75,
           "clipCenter": {
            "x": 0,
            "y": 0,
            "z": 0
           },
           "clipNear": 0,
           "clipRadius": 0,
           "colorMode": "hcl",
           "colorReverse": false,
           "colorScale": "",
           "colorScheme": "element",
           "colorValue": 9474192,
           "cylinderOnly": false,
           "defaultAssembly": "",
           "depthWrite": true,
           "diffuse": 16777215,
           "diffuseInterior": false,
           "disableImpostor": false,
           "disablePicking": false,
           "flatShaded": false,
           "interiorColor": 2236962,
           "interiorDarkening": 0,
           "lazy": false,
           "lineOnly": false,
           "linewidth": 2,
           "matrix": {
            "elements": [
             1,
             0,
             0,
             0,
             0,
             1,
             0,
             0,
             0,
             0,
             1,
             0,
             0,
             0,
             0,
             1
            ]
           },
           "metalness": 0,
           "multipleBond": "off",
           "opacity": 1,
           "openEnded": true,
           "quality": "high",
           "radialSegments": 20,
           "radiusData": {},
           "radiusScale": 2,
           "radiusSize": 0.15,
           "radiusType": "size",
           "roughness": 0.4,
           "sele": "",
           "side": "double",
           "sphereDetail": 2,
           "useInteriorColor": true,
           "visible": true,
           "wireframe": false
          },
          "type": "ball+stick"
         }
        }
       },
       "_ngl_serialize": false,
       "_ngl_version": "2.0.0-dev.36",
       "_ngl_view_id": [
        "C3C04C64-6827-45DB-B316-412B4ED35750"
       ],
       "_player_dict": {},
       "_scene_position": {},
       "_scene_rotation": {},
       "_synced_model_ids": [],
       "_synced_repr_model_ids": [],
       "_view_height": "",
       "_view_width": "",
       "background": "white",
       "frame": 0,
       "gui_style": null,
       "layout": "IPY_MODEL_e1fd9b4ed97d493596409148d25851bd",
       "max_frame": 0,
       "n_components": 1,
       "picked": {}
      }
     },
     "88b6426cb6e442bdad83844ff43975c2": {
      "model_module": "@jupyter-widgets/base",
      "model_module_version": "1.2.0",
      "model_name": "LayoutModel",
      "state": {}
     },
     "8ad03c0318064365b139b13518e6db0b": {
      "model_module": "@jupyter-widgets/controls",
      "model_module_version": "1.5.0",
      "model_name": "PlayModel",
      "state": {
       "layout": "IPY_MODEL_7ee70ab15d0d4853b2885f6ef9737dcb",
       "max": 0,
       "style": "IPY_MODEL_4017e488f01c4c8bb3f50e44c617358c"
      }
     },
     "8af57d5f0dbb4817b7ea0c74c91f24c0": {
      "model_module": "@jupyter-widgets/controls",
      "model_module_version": "1.5.0",
      "model_name": "LinkModel",
      "state": {
       "source": [
        "IPY_MODEL_ece1cabd3226420281c93b3441166c3e",
        "max"
       ],
       "target": [
        "IPY_MODEL_0e83dba5989745018f1a4571b373ec18",
        "max_frame"
       ]
      }
     },
     "8b6ea298c4654d959cd8378111f2083e": {
      "model_module": "@jupyter-widgets/base",
      "model_module_version": "1.2.0",
      "model_name": "LayoutModel",
      "state": {}
     },
     "8c68c79ff4fd4460a84ec8bdbd1812eb": {
      "model_module": "@jupyter-widgets/controls",
      "model_module_version": "1.5.0",
      "model_name": "SliderStyleModel",
      "state": {
       "description_width": ""
      }
     },
     "8c9350532376451f92fe387e3b93a93d": {
      "model_module": "@jupyter-widgets/controls",
      "model_module_version": "1.5.0",
      "model_name": "IntSliderModel",
      "state": {
       "layout": "IPY_MODEL_7163d266a74149b380b44edd5d5e7ce9",
       "max": 0,
       "style": "IPY_MODEL_442eaa0017b44296bc57da6c677301eb"
      }
     },
     "8cde9e575b32416690309d1ae27ac827": {
      "model_module": "@jupyter-widgets/controls",
      "model_module_version": "1.5.0",
      "model_name": "ButtonModel",
      "state": {
       "icon": "compress",
       "layout": "IPY_MODEL_f9e9ca2b1ca542e7b7bacda3923fc2b5",
       "style": "IPY_MODEL_c498b61b7df449b3938d2f2c3bfc5591"
      }
     },
     "8d57263ff045441a94856b62dcc2e31d": {
      "model_module": "@jupyter-widgets/controls",
      "model_module_version": "1.5.0",
      "model_name": "ImageModel",
      "state": {
       "layout": "IPY_MODEL_f477381954334a11bcff5784b6a2857c",
       "width": "900.0"
      }
     },
     "8f563814df0843ab944d2df36f1066c9": {
      "model_module": "@jupyter-widgets/controls",
      "model_module_version": "1.5.0",
      "model_name": "ButtonModel",
      "state": {
       "icon": "compress",
       "layout": "IPY_MODEL_9a123409c19a4c8c99f9871043c059d8",
       "style": "IPY_MODEL_fab5c907f8c14db286ed6db5e1ce04f1"
      }
     },
     "91d43d20ca774e0a812b1806d66bdee7": {
      "model_module": "@jupyter-widgets/controls",
      "model_module_version": "1.5.0",
      "model_name": "HBoxModel",
      "state": {
       "children": [
        "IPY_MODEL_f994420cab974aea832e82fb222a840e",
        "IPY_MODEL_c285a9480e5149f28ceb7eb397e9fca6"
       ],
       "layout": "IPY_MODEL_0c2cadc7e3e24c769e6a7d4bcd35dcb2"
      }
     },
     "92366ee3d6064564ac50ce9864e9c4c8": {
      "model_module": "@jupyter-widgets/controls",
      "model_module_version": "1.5.0",
      "model_name": "LinkModel",
      "state": {
       "source": [
        "IPY_MODEL_486bd710653e4295bdab5df2a3e9ab21",
        "value"
       ],
       "target": [
        "IPY_MODEL_1361451de30b4ca6846c843e51d7fdba",
        "value"
       ]
      }
     },
     "9245e4fb2a79452184dac5a8b6e79e2b": {
      "model_module": "@jupyter-widgets/controls",
      "model_module_version": "1.5.0",
      "model_name": "LinkModel",
      "state": {
       "source": [
        "IPY_MODEL_43d28e3ac652442aa15551381c4d4564",
        "max"
       ],
       "target": [
        "IPY_MODEL_4941e954ee9d44e0951003775b1ded4e",
        "max_frame"
       ]
      }
     },
     "92b37a7f761a420d8576f8b251c84340": {
      "model_module": "@jupyter-widgets/base",
      "model_module_version": "1.2.0",
      "model_name": "LayoutModel",
      "state": {}
     },
     "933d7318699048d0aec3ff45c69723f7": {
      "model_module": "nglview-js-widgets",
      "model_module_version": "3.0.1",
      "model_name": "NGLModel",
      "state": {
       "_camera_orientation": [
        27.69001440514524,
        0,
        0,
        0,
        0,
        27.69001440514524,
        0,
        0,
        0,
        0,
        27.69001440514524,
        0,
        0.7667999267578125,
        -0.19120001792907715,
        0.22374999523162842,
        1
       ],
       "_camera_str": "orthographic",
       "_gui_theme": null,
       "_ibtn_fullscreen": "IPY_MODEL_cfeabef78ec444969b7c20c298e337d1",
       "_igui": null,
       "_iplayer": "IPY_MODEL_6ebb592510c84ed3bc5009be06e07f6f",
       "_ngl_color_dict": {},
       "_ngl_coordinate_resource": {},
       "_ngl_full_stage_parameters": {
        "ambientColor": 14540253,
        "ambientIntensity": 0.2,
        "backgroundColor": "white",
        "cameraEyeSep": 0.3,
        "cameraFov": 40,
        "cameraType": "perspective",
        "clipDist": 10,
        "clipFar": 100,
        "clipNear": 0,
        "fogFar": 100,
        "fogNear": 50,
        "hoverTimeout": 0,
        "impostor": true,
        "lightColor": 14540253,
        "lightIntensity": 1,
        "mousePreset": "default",
        "panSpeed": 1,
        "quality": "medium",
        "rotateSpeed": 2,
        "sampleLevel": 0,
        "tooltip": true,
        "workerDefault": true,
        "zoomSpeed": 1.2
       },
       "_ngl_msg_archive": [
        {
         "args": [
          {
           "binary": false,
           "data": "\nQCElemental\n\n 33 33  0  0  0  0  0  0  0  0  0\n   -3.3785    0.0272   -2.1608  C  0  0     0  0  0  0  0  0\n   -3.7896    0.7398   -0.8698  C  0  0     0  0  0  0  0  0\n   -5.3154    0.7558   -0.7497  C  0  0     0  0  0  0  0  0\n   -3.1632    0.0773    0.3744  C  0  0     0  0  0  0  0  0\n   -1.6515    0.1369    0.4108  C  0  0     0  0  0  0  0  0\n   -0.9805    1.3653    0.3864  C  0  0     0  0  0  0  0  0\n    0.4152    1.4169    0.4110  C  0  0     0  0  0  0  0  0\n    1.1748    0.2397    0.4767  C  0  0     0  0  0  0  0  0\n    0.5006   -0.9884    0.5345  C  0  0     0  0  0  0  0  0\n   -0.8962   -1.0390    0.4944  C  0  0     0  0  0  0  0  0\n    2.6910    0.3316    0.5508  C  0  0     0  0  0  0  0  0\n    3.1431    0.4242    2.0089  C  0  0     0  0  0  0  0  0\n    3.4176   -0.7942   -0.1781  C  0  0     0  0  0  0  0  0\n    4.2282   -1.5549    0.3285  O  0  0     0  0  0  0  0  0\n    3.1093   -0.8658   -1.4998  O  0  0     0  0  0  0  0  0\n   -3.8281    0.5165   -3.0310  H  0  0     0  0  0  0  0  0\n   -3.7013   -1.0194   -2.1570  H  0  0     0  0  0  0  0  0\n   -2.2928    0.0479   -2.3008  H  0  0     0  0  0  0  0  0\n   -3.4565    1.7826   -0.9384  H  0  0     0  0  0  0  0  0\n   -5.7217   -0.2588   -0.6801  H  0  0     0  0  0  0  0  0\n   -5.7675    1.2423   -1.6208  H  0  0     0  0  0  0  0  0\n   -5.6298    1.3103    0.1407  H  0  0     0  0  0  0  0  0\n   -3.4960   -0.9672    0.4348  H  0  0     0  0  0  0  0  0\n   -3.5369    0.5657    1.2842  H  0  0     0  0  0  0  0  0\n   -1.5422    2.2968    0.3523  H  0  0     0  0  0  0  0  0\n    0.9018    2.3901    0.3983  H  0  0     0  0  0  0  0  0\n    1.0505   -1.9248    0.6196  H  0  0     0  0  0  0  0  0\n   -1.3895   -2.0077    0.5353  H  0  0     0  0  0  0  0  0\n    3.0167    1.2525    0.0471  H  0  0     0  0  0  0  0  0\n    2.8318   -0.4561    2.5835  H  0  0     0  0  0  0  0  0\n    2.7190    1.3087    2.4961  H  0  0     0  0  0  0  0  0\n    4.2339    0.4965    2.0775  H  0  0     0  0  0  0  0  0\n    2.4192   -0.2269   -1.7693  H  0  0     0  0  0  0  0  0\n  1  2  1  0  0  0  0\n  1 16  1  0  0  0  0\n  1 17  1  0  0  0  0\n  1 18  1  0  0  0  0\n  2  3  1  0  0  0  0\n  2  4  1  0  0  0  0\n  2 19  1  0  0  0  0\n  3 20  1  0  0  0  0\n  3 21  1  0  0  0  0\n  3 22  1  0  0  0  0\n  4  5  1  0  0  0  0\n  4 23  1  0  0  0  0\n  4 24  1  0  0  0  0\n  5  6  1  0  0  0  0\n  5 10  1  0  0  0  0\n  6  7  1  0  0  0  0\n  6 25  1  0  0  0  0\n  7  8  1  0  0  0  0\n  7 26  1  0  0  0  0\n  8  9  1  0  0  0  0\n  8 11  1  0  0  0  0\n  9 10  1  0  0  0  0\n  9 27  1  0  0  0  0\n 10 28  1  0  0  0  0\n 11 12  1  0  0  0  0\n 11 13  1  0  0  0  0\n 11 29  1  0  0  0  0\n 12 30  1  0  0  0  0\n 12 31  1  0  0  0  0\n 12 32  1  0  0  0  0\n 13 14  1  0  0  0  0\n 13 15  1  0  0  0  0\n 15 33  1  0  0  0  0\n",
           "type": "blob"
          }
         ],
         "kwargs": {
          "defaultRepresentation": false,
          "ext": "sdf"
         },
         "methodName": "loadFile",
         "reconstruc_color_scheme": false,
         "target": "Stage",
         "type": "call_method"
        }
       ],
       "_ngl_original_stage_parameters": {
        "ambientColor": 14540253,
        "ambientIntensity": 0.2,
        "backgroundColor": "white",
        "cameraEyeSep": 0.3,
        "cameraFov": 40,
        "cameraType": "perspective",
        "clipDist": 10,
        "clipFar": 100,
        "clipNear": 0,
        "fogFar": 100,
        "fogNear": 50,
        "hoverTimeout": 0,
        "impostor": true,
        "lightColor": 14540253,
        "lightIntensity": 1,
        "mousePreset": "default",
        "panSpeed": 1,
        "quality": "medium",
        "rotateSpeed": 2,
        "sampleLevel": 0,
        "tooltip": true,
        "workerDefault": true,
        "zoomSpeed": 1.2
       },
       "_ngl_repr_dict": {
        "0": {
         "0": {
          "params": {
           "aspectRatio": 1.5,
           "assembly": "default",
           "bondScale": 0.3,
           "bondSpacing": 0.75,
           "clipCenter": {
            "x": 0,
            "y": 0,
            "z": 0
           },
           "clipNear": 0,
           "clipRadius": 0,
           "colorMode": "hcl",
           "colorReverse": false,
           "colorScale": "",
           "colorScheme": "element",
           "colorValue": 9474192,
           "cylinderOnly": false,
           "defaultAssembly": "",
           "depthWrite": true,
           "diffuse": 16777215,
           "diffuseInterior": false,
           "disableImpostor": false,
           "disablePicking": false,
           "flatShaded": false,
           "interiorColor": 2236962,
           "interiorDarkening": 0,
           "lazy": false,
           "lineOnly": false,
           "linewidth": 2,
           "matrix": {
            "elements": [
             1,
             0,
             0,
             0,
             0,
             1,
             0,
             0,
             0,
             0,
             1,
             0,
             0,
             0,
             0,
             1
            ]
           },
           "metalness": 0,
           "multipleBond": "off",
           "opacity": 1,
           "openEnded": true,
           "quality": "high",
           "radialSegments": 20,
           "radiusData": {},
           "radiusScale": 2,
           "radiusSize": 0.15,
           "radiusType": "size",
           "roughness": 0.4,
           "sele": "",
           "side": "double",
           "sphereDetail": 2,
           "useInteriorColor": true,
           "useWorker": true,
           "visible": true,
           "wireframe": false
          },
          "type": "ball+stick"
         }
        }
       },
       "_ngl_serialize": false,
       "_ngl_version": "2.0.0-dev.36",
       "_ngl_view_id": [
        "58804B57-3FFE-471B-B6A7-ECFBD32BCF88",
        "500D3BE8-9FF1-4437-B0E0-7318A9DBCEA4"
       ],
       "_player_dict": {},
       "_scene_position": {},
       "_scene_rotation": {},
       "_synced_model_ids": [],
       "_synced_repr_model_ids": [],
       "_view_height": "",
       "_view_width": "",
       "background": "white",
       "frame": 0,
       "gui_style": null,
       "layout": "IPY_MODEL_a509c44e1ac246d2b12783a8bc22e446",
       "max_frame": 0,
       "n_components": 1,
       "picked": {}
      }
     },
     "9362d116f4774246a1eefe2f8b756212": {
      "model_module": "@jupyter-widgets/base",
      "model_module_version": "1.2.0",
      "model_name": "LayoutModel",
      "state": {}
     },
     "939b651b9bd744ffb119d08fe88ee237": {
      "model_module": "@jupyter-widgets/controls",
      "model_module_version": "1.5.0",
      "model_name": "ButtonStyleModel",
      "state": {}
     },
     "93a81fc3101c4eb1b259ebefc84dec8c": {
      "model_module": "@jupyter-widgets/base",
      "model_module_version": "1.2.0",
      "model_name": "LayoutModel",
      "state": {
       "width": "34px"
      }
     },
     "93e13ca7716e40dabda0fbe68ec68336": {
      "model_module": "@jupyter-widgets/controls",
      "model_module_version": "1.5.0",
      "model_name": "ImageModel",
      "state": {
       "layout": "IPY_MODEL_dc85c416e8f24fb683a8ea41af0e5342",
       "width": "900.0"
      }
     },
     "95426de1be1f4b268eb54f4bd777a397": {
      "model_module": "@jupyter-widgets/controls",
      "model_module_version": "1.5.0",
      "model_name": "ButtonStyleModel",
      "state": {}
     },
     "957f8e1b10c940c49227d48756f1298d": {
      "model_module": "@jupyter-widgets/controls",
      "model_module_version": "1.5.0",
      "model_name": "LinkModel",
      "state": {
       "source": [
        "IPY_MODEL_c8eb2cd448ff4e4ab126a9d7ea165f99",
        "max"
       ],
       "target": [
        "IPY_MODEL_77aee0e64b6a4a699c9fd9e0d67af93e",
        "max_frame"
       ]
      }
     },
     "962466256ecf43c5a58aaef301a9db0a": {
      "model_module": "@jupyter-widgets/controls",
      "model_module_version": "1.5.0",
      "model_name": "ImageModel",
      "state": {
       "layout": "IPY_MODEL_3a4466bb57aa4d7eaa0a852eeb328cc7",
       "width": "900.0"
      }
     },
     "96949b15ba5d41b5bbd9bdcecaa224c1": {
      "model_module": "@jupyter-widgets/controls",
      "model_module_version": "1.5.0",
      "model_name": "DescriptionStyleModel",
      "state": {
       "description_width": ""
      }
     },
     "99c0f245395344a083300d2bdc286385": {
      "model_module": "@jupyter-widgets/controls",
      "model_module_version": "1.5.0",
      "model_name": "SliderStyleModel",
      "state": {
       "description_width": ""
      }
     },
     "9a0b52173eaf40659b9f2e933d5a9343": {
      "model_module": "@jupyter-widgets/base",
      "model_module_version": "1.2.0",
      "model_name": "LayoutModel",
      "state": {}
     },
     "9a123409c19a4c8c99f9871043c059d8": {
      "model_module": "@jupyter-widgets/base",
      "model_module_version": "1.2.0",
      "model_name": "LayoutModel",
      "state": {
       "width": "34px"
      }
     },
     "9a2b3ddad2974303adc1a9fa7893332c": {
      "model_module": "@jupyter-widgets/base",
      "model_module_version": "1.2.0",
      "model_name": "LayoutModel",
      "state": {}
     },
     "9bfb507aa8e048a689b46c82505bd42b": {
      "model_module": "@jupyter-widgets/controls",
      "model_module_version": "1.5.0",
      "model_name": "LinkModel",
      "state": {
       "source": [
        "IPY_MODEL_ecc04aff57a5452b8a658c6255d6b25c",
        "value"
       ],
       "target": [
        "IPY_MODEL_afcd255034d9408cb44391f3d96814c8",
        "value"
       ]
      }
     },
     "9c34782a34eb46a5bf8fae5ad437fdde": {
      "model_module": "@jupyter-widgets/base",
      "model_module_version": "1.2.0",
      "model_name": "LayoutModel",
      "state": {}
     },
     "9c665c9906854c8896dfdd24194af320": {
      "model_module": "@jupyter-widgets/controls",
      "model_module_version": "1.5.0",
      "model_name": "PlayModel",
      "state": {
       "layout": "IPY_MODEL_a580c203d11c489fb6e96249645d62cb",
       "max": 0,
       "style": "IPY_MODEL_5a50790a8be446edbb1a18b8b3b3a7ae"
      }
     },
     "9d1dddeeb82c4d478cf3e7882b60de58": {
      "model_module": "@jupyter-widgets/controls",
      "model_module_version": "1.5.0",
      "model_name": "LinkModel",
      "state": {
       "source": [
        "IPY_MODEL_0f5540f8f2c94d7f873819b75b87a6ff",
        "max"
       ],
       "target": [
        "IPY_MODEL_37ceff9e6b1b48d187aee4e025f79e12",
        "max_frame"
       ]
      }
     },
     "9d9870fc5dfb47e796cdca4b8885a61c": {
      "model_module": "@jupyter-widgets/controls",
      "model_module_version": "1.5.0",
      "model_name": "LinkModel",
      "state": {
       "source": [
        "IPY_MODEL_c4b470a8944f47e89d5da4cf77e6e8d2",
        "max"
       ],
       "target": [
        "IPY_MODEL_5f8e17100ad34a3c88160aa22ba7dd4c",
        "max_frame"
       ]
      }
     },
     "9dc1447a57344d1b8ac0f635ee0f17bc": {
      "model_module": "@jupyter-widgets/controls",
      "model_module_version": "1.5.0",
      "model_name": "LinkModel",
      "state": {
       "source": [
        "IPY_MODEL_ecc04aff57a5452b8a658c6255d6b25c",
        "value"
       ],
       "target": [
        "IPY_MODEL_ac8b6b6ffff2470faca7c5be5ddfa9c5",
        "frame"
       ]
      }
     },
     "9e8d780f9716437d8758642f590b15f9": {
      "model_module": "@jupyter-widgets/controls",
      "model_module_version": "1.5.0",
      "model_name": "DescriptionStyleModel",
      "state": {
       "description_width": ""
      }
     },
     "9f59ba158f9c4ccf9599021d81004cfa": {
      "model_module": "nglview-js-widgets",
      "model_module_version": "3.0.1",
      "model_name": "NGLModel",
      "state": {
       "_camera_orientation": [
        27.69001440514524,
        0,
        0,
        0,
        0,
        27.69001440514524,
        0,
        0,
        0,
        0,
        27.69001440514524,
        0,
        0.7667999267578125,
        -0.19120001792907715,
        0.22374999523162842,
        1
       ],
       "_camera_str": "orthographic",
       "_gui_theme": null,
       "_ibtn_fullscreen": "IPY_MODEL_67f8c4940cac48e0aeeca0eb85642e1c",
       "_igui": null,
       "_iplayer": "IPY_MODEL_043445c6049247cc913906d49870ac7a",
       "_ngl_color_dict": {},
       "_ngl_coordinate_resource": {},
       "_ngl_full_stage_parameters": {
        "ambientColor": 14540253,
        "ambientIntensity": 0.2,
        "backgroundColor": "white",
        "cameraEyeSep": 0.3,
        "cameraFov": 40,
        "cameraType": "perspective",
        "clipDist": 10,
        "clipFar": 100,
        "clipNear": 0,
        "fogFar": 100,
        "fogNear": 50,
        "hoverTimeout": 0,
        "impostor": true,
        "lightColor": 14540253,
        "lightIntensity": 1,
        "mousePreset": "default",
        "panSpeed": 1,
        "quality": "medium",
        "rotateSpeed": 2,
        "sampleLevel": 0,
        "tooltip": true,
        "workerDefault": true,
        "zoomSpeed": 1.2
       },
       "_ngl_msg_archive": [
        {
         "args": [
          {
           "binary": false,
           "data": "\nQCElemental\n\n 33 33  0  0  0  0  0  0  0  0  0\n   -3.3785    0.0272   -2.1608  C  0  0     0  0  0  0  0  0\n   -3.7896    0.7398   -0.8698  C  0  0     0  0  0  0  0  0\n   -5.3154    0.7558   -0.7497  C  0  0     0  0  0  0  0  0\n   -3.1632    0.0773    0.3744  C  0  0     0  0  0  0  0  0\n   -1.6515    0.1369    0.4108  C  0  0     0  0  0  0  0  0\n   -0.9805    1.3653    0.3864  C  0  0     0  0  0  0  0  0\n    0.4152    1.4169    0.4110  C  0  0     0  0  0  0  0  0\n    1.1748    0.2397    0.4767  C  0  0     0  0  0  0  0  0\n    0.5006   -0.9884    0.5345  C  0  0     0  0  0  0  0  0\n   -0.8962   -1.0390    0.4944  C  0  0     0  0  0  0  0  0\n    2.6910    0.3316    0.5508  C  0  0     0  0  0  0  0  0\n    3.1431    0.4242    2.0089  C  0  0     0  0  0  0  0  0\n    3.4176   -0.7942   -0.1781  C  0  0     0  0  0  0  0  0\n    4.2282   -1.5549    0.3285  O  0  0     0  0  0  0  0  0\n    3.1093   -0.8658   -1.4998  O  0  0     0  0  0  0  0  0\n   -3.8281    0.5165   -3.0310  H  0  0     0  0  0  0  0  0\n   -3.7013   -1.0194   -2.1570  H  0  0     0  0  0  0  0  0\n   -2.2928    0.0479   -2.3008  H  0  0     0  0  0  0  0  0\n   -3.4565    1.7826   -0.9384  H  0  0     0  0  0  0  0  0\n   -5.7217   -0.2588   -0.6801  H  0  0     0  0  0  0  0  0\n   -5.7675    1.2423   -1.6208  H  0  0     0  0  0  0  0  0\n   -5.6298    1.3103    0.1407  H  0  0     0  0  0  0  0  0\n   -3.4960   -0.9672    0.4348  H  0  0     0  0  0  0  0  0\n   -3.5369    0.5657    1.2842  H  0  0     0  0  0  0  0  0\n   -1.5422    2.2968    0.3523  H  0  0     0  0  0  0  0  0\n    0.9018    2.3901    0.3983  H  0  0     0  0  0  0  0  0\n    1.0505   -1.9248    0.6196  H  0  0     0  0  0  0  0  0\n   -1.3895   -2.0077    0.5353  H  0  0     0  0  0  0  0  0\n    3.0167    1.2525    0.0471  H  0  0     0  0  0  0  0  0\n    2.8318   -0.4561    2.5835  H  0  0     0  0  0  0  0  0\n    2.7190    1.3087    2.4961  H  0  0     0  0  0  0  0  0\n    4.2339    0.4965    2.0775  H  0  0     0  0  0  0  0  0\n    2.4192   -0.2269   -1.7693  H  0  0     0  0  0  0  0  0\n  1  2  1  0  0  0  0\n  1 16  1  0  0  0  0\n  1 17  1  0  0  0  0\n  1 18  1  0  0  0  0\n  2  3  1  0  0  0  0\n  2  4  1  0  0  0  0\n  2 19  1  0  0  0  0\n  3 20  1  0  0  0  0\n  3 21  1  0  0  0  0\n  3 22  1  0  0  0  0\n  4  5  1  0  0  0  0\n  4 23  1  0  0  0  0\n  4 24  1  0  0  0  0\n  5  6  1  0  0  0  0\n  5 10  1  0  0  0  0\n  6  7  1  0  0  0  0\n  6 25  1  0  0  0  0\n  7  8  1  0  0  0  0\n  7 26  1  0  0  0  0\n  8  9  1  0  0  0  0\n  8 11  1  0  0  0  0\n  9 10  1  0  0  0  0\n  9 27  1  0  0  0  0\n 10 28  1  0  0  0  0\n 11 12  1  0  0  0  0\n 11 13  1  0  0  0  0\n 11 29  1  0  0  0  0\n 12 30  1  0  0  0  0\n 12 31  1  0  0  0  0\n 12 32  1  0  0  0  0\n 13 14  1  0  0  0  0\n 13 15  1  0  0  0  0\n 15 33  1  0  0  0  0\n",
           "type": "blob"
          }
         ],
         "kwargs": {
          "defaultRepresentation": false,
          "ext": "sdf"
         },
         "methodName": "loadFile",
         "reconstruc_color_scheme": false,
         "target": "Stage",
         "type": "call_method"
        }
       ],
       "_ngl_original_stage_parameters": {
        "ambientColor": 14540253,
        "ambientIntensity": 0.2,
        "backgroundColor": "white",
        "cameraEyeSep": 0.3,
        "cameraFov": 40,
        "cameraType": "perspective",
        "clipDist": 10,
        "clipFar": 100,
        "clipNear": 0,
        "fogFar": 100,
        "fogNear": 50,
        "hoverTimeout": 0,
        "impostor": true,
        "lightColor": 14540253,
        "lightIntensity": 1,
        "mousePreset": "default",
        "panSpeed": 1,
        "quality": "medium",
        "rotateSpeed": 2,
        "sampleLevel": 0,
        "tooltip": true,
        "workerDefault": true,
        "zoomSpeed": 1.2
       },
       "_ngl_repr_dict": {
        "0": {
         "0": {
          "params": {
           "aspectRatio": 1.5,
           "assembly": "default",
           "bondScale": 0.3,
           "bondSpacing": 0.75,
           "clipCenter": {
            "x": 0,
            "y": 0,
            "z": 0
           },
           "clipNear": 0,
           "clipRadius": 0,
           "colorMode": "hcl",
           "colorReverse": false,
           "colorScale": "",
           "colorScheme": "element",
           "colorValue": 9474192,
           "cylinderOnly": false,
           "defaultAssembly": "",
           "depthWrite": true,
           "diffuse": 16777215,
           "diffuseInterior": false,
           "disableImpostor": false,
           "disablePicking": false,
           "flatShaded": false,
           "interiorColor": 2236962,
           "interiorDarkening": 0,
           "lazy": false,
           "lineOnly": false,
           "linewidth": 2,
           "matrix": {
            "elements": [
             1,
             0,
             0,
             0,
             0,
             1,
             0,
             0,
             0,
             0,
             1,
             0,
             0,
             0,
             0,
             1
            ]
           },
           "metalness": 0,
           "multipleBond": "off",
           "opacity": 1,
           "openEnded": true,
           "quality": "high",
           "radialSegments": 20,
           "radiusData": {},
           "radiusScale": 2,
           "radiusSize": 0.15,
           "radiusType": "size",
           "roughness": 0.4,
           "sele": "",
           "side": "double",
           "sphereDetail": 2,
           "useInteriorColor": true,
           "useWorker": true,
           "visible": true,
           "wireframe": false
          },
          "type": "ball+stick"
         }
        }
       },
       "_ngl_serialize": false,
       "_ngl_version": "2.0.0-dev.36",
       "_ngl_view_id": [
        "F5B3F76F-885E-47E4-8149-35B03A3EDD27",
        "6B8DDEDF-ABAB-4B98-84CB-A4BBD28FC33A"
       ],
       "_player_dict": {},
       "_scene_position": {},
       "_scene_rotation": {},
       "_synced_model_ids": [],
       "_synced_repr_model_ids": [],
       "_view_height": "",
       "_view_width": "",
       "background": "white",
       "frame": 0,
       "gui_style": null,
       "layout": "IPY_MODEL_3ccd8d47d1264d5e913a5d348371297f",
       "max_frame": 0,
       "n_components": 1,
       "picked": {}
      }
     },
     "a0021a4416d641cd8922ca23596ebf8a": {
      "model_module": "@jupyter-widgets/base",
      "model_module_version": "1.2.0",
      "model_name": "LayoutModel",
      "state": {}
     },
     "a1f0b94615c1498f81e4a6f23337878b": {
      "model_module": "@jupyter-widgets/base",
      "model_module_version": "1.2.0",
      "model_name": "LayoutModel",
      "state": {}
     },
     "a223999163d64bcb9e92b14c0ff99e0e": {
      "model_module": "@jupyter-widgets/controls",
      "model_module_version": "1.5.0",
      "model_name": "IntSliderModel",
      "state": {
       "layout": "IPY_MODEL_19f5ba294bea4c8db6c6b3c82e7225bb",
       "max": 0,
       "style": "IPY_MODEL_8c68c79ff4fd4460a84ec8bdbd1812eb"
      }
     },
     "a31635aa38254d78b6dc7f715ec3b102": {
      "model_module": "@jupyter-widgets/controls",
      "model_module_version": "1.5.0",
      "model_name": "SliderStyleModel",
      "state": {
       "description_width": ""
      }
     },
     "a4577486184347078370431027caa476": {
      "model_module": "nglview-js-widgets",
      "model_module_version": "3.0.1",
      "model_name": "NGLModel",
      "state": {
       "_camera_orientation": [
        8.865866721377667,
        21.535258975176653,
        -2.9922766021632015,
        0,
        5.828632871638016,
        -5.467351769038547,
        -22.078491673895275,
        0,
        -20.94631560058813,
        7.59377222588856,
        -7.410207639121527,
        0,
        -0.2254999876022339,
        -23.902999877929688,
        -11.89799976348877,
        1
       ],
       "_camera_str": "orthographic",
       "_gui_theme": null,
       "_ibtn_fullscreen": "IPY_MODEL_7ea22b6911aa4ff28d1e4f0b0e259302",
       "_igui": null,
       "_iplayer": "IPY_MODEL_18e1085b97c94563b44d407b8732033c",
       "_ngl_color_dict": {},
       "_ngl_coordinate_resource": {},
       "_ngl_full_stage_parameters": {
        "ambientColor": 14540253,
        "ambientIntensity": 0.2,
        "backgroundColor": "white",
        "cameraEyeSep": 0.3,
        "cameraFov": 40,
        "cameraType": "perspective",
        "clipDist": 10,
        "clipFar": 100,
        "clipNear": 0,
        "fogFar": 100,
        "fogNear": 50,
        "hoverTimeout": 0,
        "impostor": true,
        "lightColor": 14540253,
        "lightIntensity": 1,
        "mousePreset": "default",
        "panSpeed": 1,
        "quality": "medium",
        "rotateSpeed": 2,
        "sampleLevel": 0,
        "tooltip": true,
        "workerDefault": true,
        "zoomSpeed": 1.2
       },
       "_ngl_msg_archive": [
        {
         "args": [
          {
           "binary": false,
           "data": "HETATM    1  C   UNK     1      -1.235  23.610  12.486  1.00  0.00           C  \nHETATM    2  C   UNK     1      -1.924  24.785  12.164  1.00  0.00           C  \nHETATM    3  C   UNK     1      -1.490  25.604  11.119  1.00  0.00           C  \nHETATM    4  C   UNK     1      -0.345  25.275  10.378  1.00  0.00           C  \nHETATM    5  C   UNK     1       0.362  24.114  10.724  1.00  0.00           C  \nHETATM    6  C   UNK     1      -0.082  23.288  11.760  1.00  0.00           C  \nHETATM    7  C   UNK     1       0.347  26.013   9.228  1.00  0.00           C  \nHETATM    8  C   UNK     1      -0.770  26.803   8.444  1.00  0.00           C  \nHETATM    9  C   UNK     1       1.606  26.401   9.175  1.00  0.00           C  \nHETATM   10  O   UNK     1       2.375  25.979   8.325  1.00  0.00           O  \nHETATM   11  O   UNK     1       1.964  27.409  10.015  1.00  0.00           O  \nHETATM   12  H   UNK     1       1.548  27.340  10.898  1.00  0.00           H  \nHETATM   13  C   UNK     1      -1.536  22.559  13.571  1.00  0.00           C  \nHETATM   14  C   UNK     1       0.153  22.536  15.471  1.00  0.00           C  \nHETATM   15  C   UNK     1      -0.075  21.925  14.031  1.00  0.00           C  \nHETATM   16  C   UNK     1      -0.158  20.397  13.974  1.00  0.00           C  \nEND                                                                             \n",
           "type": "blob"
          }
         ],
         "kwargs": {
          "defaultRepresentation": true,
          "ext": "pdb"
         },
         "methodName": "loadFile",
         "reconstruc_color_scheme": false,
         "target": "Stage",
         "type": "call_method"
        }
       ],
       "_ngl_original_stage_parameters": {
        "ambientColor": 14540253,
        "ambientIntensity": 0.2,
        "backgroundColor": "white",
        "cameraEyeSep": 0.3,
        "cameraFov": 40,
        "cameraType": "perspective",
        "clipDist": 10,
        "clipFar": 100,
        "clipNear": 0,
        "fogFar": 100,
        "fogNear": 50,
        "hoverTimeout": 0,
        "impostor": true,
        "lightColor": 14540253,
        "lightIntensity": 1,
        "mousePreset": "default",
        "panSpeed": 1,
        "quality": "medium",
        "rotateSpeed": 2,
        "sampleLevel": 0,
        "tooltip": true,
        "workerDefault": true,
        "zoomSpeed": 1.2
       },
       "_ngl_repr_dict": {
        "0": {
         "0": {
          "params": {
           "aspectRatio": 1.5,
           "assembly": "default",
           "bondScale": 0.3,
           "bondSpacing": 0.75,
           "clipCenter": {
            "x": 0,
            "y": 0,
            "z": 0
           },
           "clipNear": 0,
           "clipRadius": 0,
           "colorMode": "hcl",
           "colorReverse": false,
           "colorScale": "",
           "colorScheme": "element",
           "colorValue": 9474192,
           "cylinderOnly": false,
           "defaultAssembly": "",
           "depthWrite": true,
           "diffuse": 16777215,
           "diffuseInterior": false,
           "disableImpostor": false,
           "disablePicking": false,
           "flatShaded": false,
           "interiorColor": 2236962,
           "interiorDarkening": 0,
           "lazy": false,
           "lineOnly": false,
           "linewidth": 2,
           "matrix": {
            "elements": [
             1,
             0,
             0,
             0,
             0,
             1,
             0,
             0,
             0,
             0,
             1,
             0,
             0,
             0,
             0,
             1
            ]
           },
           "metalness": 0,
           "multipleBond": "off",
           "opacity": 1,
           "openEnded": true,
           "quality": "high",
           "radialSegments": 20,
           "radiusData": {},
           "radiusScale": 2,
           "radiusSize": 0.15,
           "radiusType": "size",
           "roughness": 0.4,
           "sele": "",
           "side": "double",
           "sphereDetail": 2,
           "useInteriorColor": true,
           "visible": true,
           "wireframe": false
          },
          "type": "ball+stick"
         }
        }
       },
       "_ngl_serialize": false,
       "_ngl_version": "2.0.0-dev.36",
       "_ngl_view_id": [
        "89466218-48D6-4771-B196-04B496DC8E1B"
       ],
       "_player_dict": {},
       "_scene_position": {},
       "_scene_rotation": {},
       "_synced_model_ids": [],
       "_synced_repr_model_ids": [],
       "_view_height": "",
       "_view_width": "",
       "background": "white",
       "frame": 0,
       "gui_style": null,
       "layout": "IPY_MODEL_f28b1b21b8ba4c00854b84555d35aa14",
       "max_frame": 0,
       "n_components": 1,
       "picked": {}
      }
     },
     "a45f37e76b07421eaa513a536a7c4b92": {
      "model_module": "@jupyter-widgets/controls",
      "model_module_version": "1.5.0",
      "model_name": "ButtonStyleModel",
      "state": {}
     },
     "a509c44e1ac246d2b12783a8bc22e446": {
      "model_module": "@jupyter-widgets/base",
      "model_module_version": "1.2.0",
      "model_name": "LayoutModel",
      "state": {}
     },
     "a566b9b0f4db43878120ff490902eef9": {
      "model_module": "@jupyter-widgets/base",
      "model_module_version": "1.2.0",
      "model_name": "LayoutModel",
      "state": {}
     },
     "a580c203d11c489fb6e96249645d62cb": {
      "model_module": "@jupyter-widgets/base",
      "model_module_version": "1.2.0",
      "model_name": "LayoutModel",
      "state": {}
     },
     "a651119eabcf442394fe29ea4d9da2ae": {
      "model_module": "@jupyter-widgets/controls",
      "model_module_version": "1.5.0",
      "model_name": "ImageModel",
      "state": {
       "layout": "IPY_MODEL_7150ee3a824745c89470b98b6df96260",
       "width": "900.0"
      }
     },
     "a660989b9536424889cf8132ee274299": {
      "model_module": "@jupyter-widgets/base",
      "model_module_version": "1.2.0",
      "model_name": "LayoutModel",
      "state": {}
     },
     "a76fe08857dd444fa731eacdf2021de7": {
      "model_module": "@jupyter-widgets/controls",
      "model_module_version": "1.5.0",
      "model_name": "LinkModel",
      "state": {
       "source": [
        "IPY_MODEL_fd567b025a7142b392d56f76ba34148c",
        "max"
       ],
       "target": [
        "IPY_MODEL_14184cdc7998404abd46cb8197c11168",
        "max_frame"
       ]
      }
     },
     "a80de3eb44ef474a88fb9bff86b5e210": {
      "model_module": "@jupyter-widgets/base",
      "model_module_version": "1.2.0",
      "model_name": "LayoutModel",
      "state": {}
     },
     "a9342113ab284c2b8167ce00e8ddb260": {
      "model_module": "@jupyter-widgets/controls",
      "model_module_version": "1.5.0",
      "model_name": "LinkModel",
      "state": {
       "source": [
        "IPY_MODEL_e5934750f4c94609bc29839d0fc053a7",
        "value"
       ],
       "target": [
        "IPY_MODEL_aa0a1c2dc0aa47d6b6155ef8e2e273d0",
        "value"
       ]
      }
     },
     "a97ef8872d6a4da3a523f05535635d75": {
      "model_module": "@jupyter-widgets/controls",
      "model_module_version": "1.5.0",
      "model_name": "SliderStyleModel",
      "state": {
       "description_width": ""
      }
     },
     "a9e303ff90a8432994bf3607381d6980": {
      "model_module": "@jupyter-widgets/controls",
      "model_module_version": "1.5.0",
      "model_name": "LinkModel",
      "state": {
       "source": [
        "IPY_MODEL_f994420cab974aea832e82fb222a840e",
        "value"
       ],
       "target": [
        "IPY_MODEL_c285a9480e5149f28ceb7eb397e9fca6",
        "value"
       ]
      }
     },
     "aa0a1c2dc0aa47d6b6155ef8e2e273d0": {
      "model_module": "@jupyter-widgets/controls",
      "model_module_version": "1.5.0",
      "model_name": "IntSliderModel",
      "state": {
       "layout": "IPY_MODEL_134ba3c9dcef48ac86a599a34cea12aa",
       "max": 0,
       "style": "IPY_MODEL_ecf6d12ea238479c989935db358c3143"
      }
     },
     "aa952ce970444abd8fe3f7aa83eb9bd8": {
      "model_module": "@jupyter-widgets/controls",
      "model_module_version": "1.5.0",
      "model_name": "PlayModel",
      "state": {
       "layout": "IPY_MODEL_2db46afe37cc4d6abe38d6416a02be9f",
       "max": 0,
       "style": "IPY_MODEL_b0a9e0691b744d2f81b9cf310aabd6be"
      }
     },
     "aae16018ff204bf2926d872d9206ca2b": {
      "model_module": "nglview-js-widgets",
      "model_module_version": "3.0.1",
      "model_name": "NGLModel",
      "state": {
       "_camera_orientation": [
        27.608552179894808,
        0,
        0,
        0,
        0,
        27.608552179894808,
        0,
        0,
        0,
        0,
        27.608552179894808,
        0,
        -5.552000135183334,
        0.8974999785423279,
        -0.2745000720024109,
        1
       ],
       "_camera_str": "orthographic",
       "_gui_theme": null,
       "_ibtn_fullscreen": "IPY_MODEL_1809855c9c5f416198bdeb14ff356094",
       "_igui": null,
       "_iplayer": "IPY_MODEL_c610b1aa015d4036bebb186ec21323ff",
       "_ngl_color_dict": {},
       "_ngl_coordinate_resource": {},
       "_ngl_full_stage_parameters": {
        "ambientColor": 14540253,
        "ambientIntensity": 0.2,
        "backgroundColor": "white",
        "cameraEyeSep": 0.3,
        "cameraFov": 40,
        "cameraType": "perspective",
        "clipDist": 10,
        "clipFar": 100,
        "clipNear": 0,
        "fogFar": 100,
        "fogNear": 50,
        "hoverTimeout": 0,
        "impostor": true,
        "lightColor": 14540253,
        "lightIntensity": 1,
        "mousePreset": "default",
        "panSpeed": 1,
        "quality": "medium",
        "rotateSpeed": 2,
        "sampleLevel": 0,
        "tooltip": true,
        "workerDefault": true,
        "zoomSpeed": 1.2
       },
       "_ngl_msg_archive": [
        {
         "args": [
          {
           "binary": false,
           "data": "HETATM    1  C   UNL     1       3.060   1.125   0.503  1.00  0.00           C  \nHETATM    2  C   UNL     1       2.518  -0.218   0.997  1.00  0.00           C  \nHETATM    3  C   UNL     1       0.988  -0.198   0.964  1.00  0.00           C  \nHETATM    4  C   UNL     1       3.060  -1.402   0.164  1.00  0.00           C  \nHETATM    5  C   UNL     1       4.567  -1.533   0.219  1.00  0.00           C  \nHETATM    6  C   UNL     1       5.224  -1.762   1.433  1.00  0.00           C  \nHETATM    7  C   UNL     1       6.620  -1.798   1.493  1.00  0.00           C  \nHETATM    8  C   UNL     1       7.393  -1.619   0.337  1.00  0.00           C  \nHETATM    9  C   UNL     1       6.730  -1.451  -0.889  1.00  0.00           C  \nHETATM   10  C   UNL     1       5.334  -1.401  -0.945  1.00  0.00           C  \nHETATM   11  C   UNL     1       8.910  -1.646   0.432  1.00  0.00           C  \nHETATM   12  C   UNL     1       9.436  -3.071   0.254  1.00  0.00           C  \nHETATM   13  C   UNL     1       9.608  -0.684  -0.526  1.00  0.00           C  \nHETATM   14  O   UNL     1      10.439  -1.005  -1.364  1.00  0.00           O  \nHETATM   15  O   UNL     1       9.247   0.612  -0.348  1.00  0.00           O  \nHETATM   16  H   UNL     1       2.675   1.946   1.117  1.00  0.00           H  \nHETATM   17  H   UNL     1       2.769   1.313  -0.536  1.00  0.00           H  \nHETATM   18  H   UNL     1       4.153   1.163   0.562  1.00  0.00           H  \nHETATM   19  H   UNL     1       2.822  -0.341   2.043  1.00  0.00           H  \nHETATM   20  H   UNL     1       0.612  -0.078  -0.059  1.00  0.00           H  \nHETATM   21  H   UNL     1       0.599   0.632   1.565  1.00  0.00           H  \nHETATM   22  H   UNL     1       0.575  -1.126   1.371  1.00  0.00           H  \nHETATM   23  H   UNL     1       2.732  -1.296  -0.877  1.00  0.00           H  \nHETATM   24  H   UNL     1       2.624  -2.343   0.524  1.00  0.00           H  \nHETATM   25  H   UNL     1       4.651  -1.901   2.348  1.00  0.00           H  \nHETATM   26  H   UNL     1       7.097  -1.970   2.456  1.00  0.00           H  \nHETATM   27  H   UNL     1       7.290  -1.347  -1.818  1.00  0.00           H  \nHETATM   28  H   UNL     1       4.851  -1.245  -1.907  1.00  0.00           H  \nHETATM   29  H   UNL     1       9.207  -1.311   1.437  1.00  0.00           H  \nHETATM   30  H   UNL     1       9.171  -3.477  -0.729  1.00  0.00           H  \nHETATM   31  H   UNL     1       9.027  -3.741   1.017  1.00  0.00           H  \nHETATM   32  H   UNL     1      10.529  -3.095   0.339  1.00  0.00           H  \nHETATM   33  H   UNL     1       8.546   0.728   0.323  1.00  0.00           H  \nEND                                                                             \n",
           "type": "blob"
          }
         ],
         "kwargs": {
          "defaultRepresentation": false,
          "ext": "pdb"
         },
         "methodName": "loadFile",
         "reconstruc_color_scheme": false,
         "target": "Stage",
         "type": "call_method"
        }
       ],
       "_ngl_original_stage_parameters": {
        "ambientColor": 14540253,
        "ambientIntensity": 0.2,
        "backgroundColor": "white",
        "cameraEyeSep": 0.3,
        "cameraFov": 40,
        "cameraType": "perspective",
        "clipDist": 10,
        "clipFar": 100,
        "clipNear": 0,
        "fogFar": 100,
        "fogNear": 50,
        "hoverTimeout": 0,
        "impostor": true,
        "lightColor": 14540253,
        "lightIntensity": 1,
        "mousePreset": "default",
        "panSpeed": 1,
        "quality": "medium",
        "rotateSpeed": 2,
        "sampleLevel": 0,
        "tooltip": true,
        "workerDefault": true,
        "zoomSpeed": 1.2
       },
       "_ngl_repr_dict": {
        "0": {
         "0": {
          "params": {
           "aspectRatio": 1.5,
           "assembly": "default",
           "bondScale": 0.3,
           "bondSpacing": 0.75,
           "clipCenter": {
            "x": 0,
            "y": 0,
            "z": 0
           },
           "clipNear": 0,
           "clipRadius": 0,
           "colorMode": "hcl",
           "colorReverse": false,
           "colorScale": "",
           "colorScheme": "element",
           "colorValue": 9474192,
           "cylinderOnly": false,
           "defaultAssembly": "",
           "depthWrite": true,
           "diffuse": 16777215,
           "diffuseInterior": false,
           "disableImpostor": false,
           "disablePicking": false,
           "flatShaded": false,
           "interiorColor": 2236962,
           "interiorDarkening": 0,
           "lazy": false,
           "lineOnly": false,
           "linewidth": 2,
           "matrix": {
            "elements": [
             1,
             0,
             0,
             0,
             0,
             1,
             0,
             0,
             0,
             0,
             1,
             0,
             0,
             0,
             0,
             1
            ]
           },
           "metalness": 0,
           "multipleBond": "off",
           "opacity": 1,
           "openEnded": true,
           "quality": "high",
           "radialSegments": 20,
           "radiusData": {},
           "radiusScale": 2,
           "radiusSize": 0.15,
           "radiusType": "size",
           "roughness": 0.4,
           "sele": "",
           "side": "double",
           "sphereDetail": 2,
           "useInteriorColor": true,
           "useWorker": true,
           "visible": true,
           "wireframe": false
          },
          "type": "ball+stick"
         }
        }
       },
       "_ngl_serialize": false,
       "_ngl_version": "2.0.0-dev.36",
       "_ngl_view_id": [
        "66D3E3F4-09B7-4A05-AF5F-6B3CD77B806E",
        "4B8A5FF6-AC57-442C-A3F8-027DB15F90EE"
       ],
       "_player_dict": {},
       "_scene_position": {},
       "_scene_rotation": {},
       "_synced_model_ids": [],
       "_synced_repr_model_ids": [],
       "_view_height": "",
       "_view_width": "",
       "background": "white",
       "frame": 0,
       "gui_style": null,
       "layout": "IPY_MODEL_5ec15e8c5ed34524a08137c30b14cdb0",
       "max_frame": 0,
       "n_components": 1,
       "picked": {}
      }
     },
     "ab553a0607d5495c853e4210fbe0d6e8": {
      "model_module": "@jupyter-widgets/base",
      "model_module_version": "1.2.0",
      "model_name": "LayoutModel",
      "state": {}
     },
     "ac527a644b134bc1ae76918574f2b389": {
      "model_module": "@jupyter-widgets/base",
      "model_module_version": "1.2.0",
      "model_name": "LayoutModel",
      "state": {}
     },
     "ac5f4cf521cd42af8df1d5c12e009858": {
      "model_module": "@jupyter-widgets/controls",
      "model_module_version": "1.5.0",
      "model_name": "LinkModel",
      "state": {
       "source": [
        "IPY_MODEL_b7d7d4ebd56647dc98771e6e59686e92",
        "value"
       ],
       "target": [
        "IPY_MODEL_933d7318699048d0aec3ff45c69723f7",
        "frame"
       ]
      }
     },
     "ac8b6b6ffff2470faca7c5be5ddfa9c5": {
      "model_module": "nglview-js-widgets",
      "model_module_version": "3.0.1",
      "model_name": "NGLModel",
      "state": {
       "_camera_orientation": [
        27.69016129972202,
        0,
        0,
        0,
        0,
        27.69016129972202,
        0,
        0,
        0,
        0,
        27.69016129972202,
        0,
        -5.4539502412080765,
        0.6496000289916992,
        1.7701501250267029,
        1
       ],
       "_camera_str": "orthographic",
       "_gui_theme": null,
       "_ibtn_fullscreen": "IPY_MODEL_faa63a17c37e47adaae083d329a45ddf",
       "_igui": null,
       "_iplayer": "IPY_MODEL_6a03b84a6fa440f090463e6dd4f31498",
       "_ngl_color_dict": {},
       "_ngl_coordinate_resource": {},
       "_ngl_full_stage_parameters": {
        "ambientColor": 14540253,
        "ambientIntensity": 0.2,
        "backgroundColor": "white",
        "cameraEyeSep": 0.3,
        "cameraFov": 40,
        "cameraType": "perspective",
        "clipDist": 10,
        "clipFar": 100,
        "clipNear": 0,
        "fogFar": 100,
        "fogNear": 50,
        "hoverTimeout": 0,
        "impostor": true,
        "lightColor": 14540253,
        "lightIntensity": 1,
        "mousePreset": "default",
        "panSpeed": 1,
        "quality": "medium",
        "rotateSpeed": 2,
        "sampleLevel": 0,
        "tooltip": true,
        "workerDefault": true,
        "zoomSpeed": 1.2
       },
       "_ngl_msg_archive": [
        {
         "args": [
          {
           "binary": false,
           "data": "\nQCElemental\n\n 33 33  0  0  0  0  0  0  0  0  0\n    2.8422   -0.8136   -3.7072  C  0  0     0  0  0  0  0  0\n    2.4311   -0.1010   -2.4162  C  0  0     0  0  0  0  0  0\n    0.9054   -0.0850   -2.2961  C  0  0     0  0  0  0  0  0\n    3.0575   -0.7635   -1.1719  C  0  0     0  0  0  0  0  0\n    4.5692   -0.7039   -1.1355  C  0  0     0  0  0  0  0  0\n    5.2402    0.5245   -1.1600  C  0  0     0  0  0  0  0  0\n    6.6359    0.5761   -1.1354  C  0  0     0  0  0  0  0  0\n    7.3956   -0.6011   -1.0697  C  0  0     0  0  0  0  0  0\n    6.7213   -1.8292   -1.0119  C  0  0     0  0  0  0  0  0\n    5.3245   -1.8798   -1.0520  C  0  0     0  0  0  0  0  0\n    8.9117   -0.5092   -0.9955  C  0  0     0  0  0  0  0  0\n    9.3638   -0.4166    0.4625  C  0  0     0  0  0  0  0  0\n    9.6383   -1.6350   -1.7245  C  0  0     0  0  0  0  0  0\n   10.4489   -2.3957   -1.2178  O  0  0     0  0  0  0  0  0\n    9.3300   -1.7066   -3.0462  O  0  0     0  0  0  0  0  0\n    2.3926   -0.3243   -4.5774  H  0  0     0  0  0  0  0  0\n    2.5195   -1.8602   -3.7034  H  0  0     0  0  0  0  0  0\n    3.9280   -0.7930   -3.8472  H  0  0     0  0  0  0  0  0\n    2.7642    0.9417   -2.4848  H  0  0     0  0  0  0  0  0\n    0.4990   -1.0997   -2.2264  H  0  0     0  0  0  0  0  0\n    0.4532    0.4015   -3.1672  H  0  0     0  0  0  0  0  0\n    0.5909    0.4695   -1.4057  H  0  0     0  0  0  0  0  0\n    2.7247   -1.8080   -1.1116  H  0  0     0  0  0  0  0  0\n    2.6839   -0.2751   -0.2622  H  0  0     0  0  0  0  0  0\n    4.6785    1.4560   -1.1941  H  0  0     0  0  0  0  0  0\n    7.1225    1.5493   -1.1481  H  0  0     0  0  0  0  0  0\n    7.2712   -2.7657   -0.9268  H  0  0     0  0  0  0  0  0\n    4.8312   -2.8485   -1.0111  H  0  0     0  0  0  0  0  0\n    9.2375    0.4116   -1.4993  H  0  0     0  0  0  0  0  0\n    9.0525   -1.2969    1.0371  H  0  0     0  0  0  0  0  0\n    8.9397    0.4679    0.9497  H  0  0     0  0  0  0  0  0\n   10.4547   -0.3443    0.5311  H  0  0     0  0  0  0  0  0\n    8.6399   -1.0678   -3.3157  H  0  0     0  0  0  0  0  0\n  1  2  1  0  0  0  0\n  1 16  1  0  0  0  0\n  1 17  1  0  0  0  0\n  1 18  1  0  0  0  0\n  2  3  1  0  0  0  0\n  2  4  1  0  0  0  0\n  2 19  1  0  0  0  0\n  3 20  1  0  0  0  0\n  3 21  1  0  0  0  0\n  3 22  1  0  0  0  0\n  4  5  1  0  0  0  0\n  4 23  1  0  0  0  0\n  4 24  1  0  0  0  0\n  5  6  1  0  0  0  0\n  5 10  1  0  0  0  0\n  6  7  1  0  0  0  0\n  6 25  1  0  0  0  0\n  7  8  1  0  0  0  0\n  7 26  1  0  0  0  0\n  8  9  1  0  0  0  0\n  8 11  1  0  0  0  0\n  9 10  1  0  0  0  0\n  9 27  1  0  0  0  0\n 10 28  1  0  0  0  0\n 11 12  1  0  0  0  0\n 11 13  1  0  0  0  0\n 11 29  1  0  0  0  0\n 12 30  1  0  0  0  0\n 12 31  1  0  0  0  0\n 12 32  1  0  0  0  0\n 13 14  1  0  0  0  0\n 13 15  1  0  0  0  0\n 15 33  1  0  0  0  0\n",
           "type": "blob"
          }
         ],
         "kwargs": {
          "defaultRepresentation": false,
          "ext": "sdf"
         },
         "methodName": "loadFile",
         "reconstruc_color_scheme": false,
         "target": "Stage",
         "type": "call_method"
        }
       ],
       "_ngl_original_stage_parameters": {
        "ambientColor": 14540253,
        "ambientIntensity": 0.2,
        "backgroundColor": "white",
        "cameraEyeSep": 0.3,
        "cameraFov": 40,
        "cameraType": "perspective",
        "clipDist": 10,
        "clipFar": 100,
        "clipNear": 0,
        "fogFar": 100,
        "fogNear": 50,
        "hoverTimeout": 0,
        "impostor": true,
        "lightColor": 14540253,
        "lightIntensity": 1,
        "mousePreset": "default",
        "panSpeed": 1,
        "quality": "medium",
        "rotateSpeed": 2,
        "sampleLevel": 0,
        "tooltip": true,
        "workerDefault": true,
        "zoomSpeed": 1.2
       },
       "_ngl_repr_dict": {
        "0": {
         "0": {
          "params": {
           "aspectRatio": 1.5,
           "assembly": "default",
           "bondScale": 0.3,
           "bondSpacing": 0.75,
           "clipCenter": {
            "x": 0,
            "y": 0,
            "z": 0
           },
           "clipNear": 0,
           "clipRadius": 0,
           "colorMode": "hcl",
           "colorReverse": false,
           "colorScale": "",
           "colorScheme": "element",
           "colorValue": 9474192,
           "cylinderOnly": false,
           "defaultAssembly": "",
           "depthWrite": true,
           "diffuse": 16777215,
           "diffuseInterior": false,
           "disableImpostor": false,
           "disablePicking": false,
           "flatShaded": false,
           "interiorColor": 2236962,
           "interiorDarkening": 0,
           "lazy": false,
           "lineOnly": false,
           "linewidth": 2,
           "matrix": {
            "elements": [
             1,
             0,
             0,
             0,
             0,
             1,
             0,
             0,
             0,
             0,
             1,
             0,
             0,
             0,
             0,
             1
            ]
           },
           "metalness": 0,
           "multipleBond": "off",
           "opacity": 1,
           "openEnded": true,
           "quality": "high",
           "radialSegments": 20,
           "radiusData": {},
           "radiusScale": 2,
           "radiusSize": 0.15,
           "radiusType": "size",
           "roughness": 0.4,
           "sele": "",
           "side": "double",
           "sphereDetail": 2,
           "useInteriorColor": true,
           "useWorker": true,
           "visible": true,
           "wireframe": false
          },
          "type": "ball+stick"
         }
        }
       },
       "_ngl_serialize": false,
       "_ngl_version": "2.0.0-dev.36",
       "_ngl_view_id": [
        "4D25D894-6560-4078-90BE-6C65DA13186D",
        "CD97F053-11F7-413A-9CEF-DA134AD758C4"
       ],
       "_player_dict": {},
       "_scene_position": {},
       "_scene_rotation": {},
       "_synced_model_ids": [],
       "_synced_repr_model_ids": [],
       "_view_height": "",
       "_view_width": "",
       "background": "white",
       "frame": 0,
       "gui_style": null,
       "layout": "IPY_MODEL_88b6426cb6e442bdad83844ff43975c2",
       "max_frame": 0,
       "n_components": 1,
       "picked": {}
      }
     },
     "adc1d81e49c54c448d28630cfad6d3d4": {
      "model_module": "nglview-js-widgets",
      "model_module_version": "3.0.1",
      "model_name": "ColormakerRegistryModel",
      "state": {
       "_msg_ar": [],
       "_msg_q": [],
       "_ready": true,
       "layout": "IPY_MODEL_29998fdc2f8c4e4ea54aa229ed00b3d8"
      }
     },
     "ae148ef2f3db4888984ba4432a5ec68a": {
      "model_module": "@jupyter-widgets/base",
      "model_module_version": "1.2.0",
      "model_name": "LayoutModel",
      "state": {}
     },
     "ae2ded268cf148e88b125a542f840c75": {
      "model_module": "@jupyter-widgets/controls",
      "model_module_version": "1.5.0",
      "model_name": "LinkModel",
      "state": {
       "source": [
        "IPY_MODEL_55cfdd72aad34fc9a1686d8d33ed916b",
        "value"
       ],
       "target": [
        "IPY_MODEL_77aee0e64b6a4a699c9fd9e0d67af93e",
        "frame"
       ]
      }
     },
     "ae85ddfd655b4bb68ab96a91402e8a14": {
      "model_module": "@jupyter-widgets/base",
      "model_module_version": "1.2.0",
      "model_name": "LayoutModel",
      "state": {}
     },
     "aeda806af0454e0b8405b301f49be232": {
      "model_module": "@jupyter-widgets/controls",
      "model_module_version": "1.5.0",
      "model_name": "DescriptionStyleModel",
      "state": {
       "description_width": ""
      }
     },
     "afc3a4378c8a43e4b9dc902912ff75b9": {
      "model_module": "@jupyter-widgets/base",
      "model_module_version": "1.2.0",
      "model_name": "LayoutModel",
      "state": {
       "width": "34px"
      }
     },
     "afcd255034d9408cb44391f3d96814c8": {
      "model_module": "@jupyter-widgets/controls",
      "model_module_version": "1.5.0",
      "model_name": "IntSliderModel",
      "state": {
       "layout": "IPY_MODEL_c04a28744e1441aeb3a10bba7bf43396",
       "max": 0,
       "style": "IPY_MODEL_572d1fd00d5e4b4cbe7917ee3ad1829b"
      }
     },
     "afde7f14ae5c4ae88de7558ca842a69c": {
      "model_module": "@jupyter-widgets/base",
      "model_module_version": "1.2.0",
      "model_name": "LayoutModel",
      "state": {}
     },
     "affc7fd09b2543d68bab0ae718210d55": {
      "model_module": "@jupyter-widgets/base",
      "model_module_version": "1.2.0",
      "model_name": "LayoutModel",
      "state": {}
     },
     "b0a9e0691b744d2f81b9cf310aabd6be": {
      "model_module": "@jupyter-widgets/controls",
      "model_module_version": "1.5.0",
      "model_name": "DescriptionStyleModel",
      "state": {
       "description_width": ""
      }
     },
     "b16698703e01410a987ec918663f74f0": {
      "model_module": "@jupyter-widgets/controls",
      "model_module_version": "1.5.0",
      "model_name": "IntSliderModel",
      "state": {
       "layout": "IPY_MODEL_2b23c8eb0042414894dbe0f8db5c00a3",
       "max": 0,
       "style": "IPY_MODEL_b8d4f3a35b8a4bcfa09dc430c30e0e98"
      }
     },
     "b1ed699476224c38ae3469ad2f609175": {
      "model_module": "@jupyter-widgets/controls",
      "model_module_version": "1.5.0",
      "model_name": "ButtonModel",
      "state": {
       "icon": "compress",
       "layout": "IPY_MODEL_141ac1ce8ebc4e689856e4ab54612d92",
       "style": "IPY_MODEL_10ad0b7ba4ab450d979ec04a416b3c4c"
      }
     },
     "b2c77a44b9cb4754bdea790ad6eef444": {
      "model_module": "@jupyter-widgets/base",
      "model_module_version": "1.2.0",
      "model_name": "LayoutModel",
      "state": {
       "width": "34px"
      }
     },
     "b3235e56588a4a6a86b68d9400659cda": {
      "model_module": "@jupyter-widgets/controls",
      "model_module_version": "1.5.0",
      "model_name": "LinkModel",
      "state": {
       "source": [
        "IPY_MODEL_61a07b7cacbd4d3bbecc064f1e9fd5b0",
        "max"
       ],
       "target": [
        "IPY_MODEL_37ceff9e6b1b48d187aee4e025f79e12",
        "max_frame"
       ]
      }
     },
     "b3f29b951df24ae18aa87cc0ae315df6": {
      "model_module": "@jupyter-widgets/controls",
      "model_module_version": "1.5.0",
      "model_name": "LinkModel",
      "state": {
       "source": [
        "IPY_MODEL_07ff24c5d2a34e6397da44fda768f3e3",
        "value"
       ],
       "target": [
        "IPY_MODEL_36cf778e677c4ced833739b65587fb31",
        "frame"
       ]
      }
     },
     "b42b1106a64c4af5bea163c20dac24ef": {
      "model_module": "@jupyter-widgets/controls",
      "model_module_version": "1.5.0",
      "model_name": "LinkModel",
      "state": {
       "source": [
        "IPY_MODEL_4cb1397347a24e4fa6630a64d178ba88",
        "value"
       ],
       "target": [
        "IPY_MODEL_aae16018ff204bf2926d872d9206ca2b",
        "frame"
       ]
      }
     },
     "b4be3a9eed5544d6b5140bd3ad3c2b2c": {
      "model_module": "@jupyter-widgets/controls",
      "model_module_version": "1.5.0",
      "model_name": "LinkModel",
      "state": {
       "source": [
        "IPY_MODEL_9c665c9906854c8896dfdd24194af320",
        "max"
       ],
       "target": [
        "IPY_MODEL_a4577486184347078370431027caa476",
        "max_frame"
       ]
      }
     },
     "b5941627060c41069db1290bb9815c6f": {
      "model_module": "@jupyter-widgets/controls",
      "model_module_version": "1.5.0",
      "model_name": "IntSliderModel",
      "state": {
       "layout": "IPY_MODEL_3dc68bdbb4bd41dc82a2f9cee8f148f4",
       "max": 0,
       "style": "IPY_MODEL_17f00410dfbd486988d9465f287e69be"
      }
     },
     "b705418eebf443d082330943ef726b54": {
      "model_module": "@jupyter-widgets/controls",
      "model_module_version": "1.5.0",
      "model_name": "LinkModel",
      "state": {
       "source": [
        "IPY_MODEL_ea813bb6cff54a11a8cb466d78bf854e",
        "max"
       ],
       "target": [
        "IPY_MODEL_fd3dcbf6110547619d9aec13f4df752a",
        "max_frame"
       ]
      }
     },
     "b7d7d4ebd56647dc98771e6e59686e92": {
      "model_module": "@jupyter-widgets/controls",
      "model_module_version": "1.5.0",
      "model_name": "PlayModel",
      "state": {
       "layout": "IPY_MODEL_80cb778bcb2c4cc6946f21ab870f01c1",
       "max": 0,
       "style": "IPY_MODEL_338f3c248eda4b17b2f174198dc08bd2"
      }
     },
     "b7e08216a4b34ca885bda951f1501b27": {
      "model_module": "@jupyter-widgets/controls",
      "model_module_version": "1.5.0",
      "model_name": "LinkModel",
      "state": {
       "source": [
        "IPY_MODEL_29725edd590e43a39facf54d7eb0e673",
        "value"
       ],
       "target": [
        "IPY_MODEL_1bc33b4f02fd4994bfff7d6a8d1203b3",
        "frame"
       ]
      }
     },
     "b8d4f3a35b8a4bcfa09dc430c30e0e98": {
      "model_module": "@jupyter-widgets/controls",
      "model_module_version": "1.5.0",
      "model_name": "SliderStyleModel",
      "state": {
       "description_width": ""
      }
     },
     "b97f79ec99f24e098bfe0b845cd85985": {
      "model_module": "@jupyter-widgets/base",
      "model_module_version": "1.2.0",
      "model_name": "LayoutModel",
      "state": {}
     },
     "b9c7b92d38cf4cca9ad1b22eb8182957": {
      "model_module": "@jupyter-widgets/base",
      "model_module_version": "1.2.0",
      "model_name": "LayoutModel",
      "state": {
       "width": "34px"
      }
     },
     "b9d0702bba3145eb91de28eed606cd42": {
      "model_module": "@jupyter-widgets/base",
      "model_module_version": "1.2.0",
      "model_name": "LayoutModel",
      "state": {}
     },
     "ba5f251d8e2f493285dd2a523ae44eff": {
      "model_module": "@jupyter-widgets/base",
      "model_module_version": "1.2.0",
      "model_name": "LayoutModel",
      "state": {}
     },
     "bacaee115fc94134a894f0f034befcce": {
      "model_module": "@jupyter-widgets/controls",
      "model_module_version": "1.5.0",
      "model_name": "ButtonStyleModel",
      "state": {}
     },
     "bba0c3cc38f0483db3c77cf5f74e0214": {
      "model_module": "@jupyter-widgets/controls",
      "model_module_version": "1.5.0",
      "model_name": "LinkModel",
      "state": {
       "source": [
        "IPY_MODEL_b5941627060c41069db1290bb9815c6f",
        "max"
       ],
       "target": [
        "IPY_MODEL_374f6e4d1ed648bd9157d9fce810ab97",
        "max_frame"
       ]
      }
     },
     "bbeabef947a94f0f8da066d7741abee7": {
      "model_module": "@jupyter-widgets/controls",
      "model_module_version": "1.5.0",
      "model_name": "ButtonStyleModel",
      "state": {}
     },
     "bc169828c7a14e8d843ab949ae0dab16": {
      "model_module": "@jupyter-widgets/controls",
      "model_module_version": "1.5.0",
      "model_name": "ButtonModel",
      "state": {
       "icon": "compress",
       "layout": "IPY_MODEL_4139a6dbbed84ab7b820118e5e0391ed",
       "style": "IPY_MODEL_d71fd801c1c84b408562e85085d6daff"
      }
     },
     "bc193f19350b45c48aff5f0e377cded4": {
      "model_module": "@jupyter-widgets/base",
      "model_module_version": "1.2.0",
      "model_name": "LayoutModel",
      "state": {}
     },
     "bcf52745443147a5b8bc1a6bf3170c78": {
      "model_module": "@jupyter-widgets/controls",
      "model_module_version": "1.5.0",
      "model_name": "LinkModel",
      "state": {
       "source": [
        "IPY_MODEL_c0f73d7881014d92bfebd00deb96713d",
        "max"
       ],
       "target": [
        "IPY_MODEL_f7496b2f05204a84aeede95d65b0cf1b",
        "max_frame"
       ]
      }
     },
     "bdc3b1b8795a47bf81322e4fca33f901": {
      "model_module": "@jupyter-widgets/controls",
      "model_module_version": "1.5.0",
      "model_name": "ButtonStyleModel",
      "state": {}
     },
     "be9a93fc7c3b4bbf812de5a90044d2e3": {
      "model_module": "@jupyter-widgets/controls",
      "model_module_version": "1.5.0",
      "model_name": "LinkModel",
      "state": {
       "source": [
        "IPY_MODEL_486bd710653e4295bdab5df2a3e9ab21",
        "value"
       ],
       "target": [
        "IPY_MODEL_63587680963b44339c1f746f2e7b9709",
        "frame"
       ]
      }
     },
     "c04a28744e1441aeb3a10bba7bf43396": {
      "model_module": "@jupyter-widgets/base",
      "model_module_version": "1.2.0",
      "model_name": "LayoutModel",
      "state": {}
     },
     "c0c3b108fd114aecbccd7c7189505298": {
      "model_module": "@jupyter-widgets/controls",
      "model_module_version": "1.5.0",
      "model_name": "LinkModel",
      "state": {
       "source": [
        "IPY_MODEL_9c665c9906854c8896dfdd24194af320",
        "value"
       ],
       "target": [
        "IPY_MODEL_62072f366dca431d8b6a3e48fa732353",
        "value"
       ]
      }
     },
     "c0f73d7881014d92bfebd00deb96713d": {
      "model_module": "@jupyter-widgets/controls",
      "model_module_version": "1.5.0",
      "model_name": "IntSliderModel",
      "state": {
       "layout": "IPY_MODEL_9362d116f4774246a1eefe2f8b756212",
       "max": 0,
       "style": "IPY_MODEL_2692ca6262ed442495bcb2ea35a0783d"
      }
     },
     "c11314d016bd406ea641f432b97ce176": {
      "model_module": "@jupyter-widgets/controls",
      "model_module_version": "1.5.0",
      "model_name": "SliderStyleModel",
      "state": {
       "description_width": ""
      }
     },
     "c12ede675d8e4129bb48a14736f7dc0e": {
      "model_module": "@jupyter-widgets/controls",
      "model_module_version": "1.5.0",
      "model_name": "LinkModel",
      "state": {
       "source": [
        "IPY_MODEL_e5934750f4c94609bc29839d0fc053a7",
        "value"
       ],
       "target": [
        "IPY_MODEL_18f0d4f68c4b48c58aa2843b773e90ad",
        "frame"
       ]
      }
     },
     "c132d9db764946a8941513db5c06cdfb": {
      "model_module": "@jupyter-widgets/base",
      "model_module_version": "1.2.0",
      "model_name": "LayoutModel",
      "state": {}
     },
     "c13ef282057e4f28b1cc8528f2317eeb": {
      "model_module": "@jupyter-widgets/controls",
      "model_module_version": "1.5.0",
      "model_name": "HBoxModel",
      "state": {
       "children": [
        "IPY_MODEL_c4b470a8944f47e89d5da4cf77e6e8d2",
        "IPY_MODEL_1c092929e45841c3aa988131488b51ef"
       ],
       "layout": "IPY_MODEL_71ef1af430f5427dbfd9aae2e1cf1a0c"
      }
     },
     "c2100f47a47a4f74ab5821b2c8a4d16d": {
      "model_module": "@jupyter-widgets/base",
      "model_module_version": "1.2.0",
      "model_name": "LayoutModel",
      "state": {}
     },
     "c285a9480e5149f28ceb7eb397e9fca6": {
      "model_module": "@jupyter-widgets/controls",
      "model_module_version": "1.5.0",
      "model_name": "IntSliderModel",
      "state": {
       "layout": "IPY_MODEL_38c4e1064cf84139b778fc6a9ac074ac",
       "max": 0,
       "style": "IPY_MODEL_1b63a0eefda34ade828801d278f31762"
      }
     },
     "c2c78e582cc04352b9252e85dc559ff6": {
      "model_module": "@jupyter-widgets/base",
      "model_module_version": "1.2.0",
      "model_name": "LayoutModel",
      "state": {
       "width": "34px"
      }
     },
     "c2e88e45298d44e7943ba728f967592d": {
      "model_module": "@jupyter-widgets/controls",
      "model_module_version": "1.5.0",
      "model_name": "LinkModel",
      "state": {
       "source": [
        "IPY_MODEL_1fe7124a88b948939be16b2153f70f83",
        "max"
       ],
       "target": [
        "IPY_MODEL_9f59ba158f9c4ccf9599021d81004cfa",
        "max_frame"
       ]
      }
     },
     "c330599e4778497898d0d0f144481303": {
      "model_module": "@jupyter-widgets/controls",
      "model_module_version": "1.5.0",
      "model_name": "PlayModel",
      "state": {
       "layout": "IPY_MODEL_dbd9939f29ca47e8954081f75d2337a5",
       "max": 0,
       "style": "IPY_MODEL_ce4070c4da0f4c39b34c48b3b5bd5b21"
      }
     },
     "c498b61b7df449b3938d2f2c3bfc5591": {
      "model_module": "@jupyter-widgets/controls",
      "model_module_version": "1.5.0",
      "model_name": "ButtonStyleModel",
      "state": {}
     },
     "c4b354e7c19b40b68c0720949f79990a": {
      "model_module": "@jupyter-widgets/controls",
      "model_module_version": "1.5.0",
      "model_name": "SliderStyleModel",
      "state": {
       "description_width": ""
      }
     },
     "c4b470a8944f47e89d5da4cf77e6e8d2": {
      "model_module": "@jupyter-widgets/controls",
      "model_module_version": "1.5.0",
      "model_name": "PlayModel",
      "state": {
       "layout": "IPY_MODEL_bc193f19350b45c48aff5f0e377cded4",
       "max": 0,
       "style": "IPY_MODEL_ee7ab8c48fe543d2bdd51bdd26f8b94f"
      }
     },
     "c4d5722c92ff4883bf4b330e53bc9990": {
      "model_module": "@jupyter-widgets/controls",
      "model_module_version": "1.5.0",
      "model_name": "ButtonStyleModel",
      "state": {}
     },
     "c5ab71dd020141b7ba4d578559b205a0": {
      "model_module": "@jupyter-widgets/base",
      "model_module_version": "1.2.0",
      "model_name": "LayoutModel",
      "state": {}
     },
     "c610b1aa015d4036bebb186ec21323ff": {
      "model_module": "@jupyter-widgets/controls",
      "model_module_version": "1.5.0",
      "model_name": "HBoxModel",
      "state": {
       "children": [
        "IPY_MODEL_4cb1397347a24e4fa6630a64d178ba88",
        "IPY_MODEL_8c9350532376451f92fe387e3b93a93d"
       ],
       "layout": "IPY_MODEL_0a1a88ecbefa4421a10362b4106ae917"
      }
     },
     "c6f133641ef54dc8a674cebb243c57fc": {
      "model_module": "@jupyter-widgets/controls",
      "model_module_version": "1.5.0",
      "model_name": "ImageModel",
      "state": {
       "layout": "IPY_MODEL_28560f9867bb4675b74114b73d98ab92",
       "width": "900.0"
      }
     },
     "c7a98349225a4799bc09ccac44b1b5e2": {
      "model_module": "@jupyter-widgets/controls",
      "model_module_version": "1.5.0",
      "model_name": "ButtonModel",
      "state": {
       "icon": "compress",
       "layout": "IPY_MODEL_e50ca57829a644ea996f69e78d2e8dd7",
       "style": "IPY_MODEL_c4d5722c92ff4883bf4b330e53bc9990"
      }
     },
     "c85497b18cb942798e5772e3f3b2d415": {
      "model_module": "@jupyter-widgets/base",
      "model_module_version": "1.2.0",
      "model_name": "LayoutModel",
      "state": {}
     },
     "c8eb2cd448ff4e4ab126a9d7ea165f99": {
      "model_module": "@jupyter-widgets/controls",
      "model_module_version": "1.5.0",
      "model_name": "IntSliderModel",
      "state": {
       "layout": "IPY_MODEL_2e4da335ff1b40edb0478422f61673f5",
       "max": 0,
       "style": "IPY_MODEL_66ea4c8dd5f54bf6b901f5c6b913ea78"
      }
     },
     "c90f793db607407cadff26df22cd6464": {
      "model_module": "@jupyter-widgets/controls",
      "model_module_version": "1.5.0",
      "model_name": "PlayModel",
      "state": {
       "layout": "IPY_MODEL_f5edb2bd3b5043a8b91de99f985af7f0",
       "max": 0,
       "style": "IPY_MODEL_96949b15ba5d41b5bbd9bdcecaa224c1"
      }
     },
     "c9cfcc9662df486ebaf74bde190d4566": {
      "model_module": "@jupyter-widgets/base",
      "model_module_version": "1.2.0",
      "model_name": "LayoutModel",
      "state": {}
     },
     "ca44d81b9fae4da3b8bea4fff4bb6935": {
      "model_module": "@jupyter-widgets/base",
      "model_module_version": "1.2.0",
      "model_name": "LayoutModel",
      "state": {}
     },
     "ca64bbb298dd4fc085411e17e160c80a": {
      "model_module": "@jupyter-widgets/controls",
      "model_module_version": "1.5.0",
      "model_name": "ImageModel",
      "state": {
       "layout": "IPY_MODEL_2678655604e1476ea82ebea23fb39e99",
       "width": "900.0"
      }
     },
     "ca9ce29c23504e69833c5b7c26fec562": {
      "model_module": "@jupyter-widgets/controls",
      "model_module_version": "1.5.0",
      "model_name": "LinkModel",
      "state": {
       "source": [
        "IPY_MODEL_21ebbec4c7024c11986bd2d2d64c493d",
        "max"
       ],
       "target": [
        "IPY_MODEL_374f6e4d1ed648bd9157d9fce810ab97",
        "max_frame"
       ]
      }
     },
     "caf71a65bf454e64a64ed25dd0ad8739": {
      "model_module": "nglview-js-widgets",
      "model_module_version": "3.0.1",
      "model_name": "ColormakerRegistryModel",
      "state": {
       "_msg_ar": [],
       "_msg_q": [],
       "_ready": true,
       "layout": "IPY_MODEL_9a2b3ddad2974303adc1a9fa7893332c"
      }
     },
     "cbab3eb7df4e45f78e1b68b7aba10493": {
      "model_module": "@jupyter-widgets/controls",
      "model_module_version": "1.5.0",
      "model_name": "ButtonStyleModel",
      "state": {}
     },
     "cd653f28b1ff461294e54215bf8a665c": {
      "model_module": "@jupyter-widgets/base",
      "model_module_version": "1.2.0",
      "model_name": "LayoutModel",
      "state": {}
     },
     "cdc7cf59ca014631a29976564bc3a9ae": {
      "model_module": "@jupyter-widgets/base",
      "model_module_version": "1.2.0",
      "model_name": "LayoutModel",
      "state": {
       "width": "34px"
      }
     },
     "ce4070c4da0f4c39b34c48b3b5bd5b21": {
      "model_module": "@jupyter-widgets/controls",
      "model_module_version": "1.5.0",
      "model_name": "DescriptionStyleModel",
      "state": {
       "description_width": ""
      }
     },
     "cebcb2fbe542464c98996ba9bf072239": {
      "model_module": "@jupyter-widgets/base",
      "model_module_version": "1.2.0",
      "model_name": "LayoutModel",
      "state": {}
     },
     "cec04c533207483aa02b93cb7f288fa8": {
      "model_module": "@jupyter-widgets/base",
      "model_module_version": "1.2.0",
      "model_name": "LayoutModel",
      "state": {}
     },
     "cecc148f76eb485cb0a7ad25d2cecb3d": {
      "model_module": "@jupyter-widgets/base",
      "model_module_version": "1.2.0",
      "model_name": "LayoutModel",
      "state": {}
     },
     "cfeabef78ec444969b7c20c298e337d1": {
      "model_module": "@jupyter-widgets/controls",
      "model_module_version": "1.5.0",
      "model_name": "ButtonModel",
      "state": {
       "icon": "compress",
       "layout": "IPY_MODEL_93a81fc3101c4eb1b259ebefc84dec8c",
       "style": "IPY_MODEL_f9d6aeebc73742c9b3ac544c8a39653a"
      }
     },
     "d002968d484e46889c8beac17ca4f7fc": {
      "model_module": "@jupyter-widgets/controls",
      "model_module_version": "1.5.0",
      "model_name": "LinkModel",
      "state": {
       "source": [
        "IPY_MODEL_c330599e4778497898d0d0f144481303",
        "max"
       ],
       "target": [
        "IPY_MODEL_9f59ba158f9c4ccf9599021d81004cfa",
        "max_frame"
       ]
      }
     },
     "d1297ba0645f46c89ce84d2002eaee3a": {
      "model_module": "@jupyter-widgets/controls",
      "model_module_version": "1.5.0",
      "model_name": "DescriptionStyleModel",
      "state": {
       "description_width": ""
      }
     },
     "d2e00a83c41643b6a64533c7e6a92390": {
      "model_module": "@jupyter-widgets/base",
      "model_module_version": "1.2.0",
      "model_name": "LayoutModel",
      "state": {
       "width": "34px"
      }
     },
     "d3cf7afb0984474995ec115b75826719": {
      "model_module": "@jupyter-widgets/base",
      "model_module_version": "1.2.0",
      "model_name": "LayoutModel",
      "state": {
       "width": "34px"
      }
     },
     "d44807da9272486493b838d79d310fe4": {
      "model_module": "nglview-js-widgets",
      "model_module_version": "3.0.1",
      "model_name": "ColormakerRegistryModel",
      "state": {
       "_msg_ar": [],
       "_msg_q": [],
       "_ready": true,
       "layout": "IPY_MODEL_29eb394919414af1a7e0a717dd52fc7c"
      }
     },
     "d515c01862484cdda22aa0d1ee0dc4bc": {
      "model_module": "@jupyter-widgets/controls",
      "model_module_version": "1.5.0",
      "model_name": "IntSliderModel",
      "state": {
       "layout": "IPY_MODEL_7db80b0b08b44e5cbd449afccb91f1b9",
       "max": 0,
       "style": "IPY_MODEL_067125081e2e492496693f1c415fa3a7"
      }
     },
     "d549f53745534e7794c11ec3878a40e0": {
      "model_module": "nglview-js-widgets",
      "model_module_version": "3.0.1",
      "model_name": "ColormakerRegistryModel",
      "state": {
       "_msg_ar": [],
       "_msg_q": [],
       "_ready": true,
       "layout": "IPY_MODEL_623cc1a528274dddbc4eac32105958bf"
      }
     },
     "d564be1776df4f8ab3b5adc5e2a29154": {
      "model_module": "@jupyter-widgets/controls",
      "model_module_version": "1.5.0",
      "model_name": "HBoxModel",
      "state": {
       "children": [
        "IPY_MODEL_ece1cabd3226420281c93b3441166c3e",
        "IPY_MODEL_d515c01862484cdda22aa0d1ee0dc4bc"
       ],
       "layout": "IPY_MODEL_40dce797f8a548178ad61f95c22e54eb"
      }
     },
     "d5eb442642284fd9b24d37f01e8c2e76": {
      "model_module": "@jupyter-widgets/controls",
      "model_module_version": "1.5.0",
      "model_name": "ImageModel",
      "state": {
       "layout": "IPY_MODEL_f3ca8af7ea57438abda0b848412fd60d",
       "width": "900.0"
      }
     },
     "d71fd801c1c84b408562e85085d6daff": {
      "model_module": "@jupyter-widgets/controls",
      "model_module_version": "1.5.0",
      "model_name": "ButtonStyleModel",
      "state": {}
     },
     "d77a1e9bc3ac4c23b4f9c5c57d1c19d5": {
      "model_module": "@jupyter-widgets/controls",
      "model_module_version": "1.5.0",
      "model_name": "LinkModel",
      "state": {
       "source": [
        "IPY_MODEL_1361451de30b4ca6846c843e51d7fdba",
        "max"
       ],
       "target": [
        "IPY_MODEL_63587680963b44339c1f746f2e7b9709",
        "max_frame"
       ]
      }
     },
     "d8b3a577893d4072967e559914808ab7": {
      "model_module": "@jupyter-widgets/base",
      "model_module_version": "1.2.0",
      "model_name": "LayoutModel",
      "state": {
       "width": "34px"
      }
     },
     "d8b51b3650a94423982a91063120655d": {
      "model_module": "@jupyter-widgets/controls",
      "model_module_version": "1.5.0",
      "model_name": "ImageModel",
      "state": {
       "layout": "IPY_MODEL_7f9dee00886d4766b7ed3c042d434d24",
       "width": "900.0"
      }
     },
     "d8c8842e994d4e5aa64b27928e586ac2": {
      "model_module": "@jupyter-widgets/controls",
      "model_module_version": "1.5.0",
      "model_name": "LinkModel",
      "state": {
       "source": [
        "IPY_MODEL_aa952ce970444abd8fe3f7aa83eb9bd8",
        "value"
       ],
       "target": [
        "IPY_MODEL_6f086469bde64ff59aff0fe6814f783c",
        "value"
       ]
      }
     },
     "d8f0a21eed0449779d898e583d582041": {
      "model_module": "@jupyter-widgets/controls",
      "model_module_version": "1.5.0",
      "model_name": "SliderStyleModel",
      "state": {
       "description_width": ""
      }
     },
     "d9a4928e84854dffa6b524488925542c": {
      "model_module": "@jupyter-widgets/controls",
      "model_module_version": "1.5.0",
      "model_name": "LinkModel",
      "state": {
       "source": [
        "IPY_MODEL_c4b470a8944f47e89d5da4cf77e6e8d2",
        "value"
       ],
       "target": [
        "IPY_MODEL_5f8e17100ad34a3c88160aa22ba7dd4c",
        "frame"
       ]
      }
     },
     "d9fa73e2c0ee4a6181211dcfd701637a": {
      "model_module": "@jupyter-widgets/base",
      "model_module_version": "1.2.0",
      "model_name": "LayoutModel",
      "state": {}
     },
     "da253e20f809464cb40b33c5a7235cb8": {
      "model_module": "@jupyter-widgets/controls",
      "model_module_version": "1.5.0",
      "model_name": "ButtonModel",
      "state": {
       "icon": "compress",
       "layout": "IPY_MODEL_0dbee27182fd4255886325c810404325",
       "style": "IPY_MODEL_2aaa39876d014977ac00442134050872"
      }
     },
     "dae769a4d59144c5948247a5ae463291": {
      "model_module": "@jupyter-widgets/controls",
      "model_module_version": "1.5.0",
      "model_name": "LinkModel",
      "state": {
       "source": [
        "IPY_MODEL_41c2387de1c34873934194325f5f613c",
        "max"
       ],
       "target": [
        "IPY_MODEL_075cde4d73b44bc889f571326dfceb05",
        "max_frame"
       ]
      }
     },
     "daf10a2bd70a43a78483d2c244a77ad2": {
      "model_module": "@jupyter-widgets/controls",
      "model_module_version": "1.5.0",
      "model_name": "ButtonStyleModel",
      "state": {}
     },
     "daf6e33767c243a4bf8dffbafa02035f": {
      "model_module": "@jupyter-widgets/base",
      "model_module_version": "1.2.0",
      "model_name": "LayoutModel",
      "state": {
       "width": "34px"
      }
     },
     "db3de188b1e343239241079128f2aae5": {
      "model_module": "@jupyter-widgets/controls",
      "model_module_version": "1.5.0",
      "model_name": "ImageModel",
      "state": {
       "layout": "IPY_MODEL_4d10ff1d83d04f4c8056f85a0b03ef35",
       "width": "900.0"
      }
     },
     "dbd9939f29ca47e8954081f75d2337a5": {
      "model_module": "@jupyter-widgets/base",
      "model_module_version": "1.2.0",
      "model_name": "LayoutModel",
      "state": {}
     },
     "dbdb7ea5eec04a7db743442075a28a24": {
      "model_module": "@jupyter-widgets/controls",
      "model_module_version": "1.5.0",
      "model_name": "DescriptionStyleModel",
      "state": {
       "description_width": ""
      }
     },
     "dbe0c8ab2c2e4b3fbac6509583d1db66": {
      "model_module": "@jupyter-widgets/controls",
      "model_module_version": "1.5.0",
      "model_name": "LinkModel",
      "state": {
       "source": [
        "IPY_MODEL_41c2387de1c34873934194325f5f613c",
        "value"
       ],
       "target": [
        "IPY_MODEL_0e708009e226404c8dbacd5d52f4d190",
        "value"
       ]
      }
     },
     "dc85c416e8f24fb683a8ea41af0e5342": {
      "model_module": "@jupyter-widgets/base",
      "model_module_version": "1.2.0",
      "model_name": "LayoutModel",
      "state": {}
     },
     "dd5ac1760fc64453be1e6635cdafdafc": {
      "model_module": "@jupyter-widgets/controls",
      "model_module_version": "1.5.0",
      "model_name": "ImageModel",
      "state": {
       "layout": "IPY_MODEL_cebcb2fbe542464c98996ba9bf072239",
       "width": "900.0"
      }
     },
     "e12669db519f46b8988259b197b2b6c2": {
      "model_module": "@jupyter-widgets/base",
      "model_module_version": "1.2.0",
      "model_name": "LayoutModel",
      "state": {}
     },
     "e12e44cb213646908e6b3b5c0fc95325": {
      "model_module": "@jupyter-widgets/controls",
      "model_module_version": "1.5.0",
      "model_name": "LinkModel",
      "state": {
       "source": [
        "IPY_MODEL_9c665c9906854c8896dfdd24194af320",
        "value"
       ],
       "target": [
        "IPY_MODEL_a4577486184347078370431027caa476",
        "frame"
       ]
      }
     },
     "e18190f78b9a4a8e81bddf82c59422fc": {
      "model_module": "nglview-js-widgets",
      "model_module_version": "3.0.1",
      "model_name": "NGLModel",
      "state": {
       "_camera_orientation": [
        20.871757782239296,
        0,
        0,
        0,
        0,
        20.871757782239296,
        0,
        0,
        0,
        0,
        20.871757782239296,
        0,
        -5.552000135183334,
        0.8974999785423279,
        -0.2745000720024109,
        1
       ],
       "_camera_str": "orthographic",
       "_gui_theme": null,
       "_ibtn_fullscreen": "IPY_MODEL_5e2aff1206d5450f94804bcf6caa0849",
       "_igui": null,
       "_iplayer": "IPY_MODEL_64b8ea51c8604963abc76108e211cb7c",
       "_ngl_color_dict": {},
       "_ngl_coordinate_resource": {},
       "_ngl_full_stage_parameters": {
        "ambientColor": 14540253,
        "ambientIntensity": 0.2,
        "backgroundColor": "white",
        "cameraEyeSep": 0.3,
        "cameraFov": 40,
        "cameraType": "perspective",
        "clipDist": 10,
        "clipFar": 100,
        "clipNear": 0,
        "fogFar": 100,
        "fogNear": 50,
        "hoverTimeout": 0,
        "impostor": true,
        "lightColor": 14540253,
        "lightIntensity": 1,
        "mousePreset": "default",
        "panSpeed": 1,
        "quality": "medium",
        "rotateSpeed": 2,
        "sampleLevel": 0,
        "tooltip": true,
        "workerDefault": true,
        "zoomSpeed": 1.2
       },
       "_ngl_msg_archive": [
        {
         "args": [
          {
           "binary": false,
           "data": "\nQCElemental\n\n 33 33  0  0  0  0  0  0  0  0  0\n    3.0600    1.1250    0.5030  C  0  0     0  0  0  0  0  0\n    2.5180   -0.2180    0.9970  C  0  0     0  0  0  0  0  0\n    0.9880   -0.1980    0.9640  C  0  0     0  0  0  0  0  0\n    3.0600   -1.4020    0.1640  C  0  0     0  0  0  0  0  0\n    4.5670   -1.5330    0.2190  C  0  0     0  0  0  0  0  0\n    5.2240   -1.7620    1.4330  C  0  0     0  0  0  0  0  0\n    6.6200   -1.7980    1.4930  C  0  0     0  0  0  0  0  0\n    7.3930   -1.6190    0.3370  C  0  0     0  0  0  0  0  0\n    6.7300   -1.4510   -0.8890  C  0  0     0  0  0  0  0  0\n    5.3340   -1.4010   -0.9450  C  0  0     0  0  0  0  0  0\n    8.9100   -1.6460    0.4320  C  0  0     0  0  0  0  0  0\n    9.4360   -3.0710    0.2540  C  0  0     0  0  0  0  0  0\n    9.6080   -0.6840   -0.5260  C  0  0     0  0  0  0  0  0\n   10.4390   -1.0050   -1.3640  O  0  0     0  0  0  0  0  0\n    9.2470    0.6120   -0.3480  O  0  0     0  0  0  0  0  0\n    2.6750    1.9460    1.1170  H  0  0     0  0  0  0  0  0\n    2.7690    1.3130   -0.5360  H  0  0     0  0  0  0  0  0\n    4.1530    1.1630    0.5620  H  0  0     0  0  0  0  0  0\n    2.8220   -0.3410    2.0430  H  0  0     0  0  0  0  0  0\n    0.6120   -0.0780   -0.0590  H  0  0     0  0  0  0  0  0\n    0.5990    0.6320    1.5650  H  0  0     0  0  0  0  0  0\n    0.5750   -1.1260    1.3710  H  0  0     0  0  0  0  0  0\n    2.7320   -1.2960   -0.8770  H  0  0     0  0  0  0  0  0\n    2.6240   -2.3430    0.5240  H  0  0     0  0  0  0  0  0\n    4.6510   -1.9010    2.3480  H  0  0     0  0  0  0  0  0\n    7.0970   -1.9700    2.4560  H  0  0     0  0  0  0  0  0\n    7.2900   -1.3470   -1.8180  H  0  0     0  0  0  0  0  0\n    4.8510   -1.2450   -1.9070  H  0  0     0  0  0  0  0  0\n    9.2070   -1.3110    1.4370  H  0  0     0  0  0  0  0  0\n    9.1710   -3.4770   -0.7290  H  0  0     0  0  0  0  0  0\n    9.0270   -3.7410    1.0170  H  0  0     0  0  0  0  0  0\n   10.5290   -3.0950    0.3390  H  0  0     0  0  0  0  0  0\n    8.5460    0.7280    0.3230  H  0  0     0  0  0  0  0  0\n  1  2  1  0  0  0  0\n  1 16  1  0  0  0  0\n  1 17  1  0  0  0  0\n  1 18  1  0  0  0  0\n  2  3  1  0  0  0  0\n  2  4  1  0  0  0  0\n  2 19  1  0  0  0  0\n  3 20  1  0  0  0  0\n  3 21  1  0  0  0  0\n  3 22  1  0  0  0  0\n  4  5  1  0  0  0  0\n  4 23  1  0  0  0  0\n  4 24  1  0  0  0  0\n  5  6  1  0  0  0  0\n  5 10  1  0  0  0  0\n  6  7  1  0  0  0  0\n  6 25  1  0  0  0  0\n  7  8  1  0  0  0  0\n  7 26  1  0  0  0  0\n  8  9  1  0  0  0  0\n  8 11  1  0  0  0  0\n  9 10  1  0  0  0  0\n  9 27  1  0  0  0  0\n 10 28  1  0  0  0  0\n 11 12  1  0  0  0  0\n 11 13  1  0  0  0  0\n 11 29  1  0  0  0  0\n 12 30  1  0  0  0  0\n 12 31  1  0  0  0  0\n 12 32  1  0  0  0  0\n 13 14  1  0  0  0  0\n 13 15  1  0  0  0  0\n 15 33  1  0  0  0  0\n",
           "type": "blob"
          }
         ],
         "kwargs": {
          "defaultRepresentation": true,
          "ext": "sdf"
         },
         "methodName": "loadFile",
         "reconstruc_color_scheme": false,
         "target": "Stage",
         "type": "call_method"
        }
       ],
       "_ngl_original_stage_parameters": {
        "ambientColor": 14540253,
        "ambientIntensity": 0.2,
        "backgroundColor": "white",
        "cameraEyeSep": 0.3,
        "cameraFov": 40,
        "cameraType": "perspective",
        "clipDist": 10,
        "clipFar": 100,
        "clipNear": 0,
        "fogFar": 100,
        "fogNear": 50,
        "hoverTimeout": 0,
        "impostor": true,
        "lightColor": 14540253,
        "lightIntensity": 1,
        "mousePreset": "default",
        "panSpeed": 1,
        "quality": "medium",
        "rotateSpeed": 2,
        "sampleLevel": 0,
        "tooltip": true,
        "workerDefault": true,
        "zoomSpeed": 1.2
       },
       "_ngl_repr_dict": {
        "0": {
         "0": {
          "params": {
           "aspectRatio": 1.5,
           "assembly": "default",
           "bondScale": 0.3,
           "bondSpacing": 0.75,
           "clipCenter": {
            "x": 0,
            "y": 0,
            "z": 0
           },
           "clipNear": 0,
           "clipRadius": 0,
           "colorMode": "hcl",
           "colorReverse": false,
           "colorScale": "",
           "colorScheme": "element",
           "colorValue": 9474192,
           "cylinderOnly": false,
           "defaultAssembly": "",
           "depthWrite": true,
           "diffuse": 16777215,
           "diffuseInterior": false,
           "disableImpostor": false,
           "disablePicking": false,
           "flatShaded": false,
           "interiorColor": 2236962,
           "interiorDarkening": 0,
           "lazy": false,
           "lineOnly": false,
           "linewidth": 2,
           "matrix": {
            "elements": [
             1,
             0,
             0,
             0,
             0,
             1,
             0,
             0,
             0,
             0,
             1,
             0,
             0,
             0,
             0,
             1
            ]
           },
           "metalness": 0,
           "multipleBond": "off",
           "opacity": 1,
           "openEnded": true,
           "quality": "high",
           "radialSegments": 20,
           "radiusData": {},
           "radiusScale": 2,
           "radiusSize": 0.15,
           "radiusType": "size",
           "roughness": 0.4,
           "sele": "",
           "side": "double",
           "sphereDetail": 2,
           "useInteriorColor": true,
           "visible": true,
           "wireframe": false
          },
          "type": "ball+stick"
         }
        }
       },
       "_ngl_serialize": false,
       "_ngl_version": "2.0.0-dev.36",
       "_ngl_view_id": [
        "BA1D9146-A5F2-4FC2-AAAF-78732ACDA3B3"
       ],
       "_player_dict": {},
       "_scene_position": {},
       "_scene_rotation": {},
       "_synced_model_ids": [],
       "_synced_repr_model_ids": [],
       "_view_height": "",
       "_view_width": "",
       "background": "white",
       "frame": 0,
       "gui_style": null,
       "layout": "IPY_MODEL_ac527a644b134bc1ae76918574f2b389",
       "max_frame": 0,
       "n_components": 1,
       "picked": {}
      }
     },
     "e1933ea13922450d9855b93bfd346bb3": {
      "model_module": "@jupyter-widgets/base",
      "model_module_version": "1.2.0",
      "model_name": "LayoutModel",
      "state": {}
     },
     "e1fd9b4ed97d493596409148d25851bd": {
      "model_module": "@jupyter-widgets/base",
      "model_module_version": "1.2.0",
      "model_name": "LayoutModel",
      "state": {}
     },
     "e226b70f458743aab25e1fe3f1c230aa": {
      "model_module": "@jupyter-widgets/controls",
      "model_module_version": "1.5.0",
      "model_name": "PlayModel",
      "state": {
       "layout": "IPY_MODEL_e67dbdbcd7fa4abbaacaa15c8f426a88",
       "max": 0,
       "style": "IPY_MODEL_d1297ba0645f46c89ce84d2002eaee3a"
      }
     },
     "e2807ce2ce0547848ff6e4fc92b323ea": {
      "model_module": "@jupyter-widgets/controls",
      "model_module_version": "1.5.0",
      "model_name": "HBoxModel",
      "state": {
       "children": [
        "IPY_MODEL_4583b596c88a43da9a860550ec63b44f",
        "IPY_MODEL_43d28e3ac652442aa15551381c4d4564"
       ],
       "layout": "IPY_MODEL_7c8ab930fe2f4c7eb2b782e8ef7a8a01"
      }
     },
     "e50ca57829a644ea996f69e78d2e8dd7": {
      "model_module": "@jupyter-widgets/base",
      "model_module_version": "1.2.0",
      "model_name": "LayoutModel",
      "state": {
       "width": "34px"
      }
     },
     "e56f8155eff04510b0a1a9411147e2ba": {
      "model_module": "@jupyter-widgets/base",
      "model_module_version": "1.2.0",
      "model_name": "LayoutModel",
      "state": {}
     },
     "e5934750f4c94609bc29839d0fc053a7": {
      "model_module": "@jupyter-widgets/controls",
      "model_module_version": "1.5.0",
      "model_name": "PlayModel",
      "state": {
       "layout": "IPY_MODEL_2161a5c91f23418da1ef78b6c1025afe",
       "max": 0,
       "style": "IPY_MODEL_9e8d780f9716437d8758642f590b15f9"
      }
     },
     "e5c43bd92d4a4843a376d6705e25fcbb": {
      "model_module": "@jupyter-widgets/controls",
      "model_module_version": "1.5.0",
      "model_name": "LinkModel",
      "state": {
       "source": [
        "IPY_MODEL_b7d7d4ebd56647dc98771e6e59686e92",
        "max"
       ],
       "target": [
        "IPY_MODEL_933d7318699048d0aec3ff45c69723f7",
        "max_frame"
       ]
      }
     },
     "e67dbdbcd7fa4abbaacaa15c8f426a88": {
      "model_module": "@jupyter-widgets/base",
      "model_module_version": "1.2.0",
      "model_name": "LayoutModel",
      "state": {}
     },
     "e6baec29e27643b4a4ba3a88a4b2c8d4": {
      "model_module": "@jupyter-widgets/controls",
      "model_module_version": "1.5.0",
      "model_name": "ButtonModel",
      "state": {
       "icon": "compress",
       "layout": "IPY_MODEL_b9c7b92d38cf4cca9ad1b22eb8182957",
       "style": "IPY_MODEL_e84ef9c6c4ce4614a470b2425be2b816"
      }
     },
     "e7bead4ed7b74663a8536a3fb294a598": {
      "model_module": "@jupyter-widgets/controls",
      "model_module_version": "1.5.0",
      "model_name": "ButtonModel",
      "state": {
       "icon": "compress",
       "layout": "IPY_MODEL_450535c7e51243b585e0cdbe726c7a00",
       "style": "IPY_MODEL_a45f37e76b07421eaa513a536a7c4b92"
      }
     },
     "e84ef9c6c4ce4614a470b2425be2b816": {
      "model_module": "@jupyter-widgets/controls",
      "model_module_version": "1.5.0",
      "model_name": "ButtonStyleModel",
      "state": {}
     },
     "e86d89f9f5604a2ea333d420454b13e2": {
      "model_module": "@jupyter-widgets/controls",
      "model_module_version": "1.5.0",
      "model_name": "LinkModel",
      "state": {
       "source": [
        "IPY_MODEL_41c2387de1c34873934194325f5f613c",
        "value"
       ],
       "target": [
        "IPY_MODEL_075cde4d73b44bc889f571326dfceb05",
        "frame"
       ]
      }
     },
     "ea813bb6cff54a11a8cb466d78bf854e": {
      "model_module": "@jupyter-widgets/controls",
      "model_module_version": "1.5.0",
      "model_name": "IntSliderModel",
      "state": {
       "layout": "IPY_MODEL_c5ab71dd020141b7ba4d578559b205a0",
       "max": 0,
       "style": "IPY_MODEL_99c0f245395344a083300d2bdc286385"
      }
     },
     "eb34c002a3c9422499864314b1a4bc5a": {
      "model_module": "@jupyter-widgets/base",
      "model_module_version": "1.2.0",
      "model_name": "LayoutModel",
      "state": {}
     },
     "ebbae7e3bc1043e4b9286ee9139b7f35": {
      "model_module": "@jupyter-widgets/controls",
      "model_module_version": "1.5.0",
      "model_name": "LinkModel",
      "state": {
       "source": [
        "IPY_MODEL_4583b596c88a43da9a860550ec63b44f",
        "max"
       ],
       "target": [
        "IPY_MODEL_4941e954ee9d44e0951003775b1ded4e",
        "max_frame"
       ]
      }
     },
     "ebd99f4d9db546f09da2c97477da78fd": {
      "model_module": "@jupyter-widgets/controls",
      "model_module_version": "1.5.0",
      "model_name": "LinkModel",
      "state": {
       "source": [
        "IPY_MODEL_78511851e6294753b3c8e803ae7961fe",
        "max"
       ],
       "target": [
        "IPY_MODEL_87c2f138a376459893da50b89d4ecd92",
        "max_frame"
       ]
      }
     },
     "ec37f3a873134a718e529246bf082266": {
      "model_module": "@jupyter-widgets/base",
      "model_module_version": "1.2.0",
      "model_name": "LayoutModel",
      "state": {}
     },
     "ec6ec4f273704ff1a3ba466aaf511401": {
      "model_module": "@jupyter-widgets/base",
      "model_module_version": "1.2.0",
      "model_name": "LayoutModel",
      "state": {}
     },
     "ecc04aff57a5452b8a658c6255d6b25c": {
      "model_module": "@jupyter-widgets/controls",
      "model_module_version": "1.5.0",
      "model_name": "PlayModel",
      "state": {
       "layout": "IPY_MODEL_45c8b6a44aec4f34a0dcdb51c3c0cef5",
       "max": 0,
       "style": "IPY_MODEL_f1b55299e9fb45d9817e64c1bc3a3023"
      }
     },
     "ece1cabd3226420281c93b3441166c3e": {
      "model_module": "@jupyter-widgets/controls",
      "model_module_version": "1.5.0",
      "model_name": "PlayModel",
      "state": {
       "layout": "IPY_MODEL_36d3f9935f0d4215a9f24bcd65ed63bb",
       "max": 0,
       "style": "IPY_MODEL_62aa5dd00bd64462814503a75111e99d"
      }
     },
     "ecf6d12ea238479c989935db358c3143": {
      "model_module": "@jupyter-widgets/controls",
      "model_module_version": "1.5.0",
      "model_name": "SliderStyleModel",
      "state": {
       "description_width": ""
      }
     },
     "ed6d973b46434524ac42e03cf934ff83": {
      "model_module": "@jupyter-widgets/base",
      "model_module_version": "1.2.0",
      "model_name": "LayoutModel",
      "state": {
       "width": "34px"
      }
     },
     "edec8c79bc65443fa520f9009f70f79d": {
      "model_module": "@jupyter-widgets/controls",
      "model_module_version": "1.5.0",
      "model_name": "LinkModel",
      "state": {
       "source": [
        "IPY_MODEL_c90f793db607407cadff26df22cd6464",
        "max"
       ],
       "target": [
        "IPY_MODEL_87c2f138a376459893da50b89d4ecd92",
        "max_frame"
       ]
      }
     },
     "ee7ab8c48fe543d2bdd51bdd26f8b94f": {
      "model_module": "@jupyter-widgets/controls",
      "model_module_version": "1.5.0",
      "model_name": "DescriptionStyleModel",
      "state": {
       "description_width": ""
      }
     },
     "eff2d06161384738b11535918d82a4b8": {
      "model_module": "@jupyter-widgets/base",
      "model_module_version": "1.2.0",
      "model_name": "LayoutModel",
      "state": {}
     },
     "f02bf43b070148b4b247b7c377278e4a": {
      "model_module": "@jupyter-widgets/controls",
      "model_module_version": "1.5.0",
      "model_name": "DescriptionStyleModel",
      "state": {
       "description_width": ""
      }
     },
     "f0565c94d7464a71abf76a5f3000703c": {
      "model_module": "@jupyter-widgets/base",
      "model_module_version": "1.2.0",
      "model_name": "LayoutModel",
      "state": {}
     },
     "f0676abe285c4ebd96a2c238274a8007": {
      "model_module": "@jupyter-widgets/controls",
      "model_module_version": "1.5.0",
      "model_name": "LinkModel",
      "state": {
       "source": [
        "IPY_MODEL_0f5540f8f2c94d7f873819b75b87a6ff",
        "value"
       ],
       "target": [
        "IPY_MODEL_61a07b7cacbd4d3bbecc064f1e9fd5b0",
        "value"
       ]
      }
     },
     "f1b55299e9fb45d9817e64c1bc3a3023": {
      "model_module": "@jupyter-widgets/controls",
      "model_module_version": "1.5.0",
      "model_name": "DescriptionStyleModel",
      "state": {
       "description_width": ""
      }
     },
     "f276fa1cfd474623b90886301ac97dfb": {
      "model_module": "@jupyter-widgets/controls",
      "model_module_version": "1.5.0",
      "model_name": "DescriptionStyleModel",
      "state": {
       "description_width": ""
      }
     },
     "f28b1b21b8ba4c00854b84555d35aa14": {
      "model_module": "@jupyter-widgets/base",
      "model_module_version": "1.2.0",
      "model_name": "LayoutModel",
      "state": {}
     },
     "f3ca8af7ea57438abda0b848412fd60d": {
      "model_module": "@jupyter-widgets/base",
      "model_module_version": "1.2.0",
      "model_name": "LayoutModel",
      "state": {}
     },
     "f477381954334a11bcff5784b6a2857c": {
      "model_module": "@jupyter-widgets/base",
      "model_module_version": "1.2.0",
      "model_name": "LayoutModel",
      "state": {}
     },
     "f551732093c94aa482734ca7818e9bfe": {
      "model_module": "@jupyter-widgets/base",
      "model_module_version": "1.2.0",
      "model_name": "LayoutModel",
      "state": {
       "width": "34px"
      }
     },
     "f5ce49a3dcb446359e4204968dc0d139": {
      "model_module": "@jupyter-widgets/controls",
      "model_module_version": "1.5.0",
      "model_name": "LinkModel",
      "state": {
       "source": [
        "IPY_MODEL_21ebbec4c7024c11986bd2d2d64c493d",
        "value"
       ],
       "target": [
        "IPY_MODEL_b5941627060c41069db1290bb9815c6f",
        "value"
       ]
      }
     },
     "f5e0e205a7d74a2c8b6a82e92e220341": {
      "model_module": "@jupyter-widgets/controls",
      "model_module_version": "1.5.0",
      "model_name": "ImageModel",
      "state": {
       "layout": "IPY_MODEL_b9d0702bba3145eb91de28eed606cd42",
       "width": "900.0"
      }
     },
     "f5edb2bd3b5043a8b91de99f985af7f0": {
      "model_module": "@jupyter-widgets/base",
      "model_module_version": "1.2.0",
      "model_name": "LayoutModel",
      "state": {}
     },
     "f65e70f6e08f491ead81030f1a7ed26f": {
      "model_module": "@jupyter-widgets/controls",
      "model_module_version": "1.5.0",
      "model_name": "DescriptionStyleModel",
      "state": {
       "description_width": ""
      }
     },
     "f69640eea7ed4d57b4154c2cd2ccbb19": {
      "model_module": "@jupyter-widgets/controls",
      "model_module_version": "1.5.0",
      "model_name": "SliderStyleModel",
      "state": {
       "description_width": ""
      }
     },
     "f7496b2f05204a84aeede95d65b0cf1b": {
      "model_module": "nglview-js-widgets",
      "model_module_version": "3.0.1",
      "model_name": "NGLModel",
      "state": {
       "_camera_orientation": [
        24.668877453494837,
        0,
        0,
        0,
        0,
        24.668877453494837,
        0,
        0,
        0,
        0,
        24.668877453494837,
        0,
        1.0125000476837158,
        -24.741999626159668,
        -12.715499877929688,
        1
       ],
       "_camera_str": "orthographic",
       "_gui_theme": null,
       "_ibtn_fullscreen": "IPY_MODEL_b1ed699476224c38ae3469ad2f609175",
       "_igui": null,
       "_iplayer": "IPY_MODEL_377861384c3448be987b8e5a3a1d4a8c",
       "_ngl_color_dict": {},
       "_ngl_coordinate_resource": {},
       "_ngl_full_stage_parameters": {
        "ambientColor": 14540253,
        "ambientIntensity": 0.2,
        "backgroundColor": "white",
        "cameraEyeSep": 0.3,
        "cameraFov": 40,
        "cameraType": "perspective",
        "clipDist": 10,
        "clipFar": 100,
        "clipNear": 0,
        "fogFar": 100,
        "fogNear": 50,
        "hoverTimeout": 0,
        "impostor": true,
        "lightColor": 14540253,
        "lightIntensity": 1,
        "mousePreset": "default",
        "panSpeed": 1,
        "quality": "medium",
        "rotateSpeed": 2,
        "sampleLevel": 0,
        "tooltip": true,
        "workerDefault": true,
        "zoomSpeed": 1.2
       },
       "_ngl_msg_archive": [
        {
         "args": [
          {
           "binary": false,
           "data": "HETATM    1  C   UNK     1      -2.508  24.472  13.151  1.00  0.00           C  \nHETATM    2  C   UNK     1      -1.624  23.392  13.249  1.00  0.00           C  \nHETATM    3  C   UNK     1      -0.561  23.255  12.352  1.00  0.00           C  \nHETATM    4  C   UNK     1      -0.366  24.188  11.324  1.00  0.00           C  \nHETATM    5  C   UNK     1      -1.273  25.251  11.206  1.00  0.00           C  \nHETATM    6  C   UNK     1      -2.327  25.396  12.114  1.00  0.00           C  \nHETATM    7  C   UNK     1       0.683  24.242  10.208  1.00  0.00           C  \nHETATM    8  C   UNK     1       0.554  25.653   9.517  1.00  0.00           C  \nHETATM    9  C   UNK     1       1.813  23.565  10.147  1.00  0.00           C  \nHETATM   10  O   UNK     1       1.874  22.458   9.633  1.00  0.00           O  \nHETATM   11  O   UNK     1       2.935  24.224  10.542  1.00  0.00           O  \nHETATM   12  H   UNK     1       2.745  25.063  11.007  1.00  0.00           H  \nHETATM   13  C   UNK     1      -3.723  24.831  14.026  1.00  0.00           C  \nHETATM   14  C   UNK     1      -4.960  27.026  14.372  1.00  0.00           C  \nHETATM   15  C   UNK     1      -3.512  26.405  14.503  1.00  0.00           C  \nHETATM   16  C   UNK     1      -2.919  26.420  15.914  1.00  0.00           C  \nEND                                                                             \n",
           "type": "blob"
          }
         ],
         "kwargs": {
          "defaultRepresentation": true,
          "ext": "pdb"
         },
         "methodName": "loadFile",
         "reconstruc_color_scheme": false,
         "target": "Stage",
         "type": "call_method"
        }
       ],
       "_ngl_original_stage_parameters": {
        "ambientColor": 14540253,
        "ambientIntensity": 0.2,
        "backgroundColor": "white",
        "cameraEyeSep": 0.3,
        "cameraFov": 40,
        "cameraType": "perspective",
        "clipDist": 10,
        "clipFar": 100,
        "clipNear": 0,
        "fogFar": 100,
        "fogNear": 50,
        "hoverTimeout": 0,
        "impostor": true,
        "lightColor": 14540253,
        "lightIntensity": 1,
        "mousePreset": "default",
        "panSpeed": 1,
        "quality": "medium",
        "rotateSpeed": 2,
        "sampleLevel": 0,
        "tooltip": true,
        "workerDefault": true,
        "zoomSpeed": 1.2
       },
       "_ngl_repr_dict": {
        "0": {
         "0": {
          "params": {
           "aspectRatio": 1.5,
           "assembly": "default",
           "bondScale": 0.3,
           "bondSpacing": 0.75,
           "clipCenter": {
            "x": 0,
            "y": 0,
            "z": 0
           },
           "clipNear": 0,
           "clipRadius": 0,
           "colorMode": "hcl",
           "colorReverse": false,
           "colorScale": "",
           "colorScheme": "element",
           "colorValue": 9474192,
           "cylinderOnly": false,
           "defaultAssembly": "",
           "depthWrite": true,
           "diffuse": 16777215,
           "diffuseInterior": false,
           "disableImpostor": false,
           "disablePicking": false,
           "flatShaded": false,
           "interiorColor": 2236962,
           "interiorDarkening": 0,
           "lazy": false,
           "lineOnly": false,
           "linewidth": 2,
           "matrix": {
            "elements": [
             1,
             0,
             0,
             0,
             0,
             1,
             0,
             0,
             0,
             0,
             1,
             0,
             0,
             0,
             0,
             1
            ]
           },
           "metalness": 0,
           "multipleBond": "off",
           "opacity": 1,
           "openEnded": true,
           "quality": "high",
           "radialSegments": 20,
           "radiusData": {},
           "radiusScale": 2,
           "radiusSize": 0.15,
           "radiusType": "size",
           "roughness": 0.4,
           "sele": "",
           "side": "double",
           "sphereDetail": 2,
           "useInteriorColor": true,
           "visible": true,
           "wireframe": false
          },
          "type": "ball+stick"
         }
        }
       },
       "_ngl_serialize": false,
       "_ngl_version": "2.0.0-dev.36",
       "_ngl_view_id": [
        "527702B4-280E-4E25-BEF3-B7D5DCC0303E"
       ],
       "_player_dict": {},
       "_scene_position": {},
       "_scene_rotation": {},
       "_synced_model_ids": [],
       "_synced_repr_model_ids": [],
       "_view_height": "",
       "_view_width": "",
       "background": "white",
       "frame": 0,
       "gui_style": null,
       "layout": "IPY_MODEL_048428b3c4a44206b29d639fb425e58a",
       "max_frame": 0,
       "n_components": 1,
       "picked": {}
      }
     },
     "f8400d04cd32452b927e28ab47743ab2": {
      "model_module": "@jupyter-widgets/controls",
      "model_module_version": "1.5.0",
      "model_name": "LinkModel",
      "state": {
       "source": [
        "IPY_MODEL_06e4e770c5c048fda5798dfb9123374f",
        "value"
       ],
       "target": [
        "IPY_MODEL_14184cdc7998404abd46cb8197c11168",
        "frame"
       ]
      }
     },
     "f994420cab974aea832e82fb222a840e": {
      "model_module": "@jupyter-widgets/controls",
      "model_module_version": "1.5.0",
      "model_name": "PlayModel",
      "state": {
       "layout": "IPY_MODEL_9a0b52173eaf40659b9f2e933d5a9343",
       "max": 0,
       "style": "IPY_MODEL_aeda806af0454e0b8405b301f49be232"
      }
     },
     "f9d6aeebc73742c9b3ac544c8a39653a": {
      "model_module": "@jupyter-widgets/controls",
      "model_module_version": "1.5.0",
      "model_name": "ButtonStyleModel",
      "state": {}
     },
     "f9e9ca2b1ca542e7b7bacda3923fc2b5": {
      "model_module": "@jupyter-widgets/base",
      "model_module_version": "1.2.0",
      "model_name": "LayoutModel",
      "state": {
       "width": "34px"
      }
     },
     "fa93339311e242aab038dc469843c6e5": {
      "model_module": "@jupyter-widgets/controls",
      "model_module_version": "1.5.0",
      "model_name": "DescriptionStyleModel",
      "state": {
       "description_width": ""
      }
     },
     "faa63a17c37e47adaae083d329a45ddf": {
      "model_module": "@jupyter-widgets/controls",
      "model_module_version": "1.5.0",
      "model_name": "ButtonModel",
      "state": {
       "icon": "compress",
       "layout": "IPY_MODEL_ed6d973b46434524ac42e03cf934ff83",
       "style": "IPY_MODEL_13d6dfdd875748c29822407d1b31cd6c"
      }
     },
     "fab483dea68746978a76177a883fd98b": {
      "model_module": "@jupyter-widgets/base",
      "model_module_version": "1.2.0",
      "model_name": "LayoutModel",
      "state": {}
     },
     "fab5c907f8c14db286ed6db5e1ce04f1": {
      "model_module": "@jupyter-widgets/controls",
      "model_module_version": "1.5.0",
      "model_name": "ButtonStyleModel",
      "state": {}
     },
     "fbab9dfdeb0949c7aeeebe6e9f9996a8": {
      "model_module": "nglview-js-widgets",
      "model_module_version": "3.0.1",
      "model_name": "NGLModel",
      "state": {
       "_camera_orientation": [
        27.6909613235879,
        0,
        0,
        0,
        0,
        27.6909613235879,
        0,
        0,
        0,
        0,
        27.6909613235879,
        0,
        -5.45399996638298,
        0.6499999761581421,
        1.7700001001358032,
        1
       ],
       "_camera_str": "orthographic",
       "_gui_theme": null,
       "_ibtn_fullscreen": "IPY_MODEL_7c6676b9e31f4b778570d71fbb43cf3a",
       "_igui": null,
       "_iplayer": "IPY_MODEL_806a142411cd495c93661fd2bbc43311",
       "_ngl_color_dict": {},
       "_ngl_coordinate_resource": {},
       "_ngl_full_stage_parameters": {
        "ambientColor": 14540253,
        "ambientIntensity": 0.2,
        "backgroundColor": "white",
        "cameraEyeSep": 0.3,
        "cameraFov": 40,
        "cameraType": "perspective",
        "clipDist": 10,
        "clipFar": 100,
        "clipNear": 0,
        "fogFar": 100,
        "fogNear": 50,
        "hoverTimeout": 0,
        "impostor": true,
        "lightColor": 14540253,
        "lightIntensity": 1,
        "mousePreset": "default",
        "panSpeed": 1,
        "quality": "medium",
        "rotateSpeed": 2,
        "sampleLevel": 0,
        "tooltip": true,
        "workerDefault": true,
        "zoomSpeed": 1.2
       },
       "_ngl_msg_archive": [
        {
         "args": [
          {
           "binary": false,
           "data": "\nQCElemental\n\n 33 33  0  0  0  0  0  0  0  0  0\n    3.0000   -0.8140   -3.7070  C  0  0     0  0  0  0  0  0\n    2.4310   -0.1010   -2.4160  C  0  0     0  0  0  0  0  0\n    0.9050   -0.0850   -2.2960  C  0  0     0  0  0  0  0  0\n    3.0580   -1.0000   -1.1720  C  0  0     0  0  0  0  0  0\n    4.5690   -0.7040   -1.1360  C  0  0     0  0  0  0  0  0\n    5.2400    0.5240   -1.1600  C  0  0     0  0  0  0  0  0\n    6.6360    0.5760   -1.1350  C  0  0     0  0  0  0  0  0\n    7.3960   -0.6010   -1.0700  C  0  0     0  0  0  0  0  0\n    6.7210   -1.8290   -1.0120  C  0  0     0  0  0  0  0  0\n    5.3240   -1.8800   -1.0520  C  0  0     0  0  0  0  0  0\n    8.9120   -0.8090   -0.9960  C  0  0     0  0  0  0  0  0\n    9.3640   -0.4170    0.4630  C  0  0     0  0  0  0  0  0\n    9.6380   -1.6350   -1.7240  C  0  0     0  0  0  0  0  0\n   10.4490   -2.3960   -1.2180  O  0  0     0  0  0  0  0  0\n    9.3300   -1.7070   -3.0460  O  0  0     0  0  0  0  0  0\n    2.3930   -0.3240   -4.5770  H  0  0     0  0  0  0  0  0\n    2.5190   -1.8600   -3.7030  H  0  0     0  0  0  0  0  0\n    3.9280   -0.7930   -3.8470  H  0  0     0  0  0  0  0  0\n    2.7640    0.9420   -2.4850  H  0  0     0  0  0  0  0  0\n    0.4990   -1.1000   -2.2260  H  0  0     0  0  0  0  0  0\n    0.4530    0.4010   -3.1670  H  0  0     0  0  0  0  0  0\n    0.5910    0.4690   -1.4060  H  0  0     0  0  0  0  0  0\n    2.7250   -1.8080   -1.1120  H  0  0     0  0  0  0  0  0\n    2.6840   -0.2750   -0.2620  H  0  0     0  0  0  0  0  0\n    4.6790    1.4560   -1.1940  H  0  0     0  0  0  0  0  0\n    7.1230    1.5490   -1.1480  H  0  0     0  0  0  0  0  0\n    7.2710   -2.7660   -0.9270  H  0  0     0  0  0  0  0  0\n    4.8310   -2.8490   -1.0110  H  0  0     0  0  0  0  0  0\n    9.2370    0.4120   -1.4990  H  0  0     0  0  0  0  0  0\n    9.0530   -1.2970    1.0370  H  0  0     0  0  0  0  0  0\n    8.9400    0.8680    0.9500  H  0  0     0  0  0  0  0  0\n   10.4550   -0.3440    0.5310  H  0  0     0  0  0  0  0  0\n    8.6400   -1.0680   -3.3160  H  0  0     0  0  0  0  0  0\n  1 16  1  0  0  0  0\n  1 18  1  0  0  0  0\n  1 17  1  0  0  0  0\n  1  2  1  0  0  0  0\n  2 19  1  0  0  0  0\n  2  3  1  0  0  0  0\n  2  4  1  0  0  0  0\n  3 21  1  0  0  0  0\n  3 20  1  0  0  0  0\n  3 22  1  0  0  0  0\n  4  5  1  0  0  0  0\n  4 23  1  0  0  0  0\n  4 24  1  0  0  0  0\n  5  6  1  0  0  0  0\n  5 10  1  0  0  0  0\n  6 25  1  0  0  0  0\n  6  7  1  0  0  0  0\n  7 26  1  0  0  0  0\n  7  8  1  0  0  0  0\n  8  9  1  0  0  0  0\n  8 11  1  0  0  0  0\n  9 10  1  0  0  0  0\n  9 27  1  0  0  0  0\n 10 28  1  0  0  0  0\n 11 13  1  0  0  0  0\n 11 29  1  0  0  0  0\n 11 12  1  0  0  0  0\n 12 32  1  0  0  0  0\n 12 31  1  0  0  0  0\n 12 30  1  0  0  0  0\n 13 15  1  0  0  0  0\n 13 14  1  0  0  0  0\n 15 33  1  0  0  0  0\n",
           "type": "blob"
          }
         ],
         "kwargs": {
          "defaultRepresentation": true,
          "ext": "sdf"
         },
         "methodName": "loadFile",
         "reconstruc_color_scheme": false,
         "target": "Stage",
         "type": "call_method"
        }
       ],
       "_ngl_original_stage_parameters": {
        "ambientColor": 14540253,
        "ambientIntensity": 0.2,
        "backgroundColor": "white",
        "cameraEyeSep": 0.3,
        "cameraFov": 40,
        "cameraType": "perspective",
        "clipDist": 10,
        "clipFar": 100,
        "clipNear": 0,
        "fogFar": 100,
        "fogNear": 50,
        "hoverTimeout": 0,
        "impostor": true,
        "lightColor": 14540253,
        "lightIntensity": 1,
        "mousePreset": "default",
        "panSpeed": 1,
        "quality": "medium",
        "rotateSpeed": 2,
        "sampleLevel": 0,
        "tooltip": true,
        "workerDefault": true,
        "zoomSpeed": 1.2
       },
       "_ngl_repr_dict": {
        "0": {
         "0": {
          "params": {
           "aspectRatio": 1.5,
           "assembly": "default",
           "bondScale": 0.3,
           "bondSpacing": 0.75,
           "clipCenter": {
            "x": 0,
            "y": 0,
            "z": 0
           },
           "clipNear": 0,
           "clipRadius": 0,
           "colorMode": "hcl",
           "colorReverse": false,
           "colorScale": "",
           "colorScheme": "element",
           "colorValue": 9474192,
           "cylinderOnly": false,
           "defaultAssembly": "",
           "depthWrite": true,
           "diffuse": 16777215,
           "diffuseInterior": false,
           "disableImpostor": false,
           "disablePicking": false,
           "flatShaded": false,
           "interiorColor": 2236962,
           "interiorDarkening": 0,
           "lazy": false,
           "lineOnly": false,
           "linewidth": 2,
           "matrix": {
            "elements": [
             1,
             0,
             0,
             0,
             0,
             1,
             0,
             0,
             0,
             0,
             1,
             0,
             0,
             0,
             0,
             1
            ]
           },
           "metalness": 0,
           "multipleBond": "off",
           "opacity": 1,
           "openEnded": true,
           "quality": "high",
           "radialSegments": 20,
           "radiusData": {},
           "radiusScale": 2,
           "radiusSize": 0.15,
           "radiusType": "size",
           "roughness": 0.4,
           "sele": "",
           "side": "double",
           "sphereDetail": 2,
           "useInteriorColor": true,
           "visible": true,
           "wireframe": false
          },
          "type": "ball+stick"
         }
        }
       },
       "_ngl_serialize": false,
       "_ngl_version": "2.0.0-dev.36",
       "_ngl_view_id": [
        "F720C2F3-186B-42C2-A8D9-85ECD9033494"
       ],
       "_player_dict": {},
       "_scene_position": {},
       "_scene_rotation": {},
       "_synced_model_ids": [],
       "_synced_repr_model_ids": [],
       "_view_height": "",
       "_view_width": "",
       "background": "white",
       "frame": 0,
       "gui_style": null,
       "layout": "IPY_MODEL_75755c61ead04d2cbc6eb6e47ec496d4",
       "max_frame": 0,
       "n_components": 1,
       "picked": {}
      }
     },
     "fd3dcbf6110547619d9aec13f4df752a": {
      "model_module": "nglview-js-widgets",
      "model_module_version": "3.0.1",
      "model_name": "NGLModel",
      "state": {
       "_camera_orientation": [
        18.660976457270156,
        -2.15340348654884,
        9.870664177036147,
        0,
        -2.144686157032305,
        19.415684683030175,
        8.290398650696943,
        0,
        -9.872561934955863,
        -8.28813862841127,
        16.85640765783724,
        0,
        -5.552000135183334,
        0.8974999785423279,
        -0.2745000720024109,
        1
       ],
       "_camera_str": "orthographic",
       "_gui_theme": null,
       "_ibtn_fullscreen": "IPY_MODEL_7954608c470f400e93ee95ce9fa6c718",
       "_igui": null,
       "_iplayer": "IPY_MODEL_3cf208fd9fac4bd9865212eb4f729fdf",
       "_ngl_color_dict": {},
       "_ngl_coordinate_resource": {},
       "_ngl_full_stage_parameters": {
        "ambientColor": 14540253,
        "ambientIntensity": 0.2,
        "backgroundColor": "white",
        "cameraEyeSep": 0.3,
        "cameraFov": 40,
        "cameraType": "perspective",
        "clipDist": 10,
        "clipFar": 100,
        "clipNear": 0,
        "fogFar": 100,
        "fogNear": 50,
        "hoverTimeout": 0,
        "impostor": true,
        "lightColor": 14540253,
        "lightIntensity": 1,
        "mousePreset": "default",
        "panSpeed": 1,
        "quality": "medium",
        "rotateSpeed": 2,
        "sampleLevel": 0,
        "tooltip": true,
        "workerDefault": true,
        "zoomSpeed": 1.2
       },
       "_ngl_msg_archive": [
        {
         "args": [
          {
           "binary": false,
           "data": "\nQCElemental\n\n 33 33  0  0  0  0  0  0  0  0  0\n    3.0600    1.1250    0.5030  C  0  0     0  0  0  0  0  0\n    2.5180   -0.2180    0.9970  C  0  0     0  0  0  0  0  0\n    0.9880   -0.1980    0.9640  C  0  0     0  0  0  0  0  0\n    3.0600   -1.4020    0.1640  C  0  0     0  0  0  0  0  0\n    4.5670   -1.5330    0.2190  C  0  0     0  0  0  0  0  0\n    5.2240   -1.7620    1.4330  C  0  0     0  0  0  0  0  0\n    6.6200   -1.7980    1.4930  C  0  0     0  0  0  0  0  0\n    7.3930   -1.6190    0.3370  C  0  0     0  0  0  0  0  0\n    6.7300   -1.4510   -0.8890  C  0  0     0  0  0  0  0  0\n    5.3340   -1.4010   -0.9450  C  0  0     0  0  0  0  0  0\n    8.9100   -1.6460    0.4320  C  0  0     0  0  0  0  0  0\n    9.4360   -3.0710    0.2540  C  0  0     0  0  0  0  0  0\n    9.6080   -0.6840   -0.5260  C  0  0     0  0  0  0  0  0\n   10.4390   -1.0050   -1.3640  O  0  0     0  0  0  0  0  0\n    9.2470    0.6120   -0.3480  O  0  0     0  0  0  0  0  0\n    2.6750    1.9460    1.1170  H  0  0     0  0  0  0  0  0\n    2.7690    1.3130   -0.5360  H  0  0     0  0  0  0  0  0\n    4.1530    1.1630    0.5620  H  0  0     0  0  0  0  0  0\n    2.8220   -0.3410    2.0430  H  0  0     0  0  0  0  0  0\n    0.6120   -0.0780   -0.0590  H  0  0     0  0  0  0  0  0\n    0.5990    0.6320    1.5650  H  0  0     0  0  0  0  0  0\n    0.5750   -1.1260    1.3710  H  0  0     0  0  0  0  0  0\n    2.7320   -1.2960   -0.8770  H  0  0     0  0  0  0  0  0\n    2.6240   -2.3430    0.5240  H  0  0     0  0  0  0  0  0\n    4.6510   -1.9010    2.3480  H  0  0     0  0  0  0  0  0\n    7.0970   -1.9700    2.4560  H  0  0     0  0  0  0  0  0\n    7.2900   -1.3470   -1.8180  H  0  0     0  0  0  0  0  0\n    4.8510   -1.2450   -1.9070  H  0  0     0  0  0  0  0  0\n    9.2070   -1.3110    1.4370  H  0  0     0  0  0  0  0  0\n    9.1710   -3.4770   -0.7290  H  0  0     0  0  0  0  0  0\n    9.0270   -3.7410    1.0170  H  0  0     0  0  0  0  0  0\n   10.5290   -3.0950    0.3390  H  0  0     0  0  0  0  0  0\n    8.5460    0.7280    0.3230  H  0  0     0  0  0  0  0  0\n  1  2  1  0  0  0  0\n  1 16  1  0  0  0  0\n  1 17  1  0  0  0  0\n  1 18  1  0  0  0  0\n  2  3  1  0  0  0  0\n  2  4  1  0  0  0  0\n  2 19  1  0  0  0  0\n  3 20  1  0  0  0  0\n  3 21  1  0  0  0  0\n  3 22  1  0  0  0  0\n  4  5  1  0  0  0  0\n  4 23  1  0  0  0  0\n  4 24  1  0  0  0  0\n  5  6  1  0  0  0  0\n  5 10  1  0  0  0  0\n  6  7  1  0  0  0  0\n  6 25  1  0  0  0  0\n  7  8  1  0  0  0  0\n  7 26  1  0  0  0  0\n  8  9  1  0  0  0  0\n  8 11  1  0  0  0  0\n  9 10  1  0  0  0  0\n  9 27  1  0  0  0  0\n 10 28  1  0  0  0  0\n 11 12  1  0  0  0  0\n 11 13  1  0  0  0  0\n 11 29  1  0  0  0  0\n 12 30  1  0  0  0  0\n 12 31  1  0  0  0  0\n 12 32  1  0  0  0  0\n 13 14  1  0  0  0  0\n 13 15  1  0  0  0  0\n 15 33  1  0  0  0  0\n",
           "type": "blob"
          }
         ],
         "kwargs": {
          "defaultRepresentation": true,
          "ext": "sdf"
         },
         "methodName": "loadFile",
         "reconstruc_color_scheme": false,
         "target": "Stage",
         "type": "call_method"
        }
       ],
       "_ngl_original_stage_parameters": {
        "ambientColor": 14540253,
        "ambientIntensity": 0.2,
        "backgroundColor": "white",
        "cameraEyeSep": 0.3,
        "cameraFov": 40,
        "cameraType": "perspective",
        "clipDist": 10,
        "clipFar": 100,
        "clipNear": 0,
        "fogFar": 100,
        "fogNear": 50,
        "hoverTimeout": 0,
        "impostor": true,
        "lightColor": 14540253,
        "lightIntensity": 1,
        "mousePreset": "default",
        "panSpeed": 1,
        "quality": "medium",
        "rotateSpeed": 2,
        "sampleLevel": 0,
        "tooltip": true,
        "workerDefault": true,
        "zoomSpeed": 1.2
       },
       "_ngl_repr_dict": {
        "0": {
         "0": {
          "params": {
           "aspectRatio": 1.5,
           "assembly": "default",
           "bondScale": 0.3,
           "bondSpacing": 0.75,
           "clipCenter": {
            "x": 0,
            "y": 0,
            "z": 0
           },
           "clipNear": 0,
           "clipRadius": 0,
           "colorMode": "hcl",
           "colorReverse": false,
           "colorScale": "",
           "colorScheme": "element",
           "colorValue": 9474192,
           "cylinderOnly": false,
           "defaultAssembly": "",
           "depthWrite": true,
           "diffuse": 16777215,
           "diffuseInterior": false,
           "disableImpostor": false,
           "disablePicking": false,
           "flatShaded": false,
           "interiorColor": 2236962,
           "interiorDarkening": 0,
           "lazy": false,
           "lineOnly": false,
           "linewidth": 2,
           "matrix": {
            "elements": [
             1,
             0,
             0,
             0,
             0,
             1,
             0,
             0,
             0,
             0,
             1,
             0,
             0,
             0,
             0,
             1
            ]
           },
           "metalness": 0,
           "multipleBond": "off",
           "opacity": 1,
           "openEnded": true,
           "quality": "high",
           "radialSegments": 20,
           "radiusData": {},
           "radiusScale": 2,
           "radiusSize": 0.15,
           "radiusType": "size",
           "roughness": 0.4,
           "sele": "",
           "side": "double",
           "sphereDetail": 2,
           "useInteriorColor": true,
           "visible": true,
           "wireframe": false
          },
          "type": "ball+stick"
         }
        }
       },
       "_ngl_serialize": false,
       "_ngl_version": "2.0.0-dev.36",
       "_ngl_view_id": [
        "517EA459-84B6-486D-A921-B96683682E00"
       ],
       "_player_dict": {},
       "_scene_position": {},
       "_scene_rotation": {},
       "_synced_model_ids": [],
       "_synced_repr_model_ids": [],
       "_view_height": "",
       "_view_width": "",
       "background": "white",
       "frame": 0,
       "gui_style": null,
       "layout": "IPY_MODEL_46fe4e91227446a8a7bf9447ea16b6dc",
       "max_frame": 0,
       "n_components": 1,
       "picked": {}
      }
     },
     "fd567b025a7142b392d56f76ba34148c": {
      "model_module": "@jupyter-widgets/controls",
      "model_module_version": "1.5.0",
      "model_name": "IntSliderModel",
      "state": {
       "layout": "IPY_MODEL_d9fa73e2c0ee4a6181211dcfd701637a",
       "max": 0,
       "style": "IPY_MODEL_6c669c36a58e4b9aa38a5031e6f6a99a"
      }
     },
     "fd6a9eb55f17424398603b896d15c2e8": {
      "model_module": "@jupyter-widgets/controls",
      "model_module_version": "1.5.0",
      "model_name": "ImageModel",
      "state": {
       "layout": "IPY_MODEL_ae85ddfd655b4bb68ab96a91402e8a14",
       "width": "900.0"
      }
     },
     "fda9a5aaffd6495fa17c2c9a22c1a30e": {
      "model_module": "@jupyter-widgets/controls",
      "model_module_version": "1.5.0",
      "model_name": "LinkModel",
      "state": {
       "source": [
        "IPY_MODEL_f994420cab974aea832e82fb222a840e",
        "value"
       ],
       "target": [
        "IPY_MODEL_2fdc88212cc44779a4609566056dfe22",
        "frame"
       ]
      }
     },
     "ff0a77e3dcda41639323b4a08d81452e": {
      "model_module": "@jupyter-widgets/controls",
      "model_module_version": "1.5.0",
      "model_name": "ButtonStyleModel",
      "state": {}
     },
     "ff39892f210449c4bd8fa9e7c08f890a": {
      "model_module": "@jupyter-widgets/controls",
      "model_module_version": "1.5.0",
      "model_name": "ImageModel",
      "state": {
       "layout": "IPY_MODEL_0ba5e25f32ed4f9fa65b5d47abe3033d",
       "width": "900.0"
      }
     },
     "ff70a90367234f1581bae1b2123d8f99": {
      "model_module": "@jupyter-widgets/controls",
      "model_module_version": "1.5.0",
      "model_name": "LinkModel",
      "state": {
       "source": [
        "IPY_MODEL_62072f366dca431d8b6a3e48fa732353",
        "max"
       ],
       "target": [
        "IPY_MODEL_a4577486184347078370431027caa476",
        "max_frame"
       ]
      }
     }
    },
    "version_major": 2,
    "version_minor": 0
   }
  }
 },
 "nbformat": 4,
 "nbformat_minor": 5
}
