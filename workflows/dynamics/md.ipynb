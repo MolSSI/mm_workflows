{
 "cells": [
  {
   "cell_type": "code",
   "execution_count": 1,
   "id": "7cae270b",
   "metadata": {},
   "outputs": [
    {
     "name": "stdout",
     "output_type": "stream",
     "text": [
      "MMSchema molecule:\n",
      " Molecule(name='H2O', hash='6a91558')\n",
      "Atomic numbers:\n",
      " [8 1 1]\n",
      "Atomic symbols:\n",
      " ['O' 'H' 'H']\n"
     ]
    }
   ],
   "source": [
    "###########################\n",
    "# Create a Molecule model #\n",
    "###########################\n",
    "\n",
    "import mmelemental\n",
    "from mm_data import mols\n",
    "\n",
    "mol = mmelemental.models.Molecule.from_file(mols[\"water-mol.json\"])\n",
    "\n",
    "print(\"MMSchema molecule:\\n\", mol)\n",
    "print(\"Atomic numbers:\\n\", mol.atomic_numbers)\n",
    "print(\"Atomic symbols:\\n\", mol.symbols)"
   ]
  },
  {
   "cell_type": "code",
   "execution_count": 2,
   "id": "b0ed93be",
   "metadata": {},
   "outputs": [
    {
     "name": "stdout",
     "output_type": "stream",
     "text": [
      "Parameterized molecule:\n",
      " Molecule(name='H2O', hash='49d1178')\n",
      "Force field object for molecule:\n",
      " ForceField(name='forcefield', form=['NonBonded', 'Bonds', 'Angles'], hash='61f7c56')\n"
     ]
    }
   ],
   "source": [
    "####################\n",
    "# Assign FF params #\n",
    "####################\n",
    "\n",
    "import mmic_ffpa\n",
    "\n",
    "inputs = {\n",
    "    \"molecule\": {\"water\": mol},\n",
    "    \"forcefield\": {\"water\": \"spc\"},\n",
    "    \"engine\": \"gmx\",\n",
    "}\n",
    "\n",
    "outputs = mmic_ffpa.AssignComponent.compute(inputs)\n",
    "\n",
    "molp = outputs.molecule[\"water\"]\n",
    "ffp = outputs.forcefield[\"water\"]\n",
    "\n",
    "print(\"Parameterized molecule:\\n\", molp)\n",
    "print(\"Force field object for molecule:\\n\", ffp)"
   ]
  },
  {
   "cell_type": "code",
   "execution_count": 4,
   "id": "acefd117",
   "metadata": {},
   "outputs": [],
   "source": [
    "##################  \n",
    "# Run energy min #\n",
    "##################  \n",
    "import mmic_optim\n",
    "\n",
    "inputs = {\n",
    "    \"molecule\": {\"water\": molp},\n",
    "    \"forcefield\": {\"water\": ffp},\n",
    "}"
   ]
  }
 ],
 "metadata": {
  "kernelspec": {
   "display_name": "Python 3",
   "language": "python",
   "name": "python3"
  },
  "language_info": {
   "codemirror_mode": {
    "name": "ipython",
    "version": 3
   },
   "file_extension": ".py",
   "mimetype": "text/x-python",
   "name": "python",
   "nbconvert_exporter": "python",
   "pygments_lexer": "ipython3",
   "version": "3.9.2"
  }
 },
 "nbformat": 4,
 "nbformat_minor": 5
}
