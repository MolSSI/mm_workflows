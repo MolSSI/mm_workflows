{
 "cells": [
  {
   "cell_type": "code",
   "execution_count": null,
   "id": "72b4a871",
   "metadata": {},
   "outputs": [],
   "source": [
    "!git clone https://github.com/MolSSI/mm_workflows.git"
   ]
  },
  {
   "cell_type": "code",
   "execution_count": null,
   "id": "722fa9fe",
   "metadata": {},
   "outputs": [],
   "source": [
    "!pip install -q condacolab\n",
    "import condacolab\n",
    "condacolab.install()"
   ]
  },
  {
   "cell_type": "code",
   "execution_count": null,
   "id": "cf5ebd8f",
   "metadata": {},
   "outputs": [],
   "source": [
    "!conda env update -n base -f mm_workflows/conda_env.yaml"
   ]
  }
 ],
 "metadata": {
  "kernelspec": {
   "display_name": "Python 3",
   "language": "python",
   "name": "python3"
  },
  "language_info": {
   "codemirror_mode": {
    "name": "ipython",
    "version": 3
   },
   "file_extension": ".py",
   "mimetype": "text/x-python",
   "name": "python",
   "nbconvert_exporter": "python",
   "pygments_lexer": "ipython3",
   "version": "3.7.10"
  }
 },
 "nbformat": 4,
 "nbformat_minor": 5
}
