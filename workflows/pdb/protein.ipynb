{
 "cells": [
  {
   "cell_type": "code",
   "execution_count": 21,
   "id": "7f9b0d1e",
   "metadata": {},
   "outputs": [
    {
     "data": {
      "application/vnd.jupyter.widget-view+json": {
       "model_id": "3d38a894936f4330a5ea4f8a40b94856",
       "version_major": 2,
       "version_minor": 0
      },
      "text/plain": [
       "NGLWidget()"
      ]
     },
     "metadata": {},
     "output_type": "display_data"
    }
   ],
   "source": [
    "import nglview\n",
    "\n",
    "\n",
    "view = nglview.show_pdbid(\"4EZI\")\n",
    "view.add_cartoon(selection=\"protein\")\n",
    "\n",
    "nglview_repr = [\n",
    "    {\"type\": \"cartoon\", \"params\": {\n",
    "        \"sele\": \"protein\", \"color\": \"residueindex\"\n",
    "    }},\n",
    "    {\"type\": \"ball+stick\", \"params\": {\n",
    "        \"sele\": \"hetero\"\n",
    "    }}\n",
    "]\n",
    "view.representations = nglview_repr\n",
    "view"
   ]
  },
  {
   "cell_type": "code",
   "execution_count": 25,
   "id": "047599f8",
   "metadata": {},
   "outputs": [],
   "source": [
    "from mmic_pdb.components import PdbFixerComponent\n",
    "\n",
    "\n",
    "outp = PdbFixerComponent.compute(\n",
    "    {\n",
    "        \"pdbid\": \"4EZI\",\n",
    "        \"add_atoms\": \"all\",\n",
    "        \"keep_hetero\": \"none\",\n",
    "        \"std_residues\": True,\n",
    "    }\n",
    ")\n",
    "\n",
    "fixed_mol = outp.molecule"
   ]
  },
  {
   "cell_type": "code",
   "execution_count": 26,
   "id": "1eb4b9fe",
   "metadata": {},
   "outputs": [
    {
     "data": {
      "application/vnd.jupyter.widget-view+json": {
       "model_id": "c1cb5878eddd4809bd623d93b85fcf4c",
       "version_major": 2,
       "version_minor": 0
      },
      "text/plain": [
       "NGLWidget()"
      ]
     },
     "metadata": {},
     "output_type": "display_data"
    }
   ],
   "source": [
    "view = nglview.show_parmed(fixed_mol.to_data(\"parmed\").data)\n",
    "view.representations = nglview_repr\n",
    "view"
   ]
  },
  {
   "cell_type": "code",
   "execution_count": 28,
   "id": "13df3a1c",
   "metadata": {},
   "outputs": [
    {
     "name": "stdout",
     "output_type": "stream",
     "text": [
      "Retrieving PDB 4EZI from RCSB ...\n",
      "Finding missing residues...\n",
      "Finding nonstandard residues...\n",
      "Replacing nonstandard residues...\n",
      "Removing all heterogens ...\n",
      "Finding missing atoms...\n",
      "Adding missing atoms...\n",
      "Adding missing hydrogens...\n",
      "Writing output...\n",
      "\n"
     ]
    }
   ],
   "source": [
    "print(outp.log)"
   ]
  }
 ],
 "metadata": {
  "kernelspec": {
   "display_name": "Python 3",
   "language": "python",
   "name": "python3"
  },
  "language_info": {
   "codemirror_mode": {
    "name": "ipython",
    "version": 3
   },
   "file_extension": ".py",
   "mimetype": "text/x-python",
   "name": "python",
   "nbconvert_exporter": "python",
   "pygments_lexer": "ipython3",
   "version": "3.9.2"
  }
 },
 "nbformat": 4,
 "nbformat_minor": 5
}
