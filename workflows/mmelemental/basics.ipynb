{
 "cells": [
  {
   "cell_type": "code",
   "execution_count": 1,
   "id": "2172875f",
   "metadata": {},
   "outputs": [
    {
     "name": "stdout",
     "output_type": "stream",
     "text": [
      "{\n",
      "    \"provenance\": {\n",
      "        \"creator\": \"MMElemental\",\n",
      "        \"version\": \"0+untagged.408.g5d0c181.dirty\",\n",
      "        \"routine\": \"mmelemental.models.molecule.mm_mol\"\n",
      "    },\n",
      "    \"schema_name\": \"mmschema_molecule\",\n",
      "    \"schema_version\": 0,\n",
      "    \"symbols\": [\n",
      "        \"H\",\n",
      "        \"O\",\n",
      "        \"H\"\n",
      "    ],\n",
      "    \"name\": \"H2O\",\n",
      "    \"ndim\": 3,\n",
      "    \"atom_labels\": [\n",
      "        \"H\",\n",
      "        \"O\",\n",
      "        \"H\"\n",
      "    ],\n",
      "    \"atomic_numbers\": [\n",
      "        1,\n",
      "        8,\n",
      "        1\n",
      "    ],\n",
      "    \"masses\": [\n",
      "        1.0079,\n",
      "        15.999,\n",
      "        1.0079\n",
      "    ],\n",
      "    \"masses_units\": \"dalton\",\n",
      "    \"molecular_charge\": 0.0,\n",
      "    \"molecular_charge_units\": \"e\",\n",
      "    \"geometry\": [\n",
      "        2.0,\n",
      "        1.0,\n",
      "        -0.0,\n",
      "        2.0,\n",
      "        2.09,\n",
      "        0.0,\n",
      "        1.49,\n",
      "        2.45,\n",
      "        0.89\n",
      "    ],\n",
      "    \"geometry_units\": \"angstrom\",\n",
      "    \"connectivity\": [\n",
      "        [\n",
      "            0,\n",
      "            1,\n",
      "            1.0\n",
      "        ],\n",
      "        [\n",
      "            1,\n",
      "            2,\n",
      "            1.0\n",
      "        ]\n",
      "    ],\n",
      "    \"substructs\": [\n",
      "        [\n",
      "            \"SOL\",\n",
      "            0\n",
      "        ],\n",
      "        [\n",
      "            \"SOL\",\n",
      "            0\n",
      "        ],\n",
      "        [\n",
      "            \"SOL\",\n",
      "            0\n",
      "        ]\n",
      "    ]\n",
      "}\n"
     ]
    }
   ],
   "source": [
    "###############################################\n",
    "# Read a serialized molecule from a JSON file #\n",
    "###############################################\n",
    "\n",
    "from mm_data import mols\n",
    "import json\n",
    "\n",
    "with open(mols[\"water.json\"], \"r\") as fp:\n",
    "    water_json = json.load(fp)\n",
    "    print(json.dumps(water_json, indent=4))"
   ]
  },
  {
   "cell_type": "code",
   "execution_count": 5,
   "id": "0589a3f8",
   "metadata": {},
   "outputs": [
    {
     "name": "stdout",
     "output_type": "stream",
     "text": [
      "Carbon dioxide MMSchema molecule:\n",
      " Molecule(name='CO2', hash='5d4974d')\n"
     ]
    }
   ],
   "source": [
    "#############################\n",
    "# Create a Molecule object #\n",
    "###########################\n",
    "\n",
    "from mmelemental.models import Molecule\n",
    "\n",
    "# From data\n",
    "carb_dioxide = Molecule(symbols=[\"O\", \"C\", \"O\"], geometry=[(2, 1, 0), (2, 2.09, 0), (1.5, 2.5, 0.9)])\n",
    "\n",
    "print(\"Carbon dioxide MMSchema molecule:\\n\", carb_dioxide)"
   ]
  },
  {
   "cell_type": "code",
   "execution_count": 6,
   "id": "65d46259",
   "metadata": {},
   "outputs": [
    {
     "data": {
      "application/vnd.jupyter.widget-view+json": {
       "model_id": "37aa70d884de4903964633a6109a6049",
       "version_major": 2,
       "version_minor": 0
      },
      "text/plain": [
       "NGLWidget()"
      ]
     },
     "metadata": {},
     "output_type": "display_data"
    }
   ],
   "source": [
    "import nglview\n",
    "\n",
    "view = nglview.show_mmelemental(carb_dioxide)\n",
    "view"
   ]
  },
  {
   "cell_type": "code",
   "execution_count": null,
   "id": "13657b6f",
   "metadata": {},
   "outputs": [],
   "source": [
    "from mm_data import mols\n",
    "\n",
    "# From PDB file\n",
    "dialanine = Molecule.from_file(mols[\"dialanine.pdb\"])\n",
    "print(\"Dialanine MMSchema molecule:\\n\", dialanine)\n",
    "\n",
    "# From JSON file\n",
    "water = Molecule.from_file(mols[\"water.json\"])\n",
    "print(\"Water MMSchema molecule:\\n\", water)\n",
    "\n",
    "# Some Molecule properties\n",
    "print(\"\\nMolecule properties:\")\n",
    "print(\"====================\")\n",
    "print(\"Atomic numbers:\\n\", water.atomic_numbers)\n",
    "print(\"Atomic symbols:\\n\", water.symbols)\n",
    "print(\"Atomic geometry:\\n\", water.geometry)"
   ]
  }
 ],
 "metadata": {
  "kernelspec": {
   "display_name": "Python 3",
   "language": "python",
   "name": "python3"
  },
  "language_info": {
   "codemirror_mode": {
    "name": "ipython",
    "version": 3
   },
   "file_extension": ".py",
   "mimetype": "text/x-python",
   "name": "python",
   "nbconvert_exporter": "python",
   "pygments_lexer": "ipython3",
   "version": "3.9.2"
  }
 },
 "nbformat": 4,
 "nbformat_minor": 5
}
