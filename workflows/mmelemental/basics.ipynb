{
 "cells": [
  {
   "cell_type": "code",
   "execution_count": 1,
   "id": "2172875f",
   "metadata": {},
   "outputs": [
    {
     "name": "stdout",
     "output_type": "stream",
     "text": [
      "{\n",
      "    \"schema_name\": \"mmschema_molecule\",\n",
      "    \"schema_version\": 1,\n",
      "    \"symbols\": [\n",
      "        \"O\",\n",
      "        \"H\",\n",
      "        \"H\"\n",
      "    ],\n",
      "    \"name\": \"H2O\",\n",
      "    \"ndim\": 3,\n",
      "    \"atom_labels\": [\n",
      "        \"OW\",\n",
      "        \"HW1\",\n",
      "        \"HW2\"\n",
      "    ],\n",
      "    \"atomic_numbers\": [\n",
      "        8,\n",
      "        1,\n",
      "        1\n",
      "    ],\n",
      "    \"masses\": [\n",
      "        15.9994,\n",
      "        1.0079,\n",
      "        1.0079\n",
      "    ],\n",
      "    \"masses_units\": \"dalton\",\n",
      "    \"molecular_charge\": 0.0,\n",
      "    \"molecular_charge_units\": \"e\",\n",
      "    \"geometry\": [\n",
      "        2.0,\n",
      "        2.09,\n",
      "        0.0,\n",
      "        2.82,\n",
      "        2.09,\n",
      "        0.5800000000000001,\n",
      "        1.18,\n",
      "        2.09,\n",
      "        0.5800000000000001\n",
      "    ],\n",
      "    \"geometry_units\": \"angstrom\",\n",
      "    \"connectivity\": [\n",
      "        [\n",
      "            0,\n",
      "            2,\n",
      "            1.0\n",
      "        ],\n",
      "        [\n",
      "            0,\n",
      "            1,\n",
      "            1.0\n",
      "        ]\n",
      "    ],\n",
      "    \"substructs\": [\n",
      "        [\n",
      "            \"HOH\",\n",
      "            0\n",
      "        ],\n",
      "        [\n",
      "            \"HOH\",\n",
      "            0\n",
      "        ],\n",
      "        [\n",
      "            \"HOH\",\n",
      "            0\n",
      "        ]\n",
      "    ],\n",
      "    \"provenance\": {\n",
      "        \"creator\": \"MMElemental\",\n",
      "        \"version\": \"0+untagged.586.g645c496.dirty\",\n",
      "        \"routine\": \"mmelemental.models.molecule.mm_mol\"\n",
      "    }\n",
      "}\n"
     ]
    }
   ],
   "source": [
    "###############################################\n",
    "# Read a serialized molecule from a JSON file #\n",
    "###############################################\n",
    "\n",
    "from mm_data import mols\n",
    "import json\n",
    "\n",
    "with open(mols[\"water-mol.json\"], \"r\") as fp:\n",
    "    water_json = json.load(fp)\n",
    "    print(json.dumps(water_json, indent=4))"
   ]
  },
  {
   "cell_type": "code",
   "execution_count": 2,
   "id": "0589a3f8",
   "metadata": {},
   "outputs": [
    {
     "name": "stdout",
     "output_type": "stream",
     "text": [
      "Carbon dioxide MMSchema molecule:\n",
      " Molecule(name='CO2', hash='76558c8')\n"
     ]
    }
   ],
   "source": [
    "#############################\n",
    "# Create a Molecule object #\n",
    "###########################\n",
    "\n",
    "from mmelemental.models import Molecule\n",
    "\n",
    "# From data\n",
    "carb_dioxide = Molecule(symbols=[\"O\", \"C\", \"O\"], geometry=[(2, 1, 0), (2, 2.09, 0), (1.5, 2.5, 0.9)])\n",
    "\n",
    "print(\"Carbon dioxide MMSchema molecule:\\n\", carb_dioxide)"
   ]
  },
  {
   "cell_type": "code",
   "execution_count": 3,
   "id": "65d46259",
   "metadata": {},
   "outputs": [
    {
     "data": {
      "application/vnd.jupyter.widget-view+json": {
       "model_id": "8bc2b681a1bc4729af59f6b5f0dcdaae",
       "version_major": 2,
       "version_minor": 0
      },
      "text/plain": []
     },
     "metadata": {},
     "output_type": "display_data"
    },
    {
     "data": {
      "application/vnd.jupyter.widget-view+json": {
       "model_id": "0932156cebc2475e83ec643ab92f3c2e",
       "version_major": 2,
       "version_minor": 0
      },
      "text/plain": [
       "NGLWidget()"
      ]
     },
     "metadata": {},
     "output_type": "display_data"
    }
   ],
   "source": [
    "import nglview\n",
    "\n",
    "nglview.show_mmelemental(carb_dioxide)"
   ]
  },
  {
   "cell_type": "code",
   "execution_count": 4,
   "id": "13657b6f",
   "metadata": {},
   "outputs": [
    {
     "name": "stdout",
     "output_type": "stream",
     "text": [
      "Dialanine MMSchema molecule:\n",
      " Molecule(name='C3H7NO2', hash='4963e4c')\n",
      "\n",
      "Molecule properties:\n",
      "====================\n",
      "Atomic numbers:\n",
      " [7 6 6 8 6 8 1 1 1 1 1 1 1]\n",
      "Atomic symbols:\n",
      " ['N' 'C' 'C' 'O' 'C' 'O' 'H' 'H' 'H' 'H' 'H' 'H' 'H']\n",
      "Atomic geometry:\n",
      " [[ 2.281 26.213 12.804]\n",
      " [ 1.169 26.942 13.411]\n",
      " [ 1.539 28.344 13.874]\n",
      " [ 2.709 28.647 14.114]\n",
      " [ 0.601 26.143 14.574]\n",
      " [ 0.523 29.194 13.997]\n",
      " [ 2.033 25.273 12.493]\n",
      " [ 3.08  26.184 13.436]\n",
      " [ 0.399 27.067 12.613]\n",
      " [-0.247 26.699 15.037]\n",
      " [ 0.308 25.11  14.27 ]\n",
      " [ 1.384 25.876 15.321]\n",
      " [ 0.753 30.069 14.286]]\n"
     ]
    }
   ],
   "source": [
    "from mm_data import mols\n",
    "\n",
    "# From PDB file\n",
    "alanine = Molecule.from_file(mols[\"alanine.pdb\"])\n",
    "print(\"Dialanine MMSchema molecule:\\n\", alanine)\n",
    "\n",
    "# Some Molecule properties\n",
    "print(\"\\nMolecule properties:\")\n",
    "print(\"====================\")\n",
    "print(\"Atomic numbers:\\n\", alanine.atomic_numbers)\n",
    "print(\"Atomic symbols:\\n\", alanine.symbols)\n",
    "print(\"Atomic geometry:\\n\", alanine.geometry)"
   ]
  }
 ],
 "metadata": {
  "kernelspec": {
   "display_name": "Python 3",
   "language": "python",
   "name": "python3"
  },
  "language_info": {
   "codemirror_mode": {
    "name": "ipython",
    "version": 3
   },
   "file_extension": ".py",
   "mimetype": "text/x-python",
   "name": "python",
   "nbconvert_exporter": "python",
   "pygments_lexer": "ipython3",
   "version": "3.9.2"
  },
  "widgets": {
   "application/vnd.jupyter.widget-state+json": {
    "state": {
     "0932156cebc2475e83ec643ab92f3c2e": {
      "model_module": "nglview-js-widgets",
      "model_module_version": "3.0.1",
      "model_name": "NGLModel",
      "state": {
       "_camera_orientation": [
        9.033574433884194,
        0.28779554892561227,
        9.657609378635692,
        0,
        -0.753270916310587,
        13.20202495151089,
        0.31117896320907906,
        0,
        -9.632488158047952,
        -0.762511076983066,
        9.032799177628362,
        0,
        -1.75,
        -1.75,
        -0.44999998807907104,
        1
       ],
       "_camera_str": "orthographic",
       "_gui_theme": null,
       "_ibtn_fullscreen": "IPY_MODEL_7ec956dcf9674af1a73babf21bad0a23",
       "_igui": null,
       "_iplayer": "IPY_MODEL_8ad5a40115b24e6e836a407f950dac02",
       "_ngl_color_dict": {},
       "_ngl_coordinate_resource": {},
       "_ngl_full_stage_parameters": {
        "ambientColor": 14540253,
        "ambientIntensity": 0.2,
        "backgroundColor": "white",
        "cameraEyeSep": 0.3,
        "cameraFov": 40,
        "cameraType": "perspective",
        "clipDist": 10,
        "clipFar": 100,
        "clipNear": 0,
        "fogFar": 100,
        "fogNear": 50,
        "hoverTimeout": 0,
        "impostor": true,
        "lightColor": 14540253,
        "lightIntensity": 1,
        "mousePreset": "default",
        "panSpeed": 1,
        "quality": "medium",
        "rotateSpeed": 2,
        "sampleLevel": 0,
        "tooltip": true,
        "workerDefault": true,
        "zoomSpeed": 1.2
       },
       "_ngl_msg_archive": [
        {
         "args": [
          {
           "binary": false,
           "data": "HETATM    1      UNK     1       2.000   1.000   0.000  1.00  0.00           O  \nHETATM    2      UNK     1       2.000   2.090   0.000  1.00  0.00           C  \nHETATM    3      UNK     1       1.500   2.500   0.900  1.00  0.00           O  \nEND                                                                             \n",
           "type": "blob"
          }
         ],
         "kwargs": {
          "defaultRepresentation": true,
          "ext": "pdb"
         },
         "methodName": "loadFile",
         "reconstruc_color_scheme": false,
         "target": "Stage",
         "type": "call_method"
        }
       ],
       "_ngl_original_stage_parameters": {
        "ambientColor": 14540253,
        "ambientIntensity": 0.2,
        "backgroundColor": "white",
        "cameraEyeSep": 0.3,
        "cameraFov": 40,
        "cameraType": "perspective",
        "clipDist": 10,
        "clipFar": 100,
        "clipNear": 0,
        "fogFar": 100,
        "fogNear": 50,
        "hoverTimeout": 0,
        "impostor": true,
        "lightColor": 14540253,
        "lightIntensity": 1,
        "mousePreset": "default",
        "panSpeed": 1,
        "quality": "medium",
        "rotateSpeed": 2,
        "sampleLevel": 0,
        "tooltip": true,
        "workerDefault": true,
        "zoomSpeed": 1.2
       },
       "_ngl_repr_dict": {
        "0": {
         "0": {
          "params": {
           "aspectRatio": 1.5,
           "assembly": "default",
           "bondScale": 0.3,
           "bondSpacing": 0.75,
           "clipCenter": {
            "x": 0,
            "y": 0,
            "z": 0
           },
           "clipNear": 0,
           "clipRadius": 0,
           "colorMode": "hcl",
           "colorReverse": false,
           "colorScale": "",
           "colorScheme": "element",
           "colorValue": 9474192,
           "cylinderOnly": false,
           "defaultAssembly": "",
           "depthWrite": true,
           "diffuse": 16777215,
           "diffuseInterior": false,
           "disableImpostor": false,
           "disablePicking": false,
           "flatShaded": false,
           "interiorColor": 2236962,
           "interiorDarkening": 0,
           "lazy": false,
           "lineOnly": false,
           "linewidth": 2,
           "matrix": {
            "elements": [
             1,
             0,
             0,
             0,
             0,
             1,
             0,
             0,
             0,
             0,
             1,
             0,
             0,
             0,
             0,
             1
            ]
           },
           "metalness": 0,
           "multipleBond": "off",
           "opacity": 1,
           "openEnded": true,
           "quality": "high",
           "radialSegments": 20,
           "radiusData": {},
           "radiusScale": 2,
           "radiusSize": 0.15,
           "radiusType": "size",
           "roughness": 0.4,
           "sele": "",
           "side": "double",
           "sphereDetail": 2,
           "useInteriorColor": true,
           "visible": true,
           "wireframe": false
          },
          "type": "ball+stick"
         }
        }
       },
       "_ngl_serialize": false,
       "_ngl_version": "2.0.0-dev.36",
       "_ngl_view_id": [
        "88737580-8ADF-4A91-B2D4-06F47D830E74"
       ],
       "_player_dict": {},
       "_scene_position": {},
       "_scene_rotation": {},
       "_synced_model_ids": [],
       "_synced_repr_model_ids": [],
       "_view_height": "",
       "_view_width": "",
       "background": "white",
       "frame": 0,
       "gui_style": null,
       "layout": "IPY_MODEL_dad8e3ccec0b418381e072232f7ba41a",
       "max_frame": 0,
       "n_components": 1,
       "picked": {}
      }
     },
     "1d9fb1cd5d5148fa81e0431aafb36f8d": {
      "model_module": "@jupyter-widgets/base",
      "model_module_version": "1.2.0",
      "model_name": "LayoutModel",
      "state": {}
     },
     "2a8836ebd3844702973f7b2b4ab5c787": {
      "model_module": "@jupyter-widgets/base",
      "model_module_version": "1.2.0",
      "model_name": "LayoutModel",
      "state": {}
     },
     "2f81e57338624accbe24292d82414f77": {
      "model_module": "@jupyter-widgets/controls",
      "model_module_version": "1.5.0",
      "model_name": "SliderStyleModel",
      "state": {
       "description_width": ""
      }
     },
     "41f6279e2b1748e382773f3be6775b58": {
      "model_module": "@jupyter-widgets/controls",
      "model_module_version": "1.5.0",
      "model_name": "LinkModel",
      "state": {
       "source": [
        "IPY_MODEL_97a4f2cb1d574ece852b164212c30c37",
        "value"
       ],
       "target": [
        "IPY_MODEL_87dba9b2b5ba4ba09b7714e7db171194",
        "value"
       ]
      }
     },
     "4ae4e61c64d1427aa105f08df8fbbe0a": {
      "model_module": "@jupyter-widgets/controls",
      "model_module_version": "1.5.0",
      "model_name": "ImageModel",
      "state": {
       "layout": "IPY_MODEL_1d9fb1cd5d5148fa81e0431aafb36f8d",
       "width": "900.0"
      }
     },
     "4e0520a64ced4d89b5fe53142c812c48": {
      "model_module": "@jupyter-widgets/base",
      "model_module_version": "1.2.0",
      "model_name": "LayoutModel",
      "state": {}
     },
     "501ecf51bccd43d9851488b7ab76906d": {
      "model_module": "@jupyter-widgets/controls",
      "model_module_version": "1.5.0",
      "model_name": "DescriptionStyleModel",
      "state": {
       "description_width": ""
      }
     },
     "50c5030cad1c4a3e957a4745b2abe59a": {
      "model_module": "@jupyter-widgets/base",
      "model_module_version": "1.2.0",
      "model_name": "LayoutModel",
      "state": {}
     },
     "653edb40efaa462eba6e5a63dd33e8d4": {
      "model_module": "@jupyter-widgets/controls",
      "model_module_version": "1.5.0",
      "model_name": "LinkModel",
      "state": {
       "source": [
        "IPY_MODEL_97a4f2cb1d574ece852b164212c30c37",
        "value"
       ],
       "target": [
        "IPY_MODEL_0932156cebc2475e83ec643ab92f3c2e",
        "frame"
       ]
      }
     },
     "7ec956dcf9674af1a73babf21bad0a23": {
      "model_module": "@jupyter-widgets/controls",
      "model_module_version": "1.5.0",
      "model_name": "ButtonModel",
      "state": {
       "icon": "compress",
       "layout": "IPY_MODEL_a62892103d8b42d89b6383c76c3c34fa",
       "style": "IPY_MODEL_9efcf0192ebc45aa95d36d231bcce74e"
      }
     },
     "87dba9b2b5ba4ba09b7714e7db171194": {
      "model_module": "@jupyter-widgets/controls",
      "model_module_version": "1.5.0",
      "model_name": "IntSliderModel",
      "state": {
       "layout": "IPY_MODEL_4e0520a64ced4d89b5fe53142c812c48",
       "max": 0,
       "style": "IPY_MODEL_2f81e57338624accbe24292d82414f77"
      }
     },
     "8ad5a40115b24e6e836a407f950dac02": {
      "model_module": "@jupyter-widgets/controls",
      "model_module_version": "1.5.0",
      "model_name": "HBoxModel",
      "state": {
       "children": [
        "IPY_MODEL_97a4f2cb1d574ece852b164212c30c37",
        "IPY_MODEL_87dba9b2b5ba4ba09b7714e7db171194"
       ],
       "layout": "IPY_MODEL_50c5030cad1c4a3e957a4745b2abe59a"
      }
     },
     "8bc2b681a1bc4729af59f6b5f0dcdaae": {
      "model_module": "nglview-js-widgets",
      "model_module_version": "3.0.1",
      "model_name": "ColormakerRegistryModel",
      "state": {
       "_msg_ar": [],
       "_msg_q": [],
       "_ready": true,
       "layout": "IPY_MODEL_9ebb4c22ec2f42bf8e3c73fddbc19e2b"
      }
     },
     "97a4f2cb1d574ece852b164212c30c37": {
      "model_module": "@jupyter-widgets/controls",
      "model_module_version": "1.5.0",
      "model_name": "PlayModel",
      "state": {
       "layout": "IPY_MODEL_2a8836ebd3844702973f7b2b4ab5c787",
       "max": 0,
       "style": "IPY_MODEL_501ecf51bccd43d9851488b7ab76906d"
      }
     },
     "9e5d9e46399b4b738081e842a27c91b8": {
      "model_module": "@jupyter-widgets/controls",
      "model_module_version": "1.5.0",
      "model_name": "LinkModel",
      "state": {
       "source": [
        "IPY_MODEL_97a4f2cb1d574ece852b164212c30c37",
        "max"
       ],
       "target": [
        "IPY_MODEL_0932156cebc2475e83ec643ab92f3c2e",
        "max_frame"
       ]
      }
     },
     "9ebb4c22ec2f42bf8e3c73fddbc19e2b": {
      "model_module": "@jupyter-widgets/base",
      "model_module_version": "1.2.0",
      "model_name": "LayoutModel",
      "state": {}
     },
     "9efcf0192ebc45aa95d36d231bcce74e": {
      "model_module": "@jupyter-widgets/controls",
      "model_module_version": "1.5.0",
      "model_name": "ButtonStyleModel",
      "state": {}
     },
     "a62892103d8b42d89b6383c76c3c34fa": {
      "model_module": "@jupyter-widgets/base",
      "model_module_version": "1.2.0",
      "model_name": "LayoutModel",
      "state": {
       "width": "34px"
      }
     },
     "c9a4fe56c8c746cbb078cd74a7f85675": {
      "model_module": "@jupyter-widgets/controls",
      "model_module_version": "1.5.0",
      "model_name": "LinkModel",
      "state": {
       "source": [
        "IPY_MODEL_87dba9b2b5ba4ba09b7714e7db171194",
        "max"
       ],
       "target": [
        "IPY_MODEL_0932156cebc2475e83ec643ab92f3c2e",
        "max_frame"
       ]
      }
     },
     "dad8e3ccec0b418381e072232f7ba41a": {
      "model_module": "@jupyter-widgets/base",
      "model_module_version": "1.2.0",
      "model_name": "LayoutModel",
      "state": {}
     }
    },
    "version_major": 2,
    "version_minor": 0
   }
  }
 },
 "nbformat": 4,
 "nbformat_minor": 5
}
