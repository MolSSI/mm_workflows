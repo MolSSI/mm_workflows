{
 "cells": [
  {
   "cell_type": "markdown",
   "id": "e8d64387",
   "metadata": {},
   "source": [
    "# ForceField Model"
   ]
  },
  {
   "cell_type": "markdown",
   "id": "2e4e6afc",
   "metadata": {},
   "source": [
    "### Creating a ForceField object"
   ]
  },
  {
   "cell_type": "code",
   "execution_count": 1,
   "id": "8a7e4601",
   "metadata": {},
   "outputs": [
    {
     "data": {
      "text/plain": [
       "ForceField(name='forcefield', form=['NonBonded', 'Bonds', 'Angles', 'Dihedrals'], hash='fcb550e')"
      ]
     },
     "execution_count": 1,
     "metadata": {},
     "output_type": "execute_result"
    }
   ],
   "source": [
    "from mmelemental.models import ForceField\n",
    "import mm_data\n",
    "\n",
    "ff_obj = ForceField.from_file(mm_data.ffs[\"alanine.top\"])\n",
    "\n",
    "ff_obj"
   ]
  },
  {
   "cell_type": "code",
   "execution_count": 3,
   "id": "03f59ed5",
   "metadata": {},
   "outputs": [
    {
     "data": {
      "text/plain": [
       "{'schema_name': 'mmschema_forcefield',\n",
       " 'schema_version': 0,\n",
       " 'name': 'C6H12N2O2',\n",
       " 'symbols': ['H',\n",
       "  'C',\n",
       "  'H',\n",
       "  'H',\n",
       "  'C',\n",
       "  'O',\n",
       "  'N',\n",
       "  'H',\n",
       "  'C',\n",
       "  'H',\n",
       "  'C',\n",
       "  'H',\n",
       "  'H',\n",
       "  'H',\n",
       "  'C',\n",
       "  'O',\n",
       "  'N',\n",
       "  'H',\n",
       "  'C',\n",
       "  'H',\n",
       "  'H',\n",
       "  'H'],\n",
       " 'nonbonded': {'form': 'LennardJones',\n",
       "  'params': {'epsilon': array([0.0656888, 0.45773  , 0.0656888, 0.0656888, 0.359824 , 0.87864  ,\n",
       "          0.71128  , 0.0656888, 0.45773  , 0.0656888, 0.45773  , 0.0656888,\n",
       "          0.0656888, 0.0656888, 0.359824 , 0.87864  , 0.71128  , 0.0656888,\n",
       "          0.45773  , 0.0656888, 0.0656888, 0.0656888]),\n",
       "   'epsilon_units': 'kJ/mol',\n",
       "   'sigma': array([1.324765, 1.699835, 1.324765, 1.324765, 1.699835, 1.47996 ,\n",
       "          1.625   , 0.53454 , 1.699835, 1.235675, 1.699835, 1.324765,\n",
       "          1.324765, 1.324765, 1.699835, 1.47996 , 1.625   , 0.53454 ,\n",
       "          1.699835, 1.235675, 1.235675, 1.235675]),\n",
       "   'sigma_units': 'angstrom'}},\n",
       " 'bonds': {'form': 'Harmonic',\n",
       "  'params': {'spring': array([1422.56 , 1422.56 , 1422.56 , 1326.328, 2384.88 , 2050.16 ,\n",
       "          1815.856, 1410.008, 1422.56 , 1297.04 , 1326.328, 1422.56 ,\n",
       "          1422.56 , 1422.56 , 2384.88 , 2050.16 , 1815.856, 1410.008,\n",
       "          1422.56 , 1422.56 , 1422.56 ]),\n",
       "   'spring_units': 'kJ/(mol*angstrom**2)'},\n",
       "  'lengths': array([1.09 , 1.09 , 1.09 , 1.522, 1.229, 1.335, 1.01 , 1.449, 1.09 ,\n",
       "         1.526, 1.522, 1.09 , 1.09 , 1.09 , 1.229, 1.335, 1.01 , 1.449,\n",
       "         1.09 , 1.09 , 1.09 ]),\n",
       "  'lengths_units': 'angstroms',\n",
       "  'indices': [(0, 1, 1.0),\n",
       "   (1, 2, 1.0),\n",
       "   (1, 3, 1.0),\n",
       "   (1, 4, 1.0),\n",
       "   (4, 5, 1.0),\n",
       "   (4, 6, 1.0),\n",
       "   (6, 7, 1.0),\n",
       "   (6, 8, 1.0),\n",
       "   (8, 9, 1.0),\n",
       "   (8, 10, 1.0),\n",
       "   (8, 14, 1.0),\n",
       "   (10, 11, 1.0),\n",
       "   (10, 12, 1.0),\n",
       "   (10, 13, 1.0),\n",
       "   (14, 15, 1.0),\n",
       "   (14, 16, 1.0),\n",
       "   (16, 17, 1.0),\n",
       "   (16, 18, 1.0),\n",
       "   (18, 19, 1.0),\n",
       "   (18, 20, 1.0),\n",
       "   (18, 21, 1.0)]},\n",
       " 'angles': {'form': 'Harmonic',\n",
       "  'params': {'spring': array([0.04460817, 0.04460817, 0.06372596, 0.04460817, 0.06372596,\n",
       "          0.06372596, 0.10196154, 0.08921635, 0.10196154, 0.06372596,\n",
       "          0.06372596, 0.06372596, 0.06372596, 0.10196154, 0.08029471,\n",
       "          0.06372596, 0.06372596, 0.08029471, 0.06372596, 0.06372596,\n",
       "          0.06372596, 0.04460817, 0.04460817, 0.04460817, 0.10196154,\n",
       "          0.08921635, 0.10196154, 0.06372596, 0.06372596, 0.06372596,\n",
       "          0.06372596, 0.06372596, 0.06372596, 0.04460817, 0.04460817,\n",
       "          0.04460817]),\n",
       "   'spring_units': 'kJ/(mol*degrees**2)'},\n",
       "  'angles': array([109.5 , 109.5 , 109.5 , 109.5 , 109.5 , 109.5 , 120.4 , 116.6 ,\n",
       "         122.9 , 120.  , 121.9 , 118.04, 109.5 , 109.7 , 110.1 , 109.5 ,\n",
       "         109.5 , 111.1 , 109.5 , 109.5 , 109.5 , 109.5 , 109.5 , 109.5 ,\n",
       "         120.4 , 116.6 , 122.9 , 120.  , 121.9 , 118.04, 109.5 , 109.5 ,\n",
       "         109.5 , 109.5 , 109.5 , 109.5 ]),\n",
       "  'angles_units': 'degrees',\n",
       "  'indices': [(0, 1, 2),\n",
       "   (0, 1, 3),\n",
       "   (0, 1, 4),\n",
       "   (2, 1, 3),\n",
       "   (2, 1, 4),\n",
       "   (3, 1, 4),\n",
       "   (1, 4, 5),\n",
       "   (1, 4, 6),\n",
       "   (5, 4, 6),\n",
       "   (4, 6, 7),\n",
       "   (4, 6, 8),\n",
       "   (7, 6, 8),\n",
       "   (6, 8, 9),\n",
       "   (6, 8, 10),\n",
       "   (6, 8, 14),\n",
       "   (9, 8, 10),\n",
       "   (9, 8, 14),\n",
       "   (10, 8, 14),\n",
       "   (8, 10, 11),\n",
       "   (8, 10, 12),\n",
       "   (8, 10, 13),\n",
       "   (11, 10, 12),\n",
       "   (11, 10, 13),\n",
       "   (12, 10, 13),\n",
       "   (8, 14, 15),\n",
       "   (8, 14, 16),\n",
       "   (15, 14, 16),\n",
       "   (14, 16, 17),\n",
       "   (14, 16, 18),\n",
       "   (17, 16, 18),\n",
       "   (16, 18, 19),\n",
       "   (16, 18, 20),\n",
       "   (16, 18, 21),\n",
       "   (19, 18, 20),\n",
       "   (19, 18, 21),\n",
       "   (20, 18, 21)]},\n",
       " 'dihedrals': {'form': 'CharmmMulti',\n",
       "  'params': {'energy': [array([3.3472 , 0.33472]),\n",
       "    array([0.]),\n",
       "    array([3.3472 , 0.33472]),\n",
       "    array([0.]),\n",
       "    array([3.3472 , 0.33472]),\n",
       "    array([0.]),\n",
       "    array([10.46]),\n",
       "    array([10.46]),\n",
       "    array([10.46 ,  8.368]),\n",
       "    array([10.46]),\n",
       "    array([0.]),\n",
       "    array([2.092  , 0.6276 , 2.21752]),\n",
       "    array([3.5564, 3.3472]),\n",
       "    array([0.]),\n",
       "    array([0.]),\n",
       "    array([0.]),\n",
       "    array([0.65084]),\n",
       "    array([0.65084]),\n",
       "    array([0.65084]),\n",
       "    array([0.65084]),\n",
       "    array([0.65084]),\n",
       "    array([0.65084]),\n",
       "    array([0.65084]),\n",
       "    array([0.65084]),\n",
       "    array([0.65084]),\n",
       "    array([0.]),\n",
       "    array([7.1128, 8.368 ]),\n",
       "    array([3.3472 , 0.33472]),\n",
       "    array([0.]),\n",
       "    array([0.]),\n",
       "    array([0.4184 , 0.29288]),\n",
       "    array([10.46]),\n",
       "    array([10.46]),\n",
       "    array([10.46 ,  8.368]),\n",
       "    array([10.46]),\n",
       "    array([0.]),\n",
       "    array([0.]),\n",
       "    array([0.]),\n",
       "    array([0.]),\n",
       "    array([0.]),\n",
       "    array([0.])],\n",
       "   'energy_units': 'kJ/mol',\n",
       "   'periodicity': [array([1, 3]),\n",
       "    array([0]),\n",
       "    array([1, 3]),\n",
       "    array([0]),\n",
       "    array([1, 3]),\n",
       "    array([0]),\n",
       "    array([2]),\n",
       "    array([2]),\n",
       "    array([2, 1]),\n",
       "    array([2]),\n",
       "    array([0]),\n",
       "    array([4, 3, 1]),\n",
       "    array([2, 1]),\n",
       "    array([0]),\n",
       "    array([0]),\n",
       "    array([0]),\n",
       "    array([3]),\n",
       "    array([3]),\n",
       "    array([3]),\n",
       "    array([3]),\n",
       "    array([3]),\n",
       "    array([3]),\n",
       "    array([3]),\n",
       "    array([3]),\n",
       "    array([3]),\n",
       "    array([0]),\n",
       "    array([1, 2]),\n",
       "    array([1, 3]),\n",
       "    array([0]),\n",
       "    array([0]),\n",
       "    array([4, 2]),\n",
       "    array([2]),\n",
       "    array([2]),\n",
       "    array([2, 1]),\n",
       "    array([2]),\n",
       "    array([0]),\n",
       "    array([0]),\n",
       "    array([0]),\n",
       "    array([0]),\n",
       "    array([0]),\n",
       "    array([0])],\n",
       "   'phase': [array([  0., 180.]),\n",
       "    array([0.]),\n",
       "    array([  0., 180.]),\n",
       "    array([0.]),\n",
       "    array([  0., 180.]),\n",
       "    array([0.]),\n",
       "    array([180.]),\n",
       "    array([180.]),\n",
       "    array([180.,   0.]),\n",
       "    array([180.]),\n",
       "    array([0.]),\n",
       "    array([180., 180.,   0.]),\n",
       "    array([180.,   0.]),\n",
       "    array([0.]),\n",
       "    array([0.]),\n",
       "    array([0.]),\n",
       "    array([0.]),\n",
       "    array([0.]),\n",
       "    array([0.]),\n",
       "    array([0.]),\n",
       "    array([0.]),\n",
       "    array([0.]),\n",
       "    array([0.]),\n",
       "    array([0.]),\n",
       "    array([0.]),\n",
       "    array([0.]),\n",
       "    array([180., 180.]),\n",
       "    array([  0., 180.]),\n",
       "    array([0.]),\n",
       "    array([0.]),\n",
       "    array([0., 0.]),\n",
       "    array([180.]),\n",
       "    array([180.]),\n",
       "    array([180.,   0.]),\n",
       "    array([180.]),\n",
       "    array([0.]),\n",
       "    array([0.]),\n",
       "    array([0.]),\n",
       "    array([0.]),\n",
       "    array([0.]),\n",
       "    array([0.])],\n",
       "   'phase_units': 'degrees'},\n",
       "  'indices': [(0, 1, 4, 5),\n",
       "   (0, 1, 4, 6),\n",
       "   (2, 1, 4, 5),\n",
       "   (2, 1, 4, 6),\n",
       "   (3, 1, 4, 5),\n",
       "   (3, 1, 4, 6),\n",
       "   (1, 4, 6, 7),\n",
       "   (1, 4, 6, 8),\n",
       "   (5, 4, 6, 7),\n",
       "   (5, 4, 6, 8),\n",
       "   (4, 6, 8, 9),\n",
       "   (4, 6, 8, 10),\n",
       "   (4, 6, 8, 14),\n",
       "   (7, 6, 8, 9),\n",
       "   (7, 6, 8, 10),\n",
       "   (7, 6, 8, 14),\n",
       "   (6, 8, 10, 11),\n",
       "   (6, 8, 10, 12),\n",
       "   (6, 8, 10, 13),\n",
       "   (9, 8, 10, 11),\n",
       "   (9, 8, 10, 12),\n",
       "   (9, 8, 10, 13),\n",
       "   (14, 8, 10, 11),\n",
       "   (14, 8, 10, 12),\n",
       "   (14, 8, 10, 13),\n",
       "   (6, 8, 14, 15),\n",
       "   (6, 8, 14, 16),\n",
       "   (9, 8, 14, 15),\n",
       "   (9, 8, 14, 16),\n",
       "   (10, 8, 14, 15),\n",
       "   (10, 8, 14, 16),\n",
       "   (8, 14, 16, 17),\n",
       "   (8, 14, 16, 18),\n",
       "   (15, 14, 16, 17),\n",
       "   (15, 14, 16, 18),\n",
       "   (14, 16, 18, 19),\n",
       "   (14, 16, 18, 20),\n",
       "   (14, 16, 18, 21),\n",
       "   (17, 16, 18, 19),\n",
       "   (17, 16, 18, 20),\n",
       "   (17, 16, 18, 21),\n",
       "   (1, 6, 4, 5),\n",
       "   (4, 8, 6, 7),\n",
       "   (8, 16, 14, 15),\n",
       "   (14, 18, 16, 17)]},\n",
       " 'charges': array([ 0.1123, -0.3662,  0.1123,  0.1123,  0.5972, -0.5679, -0.4157,\n",
       "         0.2719,  0.0337,  0.0823, -0.1825,  0.0603,  0.0603,  0.0603,\n",
       "         0.5973, -0.5679, -0.4157,  0.2719, -0.149 ,  0.0976,  0.0976,\n",
       "         0.0976]),\n",
       " 'charges_units': 'e',\n",
       " 'masses': array([ 1.008, 12.01 ,  1.008,  1.008, 12.01 , 16.   , 14.01 ,  1.008,\n",
       "        12.01 ,  1.008, 12.01 ,  1.008,  1.008,  1.008, 12.01 , 16.   ,\n",
       "        14.01 ,  1.008, 12.01 ,  1.008,  1.008,  1.008]),\n",
       " 'masses_units': 'amu',\n",
       " 'exclusions': '3',\n",
       " 'defs': ['HC',\n",
       "  'CT',\n",
       "  'HC',\n",
       "  'HC',\n",
       "  'C',\n",
       "  'O',\n",
       "  'N',\n",
       "  'H',\n",
       "  'CT',\n",
       "  'H1',\n",
       "  'CT',\n",
       "  'HC',\n",
       "  'HC',\n",
       "  'HC',\n",
       "  'C',\n",
       "  'O',\n",
       "  'N',\n",
       "  'H',\n",
       "  'CT',\n",
       "  'H1',\n",
       "  'H1',\n",
       "  'H1'],\n",
       " 'substructs': [('ACE', 0),\n",
       "  ('ACE', 0),\n",
       "  ('ACE', 0),\n",
       "  ('ACE', 0),\n",
       "  ('ACE', 0),\n",
       "  ('ACE', 0),\n",
       "  ('ALA', 1),\n",
       "  ('ALA', 1),\n",
       "  ('ALA', 1),\n",
       "  ('ALA', 1),\n",
       "  ('ALA', 1),\n",
       "  ('ALA', 1),\n",
       "  ('ALA', 1),\n",
       "  ('ALA', 1),\n",
       "  ('ALA', 1),\n",
       "  ('ALA', 1),\n",
       "  ('NME', 2),\n",
       "  ('NME', 2),\n",
       "  ('NME', 2),\n",
       "  ('NME', 2),\n",
       "  ('NME', 2),\n",
       "  ('NME', 2)],\n",
       " 'combination_rule': 'Lorentz-Berthelot',\n",
       " 'atomic_numbers': array([1, 6, 1, 1, 6, 8, 7, 1, 6, 1, 6, 1, 1, 1, 6, 8, 7, 1, 6, 1, 1, 1],\n",
       "       dtype=int16),\n",
       " 'provenance': {'creator': 'MMElemental',\n",
       "  'version': '0+untagged.586.g645c496.dirty',\n",
       "  'routine': 'mmelemental.models.forcefield.mm_ff'}}"
      ]
     },
     "execution_count": 3,
     "metadata": {},
     "output_type": "execute_result"
    }
   ],
   "source": [
    "ff_obj.dict()"
   ]
  },
  {
   "cell_type": "markdown",
   "id": "35de936c",
   "metadata": {},
   "source": [
    "### Potential types"
   ]
  },
  {
   "cell_type": "code",
   "execution_count": 2,
   "id": "614729bb",
   "metadata": {},
   "outputs": [
    {
     "data": {
      "text/plain": [
       "mmelemental.models.forcefield.nonbonded.potentials.eam.EAM"
      ]
     },
     "execution_count": 2,
     "metadata": {},
     "output_type": "execute_result"
    }
   ],
   "source": [
    "from mmelemental.models import forcefield\n",
    "\n",
    "forcefield.NonBonded.supported_potentials()\n",
    "\n",
    "forcefield.nonbonded.potentials.EAM"
   ]
  },
  {
   "cell_type": "code",
   "execution_count": 4,
   "id": "2172875f",
   "metadata": {},
   "outputs": [
    {
     "data": {
      "text/plain": [
       "{'form': 'Harmonic',\n",
       " 'params': {'spring': array([1422.56 , 1422.56 , 1422.56 , 1326.328, 2384.88 , 2050.16 ,\n",
       "         1815.856, 1410.008, 1422.56 , 1297.04 , 1326.328, 1422.56 ,\n",
       "         1422.56 , 1422.56 , 2384.88 , 2050.16 , 1815.856, 1410.008,\n",
       "         1422.56 , 1422.56 , 1422.56 ]),\n",
       "  'spring_units': 'kJ/(mol*angstrom**2)'},\n",
       " 'lengths': array([1.09 , 1.09 , 1.09 , 1.522, 1.229, 1.335, 1.01 , 1.449, 1.09 ,\n",
       "        1.526, 1.522, 1.09 , 1.09 , 1.09 , 1.229, 1.335, 1.01 , 1.449,\n",
       "        1.09 , 1.09 , 1.09 ]),\n",
       " 'lengths_units': 'angstroms',\n",
       " 'indices': [(0, 1, 1.0),\n",
       "  (1, 2, 1.0),\n",
       "  (1, 3, 1.0),\n",
       "  (1, 4, 1.0),\n",
       "  (4, 5, 1.0),\n",
       "  (4, 6, 1.0),\n",
       "  (6, 7, 1.0),\n",
       "  (6, 8, 1.0),\n",
       "  (8, 9, 1.0),\n",
       "  (8, 10, 1.0),\n",
       "  (8, 14, 1.0),\n",
       "  (10, 11, 1.0),\n",
       "  (10, 12, 1.0),\n",
       "  (10, 13, 1.0),\n",
       "  (14, 15, 1.0),\n",
       "  (14, 16, 1.0),\n",
       "  (16, 17, 1.0),\n",
       "  (16, 18, 1.0),\n",
       "  (18, 19, 1.0),\n",
       "  (18, 20, 1.0),\n",
       "  (18, 21, 1.0)]}"
      ]
     },
     "execution_count": 4,
     "metadata": {},
     "output_type": "execute_result"
    }
   ],
   "source": [
    "ff_obj.bonds.dict()"
   ]
  },
  {
   "cell_type": "markdown",
   "id": "1c7c12e4",
   "metadata": {},
   "source": [
    "### Data conversion"
   ]
  },
  {
   "cell_type": "markdown",
   "id": "ab1b52b5",
   "metadata": {},
   "source": [
    "#### ParmEd"
   ]
  },
  {
   "cell_type": "code",
   "execution_count": 4,
   "id": "fc723882",
   "metadata": {},
   "outputs": [
    {
     "data": {
      "text/plain": [
       "<Structure 22 atoms; 3 residues; 21 bonds; parameterized>"
      ]
     },
     "execution_count": 4,
     "metadata": {},
     "output_type": "execute_result"
    }
   ],
   "source": [
    "ff_obj.to_data(\"parmed\").data"
   ]
  }
 ],
 "metadata": {
  "kernelspec": {
   "display_name": "Python 3",
   "language": "python",
   "name": "python3"
  },
  "language_info": {
   "codemirror_mode": {
    "name": "ipython",
    "version": 3
   },
   "file_extension": ".py",
   "mimetype": "text/x-python",
   "name": "python",
   "nbconvert_exporter": "python",
   "pygments_lexer": "ipython3",
   "version": "3.9.0"
  },
  "widgets": {
   "application/vnd.jupyter.widget-state+json": {
    "state": {
     "0932156cebc2475e83ec643ab92f3c2e": {
      "model_module": "nglview-js-widgets",
      "model_module_version": "3.0.1",
      "model_name": "NGLModel",
      "state": {
       "_camera_orientation": [
        9.033574433884194,
        0.28779554892561227,
        9.657609378635692,
        0,
        -0.753270916310587,
        13.20202495151089,
        0.31117896320907906,
        0,
        -9.632488158047952,
        -0.762511076983066,
        9.032799177628362,
        0,
        -1.75,
        -1.75,
        -0.44999998807907104,
        1
       ],
       "_camera_str": "orthographic",
       "_gui_theme": null,
       "_ibtn_fullscreen": "IPY_MODEL_7ec956dcf9674af1a73babf21bad0a23",
       "_igui": null,
       "_iplayer": "IPY_MODEL_8ad5a40115b24e6e836a407f950dac02",
       "_ngl_color_dict": {},
       "_ngl_coordinate_resource": {},
       "_ngl_full_stage_parameters": {
        "ambientColor": 14540253,
        "ambientIntensity": 0.2,
        "backgroundColor": "white",
        "cameraEyeSep": 0.3,
        "cameraFov": 40,
        "cameraType": "perspective",
        "clipDist": 10,
        "clipFar": 100,
        "clipNear": 0,
        "fogFar": 100,
        "fogNear": 50,
        "hoverTimeout": 0,
        "impostor": true,
        "lightColor": 14540253,
        "lightIntensity": 1,
        "mousePreset": "default",
        "panSpeed": 1,
        "quality": "medium",
        "rotateSpeed": 2,
        "sampleLevel": 0,
        "tooltip": true,
        "workerDefault": true,
        "zoomSpeed": 1.2
       },
       "_ngl_msg_archive": [
        {
         "args": [
          {
           "binary": false,
           "data": "HETATM    1      UNK     1       2.000   1.000   0.000  1.00  0.00           O  \nHETATM    2      UNK     1       2.000   2.090   0.000  1.00  0.00           C  \nHETATM    3      UNK     1       1.500   2.500   0.900  1.00  0.00           O  \nEND                                                                             \n",
           "type": "blob"
          }
         ],
         "kwargs": {
          "defaultRepresentation": false,
          "ext": "pdb"
         },
         "methodName": "loadFile",
         "reconstruc_color_scheme": false,
         "target": "Stage",
         "type": "call_method"
        }
       ],
       "_ngl_original_stage_parameters": {
        "ambientColor": 14540253,
        "ambientIntensity": 0.2,
        "backgroundColor": "white",
        "cameraEyeSep": 0.3,
        "cameraFov": 40,
        "cameraType": "perspective",
        "clipDist": 10,
        "clipFar": 100,
        "clipNear": 0,
        "fogFar": 100,
        "fogNear": 50,
        "hoverTimeout": 0,
        "impostor": true,
        "lightColor": 14540253,
        "lightIntensity": 1,
        "mousePreset": "default",
        "panSpeed": 1,
        "quality": "medium",
        "rotateSpeed": 2,
        "sampleLevel": 0,
        "tooltip": true,
        "workerDefault": true,
        "zoomSpeed": 1.2
       },
       "_ngl_repr_dict": {
        "0": {
         "0": {
          "params": {
           "aspectRatio": 1.5,
           "assembly": "default",
           "bondScale": 0.3,
           "bondSpacing": 0.75,
           "clipCenter": {
            "x": 0,
            "y": 0,
            "z": 0
           },
           "clipNear": 0,
           "clipRadius": 0,
           "colorMode": "hcl",
           "colorReverse": false,
           "colorScale": "",
           "colorScheme": "element",
           "colorValue": 9474192,
           "cylinderOnly": false,
           "defaultAssembly": "",
           "depthWrite": true,
           "diffuse": 16777215,
           "diffuseInterior": false,
           "disableImpostor": false,
           "disablePicking": false,
           "flatShaded": false,
           "interiorColor": 2236962,
           "interiorDarkening": 0,
           "lazy": false,
           "lineOnly": false,
           "linewidth": 2,
           "matrix": {
            "elements": [
             1,
             0,
             0,
             0,
             0,
             1,
             0,
             0,
             0,
             0,
             1,
             0,
             0,
             0,
             0,
             1
            ]
           },
           "metalness": 0,
           "multipleBond": "off",
           "opacity": 1,
           "openEnded": true,
           "quality": "high",
           "radialSegments": 20,
           "radiusData": {},
           "radiusScale": 2,
           "radiusSize": 0.15,
           "radiusType": "size",
           "roughness": 0.4,
           "sele": "",
           "side": "double",
           "sphereDetail": 2,
           "useInteriorColor": true,
           "useWorker": true,
           "visible": true,
           "wireframe": false
          },
          "type": "ball+stick"
         }
        }
       },
       "_ngl_serialize": false,
       "_ngl_version": "2.0.0-dev.36",
       "_ngl_view_id": [
        "88737580-8ADF-4A91-B2D4-06F47D830E74",
        "7FD2ACD8-1210-463D-85C9-815B1AAC75EA"
       ],
       "_player_dict": {},
       "_scene_position": {},
       "_scene_rotation": {},
       "_synced_model_ids": [],
       "_synced_repr_model_ids": [],
       "_view_height": "",
       "_view_width": "",
       "background": "white",
       "frame": 0,
       "gui_style": null,
       "layout": "IPY_MODEL_dad8e3ccec0b418381e072232f7ba41a",
       "max_frame": 0,
       "n_components": 1,
       "picked": {}
      }
     },
     "1d9fb1cd5d5148fa81e0431aafb36f8d": {
      "model_module": "@jupyter-widgets/base",
      "model_module_version": "1.2.0",
      "model_name": "LayoutModel",
      "state": {}
     },
     "2a8836ebd3844702973f7b2b4ab5c787": {
      "model_module": "@jupyter-widgets/base",
      "model_module_version": "1.2.0",
      "model_name": "LayoutModel",
      "state": {}
     },
     "2f81e57338624accbe24292d82414f77": {
      "model_module": "@jupyter-widgets/controls",
      "model_module_version": "1.5.0",
      "model_name": "SliderStyleModel",
      "state": {
       "description_width": ""
      }
     },
     "41f6279e2b1748e382773f3be6775b58": {
      "model_module": "@jupyter-widgets/controls",
      "model_module_version": "1.5.0",
      "model_name": "LinkModel",
      "state": {
       "source": [
        "IPY_MODEL_97a4f2cb1d574ece852b164212c30c37",
        "value"
       ],
       "target": [
        "IPY_MODEL_87dba9b2b5ba4ba09b7714e7db171194",
        "value"
       ]
      }
     },
     "4ae4e61c64d1427aa105f08df8fbbe0a": {
      "model_module": "@jupyter-widgets/controls",
      "model_module_version": "1.5.0",
      "model_name": "ImageModel",
      "state": {
       "layout": "IPY_MODEL_1d9fb1cd5d5148fa81e0431aafb36f8d",
       "width": "900.0"
      }
     },
     "4e0520a64ced4d89b5fe53142c812c48": {
      "model_module": "@jupyter-widgets/base",
      "model_module_version": "1.2.0",
      "model_name": "LayoutModel",
      "state": {}
     },
     "501ecf51bccd43d9851488b7ab76906d": {
      "model_module": "@jupyter-widgets/controls",
      "model_module_version": "1.5.0",
      "model_name": "DescriptionStyleModel",
      "state": {
       "description_width": ""
      }
     },
     "50c5030cad1c4a3e957a4745b2abe59a": {
      "model_module": "@jupyter-widgets/base",
      "model_module_version": "1.2.0",
      "model_name": "LayoutModel",
      "state": {}
     },
     "653edb40efaa462eba6e5a63dd33e8d4": {
      "model_module": "@jupyter-widgets/controls",
      "model_module_version": "1.5.0",
      "model_name": "LinkModel",
      "state": {
       "source": [
        "IPY_MODEL_97a4f2cb1d574ece852b164212c30c37",
        "value"
       ],
       "target": [
        "IPY_MODEL_0932156cebc2475e83ec643ab92f3c2e",
        "frame"
       ]
      }
     },
     "7ec956dcf9674af1a73babf21bad0a23": {
      "model_module": "@jupyter-widgets/controls",
      "model_module_version": "1.5.0",
      "model_name": "ButtonModel",
      "state": {
       "icon": "compress",
       "layout": "IPY_MODEL_a62892103d8b42d89b6383c76c3c34fa",
       "style": "IPY_MODEL_9efcf0192ebc45aa95d36d231bcce74e"
      }
     },
     "87dba9b2b5ba4ba09b7714e7db171194": {
      "model_module": "@jupyter-widgets/controls",
      "model_module_version": "1.5.0",
      "model_name": "IntSliderModel",
      "state": {
       "layout": "IPY_MODEL_4e0520a64ced4d89b5fe53142c812c48",
       "max": 0,
       "style": "IPY_MODEL_2f81e57338624accbe24292d82414f77"
      }
     },
     "8ad5a40115b24e6e836a407f950dac02": {
      "model_module": "@jupyter-widgets/controls",
      "model_module_version": "1.5.0",
      "model_name": "HBoxModel",
      "state": {
       "children": [
        "IPY_MODEL_97a4f2cb1d574ece852b164212c30c37",
        "IPY_MODEL_87dba9b2b5ba4ba09b7714e7db171194"
       ],
       "layout": "IPY_MODEL_50c5030cad1c4a3e957a4745b2abe59a"
      }
     },
     "8bc2b681a1bc4729af59f6b5f0dcdaae": {
      "model_module": "nglview-js-widgets",
      "model_module_version": "3.0.1",
      "model_name": "ColormakerRegistryModel",
      "state": {
       "_msg_ar": [],
       "_msg_q": [],
       "_ready": true,
       "layout": "IPY_MODEL_9ebb4c22ec2f42bf8e3c73fddbc19e2b"
      }
     },
     "97a4f2cb1d574ece852b164212c30c37": {
      "model_module": "@jupyter-widgets/controls",
      "model_module_version": "1.5.0",
      "model_name": "PlayModel",
      "state": {
       "layout": "IPY_MODEL_2a8836ebd3844702973f7b2b4ab5c787",
       "max": 0,
       "style": "IPY_MODEL_501ecf51bccd43d9851488b7ab76906d"
      }
     },
     "9e5d9e46399b4b738081e842a27c91b8": {
      "model_module": "@jupyter-widgets/controls",
      "model_module_version": "1.5.0",
      "model_name": "LinkModel",
      "state": {
       "source": [
        "IPY_MODEL_97a4f2cb1d574ece852b164212c30c37",
        "max"
       ],
       "target": [
        "IPY_MODEL_0932156cebc2475e83ec643ab92f3c2e",
        "max_frame"
       ]
      }
     },
     "9ebb4c22ec2f42bf8e3c73fddbc19e2b": {
      "model_module": "@jupyter-widgets/base",
      "model_module_version": "1.2.0",
      "model_name": "LayoutModel",
      "state": {}
     },
     "9efcf0192ebc45aa95d36d231bcce74e": {
      "model_module": "@jupyter-widgets/controls",
      "model_module_version": "1.5.0",
      "model_name": "ButtonStyleModel",
      "state": {}
     },
     "a62892103d8b42d89b6383c76c3c34fa": {
      "model_module": "@jupyter-widgets/base",
      "model_module_version": "1.2.0",
      "model_name": "LayoutModel",
      "state": {
       "width": "34px"
      }
     },
     "c9a4fe56c8c746cbb078cd74a7f85675": {
      "model_module": "@jupyter-widgets/controls",
      "model_module_version": "1.5.0",
      "model_name": "LinkModel",
      "state": {
       "source": [
        "IPY_MODEL_87dba9b2b5ba4ba09b7714e7db171194",
        "max"
       ],
       "target": [
        "IPY_MODEL_0932156cebc2475e83ec643ab92f3c2e",
        "max_frame"
       ]
      }
     },
     "dad8e3ccec0b418381e072232f7ba41a": {
      "model_module": "@jupyter-widgets/base",
      "model_module_version": "1.2.0",
      "model_name": "LayoutModel",
      "state": {}
     }
    },
    "version_major": 2,
    "version_minor": 0
   }
  }
 },
 "nbformat": 4,
 "nbformat_minor": 5
}
