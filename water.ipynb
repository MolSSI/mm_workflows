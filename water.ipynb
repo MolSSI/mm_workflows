{
 "cells": [
  {
   "cell_type": "code",
   "execution_count": 1,
   "id": "c53f2350",
   "metadata": {
    "scrolled": true
   },
   "outputs": [
    {
     "name": "stdout",
     "output_type": "stream",
     "text": [
      "{\n",
      "    \"provenance\": {\n",
      "        \"creator\": \"MMElemental\",\n",
      "        \"version\": \"0+untagged.408.g5d0c181.dirty\",\n",
      "        \"routine\": \"mmelemental.models.molecule.mm_mol\"\n",
      "    },\n",
      "    \"schema_name\": \"mmschema_molecule\",\n",
      "    \"schema_version\": 0,\n",
      "    \"symbols\": [\n",
      "        \"H\",\n",
      "        \"O\",\n",
      "        \"H\"\n",
      "    ],\n",
      "    \"name\": \"H2O\",\n",
      "    \"ndim\": 3,\n",
      "    \"atom_labels\": [\n",
      "        \"H\",\n",
      "        \"O\",\n",
      "        \"H\"\n",
      "    ],\n",
      "    \"atomic_numbers\": [\n",
      "        1,\n",
      "        8,\n",
      "        1\n",
      "    ],\n",
      "    \"masses\": [\n",
      "        1.0079,\n",
      "        15.999,\n",
      "        1.0079\n",
      "    ],\n",
      "    \"masses_units\": \"dalton\",\n",
      "    \"molecular_charge\": 0.0,\n",
      "    \"molecular_charge_units\": \"eV\",\n",
      "    \"geometry\": [\n",
      "        2.0,\n",
      "        1.0,\n",
      "        -0.0,\n",
      "        2.0,\n",
      "        2.09,\n",
      "        0.0,\n",
      "        1.49,\n",
      "        2.45,\n",
      "        0.89\n",
      "    ],\n",
      "    \"geometry_units\": \"angstrom\",\n",
      "    \"forces_units\": \"kJ/(mol*angstrom)\",\n",
      "    \"connectivity\": [\n",
      "        [\n",
      "            0,\n",
      "            1,\n",
      "            1.0\n",
      "        ],\n",
      "        [\n",
      "            1,\n",
      "            2,\n",
      "            1.0\n",
      "        ]\n",
      "    ],\n",
      "    \"angles_units\": \"degrees\",\n",
      "    \"dihedrals_units\": \"degrees\",\n",
      "    \"im_dihedrals_units\": \"degrees\",\n",
      "    \"substructs\": [\n",
      "        [\n",
      "            \"SOL\",\n",
      "            0\n",
      "        ],\n",
      "        [\n",
      "            \"SOL\",\n",
      "            0\n",
      "        ],\n",
      "        [\n",
      "            \"SOL\",\n",
      "            0\n",
      "        ]\n",
      "    ]\n",
      "}\n"
     ]
    }
   ],
   "source": [
    "#############################\n",
    "# Read a molecule from file #\n",
    "#############################\n",
    "from data import molfiles\n",
    "import json\n",
    "\n",
    "with open(molfiles[\"water.json\"], \"r\") as fp:\n",
    "    water_json = json.load(fp)\n",
    "    print(json.dumps(water_json, indent=4))"
   ]
  },
  {
   "cell_type": "code",
   "execution_count": 2,
   "id": "7cae270b",
   "metadata": {},
   "outputs": [
    {
     "name": "stdout",
     "output_type": "stream",
     "text": [
      "MMSchema molecule:\n",
      " Molecule(name='H2O', hash='bec9d47')\n",
      "Atomic numbers:\n",
      " [1 8 1]\n",
      "Atomic symbols:\n",
      " ['H' 'O' 'H']\n"
     ]
    }
   ],
   "source": [
    "#####################\n",
    "# Create a Molecule #\n",
    "#####################\n",
    "import mmelemental\n",
    "\n",
    "mol = mmelemental.models.Molecule.from_file(molfiles[\"water.json\"])\n",
    "\n",
    "print(\"MMSchema molecule:\\n\", mol)\n",
    "print(\"Atomic numbers:\\n\", mol.atomic_numbers)\n",
    "print(\"Atomic symbols:\\n\", mol.symbols)"
   ]
  },
  {
   "cell_type": "code",
   "execution_count": 4,
   "id": "b0ed93be",
   "metadata": {},
   "outputs": [
    {
     "name": "stdout",
     "output_type": "stream",
     "text": [
      "MMSchema parameterized molecule:\n",
      " Molecule(name='Hw1Hw2Ow', hash='35f143c')\n",
      "MMSchema force field object:\n",
      " ForceField(name='H2O', form=['NonBonded', 'Bonds', 'Angles'], hash='61f7c56')\n"
     ]
    }
   ],
   "source": [
    "####################\n",
    "# Assign FF params #\n",
    "####################\n",
    "import mmic_ffpa\n",
    "\n",
    "inputs = {\n",
    "    \"molecule\": {\"water\": mol},\n",
    "    \"forcefield\": {\"water\": \"spc\"},\n",
    "}\n",
    "\n",
    "outputs = mmic_ffpa.AssignComponent.compute(inputs)\n",
    "\n",
    "mol_water = outputs.molecule[\"water\"]\n",
    "ff_water = outputs.forcefield[\"water\"]\n",
    "\n",
    "print(\"MMSchema parameterized molecule:\\n\", mol_water)\n",
    "print(\"MMSchema force field object:\\n\", ff_water)"
   ]
  },
  {
   "cell_type": "code",
   "execution_count": null,
   "id": "acefd117",
   "metadata": {},
   "outputs": [],
   "source": [
    "##################  \n",
    "# Run energy min #\n",
    "##################  \n",
    "import mmic_optim\n",
    "\n",
    "inputs = {\n",
    "    \"molecule\": {\"water\": molp},\n",
    "    \"forcefield\": {\"water\": ff},\n",
    "}\n"
   ]
  }
 ],
 "metadata": {
  "kernelspec": {
   "display_name": "Python 3",
   "language": "python",
   "name": "python3"
  },
  "language_info": {
   "codemirror_mode": {
    "name": "ipython",
    "version": 3
   },
   "file_extension": ".py",
   "mimetype": "text/x-python",
   "name": "python",
   "nbconvert_exporter": "python",
   "pygments_lexer": "ipython3",
   "version": "3.9.2"
  }
 },
 "nbformat": 4,
 "nbformat_minor": 5
}
